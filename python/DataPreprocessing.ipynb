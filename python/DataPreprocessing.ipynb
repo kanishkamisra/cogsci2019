{
 "cells": [
  {
   "cell_type": "code",
   "execution_count": 3,
   "metadata": {},
   "outputs": [],
   "source": [
    "from pathlib import Path\n",
    "from lxml import etree\n",
    "import pandas as pd"
   ]
  },
  {
   "cell_type": "code",
   "execution_count": 4,
   "metadata": {},
   "outputs": [],
   "source": [
    "directory = '../data/dataset'\n",
    "file_list = []\n",
    "headers = ['language', 'age', 'type', 'i', 'c', 'prompt_key', 'overall_score', 'question_number', 'question_score', 'file_name']\n",
    "pathlist = Path(directory).glob('**/*.xml')\n",
    "for path in pathlist:\n",
    "    # because path is object not string\n",
    "    file_list.append(str(path))"
   ]
  },
  {
   "cell_type": "code",
   "execution_count": 8,
   "metadata": {},
   "outputs": [],
   "source": [
    "def process_ns(data, corrections, q_metadata, a_metadata):\n",
    "    correct, wrong = '', ''\n",
    "    if (data.text is not None):\n",
    "        correct = correct + data.text\n",
    "        wrong = wrong + data.text\n",
    "    tup_c, tup_i = '', ''\n",
    "    \n",
    "#     print('PROCESSING: ' + data.tag)\n",
    "    \n",
    "    for items in data.getchildren():\n",
    "        if ((items.tag == 'i') or (items.tag == 'ns' and items.getparent().tag == 'i')):\n",
    "#             print('INC')\n",
    "            i_c, i_i = process_ns(items, corrections, q_metadata, a_metadata) #items.text\n",
    "            if (i_i is not None):\n",
    "                wrong = wrong + ' ' + i_i\n",
    "                tup_i = i_i\n",
    "        elif ((items.tag == 'c') or (items.tag == 'ns' and items.getparent().tag == 'c')):\n",
    "#             print('COR')\n",
    "            c_c, c_i = process_ns(items, corrections, q_metadata, a_metadata) #items.text\n",
    "            if (c_c is not None):\n",
    "                correct = correct + ' ' + c_c\n",
    "                tup_c = c_c\n",
    "        else:\n",
    "            c, i = process_ns(items, corrections, q_metadata, a_metadata)\n",
    "            if (c is not None):\n",
    "                correct = correct + ' ' + c\n",
    "            if (i is not None):\n",
    "                wrong = wrong + ' ' + i\n",
    "            \n",
    "#         print(items.tag)\n",
    "        if (items.tail is not None):\n",
    "            correct = correct + ' ' + items.tail\n",
    "            wrong = wrong + ' ' + items.tail\n",
    "    if (data.tag == 'NS'):\n",
    "#         if (data.get('type') in corrections):\n",
    "#             corrections[data.get('type')].append({'i': tup_i, 'c': tup_c})\n",
    "#         else:\n",
    "#             corrections[data.get('type')] = [{'i': tup_i, 'c': tup_c}]\n",
    "        corrections.append([q_metadata['language'], q_metadata['age'], data.get('type'), tup_i, tup_c, q_metadata['prompt_key'], q_metadata['overall_score'], a_metadata['question_number'], a_metadata['question_score'], q_metadata['file_name']])\n",
    "        \n",
    "    return ' '.join(correct.split()), ' '.join(wrong.split())"
   ]
  },
  {
   "cell_type": "code",
   "execution_count": 5,
   "metadata": {},
   "outputs": [],
   "source": [
    "def check_and_extract(doc, key):\n",
    "    element = doc.find(key)\n",
    "    if (element is not None):\n",
    "        return element.text\n",
    "    return ''\n",
    "\n",
    "def parse_file(file_name, corrections):\n",
    "#     print('PARSING: ' + file_name)\n",
    "    with open(file_name) as fobj:\n",
    "        xml = fobj.read()\n",
    "    metadata = {}\n",
    "    root = etree.XML(bytes(bytearray(xml, encoding='utf-8')))\n",
    "    head = root[0]\n",
    "    candidate = head[0]\n",
    "    personnel = candidate.find('personnel')\n",
    "    text = head.find('text')\n",
    "    metadata['prompt_key'] = Path(file_name).parent.name\n",
    "    metadata['sort_key'] = head.get('sortkey')\n",
    "    metadata['overall_score'] = check_and_extract(candidate, 'score')\n",
    "    metadata['language'] = check_and_extract(personnel, 'language')\n",
    "    metadata['age'] = check_and_extract(personnel, 'age')\n",
    "    metadata['file_name'] = file_name\n",
    "    \n",
    "    answers = []\n",
    "    for item in text.getchildren():\n",
    "        answer = {}\n",
    "        tag = item.tag\n",
    "        question_number = check_and_extract(item, 'question_number') # item.find('question_number').text\n",
    "        question_score = check_and_extract(item, 'exam_score') # item.find('exam_score').text\n",
    "        answer['tag'] = tag\n",
    "        answer['question_number'] = question_number\n",
    "        answer['question_score'] = question_score\n",
    "        answer['coded_answer'] = item.find('coded_answer')\n",
    "        answers.append(answer)\n",
    "    for answer in answers:\n",
    "        for p in answer['coded_answer']:\n",
    "            process_ns(p, corrections, metadata, answer)"
   ]
  },
  {
   "cell_type": "code",
   "execution_count": 5,
   "metadata": {},
   "outputs": [],
   "source": [
    "corrections = []\n",
    "for file in file_list:\n",
    "    parse_file(file, corrections)"
   ]
  },
  {
   "cell_type": "code",
   "execution_count": 6,
   "metadata": {},
   "outputs": [],
   "source": [
    "df = pd.DataFrame(corrections, columns=headers)"
   ]
  },
  {
   "cell_type": "code",
   "execution_count": 7,
   "metadata": {},
   "outputs": [
    {
     "data": {
      "text/plain": [
       "55895"
      ]
     },
     "execution_count": 7,
     "metadata": {},
     "output_type": "execute_result"
    }
   ],
   "source": [
    "len(df)"
   ]
  },
  {
   "cell_type": "code",
   "execution_count": 83,
   "metadata": {},
   "outputs": [],
   "source": [
    "df.to_csv('../data/parsed.csv', index = False)"
   ]
  },
  {
   "cell_type": "code",
   "execution_count": 10,
   "metadata": {},
   "outputs": [],
   "source": [
    "answer_headers = ['language', 'age', 'i', 'c', 'prompt_key', 'overall_score', 'question_number', 'question_score', 'file_name']\n",
    "def extract_answers(file_name, dataset):\n",
    "#     print('PARSING: ' + file_name)\n",
    "    with open(file_name) as fobj:\n",
    "        xml = fobj.read()\n",
    "    metadata = {}\n",
    "    root = etree.XML(bytes(bytearray(xml, encoding='utf-8')))\n",
    "    head = root[0]\n",
    "    candidate = head[0]\n",
    "    personnel = candidate.find('personnel')\n",
    "    text = head.find('text')\n",
    "    metadata['prompt_key'] = Path(file_name).parent.name\n",
    "    metadata['sort_key'] = head.get('sortkey')\n",
    "    metadata['overall_score'] = check_and_extract(candidate, 'score')\n",
    "    metadata['language'] = check_and_extract(personnel, 'language')\n",
    "    metadata['age'] = check_and_extract(personnel, 'age')\n",
    "    metadata['file_name'] = file_name\n",
    "    \n",
    "    answers = []\n",
    "    for item in text.getchildren():\n",
    "        answer = {}\n",
    "        tag = item.tag\n",
    "        question_number = check_and_extract(item, 'question_number') # item.find('question_number').text\n",
    "        question_score = check_and_extract(item, 'exam_score') # item.find('exam_score').text\n",
    "        answer['tag'] = tag\n",
    "        answer['question_number'] = question_number\n",
    "        answer['question_score'] = question_score\n",
    "        answer['coded_answer'] = item.find('coded_answer')\n",
    "        answers.append(answer)\n",
    "    corrections = []\n",
    "    for answer in answers:\n",
    "        correct, wrong = '', ''\n",
    "        for p in answer['coded_answer']:\n",
    "            c, i = process_ns(p, corrections, metadata, answer)\n",
    "            correct = correct + c\n",
    "            wrong = wrong + i\n",
    "        dataset.append([metadata['language'], metadata['age'], wrong, correct, metadata['prompt_key'], metadata['overall_score'], answer['question_number'], answer['question_score'], metadata['file_name']])\n",
    "            "
   ]
  },
  {
   "cell_type": "code",
   "execution_count": 11,
   "metadata": {},
   "outputs": [],
   "source": [
    "dataset = []\n",
    "for file in file_list:\n",
    "    extract_answers(file, dataset)"
   ]
  },
  {
   "cell_type": "code",
   "execution_count": 12,
   "metadata": {},
   "outputs": [],
   "source": [
    "df = pd.DataFrame(dataset, columns=answer_headers)"
   ]
  },
  {
   "cell_type": "code",
   "execution_count": 15,
   "metadata": {},
   "outputs": [
    {
     "data": {
      "text/html": [
       "<div>\n",
       "<style>\n",
       "    .dataframe thead tr:only-child th {\n",
       "        text-align: right;\n",
       "    }\n",
       "\n",
       "    .dataframe thead th {\n",
       "        text-align: left;\n",
       "    }\n",
       "\n",
       "    .dataframe tbody tr th {\n",
       "        vertical-align: top;\n",
       "    }\n",
       "</style>\n",
       "<table border=\"1\" class=\"dataframe\">\n",
       "  <thead>\n",
       "    <tr style=\"text-align: right;\">\n",
       "      <th></th>\n",
       "      <th>language</th>\n",
       "      <th>age</th>\n",
       "      <th>i</th>\n",
       "      <th>c</th>\n",
       "      <th>prompt_key</th>\n",
       "      <th>overall_score</th>\n",
       "      <th>question_number</th>\n",
       "      <th>question_score</th>\n",
       "      <th>file_name</th>\n",
       "    </tr>\n",
       "  </thead>\n",
       "  <tbody>\n",
       "    <tr>\n",
       "      <th>0</th>\n",
       "      <td>Russian</td>\n",
       "      <td>16-20</td>\n",
       "      <td>Dear Ms Jane Clark,Recently I visited an arts ...</td>\n",
       "      <td>Dear Ms Clark,Recently I visited an arts festi...</td>\n",
       "      <td>0102_2000_12</td>\n",
       "      <td>25.00</td>\n",
       "      <td>1</td>\n",
       "      <td>3.2</td>\n",
       "      <td>../data/dataset/0102_2000_12/doc624.xml</td>\n",
       "    </tr>\n",
       "    <tr>\n",
       "      <th>1</th>\n",
       "      <td>Russian</td>\n",
       "      <td>16-20</td>\n",
       "      <td>Dear Ana,Thanks for your letter and postcard. ...</td>\n",
       "      <td>Dear Ana,Thanks for your letter and postcard. ...</td>\n",
       "      <td>0102_2000_12</td>\n",
       "      <td>25.00</td>\n",
       "      <td>4</td>\n",
       "      <td>2.3</td>\n",
       "      <td>../data/dataset/0102_2000_12/doc624.xml</td>\n",
       "    </tr>\n",
       "    <tr>\n",
       "      <th>2</th>\n",
       "      <td>Turkish</td>\n",
       "      <td>16-20</td>\n",
       "      <td>16.12.00Dear JaneFirstly I want to tell you th...</td>\n",
       "      <td>16.12.00Dear JaneFirstly , I want to tell you ...</td>\n",
       "      <td>0102_2000_12</td>\n",
       "      <td>32.00</td>\n",
       "      <td>1</td>\n",
       "      <td>4.3</td>\n",
       "      <td>../data/dataset/0102_2000_12/doc1562.xml</td>\n",
       "    </tr>\n",
       "    <tr>\n",
       "      <th>3</th>\n",
       "      <td>Turkish</td>\n",
       "      <td>16-20</td>\n",
       "      <td>16.12.00Dear Andrew,I just received your lette...</td>\n",
       "      <td>16.12.00Dear Andrew,I just received your lette...</td>\n",
       "      <td>0102_2000_12</td>\n",
       "      <td>32.00</td>\n",
       "      <td>4</td>\n",
       "      <td>4.2</td>\n",
       "      <td>../data/dataset/0102_2000_12/doc1562.xml</td>\n",
       "    </tr>\n",
       "    <tr>\n",
       "      <th>4</th>\n",
       "      <td>German</td>\n",
       "      <td></td>\n",
       "      <td>Dear Jane,I have read the advertisement for th...</td>\n",
       "      <td>Dear Jane,I have read the advertisement for th...</td>\n",
       "      <td>0102_2000_12</td>\n",
       "      <td>25.00</td>\n",
       "      <td>1</td>\n",
       "      <td>3.1</td>\n",
       "      <td>../data/dataset/0102_2000_12/doc180.xml</td>\n",
       "    </tr>\n",
       "  </tbody>\n",
       "</table>\n",
       "</div>"
      ],
      "text/plain": [
       "  language    age                                                  i  \\\n",
       "0  Russian  16-20  Dear Ms Jane Clark,Recently I visited an arts ...   \n",
       "1  Russian  16-20  Dear Ana,Thanks for your letter and postcard. ...   \n",
       "2  Turkish  16-20  16.12.00Dear JaneFirstly I want to tell you th...   \n",
       "3  Turkish  16-20  16.12.00Dear Andrew,I just received your lette...   \n",
       "4   German         Dear Jane,I have read the advertisement for th...   \n",
       "\n",
       "                                                   c    prompt_key  \\\n",
       "0  Dear Ms Clark,Recently I visited an arts festi...  0102_2000_12   \n",
       "1  Dear Ana,Thanks for your letter and postcard. ...  0102_2000_12   \n",
       "2  16.12.00Dear JaneFirstly , I want to tell you ...  0102_2000_12   \n",
       "3  16.12.00Dear Andrew,I just received your lette...  0102_2000_12   \n",
       "4  Dear Jane,I have read the advertisement for th...  0102_2000_12   \n",
       "\n",
       "  overall_score question_number question_score  \\\n",
       "0         25.00               1            3.2   \n",
       "1         25.00               4            2.3   \n",
       "2         32.00               1            4.3   \n",
       "3         32.00               4            4.2   \n",
       "4         25.00               1            3.1   \n",
       "\n",
       "                                  file_name  \n",
       "0   ../data/dataset/0102_2000_12/doc624.xml  \n",
       "1   ../data/dataset/0102_2000_12/doc624.xml  \n",
       "2  ../data/dataset/0102_2000_12/doc1562.xml  \n",
       "3  ../data/dataset/0102_2000_12/doc1562.xml  \n",
       "4   ../data/dataset/0102_2000_12/doc180.xml  "
      ]
     },
     "execution_count": 15,
     "metadata": {},
     "output_type": "execute_result"
    }
   ],
   "source": [
    "df.head()"
   ]
  },
  {
   "cell_type": "code",
   "execution_count": 16,
   "metadata": {},
   "outputs": [],
   "source": [
    "df.to_csv('../data/answers_parsed.csv', index = False)"
   ]
  },
  {
   "cell_type": "code",
   "execution_count": null,
   "metadata": {},
   "outputs": [],
   "source": []
  }
 ],
 "metadata": {
  "kernelspec": {
   "display_name": "Python 3",
   "language": "python",
   "name": "python3"
  },
  "language_info": {
   "codemirror_mode": {
    "name": "ipython",
    "version": 3
   },
   "file_extension": ".py",
   "mimetype": "text/x-python",
   "name": "python",
   "nbconvert_exporter": "python",
   "pygments_lexer": "ipython3",
   "version": "3.6.3"
  }
 },
 "nbformat": 4,
 "nbformat_minor": 2
}
