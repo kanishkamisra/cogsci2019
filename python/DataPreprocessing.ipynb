{
 "cells": [
  {
   "cell_type": "code",
   "execution_count": 1,
   "metadata": {},
   "outputs": [],
   "source": [
    "from pathlib import Path\n",
    "from lxml import etree\n",
    "import pandas as pd"
   ]
  },
  {
   "cell_type": "code",
   "execution_count": 2,
   "metadata": {},
   "outputs": [],
   "source": [
    "directory = '../data/dataset'\n",
    "file_list = []\n",
    "headers = ['language', 'age', 'type', 'i', 'c', 'prompt_key', 'overall_score', 'question_number', 'question_score', 'file_name']\n",
    "pathlist = Path(directory).glob('**/*.xml')\n",
    "for path in pathlist:\n",
    "    # because path is object not string\n",
    "    file_list.append(str(path))"
   ]
  },
  {
   "cell_type": "code",
   "execution_count": 3,
   "metadata": {},
   "outputs": [],
   "source": [
    "def process_ns(data, corrections, q_metadata, a_metadata):\n",
    "    correct, wrong = '', ''\n",
    "    if (data.text is not None):\n",
    "        correct = correct + data.text\n",
    "        wrong = wrong + data.text\n",
    "    tup_c, tup_i = '', ''\n",
    "    \n",
    "#     print('PROCESSING: ' + data.tag)\n",
    "    \n",
    "    for items in data.getchildren():\n",
    "        if ((items.tag == 'i') or (items.tag == 'ns' and items.getparent().tag == 'i')):\n",
    "#             print('INC')\n",
    "            i_c, i_i = process_ns(items, corrections, q_metadata, a_metadata) #items.text\n",
    "            if (i_i is not None):\n",
    "                wrong = wrong + ' ' + i_i\n",
    "                tup_i = i_i\n",
    "        elif ((items.tag == 'c') or (items.tag == 'ns' and items.getparent().tag == 'c')):\n",
    "#             print('COR')\n",
    "            c_c, c_i = process_ns(items, corrections, q_metadata, a_metadata) #items.text\n",
    "            if (c_c is not None):\n",
    "                correct = correct + ' ' + c_c\n",
    "                tup_c = c_c\n",
    "        else:\n",
    "            c, i = process_ns(items, corrections, q_metadata, a_metadata)\n",
    "            if (c is not None):\n",
    "                correct = correct + ' ' + c\n",
    "            if (i is not None):\n",
    "                wrong = wrong + ' ' + i\n",
    "            \n",
    "#         print(items.tag)\n",
    "        if (items.tail is not None):\n",
    "            correct = correct + ' ' + items.tail\n",
    "            wrong = wrong + ' ' + items.tail\n",
    "    if (data.tag == 'NS'):\n",
    "#         if (data.get('type') in corrections):\n",
    "#             corrections[data.get('type')].append({'i': tup_i, 'c': tup_c})\n",
    "#         else:\n",
    "#             corrections[data.get('type')] = [{'i': tup_i, 'c': tup_c}]\n",
    "        corrections.append([q_metadata['language'], q_metadata['age'], data.get('type'), tup_i, tup_c, q_metadata['prompt_key'], q_metadata['overall_score'], a_metadata['question_number'], a_metadata['question_score'], q_metadata['file_name']])\n",
    "        \n",
    "    return ' '.join(correct.split()), ' '.join(wrong.split())"
   ]
  },
  {
   "cell_type": "code",
   "execution_count": 4,
   "metadata": {},
   "outputs": [],
   "source": [
    "def check_and_extract(doc, key):\n",
    "    element = doc.find(key)\n",
    "    if (element is not None):\n",
    "        return element.text\n",
    "    return ''\n",
    "\n",
    "def parse_file(file_name, corrections):\n",
    "#     print('PARSING: ' + file_name)\n",
    "    with open(file_name) as fobj:\n",
    "        xml = fobj.read()\n",
    "    metadata = {}\n",
    "    root = etree.XML(bytes(bytearray(xml, encoding='utf-8')))\n",
    "    head = root[0]\n",
    "    candidate = head[0]\n",
    "    personnel = candidate.find('personnel')\n",
    "    text = head.find('text')\n",
    "    metadata['prompt_key'] = Path(file_name).parent.name\n",
    "    metadata['sort_key'] = head.get('sortkey')\n",
    "    metadata['overall_score'] = check_and_extract(candidate, 'score')\n",
    "    metadata['language'] = check_and_extract(personnel, 'language')\n",
    "    metadata['age'] = check_and_extract(personnel, 'age')\n",
    "    metadata['file_name'] = file_name\n",
    "    \n",
    "    answers = []\n",
    "    for item in text.getchildren():\n",
    "        answer = {}\n",
    "        tag = item.tag\n",
    "        question_number = check_and_extract(item, 'question_number') # item.find('question_number').text\n",
    "        question_score = check_and_extract(item, 'exam_score') # item.find('exam_score').text\n",
    "        answer['tag'] = tag\n",
    "        answer['question_number'] = question_number\n",
    "        answer['question_score'] = question_score\n",
    "        answer['coded_answer'] = item.find('coded_answer')\n",
    "        answers.append(answer)\n",
    "    for answer in answers:\n",
    "        for p in answer['coded_answer']:\n",
    "            process_ns(p, corrections, metadata, answer)"
   ]
  },
  {
   "cell_type": "code",
   "execution_count": 5,
   "metadata": {},
   "outputs": [],
   "source": [
    "corrections = []\n",
    "for file in file_list:\n",
    "    parse_file(file, corrections)"
   ]
  },
  {
   "cell_type": "code",
   "execution_count": 6,
   "metadata": {},
   "outputs": [],
   "source": [
    "df = pd.DataFrame(corrections, columns=headers)"
   ]
  },
  {
   "cell_type": "code",
   "execution_count": 7,
   "metadata": {},
   "outputs": [
    {
     "data": {
      "text/plain": [
       "55895"
      ]
     },
     "execution_count": 7,
     "metadata": {},
     "output_type": "execute_result"
    }
   ],
   "source": [
    "len(df)"
   ]
  },
  {
   "cell_type": "code",
   "execution_count": 83,
   "metadata": {},
   "outputs": [],
   "source": [
    "df.to_csv('../data/parsed.csv', index = False)"
   ]
  },
  {
   "cell_type": "code",
   "execution_count": null,
   "metadata": {},
   "outputs": [],
   "source": []
  }
 ],
 "metadata": {
  "kernelspec": {
   "display_name": "Python 3",
   "language": "python",
   "name": "python3"
  },
  "language_info": {
   "codemirror_mode": {
    "name": "ipython",
    "version": 3
   },
   "file_extension": ".py",
   "mimetype": "text/x-python",
   "name": "python",
   "nbconvert_exporter": "python",
   "pygments_lexer": "ipython3",
   "version": "3.6.3"
  }
 },
 "nbformat": 4,
 "nbformat_minor": 2
}
