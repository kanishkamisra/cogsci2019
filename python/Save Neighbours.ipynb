{
 "cells": [
  {
   "cell_type": "code",
   "execution_count": 1,
   "metadata": {
    "ExecuteTime": {
     "end_time": "2019-01-31T07:21:46.791774Z",
     "start_time": "2019-01-31T07:21:46.299339Z"
    }
   },
   "outputs": [],
   "source": [
    "from gensim.models import KeyedVectors\n",
    "from sklearn.metrics.pairwise import cosine_similarity\n",
    "import numpy as np\n",
    "import pandas as pd\n",
    "from datetime import datetime\n",
    "from tqdm import tqdm\n",
    "from polyglot.mapping import Embedding"
   ]
  },
  {
   "cell_type": "code",
   "execution_count": 2,
   "metadata": {
    "ExecuteTime": {
     "end_time": "2019-01-31T07:21:46.808573Z",
     "start_time": "2019-01-31T07:21:46.804121Z"
    }
   },
   "outputs": [],
   "source": [
    "neighbour_list = [5, 10, 25, 50, 75, 100]\n",
    "embedding_list = ['polyglot', 'cc']\n",
    "embedding_path = '../data/pretrained_embeddings/'\n",
    "# embedding_path = '../data/pretrained_embeddings/polyglot/embeddings2/'"
   ]
  },
  {
   "cell_type": "code",
   "execution_count": 3,
   "metadata": {
    "ExecuteTime": {
     "end_time": "2019-01-31T07:21:47.432365Z",
     "start_time": "2019-01-31T07:21:47.339254Z"
    }
   },
   "outputs": [],
   "source": [
    "def get_embedding_file_name(language, file_type):\n",
    "    lang_code = ''\n",
    "    file_name = ''\n",
    "    if (language == \"Russian\"):\n",
    "        lang_code += 'ru'\n",
    "    elif (language == \"Turkish\"):\n",
    "        lang_code += 'tr'\n",
    "    elif (language == \"German\"):\n",
    "        lang_code += 'de'\n",
    "    elif (language == \"Japanese\"):\n",
    "        lang_code += 'ja'\n",
    "    elif (language == \"Spanish\"):\n",
    "        lang_code += 'es'\n",
    "    elif (language == \"Polish\"):\n",
    "        lang_code += 'pl'\n",
    "    elif (language == \"Italian\"):\n",
    "        lang_code += 'it'\n",
    "    elif (language == \"Catalan\"):\n",
    "        lang_code += 'ca'\n",
    "    elif (language == \"Korean\"):\n",
    "        lang_code += 'ko'\n",
    "    elif (language == \"French\"):\n",
    "        lang_code += 'fr'\n",
    "    elif (language == \"Chinese\" or language == \"Chinese (Simplified)\"):\n",
    "        lang_code += 'zh'\n",
    "    elif (language == \"Portuguese\"):\n",
    "        lang_code += 'pt'\n",
    "    elif (language == \"Swedish\"):\n",
    "        lang_code += 'sv'\n",
    "    elif (language == \"Greek\"):\n",
    "        lang_code += 'el'\n",
    "    elif (language == \"Thai\"):\n",
    "        lang_code += 'th'\n",
    "    elif (language == \"Dutch\"):\n",
    "        lang_code += 'nl'\n",
    "    elif (language == \"English\" and file_type == 'cc'):\n",
    "        lang_code += 'en.300'\n",
    "    elif (language == \"English\" and file_type == 'polyglot'):\n",
    "        lang_code += 'en'\n",
    "        \n",
    "    if (file_type == 'cc'):\n",
    "        file_name = embedding_path + file_type + '.' + lang_code + '.vec'\n",
    "    elif (file_type == 'polyglot'):\n",
    "        file_name = embedding_path + file_type + '/embeddings2/' + lang_code + '/embeddings_pkl.tar.bz2'\n",
    "    return file_name\n",
    "\n",
    "def load_embedding_vector(language, file_type):\n",
    "    file_name = get_embedding_file_name(language, file_type)\n",
    "    print('Loading file: ' + file_name)\n",
    "    if (file_type == 'cc'):\n",
    "        print('Loading fasttext')\n",
    "        vec = KeyedVectors.load_word2vec_format(file_name, binary=False, unicode_errors='ignore')  # C text format\n",
    "    elif (file_type == 'polyglot'):\n",
    "        print('Loading polyglot')\n",
    "        vec = Embedding.load(file_name)\n",
    "        vec = vec.normalize_words()\n",
    "    return vec"
   ]
  },
  {
   "cell_type": "code",
   "execution_count": 4,
   "metadata": {
    "ExecuteTime": {
     "end_time": "2019-01-31T07:21:48.219833Z",
     "start_time": "2019-01-31T07:21:48.162947Z"
    }
   },
   "outputs": [],
   "source": [
    "def proper_case(word):\n",
    "    return word[0].upper() + word[1:]\n",
    "\n",
    "def get_neigbours(word, embeddings, vector_type, size, sorting_type = 'desc'):\n",
    "    res1 = []\n",
    "    res2 = []\n",
    "    \n",
    "    try:\n",
    "        w = embeddings[word]\n",
    "    except KeyError:\n",
    "        if (vector_type == 'polyglot'):\n",
    "            word = proper_case(word)\n",
    "            try:\n",
    "                w = embeddings[word]\n",
    "            except KeyError:\n",
    "                return -10, -10\n",
    "        else:\n",
    "            return -10, -10\n",
    "    if (vector_type == 'polyglot'):\n",
    "        n = embeddings.nearest_neighbors(word, top_k = size)\n",
    "        n_v = [embeddings[word] for word in n]\n",
    "        n_s = cosine_similarity([embeddings[word]], n_v)\n",
    "        for index, item in enumerate(n_s[0]):\n",
    "            res1.append(n[index])\n",
    "            res2.append({'word': n[index], 'similarity': str(item)})\n",
    "    elif (vector_type == 'cc'):\n",
    "        n = embeddings.similar_by_vector(embeddings[word], topn = size + 1)\n",
    "        for item in n[1:]:\n",
    "            res1.append(item[0])\n",
    "            res2.append({'word': item[0], 'similarity': str(item[1])})\n",
    "    if (sorting_type == 'asc'):\n",
    "        res1 = res1[::-1]\n",
    "        res2 = res2[::-1]\n",
    "    return res1, res2"
   ]
  },
  {
   "cell_type": "code",
   "execution_count": 5,
   "metadata": {
    "ExecuteTime": {
     "end_time": "2019-01-31T07:21:56.940425Z",
     "start_time": "2019-01-31T07:21:56.935148Z"
    }
   },
   "outputs": [],
   "source": [
    "# source = '../data/ms_final_with_polyglot_2.csv'\n",
    "# pd_dataset = pd.read_csv(source)\n",
    "# pd_dataset = pd_dataset.sort_values(by = 'language', ascending = True)\n",
    "# pd_dataset.head()"
   ]
  },
  {
   "cell_type": "code",
   "execution_count": 6,
   "metadata": {
    "ExecuteTime": {
     "end_time": "2019-01-31T07:21:58.490124Z",
     "start_time": "2019-01-31T07:21:58.486005Z"
    }
   },
   "outputs": [],
   "source": [
    "# test = load_embedding_vector(\"English\", \"polyglot\")"
   ]
  },
  {
   "cell_type": "code",
   "execution_count": 7,
   "metadata": {
    "ExecuteTime": {
     "end_time": "2019-01-31T07:21:59.367694Z",
     "start_time": "2019-01-31T07:21:59.359810Z"
    }
   },
   "outputs": [],
   "source": [
    "# test = test.normalize_words()\n",
    "# n = test.nearest_neighbors(\"hello\")\n",
    "# print(n)\n",
    "# n_v = [test[word] for word in n]\n",
    "# n_s = cosine_similarity([test[\"hello\"]], n_v)\n",
    "\n",
    "# for i, item in enumerate(n_s[0]):\n",
    "#     print(item)\n",
    "# res1, res2 = get_neigbours(\"hello\", test, \"polyglot\", 10, 'desc')\n",
    "# print(res1)\n",
    "# print(res2)"
   ]
  },
  {
   "cell_type": "code",
   "execution_count": 8,
   "metadata": {
    "ExecuteTime": {
     "end_time": "2019-01-31T07:22:00.279228Z",
     "start_time": "2019-01-31T07:22:00.274983Z"
    }
   },
   "outputs": [],
   "source": [
    "# test = load_embedding_vector(\"English\", \"cc\")"
   ]
  },
  {
   "cell_type": "code",
   "execution_count": 9,
   "metadata": {
    "ExecuteTime": {
     "end_time": "2019-01-31T07:22:00.932175Z",
     "start_time": "2019-01-31T07:22:00.926891Z"
    }
   },
   "outputs": [],
   "source": [
    "# n = test.similar_by_vector(test[\"hello\"])\n",
    "# def get_formatted_neighbours(neighbours, vector_type):\n",
    "#     res1 = []\n",
    "#     res2 = []\n",
    "#     return res1, res2"
   ]
  },
  {
   "cell_type": "code",
   "execution_count": 10,
   "metadata": {
    "ExecuteTime": {
     "end_time": "2019-01-31T07:22:04.278861Z",
     "start_time": "2019-01-31T07:22:04.203881Z"
    }
   },
   "outputs": [
    {
     "data": {
      "text/html": [
       "<div>\n",
       "<style scoped>\n",
       "    .dataframe tbody tr th:only-of-type {\n",
       "        vertical-align: middle;\n",
       "    }\n",
       "\n",
       "    .dataframe tbody tr th {\n",
       "        vertical-align: top;\n",
       "    }\n",
       "\n",
       "    .dataframe thead th {\n",
       "        text-align: right;\n",
       "    }\n",
       "</style>\n",
       "<table border=\"1\" class=\"dataframe\">\n",
       "  <thead>\n",
       "    <tr style=\"text-align: right;\">\n",
       "      <th></th>\n",
       "      <th>c</th>\n",
       "      <th>i</th>\n",
       "      <th>id</th>\n",
       "      <th>l1_c</th>\n",
       "      <th>l1_i</th>\n",
       "      <th>language</th>\n",
       "      <th>type</th>\n",
       "      <th>code</th>\n",
       "      <th>l2_sim_cc_5</th>\n",
       "      <th>l2_sim_cc_10</th>\n",
       "      <th>...</th>\n",
       "      <th>l2_sim_cc_50</th>\n",
       "      <th>l2_sim_cc_75</th>\n",
       "      <th>l2_sim_cc_100</th>\n",
       "      <th>l1_sim_cc_5</th>\n",
       "      <th>l1_sim_cc_10</th>\n",
       "      <th>l1_sim_cc_25</th>\n",
       "      <th>l1_sim_cc_50</th>\n",
       "      <th>l1_sim_cc_75</th>\n",
       "      <th>l1_sim_cc_100</th>\n",
       "      <th>case_id</th>\n",
       "    </tr>\n",
       "  </thead>\n",
       "  <tbody>\n",
       "    <tr>\n",
       "      <th>0</th>\n",
       "      <td>plans</td>\n",
       "      <td>projects</td>\n",
       "      <td>person_2799</td>\n",
       "      <td>plans</td>\n",
       "      <td>projectes</td>\n",
       "      <td>Catalan</td>\n",
       "      <td>RN</td>\n",
       "      <td>ca</td>\n",
       "      <td>0.315914</td>\n",
       "      <td>0.289572</td>\n",
       "      <td>...</td>\n",
       "      <td>0.246446</td>\n",
       "      <td>0.235596</td>\n",
       "      <td>0.228922</td>\n",
       "      <td>0.534060</td>\n",
       "      <td>0.509746</td>\n",
       "      <td>0.513301</td>\n",
       "      <td>0.508249</td>\n",
       "      <td>0.497365</td>\n",
       "      <td>0.494275</td>\n",
       "      <td>case_0001</td>\n",
       "    </tr>\n",
       "    <tr>\n",
       "      <th>221</th>\n",
       "      <td>stars</td>\n",
       "      <td>starts</td>\n",
       "      <td>person_2127</td>\n",
       "      <td>estrelles</td>\n",
       "      <td>comença</td>\n",
       "      <td>Catalan</td>\n",
       "      <td>RN</td>\n",
       "      <td>ca</td>\n",
       "      <td>0.068227</td>\n",
       "      <td>0.068642</td>\n",
       "      <td>...</td>\n",
       "      <td>0.062946</td>\n",
       "      <td>0.059115</td>\n",
       "      <td>0.056152</td>\n",
       "      <td>0.168406</td>\n",
       "      <td>0.167430</td>\n",
       "      <td>0.177438</td>\n",
       "      <td>0.174349</td>\n",
       "      <td>0.173036</td>\n",
       "      <td>0.175587</td>\n",
       "      <td>case_0222</td>\n",
       "    </tr>\n",
       "    <tr>\n",
       "      <th>220</th>\n",
       "      <td>time</td>\n",
       "      <td>hours</td>\n",
       "      <td>person_2127</td>\n",
       "      <td>temps</td>\n",
       "      <td>hores</td>\n",
       "      <td>Catalan</td>\n",
       "      <td>RN</td>\n",
       "      <td>ca</td>\n",
       "      <td>0.464017</td>\n",
       "      <td>0.407275</td>\n",
       "      <td>...</td>\n",
       "      <td>0.373413</td>\n",
       "      <td>0.359142</td>\n",
       "      <td>0.354130</td>\n",
       "      <td>0.380932</td>\n",
       "      <td>0.359519</td>\n",
       "      <td>0.346928</td>\n",
       "      <td>0.349675</td>\n",
       "      <td>0.352660</td>\n",
       "      <td>0.349513</td>\n",
       "      <td>case_0221</td>\n",
       "    </tr>\n",
       "    <tr>\n",
       "      <th>219</th>\n",
       "      <td>coming</td>\n",
       "      <td>following</td>\n",
       "      <td>person_2127</td>\n",
       "      <td>venint</td>\n",
       "      <td>següents</td>\n",
       "      <td>Catalan</td>\n",
       "      <td>RJ</td>\n",
       "      <td>ca</td>\n",
       "      <td>0.183514</td>\n",
       "      <td>0.166062</td>\n",
       "      <td>...</td>\n",
       "      <td>0.170379</td>\n",
       "      <td>0.165272</td>\n",
       "      <td>0.161477</td>\n",
       "      <td>0.182136</td>\n",
       "      <td>0.181615</td>\n",
       "      <td>0.211532</td>\n",
       "      <td>0.218019</td>\n",
       "      <td>0.222701</td>\n",
       "      <td>0.225519</td>\n",
       "      <td>case_0220</td>\n",
       "    </tr>\n",
       "    <tr>\n",
       "      <th>218</th>\n",
       "      <td>equipment</td>\n",
       "      <td>material</td>\n",
       "      <td>person_2127</td>\n",
       "      <td>equip</td>\n",
       "      <td>material</td>\n",
       "      <td>Catalan</td>\n",
       "      <td>RN</td>\n",
       "      <td>ca</td>\n",
       "      <td>0.279342</td>\n",
       "      <td>0.251406</td>\n",
       "      <td>...</td>\n",
       "      <td>0.225062</td>\n",
       "      <td>0.223828</td>\n",
       "      <td>0.219889</td>\n",
       "      <td>0.352026</td>\n",
       "      <td>0.340105</td>\n",
       "      <td>0.323130</td>\n",
       "      <td>0.316861</td>\n",
       "      <td>0.310028</td>\n",
       "      <td>0.312223</td>\n",
       "      <td>case_0219</td>\n",
       "    </tr>\n",
       "  </tbody>\n",
       "</table>\n",
       "<p>5 rows × 21 columns</p>\n",
       "</div>"
      ],
      "text/plain": [
       "             c          i           id       l1_c       l1_i language type  \\\n",
       "0        plans   projects  person_2799      plans  projectes  Catalan   RN   \n",
       "221      stars     starts  person_2127  estrelles    comença  Catalan   RN   \n",
       "220       time      hours  person_2127      temps      hores  Catalan   RN   \n",
       "219     coming  following  person_2127     venint   següents  Catalan   RJ   \n",
       "218  equipment   material  person_2127      equip   material  Catalan   RN   \n",
       "\n",
       "    code  l2_sim_cc_5  l2_sim_cc_10    ...      l2_sim_cc_50  l2_sim_cc_75  \\\n",
       "0     ca     0.315914      0.289572    ...          0.246446      0.235596   \n",
       "221   ca     0.068227      0.068642    ...          0.062946      0.059115   \n",
       "220   ca     0.464017      0.407275    ...          0.373413      0.359142   \n",
       "219   ca     0.183514      0.166062    ...          0.170379      0.165272   \n",
       "218   ca     0.279342      0.251406    ...          0.225062      0.223828   \n",
       "\n",
       "     l2_sim_cc_100  l1_sim_cc_5  l1_sim_cc_10  l1_sim_cc_25  l1_sim_cc_50  \\\n",
       "0         0.228922     0.534060      0.509746      0.513301      0.508249   \n",
       "221       0.056152     0.168406      0.167430      0.177438      0.174349   \n",
       "220       0.354130     0.380932      0.359519      0.346928      0.349675   \n",
       "219       0.161477     0.182136      0.181615      0.211532      0.218019   \n",
       "218       0.219889     0.352026      0.340105      0.323130      0.316861   \n",
       "\n",
       "     l1_sim_cc_75  l1_sim_cc_100    case_id  \n",
       "0        0.497365       0.494275  case_0001  \n",
       "221      0.173036       0.175587  case_0222  \n",
       "220      0.352660       0.349513  case_0221  \n",
       "219      0.222701       0.225519  case_0220  \n",
       "218      0.310028       0.312223  case_0219  \n",
       "\n",
       "[5 rows x 21 columns]"
      ]
     },
     "execution_count": 10,
     "metadata": {},
     "output_type": "execute_result"
    }
   ],
   "source": [
    "source = '../data/fasttext_experiments.csv'\n",
    "pd_dataset = pd.read_csv(source)\n",
    "pd_dataset = pd_dataset.sort_values(by = 'language', ascending = True)\n",
    "pd_dataset.head()"
   ]
  },
  {
   "cell_type": "code",
   "execution_count": 11,
   "metadata": {
    "ExecuteTime": {
     "end_time": "2019-01-31T07:22:08.835275Z",
     "start_time": "2019-01-31T07:22:08.792061Z"
    }
   },
   "outputs": [],
   "source": [
    "fasttext_result_set = {}\n",
    "fasttext_result_set_sim = {}\n",
    "def get_english_data(dataframe, vector_type, rset1, rset2):\n",
    "    vec_type_start = datetime.now()\n",
    "    print('Loading embeddings')\n",
    "    embeddings = load_embedding_vector(\"English\", vector_type)\n",
    "    print('Embeddings for english, ' + vector_type + ' vectors loaded in ' + str(datetime.now() - vec_type_start))\n",
    "    for ind, row in tqdm(dataframe.iterrows(), total=dataframe.shape[0]):\n",
    "        c = row['c']\n",
    "        i = row['i']\n",
    "        case_id = row['case_id']\n",
    "        c_n, c_n_d = get_neigbours(c, embeddings, vector_type, 100, 'desc')\n",
    "        i_n, i_n_d = get_neigbours(i, embeddings, vector_type, 100, 'desc')\n",
    "        \n",
    "        if (case_id not in rset1):\n",
    "            rset1[case_id] = {}\n",
    "        if (case_id not in rset2):\n",
    "            rset2[case_id] = {}\n",
    "        \n",
    "        rset1[case_id]['i_nn'] = i_n\n",
    "        rset1[case_id]['c_nn'] = c_n\n",
    "        rset2[case_id]['i_nn'] = i_n_d\n",
    "        rset2[case_id]['c_nn'] = c_n_d\n"
   ]
  },
  {
   "cell_type": "code",
   "execution_count": 12,
   "metadata": {
    "ExecuteTime": {
     "end_time": "2019-01-31T07:22:14.339201Z",
     "start_time": "2019-01-31T07:22:14.334520Z"
    }
   },
   "outputs": [],
   "source": [
    "# get_english_data(pd_dataset, \"cc\", fasttext_result_set, fasttext_result_set_sim)"
   ]
  },
  {
   "cell_type": "code",
   "execution_count": 13,
   "metadata": {
    "ExecuteTime": {
     "end_time": "2019-01-31T07:22:15.334652Z",
     "start_time": "2019-01-31T07:22:15.330024Z"
    }
   },
   "outputs": [],
   "source": [
    "import json"
   ]
  },
  {
   "cell_type": "code",
   "execution_count": 14,
   "metadata": {
    "ExecuteTime": {
     "end_time": "2019-01-31T07:22:20.107492Z",
     "start_time": "2019-01-31T07:22:20.101963Z"
    }
   },
   "outputs": [],
   "source": [
    "# with open('fasttext_result_set_english.json', 'w') as fp:\n",
    "#     json.dump(fasttext_result_set, fp)\n",
    "# with open('fasttext_result_set_sim_english.json', 'w') as fp:\n",
    "#     json.dump(fasttext_result_set_sim, fp)\n"
   ]
  },
  {
   "cell_type": "code",
   "execution_count": 15,
   "metadata": {
    "ExecuteTime": {
     "end_time": "2019-01-31T07:22:24.163620Z",
     "start_time": "2019-01-31T07:22:24.110348Z"
    }
   },
   "outputs": [],
   "source": [
    "language_list = pd_dataset['language'].unique()\n",
    "\n",
    "def get_l1_data(dataframe, language_list, vector_type, rset1, rset2):\n",
    "    current_lang = ''\n",
    "    for language in language_list:\n",
    "        language_start = datetime.now()\n",
    "        vec_type_start = datetime.now()\n",
    "        print('Loading embeddings')\n",
    "        embeddings = load_embedding_vector(language, vector_type)\n",
    "        print('Embeddings for ' + language + ' , ' + vector_type + ' vectors loaded in ' + str(datetime.now() - vec_type_start))\n",
    "        dset = dataframe[dataframe['language'] == language]\n",
    "        for ind, row in tqdm(dset.iterrows(), total=dset.shape[0]):\n",
    "            c = row['l1_c']\n",
    "            i = row['l1_i']\n",
    "            case_id = row['case_id']\n",
    "            c_n, c_n_d = get_neigbours(c, embeddings, vector_type, 100, 'desc')\n",
    "            i_n, i_n_d = get_neigbours(i, embeddings, vector_type, 100, 'desc')\n",
    "\n",
    "            if (case_id not in rset1):\n",
    "                rset1[case_id] = {}\n",
    "            if (case_id not in rset2):\n",
    "                rset2[case_id] = {}\n",
    "\n",
    "            rset1[case_id]['l1_i_nn'] = i_n\n",
    "            rset1[case_id]['l1_c_nn'] = c_n\n",
    "            rset2[case_id]['l1_i_nn'] = i_n_d\n",
    "            rset2[case_id]['l1_c_nn'] = c_n_d\n",
    "\n",
    "        print('Finished run for language: ' + language + ' in ' + str(datetime.now() - language_start))"
   ]
  },
  {
   "cell_type": "code",
   "execution_count": 16,
   "metadata": {
    "ExecuteTime": {
     "end_time": "2019-01-31T07:22:27.788426Z",
     "start_time": "2019-01-31T07:22:27.783803Z"
    }
   },
   "outputs": [],
   "source": [
    "# get_l1_data(pd_dataset, language_list, \"cc\", fasttext_result_set, fasttext_result_set_sim)"
   ]
  },
  {
   "cell_type": "code",
   "execution_count": 17,
   "metadata": {
    "ExecuteTime": {
     "end_time": "2019-01-31T07:22:31.168917Z",
     "start_time": "2019-01-31T07:22:31.163573Z"
    }
   },
   "outputs": [],
   "source": [
    "# with open('fasttext_result_set.json', 'w') as fp:\n",
    "#     json.dump(fasttext_result_set, fp)\n",
    "# with open('fasttext_result_set_sim.json', 'w') as fp:\n",
    "#     json.dump(fasttext_result_set_sim, fp)\n"
   ]
  },
  {
   "cell_type": "code",
   "execution_count": 18,
   "metadata": {
    "ExecuteTime": {
     "end_time": "2019-01-31T07:22:35.190381Z",
     "start_time": "2019-01-31T07:22:35.101362Z"
    }
   },
   "outputs": [
    {
     "data": {
      "text/html": [
       "<div>\n",
       "<style scoped>\n",
       "    .dataframe tbody tr th:only-of-type {\n",
       "        vertical-align: middle;\n",
       "    }\n",
       "\n",
       "    .dataframe tbody tr th {\n",
       "        vertical-align: top;\n",
       "    }\n",
       "\n",
       "    .dataframe thead th {\n",
       "        text-align: right;\n",
       "    }\n",
       "</style>\n",
       "<table border=\"1\" class=\"dataframe\">\n",
       "  <thead>\n",
       "    <tr style=\"text-align: right;\">\n",
       "      <th></th>\n",
       "      <th>c</th>\n",
       "      <th>i</th>\n",
       "      <th>id</th>\n",
       "      <th>l1_c</th>\n",
       "      <th>l1_i</th>\n",
       "      <th>language</th>\n",
       "      <th>type</th>\n",
       "      <th>code</th>\n",
       "      <th>l2_sim_cc_5</th>\n",
       "      <th>l2_sim_cc_10</th>\n",
       "      <th>...</th>\n",
       "      <th>l2_sim_polyglot_50</th>\n",
       "      <th>l2_sim_polyglot_75</th>\n",
       "      <th>l2_sim_polyglot_100</th>\n",
       "      <th>l1_sim_polyglot_5</th>\n",
       "      <th>l1_sim_polyglot_10</th>\n",
       "      <th>l1_sim_polyglot_25</th>\n",
       "      <th>l1_sim_polyglot_50</th>\n",
       "      <th>l1_sim_polyglot_75</th>\n",
       "      <th>l1_sim_polyglot_100</th>\n",
       "      <th>case_id</th>\n",
       "    </tr>\n",
       "  </thead>\n",
       "  <tbody>\n",
       "    <tr>\n",
       "      <th>0</th>\n",
       "      <td>plans</td>\n",
       "      <td>projects</td>\n",
       "      <td>person_2799</td>\n",
       "      <td>plans</td>\n",
       "      <td>projectes</td>\n",
       "      <td>Catalan</td>\n",
       "      <td>RN</td>\n",
       "      <td>ca</td>\n",
       "      <td>0.315914</td>\n",
       "      <td>0.289572</td>\n",
       "      <td>...</td>\n",
       "      <td>0.642290</td>\n",
       "      <td>0.636711</td>\n",
       "      <td>0.636448</td>\n",
       "      <td>0.706547</td>\n",
       "      <td>0.719866</td>\n",
       "      <td>0.709139</td>\n",
       "      <td>0.681242</td>\n",
       "      <td>0.676333</td>\n",
       "      <td>0.667461</td>\n",
       "      <td>case_0001</td>\n",
       "    </tr>\n",
       "    <tr>\n",
       "      <th>211</th>\n",
       "      <td>especially</td>\n",
       "      <td>specially</td>\n",
       "      <td>person_2421</td>\n",
       "      <td>especialment</td>\n",
       "      <td>especialment</td>\n",
       "      <td>Catalan</td>\n",
       "      <td>RY</td>\n",
       "      <td>ca</td>\n",
       "      <td>0.342199</td>\n",
       "      <td>0.336672</td>\n",
       "      <td>...</td>\n",
       "      <td>0.513900</td>\n",
       "      <td>0.486702</td>\n",
       "      <td>0.479133</td>\n",
       "      <td>0.828464</td>\n",
       "      <td>0.793318</td>\n",
       "      <td>0.749138</td>\n",
       "      <td>0.716610</td>\n",
       "      <td>0.689578</td>\n",
       "      <td>0.673222</td>\n",
       "      <td>case_0009</td>\n",
       "    </tr>\n",
       "    <tr>\n",
       "      <th>210</th>\n",
       "      <td>waste</td>\n",
       "      <td>lose</td>\n",
       "      <td>person_2421</td>\n",
       "      <td>malgastar</td>\n",
       "      <td>perdre</td>\n",
       "      <td>Catalan</td>\n",
       "      <td>RV</td>\n",
       "      <td>ca</td>\n",
       "      <td>0.197119</td>\n",
       "      <td>0.175892</td>\n",
       "      <td>...</td>\n",
       "      <td>0.098449</td>\n",
       "      <td>0.101967</td>\n",
       "      <td>0.105505</td>\n",
       "      <td>0.631330</td>\n",
       "      <td>0.636749</td>\n",
       "      <td>0.636339</td>\n",
       "      <td>0.637038</td>\n",
       "      <td>0.635354</td>\n",
       "      <td>0.634739</td>\n",
       "      <td>case_0002</td>\n",
       "    </tr>\n",
       "    <tr>\n",
       "      <th>209</th>\n",
       "      <td>ending</td>\n",
       "      <td>end</td>\n",
       "      <td>person_1465</td>\n",
       "      <td>final</td>\n",
       "      <td>final</td>\n",
       "      <td>Catalan</td>\n",
       "      <td>RN</td>\n",
       "      <td>ca</td>\n",
       "      <td>0.591592</td>\n",
       "      <td>0.500977</td>\n",
       "      <td>...</td>\n",
       "      <td>0.409819</td>\n",
       "      <td>0.411196</td>\n",
       "      <td>0.404940</td>\n",
       "      <td>0.784284</td>\n",
       "      <td>0.765748</td>\n",
       "      <td>0.735284</td>\n",
       "      <td>0.709147</td>\n",
       "      <td>0.690993</td>\n",
       "      <td>0.676256</td>\n",
       "      <td>case_0003</td>\n",
       "    </tr>\n",
       "    <tr>\n",
       "      <th>208</th>\n",
       "      <td>bored</td>\n",
       "      <td>boring</td>\n",
       "      <td>person_1642</td>\n",
       "      <td>avorrit</td>\n",
       "      <td>avorrit</td>\n",
       "      <td>Catalan</td>\n",
       "      <td>RJ</td>\n",
       "      <td>ca</td>\n",
       "      <td>0.513438</td>\n",
       "      <td>0.502850</td>\n",
       "      <td>...</td>\n",
       "      <td>0.627174</td>\n",
       "      <td>0.611835</td>\n",
       "      <td>0.597600</td>\n",
       "      <td>0.733787</td>\n",
       "      <td>0.727427</td>\n",
       "      <td>0.721897</td>\n",
       "      <td>0.708325</td>\n",
       "      <td>0.698112</td>\n",
       "      <td>0.690430</td>\n",
       "      <td>case_0026</td>\n",
       "    </tr>\n",
       "  </tbody>\n",
       "</table>\n",
       "<p>5 rows × 39 columns</p>\n",
       "</div>"
      ],
      "text/plain": [
       "              c          i           id          l1_c          l1_i language  \\\n",
       "0         plans   projects  person_2799         plans     projectes  Catalan   \n",
       "211  especially  specially  person_2421  especialment  especialment  Catalan   \n",
       "210       waste       lose  person_2421     malgastar        perdre  Catalan   \n",
       "209      ending        end  person_1465         final         final  Catalan   \n",
       "208       bored     boring  person_1642       avorrit       avorrit  Catalan   \n",
       "\n",
       "    type code  l2_sim_cc_5  l2_sim_cc_10    ...      l2_sim_polyglot_50  \\\n",
       "0     RN   ca     0.315914      0.289572    ...                0.642290   \n",
       "211   RY   ca     0.342199      0.336672    ...                0.513900   \n",
       "210   RV   ca     0.197119      0.175892    ...                0.098449   \n",
       "209   RN   ca     0.591592      0.500977    ...                0.409819   \n",
       "208   RJ   ca     0.513438      0.502850    ...                0.627174   \n",
       "\n",
       "     l2_sim_polyglot_75  l2_sim_polyglot_100  l1_sim_polyglot_5  \\\n",
       "0              0.636711             0.636448           0.706547   \n",
       "211            0.486702             0.479133           0.828464   \n",
       "210            0.101967             0.105505           0.631330   \n",
       "209            0.411196             0.404940           0.784284   \n",
       "208            0.611835             0.597600           0.733787   \n",
       "\n",
       "     l1_sim_polyglot_10  l1_sim_polyglot_25  l1_sim_polyglot_50  \\\n",
       "0              0.719866            0.709139            0.681242   \n",
       "211            0.793318            0.749138            0.716610   \n",
       "210            0.636749            0.636339            0.637038   \n",
       "209            0.765748            0.735284            0.709147   \n",
       "208            0.727427            0.721897            0.708325   \n",
       "\n",
       "     l1_sim_polyglot_75  l1_sim_polyglot_100    case_id  \n",
       "0              0.676333             0.667461  case_0001  \n",
       "211            0.689578             0.673222  case_0009  \n",
       "210            0.635354             0.634739  case_0002  \n",
       "209            0.690993             0.676256  case_0003  \n",
       "208            0.698112             0.690430  case_0026  \n",
       "\n",
       "[5 rows x 39 columns]"
      ]
     },
     "execution_count": 18,
     "metadata": {},
     "output_type": "execute_result"
    }
   ],
   "source": [
    "source = '../data/polyglot_experiment.csv'\n",
    "pd2_dataset = pd.read_csv(source)\n",
    "pd2_dataset = pd2_dataset.sort_values(by = 'language', ascending = True)\n",
    "pd2_dataset.head()"
   ]
  },
  {
   "cell_type": "code",
   "execution_count": 19,
   "metadata": {
    "ExecuteTime": {
     "end_time": "2019-01-31T07:22:38.747627Z",
     "start_time": "2019-01-31T07:22:38.742383Z"
    }
   },
   "outputs": [],
   "source": [
    "poly_result_set = {}\n",
    "poly_result_set_sim = {}"
   ]
  },
  {
   "cell_type": "code",
   "execution_count": 20,
   "metadata": {
    "ExecuteTime": {
     "end_time": "2019-01-31T09:57:49.193396Z",
     "start_time": "2019-01-31T07:22:39.997114Z"
    }
   },
   "outputs": [
    {
     "name": "stdout",
     "output_type": "stream",
     "text": [
      "Loading embeddings\n"
     ]
    },
    {
     "name": "stderr",
     "output_type": "stream",
     "text": [
      "\r",
      "  0%|          | 0/4937 [00:00<?, ?it/s]"
     ]
    },
    {
     "name": "stdout",
     "output_type": "stream",
     "text": [
      "Loading file: ../data/pretrained_embeddings/cc.en.300.vec\n",
      "Loading fasttext\n",
      "Embeddings for english, cc vectors loaded in 0:07:09.103982\n"
     ]
    },
    {
     "name": "stderr",
     "output_type": "stream",
     "text": [
      "100%|██████████| 4937/4937 [11:48<00:00,  6.97it/s]\n"
     ]
    },
    {
     "name": "stdout",
     "output_type": "stream",
     "text": [
      "Loading embeddings\n",
      "Loading file: ../data/pretrained_embeddings/cc.ca.vec\n",
      "Loading fasttext\n"
     ]
    },
    {
     "name": "stderr",
     "output_type": "stream",
     "text": [
      "\r",
      "  0%|          | 0/325 [00:00<?, ?it/s]"
     ]
    },
    {
     "name": "stdout",
     "output_type": "stream",
     "text": [
      "Embeddings for Catalan , cc vectors loaded in 0:07:01.579917\n"
     ]
    },
    {
     "name": "stderr",
     "output_type": "stream",
     "text": [
      "100%|██████████| 325/325 [00:55<00:00,  5.89it/s]\n"
     ]
    },
    {
     "name": "stdout",
     "output_type": "stream",
     "text": [
      "Finished run for language: Catalan in 0:07:56.736568\n",
      "Loading embeddings\n",
      "Loading file: ../data/pretrained_embeddings/cc.zh.vec\n",
      "Loading fasttext\n"
     ]
    },
    {
     "name": "stderr",
     "output_type": "stream",
     "text": [
      "\r",
      "  0%|          | 0/310 [00:00<?, ?it/s]"
     ]
    },
    {
     "name": "stdout",
     "output_type": "stream",
     "text": [
      "Embeddings for Chinese (Simplified) , cc vectors loaded in 0:07:06.395914\n"
     ]
    },
    {
     "name": "stderr",
     "output_type": "stream",
     "text": [
      "100%|██████████| 310/310 [00:52<00:00,  5.94it/s]\n"
     ]
    },
    {
     "name": "stdout",
     "output_type": "stream",
     "text": [
      "Finished run for language: Chinese (Simplified) in 0:07:58.625196\n",
      "Loading embeddings\n",
      "Loading file: ../data/pretrained_embeddings/cc.nl.vec\n",
      "Loading fasttext\n"
     ]
    },
    {
     "name": "stderr",
     "output_type": "stream",
     "text": [
      "\r",
      "  0%|          | 0/5 [00:00<?, ?it/s]"
     ]
    },
    {
     "name": "stdout",
     "output_type": "stream",
     "text": [
      "Embeddings for Dutch , cc vectors loaded in 0:07:01.502012\n"
     ]
    },
    {
     "name": "stderr",
     "output_type": "stream",
     "text": [
      "100%|██████████| 5/5 [00:04<00:00,  1.03it/s]\n"
     ]
    },
    {
     "name": "stdout",
     "output_type": "stream",
     "text": [
      "Finished run for language: Dutch in 0:07:06.351772\n",
      "Loading embeddings\n",
      "Loading file: ../data/pretrained_embeddings/cc.fr.vec\n",
      "Loading fasttext\n"
     ]
    },
    {
     "name": "stderr",
     "output_type": "stream",
     "text": [
      "\r",
      "  0%|          | 0/794 [00:00<?, ?it/s]"
     ]
    },
    {
     "name": "stdout",
     "output_type": "stream",
     "text": [
      "Embeddings for French , cc vectors loaded in 0:07:09.132825\n"
     ]
    },
    {
     "name": "stderr",
     "output_type": "stream",
     "text": [
      "100%|██████████| 794/794 [01:54<00:00,  6.96it/s]\n"
     ]
    },
    {
     "name": "stdout",
     "output_type": "stream",
     "text": [
      "Finished run for language: French in 0:09:03.195464\n",
      "Loading embeddings\n",
      "Loading file: ../data/pretrained_embeddings/cc.de.vec\n",
      "Loading fasttext\n"
     ]
    },
    {
     "name": "stderr",
     "output_type": "stream",
     "text": [
      "\r",
      "  0%|          | 0/285 [00:00<?, ?it/s]"
     ]
    },
    {
     "name": "stdout",
     "output_type": "stream",
     "text": [
      "Embeddings for German , cc vectors loaded in 0:07:01.714963\n"
     ]
    },
    {
     "name": "stderr",
     "output_type": "stream",
     "text": [
      "100%|██████████| 285/285 [00:47<00:00,  6.05it/s]\n"
     ]
    },
    {
     "name": "stdout",
     "output_type": "stream",
     "text": [
      "Finished run for language: German in 0:07:48.861614\n",
      "Loading embeddings\n",
      "Loading file: ../data/pretrained_embeddings/cc.el.vec\n",
      "Loading fasttext\n"
     ]
    },
    {
     "name": "stderr",
     "output_type": "stream",
     "text": [
      "\r",
      "  0%|          | 0/353 [00:00<?, ?it/s]"
     ]
    },
    {
     "name": "stdout",
     "output_type": "stream",
     "text": [
      "Embeddings for Greek , cc vectors loaded in 0:07:15.235736\n"
     ]
    },
    {
     "name": "stderr",
     "output_type": "stream",
     "text": [
      "100%|██████████| 353/353 [01:00<00:00,  5.85it/s]\n"
     ]
    },
    {
     "name": "stdout",
     "output_type": "stream",
     "text": [
      "Finished run for language: Greek in 0:08:15.551755\n",
      "Loading embeddings\n",
      "Loading file: ../data/pretrained_embeddings/cc.it.vec\n",
      "Loading fasttext\n"
     ]
    },
    {
     "name": "stderr",
     "output_type": "stream",
     "text": [
      "\r",
      "  0%|          | 0/335 [00:00<?, ?it/s]"
     ]
    },
    {
     "name": "stdout",
     "output_type": "stream",
     "text": [
      "Embeddings for Italian , cc vectors loaded in 0:07:07.340468\n"
     ]
    },
    {
     "name": "stderr",
     "output_type": "stream",
     "text": [
      "100%|██████████| 335/335 [00:55<00:00,  6.01it/s]\n"
     ]
    },
    {
     "name": "stdout",
     "output_type": "stream",
     "text": [
      "Finished run for language: Italian in 0:08:03.103744\n",
      "Loading embeddings\n",
      "Loading file: ../data/pretrained_embeddings/cc.ja.vec\n",
      "Loading fasttext\n"
     ]
    },
    {
     "name": "stderr",
     "output_type": "stream",
     "text": [
      "\r",
      "  0%|          | 0/192 [00:00<?, ?it/s]"
     ]
    },
    {
     "name": "stdout",
     "output_type": "stream",
     "text": [
      "Embeddings for Japanese , cc vectors loaded in 0:07:13.301315\n"
     ]
    },
    {
     "name": "stderr",
     "output_type": "stream",
     "text": [
      "100%|██████████| 192/192 [00:30<00:00,  6.23it/s]\n"
     ]
    },
    {
     "name": "stdout",
     "output_type": "stream",
     "text": [
      "Finished run for language: Japanese in 0:07:44.129173\n",
      "Loading embeddings\n",
      "Loading file: ../data/pretrained_embeddings/cc.ko.vec\n",
      "Loading fasttext\n"
     ]
    },
    {
     "name": "stderr",
     "output_type": "stream",
     "text": [
      "\r",
      "  0%|          | 0/185 [00:00<?, ?it/s]"
     ]
    },
    {
     "name": "stdout",
     "output_type": "stream",
     "text": [
      "Embeddings for Korean , cc vectors loaded in 0:07:09.108958\n"
     ]
    },
    {
     "name": "stderr",
     "output_type": "stream",
     "text": [
      "100%|██████████| 185/185 [00:31<00:00,  5.83it/s]\n"
     ]
    },
    {
     "name": "stdout",
     "output_type": "stream",
     "text": [
      "Finished run for language: Korean in 0:07:40.850976\n",
      "Loading embeddings\n",
      "Loading file: ../data/pretrained_embeddings/cc.pl.vec\n",
      "Loading fasttext\n"
     ]
    },
    {
     "name": "stderr",
     "output_type": "stream",
     "text": [
      "\r",
      "  0%|          | 0/295 [00:00<?, ?it/s]"
     ]
    },
    {
     "name": "stdout",
     "output_type": "stream",
     "text": [
      "Embeddings for Polish , cc vectors loaded in 0:07:05.725739\n"
     ]
    },
    {
     "name": "stderr",
     "output_type": "stream",
     "text": [
      "100%|██████████| 295/295 [00:51<00:00,  5.74it/s]\n"
     ]
    },
    {
     "name": "stdout",
     "output_type": "stream",
     "text": [
      "Finished run for language: Polish in 0:07:57.105373\n",
      "Loading embeddings\n",
      "Loading file: ../data/pretrained_embeddings/cc.pt.vec\n",
      "Loading fasttext\n"
     ]
    },
    {
     "name": "stderr",
     "output_type": "stream",
     "text": [
      "\r",
      "  0%|          | 0/284 [00:00<?, ?it/s]"
     ]
    },
    {
     "name": "stdout",
     "output_type": "stream",
     "text": [
      "Embeddings for Portuguese , cc vectors loaded in 0:07:00.727999\n"
     ]
    },
    {
     "name": "stderr",
     "output_type": "stream",
     "text": [
      "100%|██████████| 284/284 [00:49<00:00,  5.74it/s]\n"
     ]
    },
    {
     "name": "stdout",
     "output_type": "stream",
     "text": [
      "Finished run for language: Portuguese in 0:07:50.226254\n",
      "Loading embeddings\n",
      "Loading file: ../data/pretrained_embeddings/cc.ru.vec\n",
      "Loading fasttext\n"
     ]
    },
    {
     "name": "stderr",
     "output_type": "stream",
     "text": [
      "\r",
      "  0%|          | 0/340 [00:00<?, ?it/s]"
     ]
    },
    {
     "name": "stdout",
     "output_type": "stream",
     "text": [
      "Embeddings for Russian , cc vectors loaded in 0:07:15.373764\n"
     ]
    },
    {
     "name": "stderr",
     "output_type": "stream",
     "text": [
      "100%|██████████| 340/340 [00:54<00:00,  6.21it/s]\n"
     ]
    },
    {
     "name": "stdout",
     "output_type": "stream",
     "text": [
      "Finished run for language: Russian in 0:08:10.162014\n",
      "Loading embeddings\n",
      "Loading file: ../data/pretrained_embeddings/cc.es.vec\n",
      "Loading fasttext\n"
     ]
    },
    {
     "name": "stderr",
     "output_type": "stream",
     "text": [
      "\r",
      "  0%|          | 0/796 [00:00<?, ?it/s]"
     ]
    },
    {
     "name": "stdout",
     "output_type": "stream",
     "text": [
      "Embeddings for Spanish , cc vectors loaded in 0:07:08.690533\n"
     ]
    },
    {
     "name": "stderr",
     "output_type": "stream",
     "text": [
      "100%|██████████| 796/796 [02:08<00:00,  6.22it/s]\n"
     ]
    },
    {
     "name": "stdout",
     "output_type": "stream",
     "text": [
      "Finished run for language: Spanish in 0:09:16.767241\n",
      "Loading embeddings\n",
      "Loading file: ../data/pretrained_embeddings/cc.sv.vec\n",
      "Loading fasttext\n"
     ]
    },
    {
     "name": "stderr",
     "output_type": "stream",
     "text": [
      "\r",
      "  0%|          | 0/44 [00:00<?, ?it/s]"
     ]
    },
    {
     "name": "stdout",
     "output_type": "stream",
     "text": [
      "Embeddings for Swedish , cc vectors loaded in 0:07:05.156546\n"
     ]
    },
    {
     "name": "stderr",
     "output_type": "stream",
     "text": [
      "100%|██████████| 44/44 [00:11<00:00,  3.93it/s]\n"
     ]
    },
    {
     "name": "stdout",
     "output_type": "stream",
     "text": [
      "Finished run for language: Swedish in 0:07:16.367477\n",
      "Loading embeddings\n",
      "Loading file: ../data/pretrained_embeddings/cc.th.vec\n",
      "Loading fasttext\n"
     ]
    },
    {
     "name": "stderr",
     "output_type": "stream",
     "text": [
      "\r",
      "  0%|          | 0/122 [00:00<?, ?it/s]"
     ]
    },
    {
     "name": "stdout",
     "output_type": "stream",
     "text": [
      "Embeddings for Thai , cc vectors loaded in 0:07:09.325433\n"
     ]
    },
    {
     "name": "stderr",
     "output_type": "stream",
     "text": [
      "100%|██████████| 122/122 [00:21<00:00,  5.76it/s]\n"
     ]
    },
    {
     "name": "stdout",
     "output_type": "stream",
     "text": [
      "Finished run for language: Thai in 0:07:30.522057\n",
      "Loading embeddings\n",
      "Loading file: ../data/pretrained_embeddings/cc.tr.vec\n",
      "Loading fasttext\n"
     ]
    },
    {
     "name": "stderr",
     "output_type": "stream",
     "text": [
      "\r",
      "  0%|          | 0/272 [00:00<?, ?it/s]"
     ]
    },
    {
     "name": "stdout",
     "output_type": "stream",
     "text": [
      "Embeddings for Turkish , cc vectors loaded in 0:07:07.057581\n"
     ]
    },
    {
     "name": "stderr",
     "output_type": "stream",
     "text": [
      "100%|██████████| 272/272 [00:47<00:00,  5.70it/s]\n"
     ]
    },
    {
     "name": "stdout",
     "output_type": "stream",
     "text": [
      "Finished run for language: Turkish in 0:07:54.767356\n",
      "Loading embeddings\n",
      "Loading file: ../data/pretrained_embeddings/polyglot/embeddings2/en/embeddings_pkl.tar.bz2\n",
      "Loading polyglot\n"
     ]
    },
    {
     "name": "stderr",
     "output_type": "stream",
     "text": [
      "  0%|          | 2/4449 [00:00<03:52, 19.13it/s]"
     ]
    },
    {
     "name": "stdout",
     "output_type": "stream",
     "text": [
      "Embeddings for english, polyglot vectors loaded in 0:00:02.177144\n"
     ]
    },
    {
     "name": "stderr",
     "output_type": "stream",
     "text": [
      "100%|██████████| 4449/4449 [03:17<00:00, 22.56it/s]\n"
     ]
    },
    {
     "name": "stdout",
     "output_type": "stream",
     "text": [
      "Loading embeddings\n",
      "Loading file: ../data/pretrained_embeddings/polyglot/embeddings2/ca/embeddings_pkl.tar.bz2\n",
      "Loading polyglot\n"
     ]
    },
    {
     "name": "stderr",
     "output_type": "stream",
     "text": [
      "  1%|          | 2/311 [00:00<00:22, 13.76it/s]"
     ]
    },
    {
     "name": "stdout",
     "output_type": "stream",
     "text": [
      "Embeddings for Catalan , polyglot vectors loaded in 0:00:02.319872\n"
     ]
    },
    {
     "name": "stderr",
     "output_type": "stream",
     "text": [
      "100%|██████████| 311/311 [00:14<00:00, 21.03it/s]\n"
     ]
    },
    {
     "name": "stdout",
     "output_type": "stream",
     "text": [
      "Finished run for language: Catalan in 0:00:17.116839\n",
      "Loading embeddings\n",
      "Loading file: ../data/pretrained_embeddings/polyglot/embeddings2/zh/embeddings_pkl.tar.bz2\n",
      "Loading polyglot\n"
     ]
    },
    {
     "name": "stderr",
     "output_type": "stream",
     "text": [
      "  1%|          | 2/288 [00:00<00:15, 17.98it/s]"
     ]
    },
    {
     "name": "stdout",
     "output_type": "stream",
     "text": [
      "Embeddings for Chinese (Simplified) , polyglot vectors loaded in 0:00:02.149796\n"
     ]
    },
    {
     "name": "stderr",
     "output_type": "stream",
     "text": [
      "100%|██████████| 288/288 [00:12<00:00, 22.75it/s]\n"
     ]
    },
    {
     "name": "stdout",
     "output_type": "stream",
     "text": [
      "Finished run for language: Chinese (Simplified) in 0:00:14.812962\n",
      "Loading embeddings\n",
      "Loading file: ../data/pretrained_embeddings/polyglot/embeddings2/nl/embeddings_pkl.tar.bz2\n",
      "Loading polyglot\n"
     ]
    },
    {
     "name": "stderr",
     "output_type": "stream",
     "text": [
      " 60%|██████    | 3/5 [00:00<00:00, 23.24it/s]"
     ]
    },
    {
     "name": "stdout",
     "output_type": "stream",
     "text": [
      "Embeddings for Dutch , polyglot vectors loaded in 0:00:02.148005\n"
     ]
    },
    {
     "name": "stderr",
     "output_type": "stream",
     "text": [
      "100%|██████████| 5/5 [00:00<00:00, 23.09it/s]\n"
     ]
    },
    {
     "name": "stdout",
     "output_type": "stream",
     "text": [
      "Finished run for language: Dutch in 0:00:02.369277\n",
      "Loading embeddings\n",
      "Loading file: ../data/pretrained_embeddings/polyglot/embeddings2/fr/embeddings_pkl.tar.bz2\n",
      "Loading polyglot\n"
     ]
    },
    {
     "name": "stderr",
     "output_type": "stream",
     "text": [
      "  0%|          | 3/767 [00:00<00:33, 22.77it/s]"
     ]
    },
    {
     "name": "stdout",
     "output_type": "stream",
     "text": [
      "Embeddings for French , polyglot vectors loaded in 0:00:02.189251\n"
     ]
    },
    {
     "name": "stderr",
     "output_type": "stream",
     "text": [
      "100%|██████████| 767/767 [00:34<00:00, 22.33it/s]\n"
     ]
    },
    {
     "name": "stdout",
     "output_type": "stream",
     "text": [
      "Finished run for language: French in 0:00:36.542739\n",
      "Loading embeddings\n",
      "Loading file: ../data/pretrained_embeddings/polyglot/embeddings2/de/embeddings_pkl.tar.bz2\n",
      "Loading polyglot\n"
     ]
    },
    {
     "name": "stderr",
     "output_type": "stream",
     "text": [
      "  1%|          | 3/275 [00:00<00:11, 22.85it/s]"
     ]
    },
    {
     "name": "stdout",
     "output_type": "stream",
     "text": [
      "Embeddings for German , polyglot vectors loaded in 0:00:02.161819\n"
     ]
    },
    {
     "name": "stderr",
     "output_type": "stream",
     "text": [
      "100%|██████████| 275/275 [00:12<00:00, 22.39it/s]\n"
     ]
    },
    {
     "name": "stdout",
     "output_type": "stream",
     "text": [
      "Finished run for language: German in 0:00:14.448951\n",
      "Loading embeddings\n",
      "Loading file: ../data/pretrained_embeddings/polyglot/embeddings2/el/embeddings_pkl.tar.bz2\n",
      "Loading polyglot\n"
     ]
    },
    {
     "name": "stderr",
     "output_type": "stream",
     "text": [
      "  1%|          | 3/320 [00:00<00:14, 22.13it/s]"
     ]
    },
    {
     "name": "stdout",
     "output_type": "stream",
     "text": [
      "Embeddings for Greek , polyglot vectors loaded in 0:00:02.215674\n"
     ]
    },
    {
     "name": "stderr",
     "output_type": "stream",
     "text": [
      "100%|██████████| 320/320 [00:14<00:00, 22.42it/s]\n"
     ]
    },
    {
     "name": "stdout",
     "output_type": "stream",
     "text": [
      "Finished run for language: Greek in 0:00:16.495443\n",
      "Loading embeddings\n",
      "Loading file: ../data/pretrained_embeddings/polyglot/embeddings2/it/embeddings_pkl.tar.bz2\n",
      "Loading polyglot\n"
     ]
    },
    {
     "name": "stderr",
     "output_type": "stream",
     "text": [
      "  1%|          | 3/326 [00:00<00:14, 23.05it/s]"
     ]
    },
    {
     "name": "stdout",
     "output_type": "stream",
     "text": [
      "Embeddings for Italian , polyglot vectors loaded in 0:00:02.147150\n"
     ]
    },
    {
     "name": "stderr",
     "output_type": "stream",
     "text": [
      "100%|██████████| 326/326 [00:14<00:00, 22.31it/s]\n"
     ]
    },
    {
     "name": "stdout",
     "output_type": "stream",
     "text": [
      "Finished run for language: Italian in 0:00:16.761423\n",
      "Loading embeddings\n",
      "Loading file: ../data/pretrained_embeddings/polyglot/embeddings2/ko/embeddings_pkl.tar.bz2\n",
      "Loading polyglot\n"
     ]
    },
    {
     "name": "stderr",
     "output_type": "stream",
     "text": [
      "\r",
      "  0%|          | 0/166 [00:00<?, ?it/s]"
     ]
    },
    {
     "name": "stdout",
     "output_type": "stream",
     "text": [
      "Embeddings for Korean , polyglot vectors loaded in 0:00:02.648320\n"
     ]
    },
    {
     "name": "stderr",
     "output_type": "stream",
     "text": [
      "100%|██████████| 166/166 [00:16<00:00, 10.32it/s]\n"
     ]
    },
    {
     "name": "stdout",
     "output_type": "stream",
     "text": [
      "Finished run for language: Korean in 0:00:18.734360\n",
      "Loading embeddings\n",
      "Loading file: ../data/pretrained_embeddings/polyglot/embeddings2/pl/embeddings_pkl.tar.bz2\n",
      "Loading polyglot\n"
     ]
    },
    {
     "name": "stderr",
     "output_type": "stream",
     "text": [
      "  0%|          | 1/287 [00:00<00:56,  5.06it/s]"
     ]
    },
    {
     "name": "stdout",
     "output_type": "stream",
     "text": [
      "Embeddings for Polish , polyglot vectors loaded in 0:00:05.350116\n"
     ]
    },
    {
     "name": "stderr",
     "output_type": "stream",
     "text": [
      "100%|██████████| 287/287 [00:55<00:00,  5.16it/s]\n"
     ]
    },
    {
     "name": "stdout",
     "output_type": "stream",
     "text": [
      "Finished run for language: Polish in 0:01:00.995176\n",
      "Loading embeddings\n",
      "Loading file: ../data/pretrained_embeddings/polyglot/embeddings2/pt/embeddings_pkl.tar.bz2\n",
      "Loading polyglot\n"
     ]
    },
    {
     "name": "stderr",
     "output_type": "stream",
     "text": [
      "  1%|          | 3/276 [00:00<00:12, 22.24it/s]"
     ]
    },
    {
     "name": "stdout",
     "output_type": "stream",
     "text": [
      "Embeddings for Portuguese , polyglot vectors loaded in 0:00:02.213266\n"
     ]
    },
    {
     "name": "stderr",
     "output_type": "stream",
     "text": [
      "100%|██████████| 276/276 [00:12<00:00, 22.66it/s]\n"
     ]
    },
    {
     "name": "stdout",
     "output_type": "stream",
     "text": [
      "Finished run for language: Portuguese in 0:00:14.400013\n",
      "Loading embeddings\n",
      "Loading file: ../data/pretrained_embeddings/polyglot/embeddings2/ru/embeddings_pkl.tar.bz2\n",
      "Loading polyglot\n"
     ]
    },
    {
     "name": "stderr",
     "output_type": "stream",
     "text": [
      "  1%|          | 3/301 [00:00<00:13, 22.57it/s]"
     ]
    },
    {
     "name": "stdout",
     "output_type": "stream",
     "text": [
      "Embeddings for Russian , polyglot vectors loaded in 0:00:02.220222\n"
     ]
    },
    {
     "name": "stderr",
     "output_type": "stream",
     "text": [
      "100%|██████████| 301/301 [00:13<00:00, 22.21it/s]\n"
     ]
    },
    {
     "name": "stdout",
     "output_type": "stream",
     "text": [
      "Finished run for language: Russian in 0:00:15.776340\n",
      "Loading embeddings\n",
      "Loading file: ../data/pretrained_embeddings/polyglot/embeddings2/es/embeddings_pkl.tar.bz2\n",
      "Loading polyglot\n"
     ]
    },
    {
     "name": "stderr",
     "output_type": "stream",
     "text": [
      "  0%|          | 3/759 [00:00<00:35, 21.46it/s]"
     ]
    },
    {
     "name": "stdout",
     "output_type": "stream",
     "text": [
      "Embeddings for Spanish , polyglot vectors loaded in 0:00:02.189325\n"
     ]
    },
    {
     "name": "stderr",
     "output_type": "stream",
     "text": [
      "100%|██████████| 759/759 [00:33<00:00, 22.47it/s]\n"
     ]
    },
    {
     "name": "stdout",
     "output_type": "stream",
     "text": [
      "Finished run for language: Spanish in 0:00:35.971155\n",
      "Loading embeddings\n",
      "Loading file: ../data/pretrained_embeddings/polyglot/embeddings2/sv/embeddings_pkl.tar.bz2\n",
      "Loading polyglot\n"
     ]
    },
    {
     "name": "stderr",
     "output_type": "stream",
     "text": [
      "  8%|▊         | 3/40 [00:00<00:01, 23.11it/s]"
     ]
    },
    {
     "name": "stdout",
     "output_type": "stream",
     "text": [
      "Embeddings for Swedish , polyglot vectors loaded in 0:00:02.195466\n"
     ]
    },
    {
     "name": "stderr",
     "output_type": "stream",
     "text": [
      "100%|██████████| 40/40 [00:01<00:00, 22.70it/s]\n"
     ]
    },
    {
     "name": "stdout",
     "output_type": "stream",
     "text": [
      "Finished run for language: Swedish in 0:00:03.962193\n",
      "Loading embeddings\n",
      "Loading file: ../data/pretrained_embeddings/polyglot/embeddings2/th/embeddings_pkl.tar.bz2\n",
      "Loading polyglot\n"
     ]
    },
    {
     "name": "stderr",
     "output_type": "stream",
     "text": [
      "  5%|▍         | 5/102 [00:00<00:02, 41.67it/s]"
     ]
    },
    {
     "name": "stdout",
     "output_type": "stream",
     "text": [
      "Embeddings for Thai , polyglot vectors loaded in 0:00:01.230054\n"
     ]
    },
    {
     "name": "stderr",
     "output_type": "stream",
     "text": [
      "100%|██████████| 102/102 [00:02<00:00, 42.34it/s]\n"
     ]
    },
    {
     "name": "stdout",
     "output_type": "stream",
     "text": [
      "Finished run for language: Thai in 0:00:03.644029\n",
      "Loading embeddings\n",
      "Loading file: ../data/pretrained_embeddings/polyglot/embeddings2/tr/embeddings_pkl.tar.bz2\n",
      "Loading polyglot\n"
     ]
    },
    {
     "name": "stderr",
     "output_type": "stream",
     "text": [
      "  1%|          | 2/226 [00:00<00:13, 17.03it/s]"
     ]
    },
    {
     "name": "stdout",
     "output_type": "stream",
     "text": [
      "Embeddings for Turkish , polyglot vectors loaded in 0:00:02.302487\n"
     ]
    },
    {
     "name": "stderr",
     "output_type": "stream",
     "text": [
      "100%|██████████| 226/226 [00:09<00:00, 22.66it/s]\n"
     ]
    },
    {
     "name": "stdout",
     "output_type": "stream",
     "text": [
      "Finished run for language: Turkish in 0:00:12.282282\n"
     ]
    }
   ],
   "source": [
    "poly_result_set = {}\n",
    "poly_result_set_sim = {}\n",
    "fasttext_result_set = {}\n",
    "fasttext_result_set_sim = {}\n",
    "language_list = pd_dataset['language'].unique()\n",
    "language_list2 = pd2_dataset['language'].unique()\n",
    "\n",
    "get_english_data(pd_dataset, \"cc\", fasttext_result_set, fasttext_result_set_sim)\n",
    "with open('fasttext_result_set_eng.json', 'w') as fp:\n",
    "    json.dump(fasttext_result_set, fp)\n",
    "with open('fasttext_result_set_sim_eng.json', 'w') as fp:\n",
    "    json.dump(fasttext_result_set_sim, fp)\n",
    "get_l1_data(pd_dataset, language_list, \"cc\", fasttext_result_set, fasttext_result_set_sim)\n",
    "with open('fasttext_result_set.json', 'w') as fp:\n",
    "    json.dump(fasttext_result_set, fp)\n",
    "with open('fasttext_result_set_sim.json', 'w') as fp:\n",
    "    json.dump(fasttext_result_set_sim, fp)\n",
    "get_english_data(pd2_dataset, \"polyglot\", poly_result_set, poly_result_set_sim)\n",
    "with open('poly_result_set_eng.json', 'w') as fp:\n",
    "    json.dump(poly_result_set, fp)\n",
    "with open('poly_result_set_sim_eng.json', 'w') as fp:\n",
    "    json.dump(poly_result_set_sim, fp)\n",
    "get_l1_data(pd2_dataset, language_list2, \"polyglot\", poly_result_set, poly_result_set_sim)\n",
    "with open('poly_result_set.json', 'w') as fp:\n",
    "    json.dump(poly_result_set, fp)\n",
    "with open('poly_result_set_sim.json', 'w') as fp:\n",
    "    json.dump(poly_result_set_sim, fp)"
   ]
  },
  {
   "cell_type": "code",
   "execution_count": 25,
   "metadata": {
    "ExecuteTime": {
     "end_time": "2019-01-31T14:26:08.858044Z",
     "start_time": "2019-01-31T14:26:08.849728Z"
    }
   },
   "outputs": [
    {
     "name": "stdout",
     "output_type": "stream",
     "text": [
      "dict_keys(['i_nn', 'c_nn', 'l1_i_nn', 'l1_c_nn'])\n",
      "dict_keys(['i_nn', 'c_nn', 'l1_i_nn', 'l1_c_nn'])\n"
     ]
    }
   ],
   "source": [
    "# for key in fasttext_result_set:\n",
    "#     print(key + ':' + str(len(fasttext_result_set[key])))\n",
    "print(fasttext_result_set['case_3309'].keys())\n",
    "print(fasttext_result_set_sim['case_3309'].keys())"
   ]
  },
  {
   "cell_type": "code",
   "execution_count": 26,
   "metadata": {
    "ExecuteTime": {
     "end_time": "2019-01-31T07:12:22.531153Z",
     "start_time": "2019-01-31T07:12:22.491413Z"
    }
   },
   "outputs": [
    {
     "data": {
      "text/plain": [
       "{'case_0001': {},\n",
       " 'i_nn': ['gives',\n",
       "  'giving',\n",
       "  'gave',\n",
       "  'Give',\n",
       "  'provide',\n",
       "  'get',\n",
       "  'gve',\n",
       "  'want',\n",
       "  'take',\n",
       "  'ask',\n",
       "  'let',\n",
       "  'try',\n",
       "  'given',\n",
       "  'bring',\n",
       "  'chance',\n",
       "  'allow',\n",
       "  'help',\n",
       "  '.Give',\n",
       "  'make',\n",
       "  'need',\n",
       "  'offer',\n",
       "  'lend',\n",
       "  'send',\n",
       "  'you',\n",
       "  'tell',\n",
       "  'put',\n",
       "  'gving',\n",
       "  'givng',\n",
       "  '.give',\n",
       "  'it.Give',\n",
       "  'time.Give',\n",
       "  'opportunity',\n",
       "  'gice',\n",
       "  'me.Give',\n",
       "  'wanted',\n",
       "  'giveing',\n",
       "  'encourage',\n",
       "  'GIve',\n",
       "  'you.Give',\n",
       "  'them.Give',\n",
       "  'beg',\n",
       "  'invite',\n",
       "  'andgive',\n",
       "  'them',\n",
       "  'lets',\n",
       "  'leave',\n",
       "  'givs',\n",
       "  'giv',\n",
       "  'givin',\n",
       "  'implore',\n",
       "  'come',\n",
       "  'receive',\n",
       "  'convince',\n",
       "  'givem',\n",
       "  'wants',\n",
       "  'remind',\n",
       "  'Gave',\n",
       "  'bestow',\n",
       "  \"'ll\",\n",
       "  'Gives',\n",
       "  'add',\n",
       "  'oppurtunity',\n",
       "  'opporunity',\n",
       "  'seek',\n",
       "  'hope',\n",
       "  'entice',\n",
       "  'deprive',\n",
       "  'togive',\n",
       "  'advise',\n",
       "  'oppotunity',\n",
       "  'enable',\n",
       "  'deliver',\n",
       "  'guve',\n",
       "  'persuade',\n",
       "  'will',\n",
       "  'deserve',\n",
       "  'gladly',\n",
       "  'nudge',\n",
       "  'gimme',\n",
       "  'withhold',\n",
       "  'givee',\n",
       "  'impart',\n",
       "  'look',\n",
       "  'obtain',\n",
       "  'owe',\n",
       "  'able',\n",
       "  'try.If',\n",
       "  'giveit',\n",
       "  'can',\n",
       "  'call',\n",
       "  'alllow',\n",
       "  'expect',\n",
       "  'compel',\n",
       "  'have',\n",
       "  'decide',\n",
       "  'try.I',\n",
       "  'some',\n",
       "  'givea',\n",
       "  'credence',\n",
       "  'letting'],\n",
       " 'c_nn': ['had',\n",
       "  'been',\n",
       "  \"'ve\",\n",
       "  'already',\n",
       "  'ahve',\n",
       "  'haved',\n",
       "  'haven',\n",
       "  'can',\n",
       "  'never',\n",
       "  'hve',\n",
       "  'has',\n",
       "  'thave',\n",
       "  'ahave',\n",
       "  'need',\n",
       "  'hvae',\n",
       "  'haave',\n",
       "  'should',\n",
       "  'havee',\n",
       "  'having',\n",
       "  'could',\n",
       "  'gotten',\n",
       "  'thhave',\n",
       "  'must',\n",
       "  'havd',\n",
       "  'beeen',\n",
       "  'ohave',\n",
       "  'havent',\n",
       "  'might',\n",
       "  'want',\n",
       "  'hhave',\n",
       "  'may',\n",
       "  'would',\n",
       "  'always',\n",
       "  'whave',\n",
       "  'havve',\n",
       "  'haver',\n",
       "  'heve',\n",
       "  'are',\n",
       "  'havn',\n",
       "  'cannot',\n",
       "  'HAVE',\n",
       "  'havce',\n",
       "  'havae',\n",
       "  'also',\n",
       "  'haev',\n",
       "  'aleady',\n",
       "  'don',\n",
       "  'know',\n",
       "  'able',\n",
       "  'will',\n",
       "  'have.I',\n",
       "  'actually',\n",
       "  'they',\n",
       "  'seen',\n",
       "  'hadn',\n",
       "  'wish',\n",
       "  'ever',\n",
       "  'havbe',\n",
       "  'hasve',\n",
       "  'hav',\n",
       "  'just',\n",
       "  'seem',\n",
       "  'not',\n",
       "  'alreay',\n",
       "  'havs',\n",
       "  'Having',\n",
       "  'beent',\n",
       "  'havw',\n",
       "  'got',\n",
       "  'come',\n",
       "  'get',\n",
       "  'fhave',\n",
       "  'you',\n",
       "  'mhave',\n",
       "  'habe',\n",
       "  'beenn',\n",
       "  'aready',\n",
       "  'hae',\n",
       "  'havnt',\n",
       "  'cannnot',\n",
       "  'beend',\n",
       "  'do.Having',\n",
       "  'hsve',\n",
       "  'had.They',\n",
       "  'gotton',\n",
       "  'alreasy',\n",
       "  'bave',\n",
       "  'Have',\n",
       "  'even',\n",
       "  'havwe',\n",
       "  'havem',\n",
       "  'toave',\n",
       "  'havne',\n",
       "  'have.They',\n",
       "  'yhave',\n",
       "  'probably',\n",
       "  'havere',\n",
       "  'had.I',\n",
       "  'hadnt',\n",
       "  'think'],\n",
       " 'case_0222': {},\n",
       " 'case_0221': {},\n",
       " 'case_0220': {},\n",
       " 'case_0219': {},\n",
       " 'case_0218': {},\n",
       " 'case_0217': {},\n",
       " 'case_0216': {},\n",
       " 'case_0223': {},\n",
       " 'case_0215': {},\n",
       " 'case_0213': {},\n",
       " 'case_0212': {},\n",
       " 'case_0211': {},\n",
       " 'case_0210': {},\n",
       " 'case_0209': {},\n",
       " 'case_0208': {},\n",
       " 'case_0207': {},\n",
       " 'case_0214': {},\n",
       " 'case_0206': {},\n",
       " 'case_0224': {},\n",
       " 'case_0226': {},\n",
       " 'case_0243': {},\n",
       " 'case_0242': {},\n",
       " 'case_0241': {},\n",
       " 'case_0239': {},\n",
       " 'case_0238': {},\n",
       " 'case_0237': {},\n",
       " 'case_0236': {},\n",
       " 'case_0225': {},\n",
       " 'case_0235': {},\n",
       " 'case_0233': {},\n",
       " 'case_0232': {},\n",
       " 'case_0231': {},\n",
       " 'case_0230': {},\n",
       " 'case_0229': {},\n",
       " 'case_0228': {},\n",
       " 'case_0227': {},\n",
       " 'case_0234': {},\n",
       " 'case_0205': {},\n",
       " 'case_0204': {},\n",
       " 'case_0203': {},\n",
       " 'case_0181': {},\n",
       " 'case_0180': {},\n",
       " 'case_0179': {},\n",
       " 'case_0178': {},\n",
       " 'case_0177': {},\n",
       " 'case_0176': {},\n",
       " 'case_0175': {},\n",
       " 'case_0182': {},\n",
       " 'case_0174': {},\n",
       " 'case_0172': {},\n",
       " 'case_0171': {},\n",
       " 'case_0170': {},\n",
       " 'case_0169': {},\n",
       " 'case_0168': {},\n",
       " 'case_0167': {},\n",
       " 'case_0166': {},\n",
       " 'case_0173': {},\n",
       " 'case_0183': {},\n",
       " 'case_0184': {},\n",
       " 'case_0185': {},\n",
       " 'case_0202': {},\n",
       " 'case_0201': {},\n",
       " 'case_0200': {},\n",
       " 'case_0199': {},\n",
       " 'case_0198': {},\n",
       " 'case_0197': {},\n",
       " 'case_0196': {},\n",
       " 'case_0195': {},\n",
       " 'case_0194': {},\n",
       " 'case_0193': {},\n",
       " 'case_0192': {},\n",
       " 'case_0191': {},\n",
       " 'case_0190': {},\n",
       " 'case_0189': {},\n",
       " 'case_0188': {},\n",
       " 'case_0187': {},\n",
       " 'case_0186': {},\n",
       " 'case_0244': {},\n",
       " 'case_0245': {},\n",
       " 'case_0246': {},\n",
       " 'case_0247': {},\n",
       " 'case_0304': {},\n",
       " 'case_0303': {},\n",
       " 'case_0302': {},\n",
       " 'case_0301': {},\n",
       " 'case_0300': {},\n",
       " 'case_0299': {},\n",
       " 'case_0298': {},\n",
       " 'case_0305': {},\n",
       " 'case_0297': {},\n",
       " 'case_0295': {},\n",
       " 'case_0294': {},\n",
       " 'case_0293': {},\n",
       " 'case_0292': {},\n",
       " 'case_0291': {},\n",
       " 'case_0290': {},\n",
       " 'case_0289': {},\n",
       " 'case_0296': {},\n",
       " 'case_0306': {},\n",
       " 'case_0307': {},\n",
       " 'case_0308': {},\n",
       " 'case_0325': {},\n",
       " 'case_0324': {},\n",
       " 'case_0323': {},\n",
       " 'case_0322': {},\n",
       " 'case_0321': {},\n",
       " 'case_0320': {},\n",
       " 'case_0319': {},\n",
       " 'case_0318': {},\n",
       " 'case_0317': {},\n",
       " 'case_0316': {},\n",
       " 'case_0315': {},\n",
       " 'case_0314': {},\n",
       " 'case_0313': {},\n",
       " 'case_0312': {},\n",
       " 'case_0311': {},\n",
       " 'case_0310': {},\n",
       " 'case_0309': {},\n",
       " 'case_0288': {},\n",
       " 'case_0165': {},\n",
       " 'case_0287': {},\n",
       " 'case_0285': {},\n",
       " 'case_0263': {},\n",
       " 'case_0262': {},\n",
       " 'case_0261': {},\n",
       " 'case_0260': {},\n",
       " 'case_0259': {},\n",
       " 'case_0258': {},\n",
       " 'case_0257': {},\n",
       " 'case_0264': {},\n",
       " 'case_0256': {},\n",
       " 'case_0254': {},\n",
       " 'case_0253': {},\n",
       " 'case_0252': {},\n",
       " 'case_0251': {},\n",
       " 'case_0250': {},\n",
       " 'case_0249': {},\n",
       " 'case_0248': {},\n",
       " 'case_0255': {},\n",
       " 'case_0265': {},\n",
       " 'case_0266': {},\n",
       " 'case_0267': {},\n",
       " 'case_0284': {},\n",
       " 'case_0283': {},\n",
       " 'case_0282': {},\n",
       " 'case_0281': {},\n",
       " 'case_0280': {},\n",
       " 'case_0279': {},\n",
       " 'case_0278': {},\n",
       " 'case_0277': {},\n",
       " 'case_0276': {},\n",
       " 'case_0275': {},\n",
       " 'case_0274': {},\n",
       " 'case_0273': {},\n",
       " 'case_0272': {},\n",
       " 'case_0271': {},\n",
       " 'case_0270': {},\n",
       " 'case_0269': {},\n",
       " 'case_0268': {},\n",
       " 'case_0286': {},\n",
       " 'case_0164': {},\n",
       " 'case_0240': {},\n",
       " 'case_0162': {},\n",
       " 'case_0058': {},\n",
       " 'case_0057': {},\n",
       " 'case_0056': {},\n",
       " 'case_0055': {},\n",
       " 'case_0054': {},\n",
       " 'case_0053': {},\n",
       " 'case_0052': {},\n",
       " 'case_0059': {},\n",
       " 'case_0051': {},\n",
       " 'case_0049': {},\n",
       " 'case_0048': {},\n",
       " 'case_0047': {},\n",
       " 'case_0046': {},\n",
       " 'case_0045': {},\n",
       " 'case_0044': {},\n",
       " 'case_0043': {},\n",
       " 'case_0050': {},\n",
       " 'case_0060': {},\n",
       " 'case_0061': {},\n",
       " 'case_0062': {},\n",
       " 'case_0079': {},\n",
       " 'case_0078': {},\n",
       " 'case_0077': {},\n",
       " 'case_0076': {},\n",
       " 'case_0075': {},\n",
       " 'case_0074': {},\n",
       " 'case_0073': {},\n",
       " 'case_0072': {},\n",
       " 'case_0071': {},\n",
       " 'case_0070': {},\n",
       " 'case_0069': {},\n",
       " 'case_0068': {},\n",
       " 'case_0067': {},\n",
       " 'case_0066': {},\n",
       " 'case_0065': {},\n",
       " 'case_0064': {},\n",
       " 'case_0063': {},\n",
       " 'case_0042': {},\n",
       " 'case_0080': {},\n",
       " 'case_0041': {},\n",
       " 'case_0039': {},\n",
       " 'case_0017': {},\n",
       " 'case_0016': {},\n",
       " 'case_0015': {},\n",
       " 'case_0014': {},\n",
       " 'case_0013': {},\n",
       " 'case_0012': {},\n",
       " 'case_0011': {},\n",
       " 'case_0018': {},\n",
       " 'case_0010': {},\n",
       " 'case_0008': {},\n",
       " 'case_0007': {},\n",
       " 'case_0163': {},\n",
       " 'case_0005': {},\n",
       " 'case_0004': {},\n",
       " 'case_0003': {},\n",
       " 'case_0002': {},\n",
       " 'case_0009': {},\n",
       " 'case_0019': {},\n",
       " 'case_0020': {},\n",
       " 'case_0021': {},\n",
       " 'case_0038': {},\n",
       " 'case_0037': {},\n",
       " 'case_0036': {},\n",
       " 'case_0035': {},\n",
       " 'case_0034': {},\n",
       " 'case_0033': {},\n",
       " 'case_0032': {},\n",
       " 'case_0031': {},\n",
       " 'case_0030': {},\n",
       " 'case_0029': {},\n",
       " 'case_0028': {},\n",
       " 'case_0027': {},\n",
       " 'case_0026': {},\n",
       " 'case_0025': {},\n",
       " 'case_0024': {},\n",
       " 'case_0023': {},\n",
       " 'case_0022': {},\n",
       " 'case_0040': {},\n",
       " 'case_0081': {},\n",
       " 'case_0006': {},\n",
       " 'case_0083': {},\n",
       " 'case_0140': {},\n",
       " 'case_0139': {},\n",
       " 'case_0138': {},\n",
       " 'case_0137': {},\n",
       " 'case_0136': {},\n",
       " 'case_0135': {},\n",
       " 'case_0134': {},\n",
       " 'case_0141': {},\n",
       " 'case_0133': {},\n",
       " 'case_0131': {},\n",
       " 'case_0130': {},\n",
       " 'case_0129': {},\n",
       " 'case_0128': {},\n",
       " 'case_0127': {},\n",
       " 'case_0126': {},\n",
       " 'case_0125': {},\n",
       " 'case_0132': {},\n",
       " 'case_0142': {},\n",
       " 'case_0143': {},\n",
       " 'case_0144': {},\n",
       " 'case_0082': {},\n",
       " 'case_0161': {},\n",
       " 'case_0160': {},\n",
       " 'case_0158': {},\n",
       " 'case_0157': {},\n",
       " 'case_0156': {},\n",
       " 'case_0155': {},\n",
       " 'case_0154': {},\n",
       " 'case_0153': {},\n",
       " 'case_0152': {},\n",
       " 'case_0151': {},\n",
       " 'case_0150': {},\n",
       " 'case_0149': {},\n",
       " 'case_0148': {},\n",
       " 'case_0147': {},\n",
       " 'case_0146': {},\n",
       " 'case_0145': {},\n",
       " 'case_0124': {},\n",
       " 'case_0123': {},\n",
       " 'case_0159': {},\n",
       " 'case_0121': {},\n",
       " 'case_0100': {},\n",
       " 'case_0099': {},\n",
       " 'case_0098': {},\n",
       " 'case_0097': {},\n",
       " 'case_0096': {},\n",
       " 'case_0095': {},\n",
       " 'case_0094': {},\n",
       " 'case_0101': {},\n",
       " 'case_0093': {},\n",
       " 'case_0091': {},\n",
       " 'case_0090': {},\n",
       " 'case_0089': {},\n",
       " 'case_0088': {},\n",
       " 'case_0087': {},\n",
       " 'case_0085': {},\n",
       " 'case_0122': {},\n",
       " 'case_0092': {},\n",
       " 'case_0102': {},\n",
       " 'case_0086': {},\n",
       " 'case_0104': {},\n",
       " 'case_0120': {},\n",
       " 'case_0103': {},\n",
       " 'case_0119': {},\n",
       " 'case_0118': {},\n",
       " 'case_0117': {},\n",
       " 'case_0116': {},\n",
       " 'case_0115': {},\n",
       " 'case_0114': {},\n",
       " 'case_0084': {},\n",
       " 'case_0112': {},\n",
       " 'case_0111': {},\n",
       " 'case_0110': {},\n",
       " 'case_0109': {},\n",
       " 'case_0108': {},\n",
       " 'case_0113': {},\n",
       " 'case_0107': {},\n",
       " 'case_0105': {},\n",
       " 'case_0106': {},\n",
       " 'case_0537': {},\n",
       " 'case_0536': {},\n",
       " 'case_0535': {},\n",
       " 'case_0534': {},\n",
       " 'case_0533': {},\n",
       " 'case_0532': {},\n",
       " 'case_0528': {},\n",
       " 'case_0530': {},\n",
       " 'case_0529': {},\n",
       " 'case_0527': {},\n",
       " 'case_0526': {},\n",
       " 'case_0525': {},\n",
       " 'case_0524': {},\n",
       " 'case_0523': {},\n",
       " 'case_0522': {},\n",
       " 'case_0531': {},\n",
       " 'case_0538': {},\n",
       " 'case_0542': {},\n",
       " 'case_0540': {},\n",
       " 'case_0557': {},\n",
       " 'case_0556': {},\n",
       " 'case_0521': {},\n",
       " 'case_0555': {},\n",
       " 'case_0554': {},\n",
       " 'case_0553': {},\n",
       " 'case_0552': {},\n",
       " 'case_0539': {},\n",
       " 'case_0551': {},\n",
       " 'case_0549': {},\n",
       " 'case_0548': {},\n",
       " 'case_0546': {},\n",
       " 'case_0545': {},\n",
       " 'case_0544': {},\n",
       " 'case_0543': {},\n",
       " 'case_0541': {},\n",
       " 'case_0550': {},\n",
       " 'case_0547': {},\n",
       " 'case_0502': {},\n",
       " 'case_0519': {},\n",
       " 'case_0496': {},\n",
       " 'case_0495': {},\n",
       " 'case_0494': {},\n",
       " 'case_0493': {},\n",
       " 'case_0492': {},\n",
       " 'case_0491': {},\n",
       " 'case_0490': {},\n",
       " 'case_0489': {},\n",
       " 'case_0488': {},\n",
       " 'case_0487': {},\n",
       " 'case_0486': {},\n",
       " 'case_0485': {},\n",
       " 'case_0484': {},\n",
       " 'case_0558': {},\n",
       " 'case_0483': {},\n",
       " 'case_0497': {},\n",
       " 'case_0498': {},\n",
       " 'case_0499': {},\n",
       " 'case_0500': {},\n",
       " 'case_0517': {},\n",
       " 'case_0516': {},\n",
       " 'case_0515': {},\n",
       " 'case_0514': {},\n",
       " 'case_0513': {},\n",
       " 'case_0512': {},\n",
       " 'case_0511': {},\n",
       " 'case_0520': {},\n",
       " 'case_0510': {},\n",
       " 'case_0508': {},\n",
       " 'case_0507': {},\n",
       " 'case_0506': {},\n",
       " 'case_0505': {},\n",
       " 'case_0504': {},\n",
       " 'case_0503': {},\n",
       " 'case_0501': {},\n",
       " 'case_0509': {},\n",
       " 'case_0559': {},\n",
       " 'case_0599': {},\n",
       " 'case_0561': {},\n",
       " 'case_0616': {},\n",
       " 'case_0615': {},\n",
       " 'case_0614': {},\n",
       " 'case_0613': {},\n",
       " 'case_0612': {},\n",
       " 'case_0611': {},\n",
       " 'case_0610': {},\n",
       " 'case_0609': {},\n",
       " 'case_0608': {},\n",
       " 'case_0607': {},\n",
       " 'case_0606': {},\n",
       " 'case_0605': {},\n",
       " 'case_0604': {},\n",
       " 'case_0603': {},\n",
       " 'case_0602': {},\n",
       " 'case_0617': {},\n",
       " 'case_0618': {},\n",
       " 'case_0619': {},\n",
       " 'case_0620': {},\n",
       " 'case_0482': {},\n",
       " 'case_0635': {},\n",
       " 'case_0634': {},\n",
       " 'case_0633': {},\n",
       " 'case_0632': {},\n",
       " 'case_0631': {},\n",
       " 'case_0630': {},\n",
       " 'case_0601': {},\n",
       " 'case_0629': {},\n",
       " 'case_0627': {},\n",
       " 'case_0626': {},\n",
       " 'case_0625': {},\n",
       " 'case_0624': {},\n",
       " 'case_0623': {},\n",
       " 'case_0622': {},\n",
       " 'case_0621': {},\n",
       " 'case_0628': {},\n",
       " 'case_0560': {},\n",
       " 'case_0600': {},\n",
       " 'case_0597': {},\n",
       " 'case_0576': {},\n",
       " 'case_0575': {},\n",
       " 'case_0574': {},\n",
       " 'case_0573': {},\n",
       " 'case_0572': {},\n",
       " 'case_0571': {},\n",
       " 'case_0570': {},\n",
       " 'case_0569': {},\n",
       " 'case_0568': {},\n",
       " 'case_0567': {},\n",
       " 'case_0566': {},\n",
       " 'case_0565': {},\n",
       " 'case_0564': {},\n",
       " 'case_0563': {},\n",
       " 'case_0562': {},\n",
       " 'case_0577': {},\n",
       " 'case_0578': {},\n",
       " 'case_0579': {},\n",
       " 'case_0580': {},\n",
       " 'case_0596': {},\n",
       " 'case_0595': {},\n",
       " 'case_0594': {},\n",
       " 'case_0593': {},\n",
       " 'case_0592': {},\n",
       " 'case_0591': {},\n",
       " 'case_0590': {},\n",
       " 'case_0598': {},\n",
       " 'case_0589': {},\n",
       " 'case_0587': {},\n",
       " 'case_0586': {},\n",
       " 'case_0585': {},\n",
       " 'case_0584': {},\n",
       " 'case_0583': {},\n",
       " 'case_0582': {},\n",
       " 'case_0581': {},\n",
       " 'case_0588': {},\n",
       " 'case_0481': {},\n",
       " 'case_0518': {},\n",
       " 'case_0479': {},\n",
       " 'case_0380': {},\n",
       " 'case_0379': {},\n",
       " 'case_0378': {},\n",
       " 'case_0377': {},\n",
       " 'case_0376': {},\n",
       " 'case_0375': {},\n",
       " 'case_0374': {},\n",
       " 'case_0373': {},\n",
       " 'case_0372': {},\n",
       " 'case_0371': {},\n",
       " 'case_0370': {},\n",
       " 'case_0369': {},\n",
       " 'case_0368': {},\n",
       " 'case_0367': {},\n",
       " 'case_0366': {},\n",
       " 'case_0381': {},\n",
       " 'case_0382': {},\n",
       " 'case_0383': {},\n",
       " 'case_0384': {},\n",
       " 'case_0400': {},\n",
       " 'case_0399': {},\n",
       " 'case_0398': {},\n",
       " 'case_0397': {},\n",
       " 'case_0396': {},\n",
       " 'case_0395': {},\n",
       " 'case_0394': {},\n",
       " 'case_0365': {},\n",
       " 'case_0393': {},\n",
       " 'case_0391': {},\n",
       " 'case_0390': {},\n",
       " 'case_0389': {},\n",
       " 'case_0388': {},\n",
       " 'case_0387': {},\n",
       " 'case_0386': {},\n",
       " 'case_0385': {},\n",
       " 'case_0392': {},\n",
       " 'case_0364': {},\n",
       " 'case_0363': {},\n",
       " 'case_0362': {},\n",
       " 'case_0340': {},\n",
       " 'case_0339': {},\n",
       " 'case_0338': {},\n",
       " 'case_0337': {},\n",
       " 'case_0336': {},\n",
       " 'case_0335': {},\n",
       " 'case_0334': {},\n",
       " 'case_0341': {},\n",
       " 'case_0333': {},\n",
       " 'case_0331': {},\n",
       " 'case_0330': {},\n",
       " 'case_0329': {},\n",
       " 'case_0328': {},\n",
       " 'case_0327': {},\n",
       " 'case_0326': {},\n",
       " 'case_0480': {},\n",
       " 'case_0332': {},\n",
       " 'case_0401': {},\n",
       " 'case_0342': {},\n",
       " 'case_0344': {},\n",
       " 'case_0361': {},\n",
       " 'case_0360': {},\n",
       " 'case_0359': {},\n",
       " 'case_0358': {},\n",
       " 'case_0357': {},\n",
       " 'case_0356': {},\n",
       " 'case_0355': {},\n",
       " 'case_0343': {},\n",
       " 'case_0354': {},\n",
       " 'case_0351': {},\n",
       " 'case_0350': {},\n",
       " 'case_0349': {},\n",
       " 'case_0348': {},\n",
       " 'case_0347': {},\n",
       " 'case_0346': {},\n",
       " 'case_0345': {},\n",
       " 'case_0353': {},\n",
       " 'case_0402': {},\n",
       " 'case_0352': {},\n",
       " 'case_0404': {},\n",
       " 'case_0458': {},\n",
       " 'case_0457': {},\n",
       " 'case_0456': {},\n",
       " 'case_0455': {},\n",
       " 'case_0454': {},\n",
       " 'case_0453': {},\n",
       " 'case_0452': {},\n",
       " 'case_0451': {},\n",
       " 'case_0450': {},\n",
       " 'case_0449': {},\n",
       " 'case_0448': {},\n",
       " 'case_0447': {},\n",
       " 'case_0446': {},\n",
       " 'case_0445': {},\n",
       " 'case_0444': {},\n",
       " 'case_0459': {},\n",
       " 'case_0460': {},\n",
       " 'case_0461': {},\n",
       " 'case_0462': {},\n",
       " 'case_0478': {},\n",
       " 'case_0403': {},\n",
       " 'case_0477': {},\n",
       " 'case_0476': {},\n",
       " 'case_0475': {},\n",
       " 'case_0474': {},\n",
       " 'case_0473': {},\n",
       " 'case_0443': {},\n",
       " 'case_0472': {},\n",
       " 'case_0470': {},\n",
       " 'case_0469': {},\n",
       " 'case_0468': {},\n",
       " 'case_0467': {},\n",
       " 'case_0466': {},\n",
       " 'case_0464': {},\n",
       " 'case_0463': {},\n",
       " 'case_0471': {},\n",
       " 'case_0442': {},\n",
       " 'case_0465': {},\n",
       " 'case_0411': {},\n",
       " 'case_0421': {},\n",
       " 'case_0420': {},\n",
       " 'case_0419': {},\n",
       " 'case_0417': {},\n",
       " 'case_0416': {},\n",
       " 'case_0415': {},\n",
       " 'case_0414': {},\n",
       " 'case_0422': {},\n",
       " 'case_0413': {},\n",
       " 'case_0410': {},\n",
       " 'case_0409': {},\n",
       " 'case_0408': {},\n",
       " 'case_0407': {},\n",
       " 'case_0405': {},\n",
       " 'case_0441': {},\n",
       " 'case_0406': {},\n",
       " 'case_0412': {},\n",
       " 'case_0423': {},\n",
       " 'case_0418': {},\n",
       " 'case_0425': {},\n",
       " 'case_0440': {},\n",
       " 'case_0439': {},\n",
       " 'case_0438': {},\n",
       " 'case_0437': {},\n",
       " 'case_0424': {},\n",
       " 'case_0435': {},\n",
       " 'case_0434': {},\n",
       " 'case_0433': {},\n",
       " 'case_0432': {},\n",
       " 'case_0436': {},\n",
       " 'case_0431': {},\n",
       " 'case_0426': {},\n",
       " 'case_0430': {},\n",
       " 'case_0429': {},\n",
       " 'case_0427': {},\n",
       " 'case_0428': {},\n",
       " 'case_0639': {},\n",
       " 'case_0638': {},\n",
       " 'case_0640': {},\n",
       " 'case_0636': {},\n",
       " 'case_0637': {},\n",
       " 'case_1165': {},\n",
       " 'case_1166': {},\n",
       " 'case_1168': {},\n",
       " 'case_1173': {},\n",
       " 'case_1169': {},\n",
       " 'case_1170': {},\n",
       " 'case_1171': {},\n",
       " 'case_1172': {},\n",
       " 'case_1167': {},\n",
       " 'case_1174': {},\n",
       " 'case_1140': {},\n",
       " 'case_1176': {},\n",
       " 'case_1177': {},\n",
       " 'case_1178': {},\n",
       " 'case_1179': {},\n",
       " 'case_1180': {},\n",
       " 'case_1181': {},\n",
       " 'case_1182': {},\n",
       " 'case_1164': {},\n",
       " 'case_1183': {},\n",
       " 'case_1184': {},\n",
       " 'case_1175': {},\n",
       " 'case_1163': {},\n",
       " 'case_1144': {},\n",
       " 'case_1161': {},\n",
       " 'case_1141': {},\n",
       " 'case_1185': {},\n",
       " 'case_1142': {},\n",
       " 'case_1143': {},\n",
       " 'case_1145': {},\n",
       " 'case_1146': {},\n",
       " 'case_1147': {},\n",
       " 'case_1148': {},\n",
       " 'case_1149': {},\n",
       " 'case_1162': {},\n",
       " 'case_1150': {},\n",
       " 'case_1152': {},\n",
       " 'case_1153': {},\n",
       " 'case_1154': {},\n",
       " 'case_1155': {},\n",
       " 'case_1156': {},\n",
       " 'case_1157': {},\n",
       " 'case_1158': {},\n",
       " 'case_1159': {},\n",
       " 'case_1160': {},\n",
       " 'case_1151': {},\n",
       " 'case_1186': {},\n",
       " 'case_1226': {},\n",
       " 'case_1188': {},\n",
       " 'case_1214': {},\n",
       " 'case_1215': {},\n",
       " 'case_1216': {},\n",
       " 'case_1217': {},\n",
       " 'case_1218': {},\n",
       " 'case_1219': {},\n",
       " 'case_1220': {},\n",
       " 'case_1221': {},\n",
       " 'case_1222': {},\n",
       " 'case_1223': {},\n",
       " 'case_1224': {},\n",
       " 'case_1225': {},\n",
       " 'case_1227': {},\n",
       " 'case_1228': {},\n",
       " 'case_1229': {},\n",
       " 'case_1230': {},\n",
       " 'case_1231': {},\n",
       " 'case_1232': {},\n",
       " 'case_1233': {},\n",
       " 'case_1139': {},\n",
       " 'case_1234': {},\n",
       " 'case_1213': {},\n",
       " 'case_1187': {},\n",
       " 'case_1212': {},\n",
       " 'case_1210': {},\n",
       " 'case_1189': {},\n",
       " 'case_1190': {},\n",
       " 'case_1191': {},\n",
       " 'case_1192': {},\n",
       " 'case_1193': {},\n",
       " 'case_1194': {},\n",
       " 'case_1195': {},\n",
       " 'case_1196': {},\n",
       " 'case_1197': {},\n",
       " 'case_1198': {},\n",
       " 'case_1199': {},\n",
       " 'case_1200': {},\n",
       " 'case_1201': {},\n",
       " 'case_1202': {},\n",
       " 'case_1203': {},\n",
       " 'case_1204': {},\n",
       " 'case_1205': {},\n",
       " 'case_1206': {},\n",
       " 'case_1207': {},\n",
       " 'case_1208': {},\n",
       " 'case_1209': {},\n",
       " 'case_1211': {},\n",
       " 'case_1138': {},\n",
       " 'case_1059': {},\n",
       " 'case_1136': {},\n",
       " 'case_1065': {},\n",
       " 'case_1066': {},\n",
       " 'case_1067': {},\n",
       " 'case_1068': {},\n",
       " 'case_1069': {},\n",
       " 'case_1070': {},\n",
       " 'case_1071': {},\n",
       " 'case_1072': {},\n",
       " 'case_1073': {},\n",
       " 'case_1074': {},\n",
       " 'case_1075': {},\n",
       " 'case_1076': {},\n",
       " 'case_1077': {},\n",
       " 'case_1078': {},\n",
       " 'case_1079': {},\n",
       " 'case_1080': {},\n",
       " 'case_1081': {},\n",
       " 'case_1082': {},\n",
       " 'case_1083': {},\n",
       " 'case_1084': {},\n",
       " 'case_1085': {},\n",
       " 'case_1064': {},\n",
       " 'case_1086': {},\n",
       " 'case_1063': {},\n",
       " 'case_1061': {},\n",
       " 'case_1040': {},\n",
       " 'case_1041': {},\n",
       " 'case_1042': {},\n",
       " 'case_1043': {},\n",
       " 'case_1044': {},\n",
       " 'case_1045': {},\n",
       " 'case_1046': {},\n",
       " 'case_1047': {},\n",
       " 'case_1048': {},\n",
       " 'case_1049': {},\n",
       " 'case_1050': {},\n",
       " 'case_1051': {},\n",
       " 'case_1052': {},\n",
       " 'case_1053': {},\n",
       " 'case_1054': {},\n",
       " 'case_1055': {},\n",
       " 'case_1056': {},\n",
       " 'case_1057': {},\n",
       " 'case_1058': {},\n",
       " 'case_1235': {},\n",
       " 'case_1060': {},\n",
       " 'case_1062': {},\n",
       " 'case_1137': {},\n",
       " 'case_1087': {},\n",
       " 'case_1089': {},\n",
       " 'case_1115': {},\n",
       " 'case_1116': {},\n",
       " 'case_1117': {},\n",
       " 'case_1118': {},\n",
       " 'case_1119': {},\n",
       " 'case_1120': {},\n",
       " 'case_1121': {},\n",
       " 'case_1122': {},\n",
       " 'case_1123': {},\n",
       " 'case_1124': {},\n",
       " 'case_1125': {},\n",
       " 'case_1126': {},\n",
       " 'case_1127': {},\n",
       " 'case_1128': {},\n",
       " 'case_1129': {},\n",
       " 'case_1130': {},\n",
       " 'case_1131': {},\n",
       " 'case_1132': {},\n",
       " 'case_1133': {},\n",
       " 'case_1134': {},\n",
       " 'case_1135': {},\n",
       " 'case_1114': {},\n",
       " 'case_1088': {},\n",
       " 'case_1113': {},\n",
       " 'case_1111': {},\n",
       " 'case_1090': {},\n",
       " 'case_1091': {},\n",
       " 'case_1092': {},\n",
       " 'case_1093': {},\n",
       " 'case_1094': {},\n",
       " 'case_1095': {},\n",
       " 'case_1096': {},\n",
       " 'case_1097': {},\n",
       " 'case_1098': {},\n",
       " 'case_1099': {},\n",
       " 'case_1100': {},\n",
       " 'case_1101': {},\n",
       " 'case_1102': {},\n",
       " 'case_1103': {},\n",
       " 'case_1104': {},\n",
       " 'case_1105': {},\n",
       " 'case_1106': {},\n",
       " 'case_1107': {},\n",
       " 'case_1108': {},\n",
       " 'case_1109': {},\n",
       " 'case_1110': {},\n",
       " 'case_1112': {},\n",
       " 'case_1236': {},\n",
       " 'case_1317': {},\n",
       " 'case_1238': {},\n",
       " 'case_1366': {},\n",
       " 'case_1367': {},\n",
       " 'case_1368': {},\n",
       " 'case_1369': {},\n",
       " 'case_1370': {},\n",
       " 'case_1371': {},\n",
       " 'case_1372': {},\n",
       " 'case_1373': {},\n",
       " 'case_1374': {},\n",
       " 'case_1365': {},\n",
       " 'case_1375': {},\n",
       " 'case_1377': {},\n",
       " 'case_1378': {},\n",
       " 'case_1379': {},\n",
       " 'case_1380': {},\n",
       " 'case_1381': {},\n",
       " 'case_1382': {},\n",
       " 'case_1383': {},\n",
       " 'case_1384': {},\n",
       " 'case_1385': {},\n",
       " 'case_1376': {},\n",
       " 'case_1364': {},\n",
       " 'case_1363': {},\n",
       " 'case_1362': {},\n",
       " 'case_1341': {},\n",
       " 'case_1342': {},\n",
       " 'case_1343': {},\n",
       " 'case_1344': {},\n",
       " 'case_1345': {},\n",
       " 'case_1346': {},\n",
       " 'case_1347': {},\n",
       " 'case_1348': {},\n",
       " 'case_1349': {},\n",
       " 'case_1350': {},\n",
       " 'case_1351': {},\n",
       " 'case_1352': {},\n",
       " 'case_1353': {},\n",
       " 'case_1354': {},\n",
       " 'case_1355': {},\n",
       " 'case_1356': {},\n",
       " 'case_1357': {},\n",
       " 'case_1358': {},\n",
       " 'case_1359': {},\n",
       " 'case_1360': {},\n",
       " 'case_1361': {},\n",
       " 'case_1386': {},\n",
       " 'case_1387': {},\n",
       " 'case_1388': {},\n",
       " 'case_1389': {},\n",
       " 'case_1415': {},\n",
       " 'case_1416': {},\n",
       " 'case_1417': {},\n",
       " 'case_1418': {},\n",
       " 'case_1419': {},\n",
       " 'case_1420': {},\n",
       " 'case_1421': {},\n",
       " 'case_1422': {},\n",
       " 'case_1423': {},\n",
       " 'case_1424': {},\n",
       " 'case_1425': {},\n",
       " 'case_1426': {},\n",
       " 'case_1427': {},\n",
       " 'case_1428': {},\n",
       " 'case_1429': {},\n",
       " 'case_1430': {},\n",
       " 'case_1431': {},\n",
       " 'case_1432': {},\n",
       " 'case_1433': {},\n",
       " 'case_1434': {},\n",
       " 'case_1039': {},\n",
       " 'case_1414': {},\n",
       " 'case_1340': {},\n",
       " 'case_1413': {},\n",
       " 'case_1411': {},\n",
       " 'case_1390': {},\n",
       " 'case_1391': {},\n",
       " 'case_1392': {},\n",
       " 'case_1393': {},\n",
       " 'case_1394': {},\n",
       " 'case_1395': {},\n",
       " 'case_1396': {},\n",
       " 'case_1397': {},\n",
       " 'case_1398': {},\n",
       " 'case_1399': {},\n",
       " 'case_1400': {},\n",
       " 'case_1401': {},\n",
       " 'case_1402': {},\n",
       " 'case_1403': {},\n",
       " 'case_1404': {},\n",
       " 'case_1405': {},\n",
       " 'case_1406': {},\n",
       " 'case_1407': {},\n",
       " 'case_1408': {},\n",
       " 'case_1409': {},\n",
       " 'case_1410': {},\n",
       " 'case_1412': {},\n",
       " 'case_1339': {},\n",
       " 'case_1338': {},\n",
       " 'case_1337': {},\n",
       " 'case_1265': {},\n",
       " 'case_1266': {},\n",
       " 'case_1267': {},\n",
       " 'case_1268': {},\n",
       " 'case_1269': {},\n",
       " 'case_1270': {},\n",
       " 'case_1271': {},\n",
       " 'case_1272': {},\n",
       " 'case_1273': {},\n",
       " 'case_1274': {},\n",
       " 'case_1275': {},\n",
       " 'case_1276': {},\n",
       " 'case_1277': {},\n",
       " 'case_1278': {},\n",
       " 'case_1279': {},\n",
       " 'case_1280': {},\n",
       " 'case_1281': {},\n",
       " 'case_1282': {},\n",
       " 'case_1283': {},\n",
       " 'case_1284': {},\n",
       " 'case_1285': {},\n",
       " 'case_1264': {},\n",
       " 'case_1286': {},\n",
       " 'case_1263': {},\n",
       " 'case_1261': {},\n",
       " 'case_1239': {},\n",
       " 'case_1240': {},\n",
       " 'case_1241': {},\n",
       " 'case_1242': {},\n",
       " 'case_1243': {},\n",
       " 'case_1244': {},\n",
       " 'case_1245': {},\n",
       " 'case_1246': {},\n",
       " 'case_1247': {},\n",
       " 'case_1248': {},\n",
       " 'case_1249': {},\n",
       " 'case_1250': {},\n",
       " 'case_1251': {},\n",
       " 'case_1253': {},\n",
       " 'case_1254': {},\n",
       " 'case_1255': {},\n",
       " 'case_1256': {},\n",
       " 'case_1257': {},\n",
       " 'case_1258': {},\n",
       " 'case_1259': {},\n",
       " 'case_1260': {},\n",
       " 'case_1262': {},\n",
       " 'case_1237': {},\n",
       " 'case_1287': {},\n",
       " 'case_1289': {},\n",
       " 'case_1315': {},\n",
       " 'case_1316': {},\n",
       " 'case_1318': {},\n",
       " 'case_1319': {},\n",
       " 'case_1320': {},\n",
       " 'case_1321': {},\n",
       " 'case_1322': {},\n",
       " 'case_1323': {},\n",
       " 'case_1324': {},\n",
       " 'case_1325': {},\n",
       " ...}"
      ]
     },
     "execution_count": 26,
     "metadata": {},
     "output_type": "execute_result"
    }
   ],
   "source": [
    "# fasttext_result_set"
   ]
  }
 ],
 "metadata": {
  "kernelspec": {
   "display_name": "Python 3",
   "language": "python",
   "name": "python3"
  },
  "language_info": {
   "codemirror_mode": {
    "name": "ipython",
    "version": 3
   },
   "file_extension": ".py",
   "mimetype": "text/x-python",
   "name": "python",
   "nbconvert_exporter": "python",
   "pygments_lexer": "ipython3",
   "version": "3.6.3"
  },
  "varInspector": {
   "cols": {
    "lenName": 16,
    "lenType": 16,
    "lenVar": 40
   },
   "kernels_config": {
    "python": {
     "delete_cmd_postfix": "",
     "delete_cmd_prefix": "del ",
     "library": "var_list.py",
     "varRefreshCmd": "print(var_dic_list())"
    },
    "r": {
     "delete_cmd_postfix": ") ",
     "delete_cmd_prefix": "rm(",
     "library": "var_list.r",
     "varRefreshCmd": "cat(var_dic_list()) "
    }
   },
   "oldHeight": 412,
   "position": {
    "height": "40px",
    "left": "1343px",
    "right": "20px",
    "top": "107px",
    "width": "339px"
   },
   "types_to_exclude": [
    "module",
    "function",
    "builtin_function_or_method",
    "instance",
    "_Feature"
   ],
   "varInspector_section_display": "none",
   "window_display": true
  }
 },
 "nbformat": 4,
 "nbformat_minor": 2
}
