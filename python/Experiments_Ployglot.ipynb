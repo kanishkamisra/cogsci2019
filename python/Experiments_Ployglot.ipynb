{
 "cells": [
  {
   "cell_type": "code",
   "execution_count": 1,
   "metadata": {
    "ExecuteTime": {
     "end_time": "2019-01-30T23:46:51.678407Z",
     "start_time": "2019-01-30T23:46:51.092745Z"
    }
   },
   "outputs": [],
   "source": [
    "from gensim.models import KeyedVectors\n",
    "from sklearn.metrics.pairwise import cosine_similarity\n",
    "import numpy as np\n",
    "import pandas as pd\n",
    "from datetime import datetime\n",
    "from tqdm import tqdm\n",
    "from polyglot.mapping import Embedding"
   ]
  },
  {
   "cell_type": "code",
   "execution_count": 2,
   "metadata": {
    "ExecuteTime": {
     "end_time": "2019-01-30T23:46:53.177949Z",
     "start_time": "2019-01-30T23:46:53.170941Z"
    }
   },
   "outputs": [],
   "source": [
    "neighbour_list = [5, 10, 25, 50, 75, 100]\n",
    "embedding_list = ['polyglot']\n",
    "embedding_path = '../data/pretrained_embeddings/polyglot/embeddings2/'"
   ]
  },
  {
   "cell_type": "code",
   "execution_count": 3,
   "metadata": {
    "ExecuteTime": {
     "end_time": "2019-01-30T23:46:54.540921Z",
     "start_time": "2019-01-30T23:46:54.476216Z"
    }
   },
   "outputs": [],
   "source": [
    "def get_embedding_file_name(language):\n",
    "    file_name = ''\n",
    "    if (language == \"Russian\"):\n",
    "        file_name += 'ru'\n",
    "    elif (language == \"Turkish\"):\n",
    "        file_name += 'tr'\n",
    "    elif (language == \"German\"):\n",
    "        file_name += 'de'\n",
    "    elif (language == \"Japanese\"):\n",
    "        file_name += 'ja'\n",
    "    elif (language == \"Spanish\"):\n",
    "        file_name += 'es'\n",
    "    elif (language == \"Polish\"):\n",
    "        file_name += 'pl'\n",
    "    elif (language == \"Italian\"):\n",
    "        file_name += 'it'\n",
    "    elif (language == \"Catalan\"):\n",
    "        file_name += 'ca'\n",
    "    elif (language == \"Korean\"):\n",
    "        file_name += 'ko'\n",
    "    elif (language == \"French\"):\n",
    "        file_name += 'fr'\n",
    "    elif (language == \"Chinese\" or language == \"Chinese (Simplified)\"):\n",
    "        file_name += 'zh'\n",
    "    elif (language == \"Portuguese\"):\n",
    "        file_name += 'pt'\n",
    "    elif (language == \"Swedish\"):\n",
    "        file_name += 'sv'\n",
    "    elif (language == \"Greek\"):\n",
    "        file_name += 'el'\n",
    "    elif (language == \"Thai\"):\n",
    "        file_name += 'th'\n",
    "    elif (language == \"Dutch\"):\n",
    "        file_name += 'nl'\n",
    "    elif (language == \"English\"):\n",
    "        file_name += 'en'\n",
    "        \n",
    "    return file_name\n",
    "\n",
    "def load_embedding_vector(lang):\n",
    "    embeddings = Embedding.load(embedding_path + lang + '/embeddings_pkl.tar.bz2')\n",
    "    embeddings = embeddings.normalize_words()\n",
    "    return embeddings"
   ]
  },
  {
   "cell_type": "code",
   "execution_count": 4,
   "metadata": {
    "ExecuteTime": {
     "end_time": "2019-01-30T23:46:55.638000Z",
     "start_time": "2019-01-30T23:46:55.592842Z"
    }
   },
   "outputs": [],
   "source": [
    "def proper_case(word):\n",
    "    return word[0].upper() + word[1:]\n",
    "\n",
    "def get_similarity(w1, w2, embeddings, size):\n",
    "    \n",
    "    try:\n",
    "        w1_vec = embeddings[w1]\n",
    "        w2_vec = embeddings[w2]\n",
    "    except KeyError:\n",
    "        try:\n",
    "            w1 = proper_case(w1)\n",
    "            w2 = proper_case(w2)\n",
    "            w1_vec = embeddings[w1]\n",
    "            w2_vec = embeddings[w2]\n",
    "        except KeyError:\n",
    "            return -10\n",
    "    \n",
    "    w1_neighbours = embeddings.nearest_neighbors(w1, top_k = size)\n",
    "    w2_neighbours = embeddings.nearest_neighbors(w2, top_k = size)\n",
    "    \n",
    "    w1_neighbour_vectors = [embeddings[word] for word in w1_neighbours]\n",
    "    w2_neighbour_vectors = [embeddings[word] for word in w2_neighbours]\n",
    "    \n",
    "    w1_cosine = np.average([cosine_similarity([w1_vec], [w2_n_vec]) for w2_n_vec in w2_neighbour_vectors])\n",
    "    w2_cosine = np.average([cosine_similarity([w2_vec], [w1_n_vec]) for w1_n_vec in w1_neighbour_vectors])\n",
    "    \n",
    "    return np.average([w1_cosine, w2_cosine])"
   ]
  },
  {
   "cell_type": "code",
   "execution_count": 5,
   "metadata": {
    "ExecuteTime": {
     "end_time": "2019-01-30T23:46:56.422119Z",
     "start_time": "2019-01-30T23:46:56.340987Z"
    }
   },
   "outputs": [
    {
     "data": {
      "text/html": [
       "<div>\n",
       "<style scoped>\n",
       "    .dataframe tbody tr th:only-of-type {\n",
       "        vertical-align: middle;\n",
       "    }\n",
       "\n",
       "    .dataframe tbody tr th {\n",
       "        vertical-align: top;\n",
       "    }\n",
       "\n",
       "    .dataframe thead th {\n",
       "        text-align: right;\n",
       "    }\n",
       "</style>\n",
       "<table border=\"1\" class=\"dataframe\">\n",
       "  <thead>\n",
       "    <tr style=\"text-align: right;\">\n",
       "      <th></th>\n",
       "      <th>c</th>\n",
       "      <th>i</th>\n",
       "      <th>id</th>\n",
       "      <th>l1_c</th>\n",
       "      <th>l1_i</th>\n",
       "      <th>language</th>\n",
       "      <th>type</th>\n",
       "      <th>code</th>\n",
       "      <th>l2_sim_cc_5</th>\n",
       "      <th>l2_sim_cc_10</th>\n",
       "      <th>...</th>\n",
       "      <th>l1_sim_cc_25</th>\n",
       "      <th>l1_sim_cc_50</th>\n",
       "      <th>l1_sim_cc_75</th>\n",
       "      <th>l1_sim_cc_100</th>\n",
       "      <th>l2_sim_wiki_5</th>\n",
       "      <th>l2_sim_wiki_10</th>\n",
       "      <th>l2_sim_wiki_25</th>\n",
       "      <th>l2_sim_wiki_50</th>\n",
       "      <th>l2_sim_wiki_75</th>\n",
       "      <th>l2_sim_wiki_100</th>\n",
       "    </tr>\n",
       "  </thead>\n",
       "  <tbody>\n",
       "    <tr>\n",
       "      <th>0</th>\n",
       "      <td>plans</td>\n",
       "      <td>projects</td>\n",
       "      <td>person_2799</td>\n",
       "      <td>plans</td>\n",
       "      <td>projectes</td>\n",
       "      <td>Catalan</td>\n",
       "      <td>RN</td>\n",
       "      <td>ca</td>\n",
       "      <td>0.315914</td>\n",
       "      <td>0.289572</td>\n",
       "      <td>...</td>\n",
       "      <td>0.513301</td>\n",
       "      <td>0.508249</td>\n",
       "      <td>0.497365</td>\n",
       "      <td>0.494275</td>\n",
       "      <td>0.256624</td>\n",
       "      <td>0.263855</td>\n",
       "      <td>0.216694</td>\n",
       "      <td>0.194096</td>\n",
       "      <td>0.187172</td>\n",
       "      <td>0.185074</td>\n",
       "    </tr>\n",
       "    <tr>\n",
       "      <th>221</th>\n",
       "      <td>especially</td>\n",
       "      <td>specially</td>\n",
       "      <td>person_2421</td>\n",
       "      <td>especialment</td>\n",
       "      <td>especialment</td>\n",
       "      <td>Catalan</td>\n",
       "      <td>RY</td>\n",
       "      <td>ca</td>\n",
       "      <td>0.342199</td>\n",
       "      <td>0.336672</td>\n",
       "      <td>...</td>\n",
       "      <td>0.676789</td>\n",
       "      <td>0.635269</td>\n",
       "      <td>0.615089</td>\n",
       "      <td>0.602047</td>\n",
       "      <td>0.153657</td>\n",
       "      <td>0.153794</td>\n",
       "      <td>0.138989</td>\n",
       "      <td>0.123324</td>\n",
       "      <td>0.112214</td>\n",
       "      <td>0.106564</td>\n",
       "    </tr>\n",
       "    <tr>\n",
       "      <th>220</th>\n",
       "      <td>waste</td>\n",
       "      <td>lose</td>\n",
       "      <td>person_2421</td>\n",
       "      <td>malgastar</td>\n",
       "      <td>perdre</td>\n",
       "      <td>Catalan</td>\n",
       "      <td>RV</td>\n",
       "      <td>ca</td>\n",
       "      <td>0.197119</td>\n",
       "      <td>0.175892</td>\n",
       "      <td>...</td>\n",
       "      <td>0.425895</td>\n",
       "      <td>0.418449</td>\n",
       "      <td>0.414079</td>\n",
       "      <td>0.411164</td>\n",
       "      <td>0.092023</td>\n",
       "      <td>0.086759</td>\n",
       "      <td>0.080194</td>\n",
       "      <td>0.080709</td>\n",
       "      <td>0.076916</td>\n",
       "      <td>0.081092</td>\n",
       "    </tr>\n",
       "    <tr>\n",
       "      <th>219</th>\n",
       "      <td>ending</td>\n",
       "      <td>end</td>\n",
       "      <td>person_1465</td>\n",
       "      <td>final</td>\n",
       "      <td>final</td>\n",
       "      <td>Catalan</td>\n",
       "      <td>RN</td>\n",
       "      <td>ca</td>\n",
       "      <td>0.591592</td>\n",
       "      <td>0.500977</td>\n",
       "      <td>...</td>\n",
       "      <td>0.708057</td>\n",
       "      <td>0.666229</td>\n",
       "      <td>0.637293</td>\n",
       "      <td>0.616535</td>\n",
       "      <td>0.650926</td>\n",
       "      <td>0.507235</td>\n",
       "      <td>0.374291</td>\n",
       "      <td>0.322232</td>\n",
       "      <td>0.303969</td>\n",
       "      <td>0.291704</td>\n",
       "    </tr>\n",
       "    <tr>\n",
       "      <th>218</th>\n",
       "      <td>shot</td>\n",
       "      <td>view</td>\n",
       "      <td>person_1465</td>\n",
       "      <td>disparat</td>\n",
       "      <td>mostra</td>\n",
       "      <td>Catalan</td>\n",
       "      <td>RN</td>\n",
       "      <td>ca</td>\n",
       "      <td>0.210400</td>\n",
       "      <td>0.187495</td>\n",
       "      <td>...</td>\n",
       "      <td>0.237338</td>\n",
       "      <td>0.222958</td>\n",
       "      <td>0.225796</td>\n",
       "      <td>0.222587</td>\n",
       "      <td>0.104407</td>\n",
       "      <td>0.092781</td>\n",
       "      <td>0.089016</td>\n",
       "      <td>0.079768</td>\n",
       "      <td>0.077828</td>\n",
       "      <td>0.076215</td>\n",
       "    </tr>\n",
       "  </tbody>\n",
       "</table>\n",
       "<p>5 rows × 26 columns</p>\n",
       "</div>"
      ],
      "text/plain": [
       "              c          i           id          l1_c          l1_i language  \\\n",
       "0         plans   projects  person_2799         plans     projectes  Catalan   \n",
       "221  especially  specially  person_2421  especialment  especialment  Catalan   \n",
       "220       waste       lose  person_2421     malgastar        perdre  Catalan   \n",
       "219      ending        end  person_1465         final         final  Catalan   \n",
       "218        shot       view  person_1465      disparat        mostra  Catalan   \n",
       "\n",
       "    type code  l2_sim_cc_5  l2_sim_cc_10       ...         l1_sim_cc_25  \\\n",
       "0     RN   ca     0.315914      0.289572       ...             0.513301   \n",
       "221   RY   ca     0.342199      0.336672       ...             0.676789   \n",
       "220   RV   ca     0.197119      0.175892       ...             0.425895   \n",
       "219   RN   ca     0.591592      0.500977       ...             0.708057   \n",
       "218   RN   ca     0.210400      0.187495       ...             0.237338   \n",
       "\n",
       "     l1_sim_cc_50  l1_sim_cc_75  l1_sim_cc_100  l2_sim_wiki_5  l2_sim_wiki_10  \\\n",
       "0        0.508249      0.497365       0.494275       0.256624        0.263855   \n",
       "221      0.635269      0.615089       0.602047       0.153657        0.153794   \n",
       "220      0.418449      0.414079       0.411164       0.092023        0.086759   \n",
       "219      0.666229      0.637293       0.616535       0.650926        0.507235   \n",
       "218      0.222958      0.225796       0.222587       0.104407        0.092781   \n",
       "\n",
       "     l2_sim_wiki_25  l2_sim_wiki_50  l2_sim_wiki_75  l2_sim_wiki_100  \n",
       "0          0.216694        0.194096        0.187172         0.185074  \n",
       "221        0.138989        0.123324        0.112214         0.106564  \n",
       "220        0.080194        0.080709        0.076916         0.081092  \n",
       "219        0.374291        0.322232        0.303969         0.291704  \n",
       "218        0.089016        0.079768        0.077828         0.076215  \n",
       "\n",
       "[5 rows x 26 columns]"
      ]
     },
     "execution_count": 5,
     "metadata": {},
     "output_type": "execute_result"
    }
   ],
   "source": [
    "source = '../data/ms_final_experiments_with_wiki.csv'\n",
    "pd_dataset = pd.read_csv(source)\n",
    "pd_dataset = pd_dataset.sort_values(by = 'language', ascending = True)\n",
    "pd_dataset.head()"
   ]
  },
  {
   "cell_type": "code",
   "execution_count": 6,
   "metadata": {
    "ExecuteTime": {
     "end_time": "2019-01-30T23:46:58.202200Z",
     "start_time": "2019-01-30T23:46:58.168719Z"
    }
   },
   "outputs": [],
   "source": [
    "def run_experiment_english(dataframe):\n",
    "    for vector_type in embedding_list:\n",
    "        vec_type_start = datetime.now()\n",
    "        embedding_file_name = get_embedding_file_name(\"English\")\n",
    "        print('Loading embeddings: ' + embedding_file_name)\n",
    "        embeddings = load_embedding_vector(embedding_file_name)\n",
    "        print('Embeddings ' + embedding_file_name + ' loaded in ' + str(datetime.now() - vec_type_start))\n",
    "        for neighbour_size in neighbour_list:\n",
    "            neighbour_size_start = datetime.now()\n",
    "            l2_sim = []\n",
    "            for ind, row in tqdm(dataframe.iterrows(), total=dataframe.shape[0]):\n",
    "                w1 = row['c']\n",
    "                w2 = row['i']\n",
    "                l2_sim.append(get_similarity(w1, w2, embeddings, neighbour_size))\n",
    "            dataframe['l2_sim_' + vector_type + '_' + str(neighbour_size)] = l2_sim\n",
    "            print('Finished run for neighbour size: ' + str(neighbour_size) + ' in ' + str(datetime.now() - neighbour_size_start))\n",
    "        print('Finished run for vector type: ' + vector_type + ' in ' + str(datetime.now() - vec_type_start))"
   ]
  },
  {
   "cell_type": "code",
   "execution_count": 7,
   "metadata": {
    "ExecuteTime": {
     "end_time": "2019-01-31T00:14:01.224776Z",
     "start_time": "2019-01-30T23:46:59.922584Z"
    }
   },
   "outputs": [
    {
     "name": "stdout",
     "output_type": "stream",
     "text": [
      "Loading embeddings: en\n"
     ]
    },
    {
     "name": "stderr",
     "output_type": "stream",
     "text": [
      "  0%|          | 2/4937 [00:00<04:12, 19.54it/s]"
     ]
    },
    {
     "name": "stdout",
     "output_type": "stream",
     "text": [
      "Embeddings en loaded in 0:00:02.239987\n"
     ]
    },
    {
     "name": "stderr",
     "output_type": "stream",
     "text": [
      "100%|██████████| 4937/4937 [03:35<00:00, 22.88it/s]\n",
      "  0%|          | 3/4937 [00:00<03:46, 21.77it/s]"
     ]
    },
    {
     "name": "stdout",
     "output_type": "stream",
     "text": [
      "Finished run for neighbour size: 5 in 0:03:35.774328\n"
     ]
    },
    {
     "name": "stderr",
     "output_type": "stream",
     "text": [
      "100%|██████████| 4937/4937 [03:42<00:00, 22.15it/s]\n",
      "  0%|          | 2/4937 [00:00<04:14, 19.40it/s]"
     ]
    },
    {
     "name": "stdout",
     "output_type": "stream",
     "text": [
      "Finished run for neighbour size: 10 in 0:03:42.852787\n"
     ]
    },
    {
     "name": "stderr",
     "output_type": "stream",
     "text": [
      "100%|██████████| 4937/4937 [04:02<00:00, 20.32it/s]\n",
      "  0%|          | 2/4937 [00:00<04:51, 16.93it/s]"
     ]
    },
    {
     "name": "stdout",
     "output_type": "stream",
     "text": [
      "Finished run for neighbour size: 25 in 0:04:02.928900\n"
     ]
    },
    {
     "name": "stderr",
     "output_type": "stream",
     "text": [
      "100%|██████████| 4937/4937 [04:38<00:00, 17.76it/s]\n",
      "  0%|          | 2/4937 [00:00<05:21, 15.33it/s]"
     ]
    },
    {
     "name": "stdout",
     "output_type": "stream",
     "text": [
      "Finished run for neighbour size: 50 in 0:04:38.020663\n"
     ]
    },
    {
     "name": "stderr",
     "output_type": "stream",
     "text": [
      "100%|██████████| 4937/4937 [05:11<00:00, 15.85it/s]\n",
      "  0%|          | 2/4937 [00:00<05:49, 14.12it/s]"
     ]
    },
    {
     "name": "stdout",
     "output_type": "stream",
     "text": [
      "Finished run for neighbour size: 75 in 0:05:11.450604\n"
     ]
    },
    {
     "name": "stderr",
     "output_type": "stream",
     "text": [
      "100%|██████████| 4937/4937 [05:48<00:00, 14.19it/s]"
     ]
    },
    {
     "name": "stdout",
     "output_type": "stream",
     "text": [
      "Finished run for neighbour size: 100 in 0:05:48.021875\n",
      "Finished run for vector type: polyglot in 0:27:01.289648\n"
     ]
    },
    {
     "name": "stderr",
     "output_type": "stream",
     "text": [
      "\n"
     ]
    }
   ],
   "source": [
    "run_experiment_english(pd_dataset)"
   ]
  },
  {
   "cell_type": "code",
   "execution_count": 8,
   "metadata": {
    "ExecuteTime": {
     "end_time": "2019-01-31T00:24:10.953950Z",
     "start_time": "2019-01-31T00:24:10.760089Z"
    }
   },
   "outputs": [],
   "source": [
    "pd_dataset.to_csv('../data/ms_final_polyglot_english_3.csv', index = False)"
   ]
  },
  {
   "cell_type": "code",
   "execution_count": 9,
   "metadata": {
    "ExecuteTime": {
     "end_time": "2019-01-31T00:24:14.638006Z",
     "start_time": "2019-01-31T00:24:14.583907Z"
    }
   },
   "outputs": [],
   "source": [
    "def get_experiment_model(language, vector_type):\n",
    "    vec_type_start = datetime.now()\n",
    "    embedding_file_name = get_embedding_file_name(language)\n",
    "    print('Loading embeddings: ' + embedding_file_name)\n",
    "    embeddings = load_embedding_vector(embedding_file_name)\n",
    "    print('Embeddings ' + embedding_file_name + ' loaded in ' + str(datetime.now() - vec_type_start))\n",
    "    return embeddings\n",
    "new_columns = {'5': [], '10': [], '25': [], '50': [], '75': [], '100': []}\n",
    "def run_experiment_l1(dataframe):\n",
    "    current_lang = ''\n",
    "    current_vector_type = ''\n",
    "    \n",
    "    for vector_type in embedding_list:\n",
    "        vec_type_start = datetime.now()\n",
    "        for language in language_list:\n",
    "            language_start = datetime.now()\n",
    "            embeddings = get_experiment_model(language, vector_type)\n",
    "            for neighbour_size in neighbour_list:\n",
    "                neighbour_size_start = datetime.now()\n",
    "#                 l1_sim = []\n",
    "                dset = dataframe[dataframe['language'] == language]\n",
    "                for ind, row in tqdm(dset.iterrows(), total=dset.shape[0]):\n",
    "                    w1 = row['l1_c']\n",
    "                    w2 = row['l1_i']\n",
    "                    new_columns[str(neighbour_size)].append(get_similarity(w1, w2, embeddings, neighbour_size))\n",
    "#                 dataframe['l1_sim_' + vector_type + '_' + str(neighbour_size)] = l1_sim \n",
    "                print('Finished run for neighbour size: ' + str(neighbour_size) + ' in ' + str(datetime.now() - neighbour_size_start))\n",
    "            print('Finished run for language: ' + language + ' in ' + str(datetime.now() - language_start))\n",
    "        print('Finished run for vector type: ' + vector_type + ' in ' + str(datetime.now() - vec_type_start))"
   ]
  },
  {
   "cell_type": "code",
   "execution_count": 11,
   "metadata": {
    "ExecuteTime": {
     "end_time": "2019-01-31T00:24:25.827168Z",
     "start_time": "2019-01-31T00:24:25.759907Z"
    }
   },
   "outputs": [],
   "source": [
    "neighbour_list = [5, 10, 25, 50, 75, 100]\n",
    "embedding_list = ['polyglot']\n",
    "embedding_path = '../data/pretrained_embeddings/polyglot/embeddings2/'\n",
    "source = '../data/ms_final_polyglot_english_3.csv'\n",
    "\n",
    "pd_dataset = pd.read_csv(source)\n",
    "pd_dataset = pd_dataset.sort_values(by = 'language', ascending = True)\n",
    "pd_dataset.head()\n",
    "language_list = pd_dataset['language'].unique()"
   ]
  },
  {
   "cell_type": "code",
   "execution_count": 12,
   "metadata": {
    "ExecuteTime": {
     "end_time": "2019-01-31T00:54:32.549846Z",
     "start_time": "2019-01-31T00:24:37.413168Z"
    }
   },
   "outputs": [
    {
     "name": "stdout",
     "output_type": "stream",
     "text": [
      "Loading embeddings: ca\n"
     ]
    },
    {
     "name": "stderr",
     "output_type": "stream",
     "text": [
      "  1%|          | 2/325 [00:00<00:17, 18.90it/s]"
     ]
    },
    {
     "name": "stdout",
     "output_type": "stream",
     "text": [
      "Embeddings ca loaded in 0:00:02.396885\n"
     ]
    },
    {
     "name": "stderr",
     "output_type": "stream",
     "text": [
      "100%|██████████| 325/325 [00:14<00:00, 21.96it/s]\n",
      "  1%|          | 3/325 [00:00<00:15, 20.53it/s]"
     ]
    },
    {
     "name": "stdout",
     "output_type": "stream",
     "text": [
      "Finished run for neighbour size: 5 in 0:00:14.801677\n"
     ]
    },
    {
     "name": "stderr",
     "output_type": "stream",
     "text": [
      "100%|██████████| 325/325 [00:15<00:00, 21.41it/s]\n",
      "  1%|          | 2/325 [00:00<00:16, 19.29it/s]"
     ]
    },
    {
     "name": "stdout",
     "output_type": "stream",
     "text": [
      "Finished run for neighbour size: 10 in 0:00:15.187926\n"
     ]
    },
    {
     "name": "stderr",
     "output_type": "stream",
     "text": [
      "100%|██████████| 325/325 [00:16<00:00, 19.70it/s]\n",
      "  1%|          | 2/325 [00:00<00:18, 17.30it/s]"
     ]
    },
    {
     "name": "stdout",
     "output_type": "stream",
     "text": [
      "Finished run for neighbour size: 25 in 0:00:16.501834\n"
     ]
    },
    {
     "name": "stderr",
     "output_type": "stream",
     "text": [
      "100%|██████████| 325/325 [00:18<00:00, 17.49it/s]\n",
      "  1%|          | 2/325 [00:00<00:22, 14.58it/s]"
     ]
    },
    {
     "name": "stdout",
     "output_type": "stream",
     "text": [
      "Finished run for neighbour size: 50 in 0:00:18.582384\n"
     ]
    },
    {
     "name": "stderr",
     "output_type": "stream",
     "text": [
      "100%|██████████| 325/325 [00:20<00:00, 15.64it/s]\n",
      "  1%|          | 2/325 [00:00<00:23, 14.02it/s]"
     ]
    },
    {
     "name": "stdout",
     "output_type": "stream",
     "text": [
      "Finished run for neighbour size: 75 in 0:00:20.782808\n"
     ]
    },
    {
     "name": "stderr",
     "output_type": "stream",
     "text": [
      "100%|██████████| 325/325 [00:23<00:00, 14.13it/s]\n"
     ]
    },
    {
     "name": "stdout",
     "output_type": "stream",
     "text": [
      "Finished run for neighbour size: 100 in 0:00:23.008228\n",
      "Finished run for language: Catalan in 0:01:51.262206\n",
      "Loading embeddings: zh\n"
     ]
    },
    {
     "name": "stderr",
     "output_type": "stream",
     "text": [
      "  1%|          | 3/310 [00:00<00:13, 23.35it/s]"
     ]
    },
    {
     "name": "stdout",
     "output_type": "stream",
     "text": [
      "Embeddings zh loaded in 0:00:02.147062\n"
     ]
    },
    {
     "name": "stderr",
     "output_type": "stream",
     "text": [
      "100%|██████████| 310/310 [00:12<00:00, 24.13it/s]\n",
      "  1%|          | 3/310 [00:00<00:13, 22.86it/s]"
     ]
    },
    {
     "name": "stdout",
     "output_type": "stream",
     "text": [
      "Finished run for neighbour size: 5 in 0:00:12.852711\n"
     ]
    },
    {
     "name": "stderr",
     "output_type": "stream",
     "text": [
      "100%|██████████| 310/310 [00:13<00:00, 23.49it/s]\n",
      "  1%|          | 2/310 [00:00<00:15, 19.76it/s]"
     ]
    },
    {
     "name": "stdout",
     "output_type": "stream",
     "text": [
      "Finished run for neighbour size: 10 in 0:00:13.203564\n"
     ]
    },
    {
     "name": "stderr",
     "output_type": "stream",
     "text": [
      "100%|██████████| 310/310 [00:14<00:00, 21.49it/s]\n",
      "  1%|          | 2/310 [00:00<00:17, 18.06it/s]"
     ]
    },
    {
     "name": "stdout",
     "output_type": "stream",
     "text": [
      "Finished run for neighbour size: 25 in 0:00:14.432572\n"
     ]
    },
    {
     "name": "stderr",
     "output_type": "stream",
     "text": [
      "100%|██████████| 310/310 [00:16<00:00, 18.78it/s]\n",
      "  1%|          | 2/310 [00:00<00:18, 16.42it/s]"
     ]
    },
    {
     "name": "stdout",
     "output_type": "stream",
     "text": [
      "Finished run for neighbour size: 50 in 0:00:16.511780\n"
     ]
    },
    {
     "name": "stderr",
     "output_type": "stream",
     "text": [
      "100%|██████████| 310/310 [00:18<00:00, 16.73it/s]\n",
      "  1%|          | 2/310 [00:00<00:21, 14.59it/s]"
     ]
    },
    {
     "name": "stdout",
     "output_type": "stream",
     "text": [
      "Finished run for neighbour size: 75 in 0:00:18.531675\n"
     ]
    },
    {
     "name": "stderr",
     "output_type": "stream",
     "text": [
      "100%|██████████| 310/310 [00:21<00:00, 14.46it/s]\n"
     ]
    },
    {
     "name": "stdout",
     "output_type": "stream",
     "text": [
      "Finished run for neighbour size: 100 in 0:00:21.436917\n",
      "Finished run for language: Chinese (Simplified) in 0:01:39.120198\n",
      "Loading embeddings: nl\n"
     ]
    },
    {
     "name": "stderr",
     "output_type": "stream",
     "text": [
      " 60%|██████    | 3/5 [00:00<00:00, 22.42it/s]"
     ]
    },
    {
     "name": "stdout",
     "output_type": "stream",
     "text": [
      "Embeddings nl loaded in 0:00:02.241336\n"
     ]
    },
    {
     "name": "stderr",
     "output_type": "stream",
     "text": [
      "100%|██████████| 5/5 [00:00<00:00, 22.12it/s]\n",
      " 60%|██████    | 3/5 [00:00<00:00, 21.90it/s]"
     ]
    },
    {
     "name": "stdout",
     "output_type": "stream",
     "text": [
      "Finished run for neighbour size: 5 in 0:00:00.230671\n"
     ]
    },
    {
     "name": "stderr",
     "output_type": "stream",
     "text": [
      "100%|██████████| 5/5 [00:00<00:00, 21.55it/s]\n",
      " 40%|████      | 2/5 [00:00<00:00, 18.34it/s]"
     ]
    },
    {
     "name": "stdout",
     "output_type": "stream",
     "text": [
      "Finished run for neighbour size: 10 in 0:00:00.236418\n"
     ]
    },
    {
     "name": "stderr",
     "output_type": "stream",
     "text": [
      "100%|██████████| 5/5 [00:00<00:00, 18.59it/s]\n",
      " 40%|████      | 2/5 [00:00<00:00, 17.23it/s]"
     ]
    },
    {
     "name": "stdout",
     "output_type": "stream",
     "text": [
      "Finished run for neighbour size: 25 in 0:00:00.273117\n"
     ]
    },
    {
     "name": "stderr",
     "output_type": "stream",
     "text": [
      "100%|██████████| 5/5 [00:00<00:00, 16.91it/s]\n",
      " 40%|████      | 2/5 [00:00<00:00, 15.52it/s]"
     ]
    },
    {
     "name": "stdout",
     "output_type": "stream",
     "text": [
      "Finished run for neighbour size: 50 in 0:00:00.300800\n"
     ]
    },
    {
     "name": "stderr",
     "output_type": "stream",
     "text": [
      "100%|██████████| 5/5 [00:00<00:00, 15.42it/s]\n",
      " 40%|████      | 2/5 [00:00<00:00, 13.54it/s]"
     ]
    },
    {
     "name": "stdout",
     "output_type": "stream",
     "text": [
      "Finished run for neighbour size: 75 in 0:00:00.328604\n"
     ]
    },
    {
     "name": "stderr",
     "output_type": "stream",
     "text": [
      "100%|██████████| 5/5 [00:00<00:00, 13.17it/s]\n"
     ]
    },
    {
     "name": "stdout",
     "output_type": "stream",
     "text": [
      "Finished run for neighbour size: 100 in 0:00:00.384134\n",
      "Finished run for language: Dutch in 0:00:03.998979\n",
      "Loading embeddings: fr\n"
     ]
    },
    {
     "name": "stderr",
     "output_type": "stream",
     "text": [
      "  0%|          | 3/794 [00:00<00:36, 21.66it/s]"
     ]
    },
    {
     "name": "stdout",
     "output_type": "stream",
     "text": [
      "Embeddings fr loaded in 0:00:02.301798\n"
     ]
    },
    {
     "name": "stderr",
     "output_type": "stream",
     "text": [
      "100%|██████████| 794/794 [00:36<00:00, 21.97it/s]\n",
      "  0%|          | 3/794 [00:00<00:37, 21.30it/s]"
     ]
    },
    {
     "name": "stdout",
     "output_type": "stream",
     "text": [
      "Finished run for neighbour size: 5 in 0:00:36.145767\n"
     ]
    },
    {
     "name": "stderr",
     "output_type": "stream",
     "text": [
      "100%|██████████| 794/794 [00:36<00:00, 21.51it/s]\n",
      "  0%|          | 2/794 [00:00<00:41, 19.05it/s]"
     ]
    },
    {
     "name": "stdout",
     "output_type": "stream",
     "text": [
      "Finished run for neighbour size: 10 in 0:00:36.920478\n"
     ]
    },
    {
     "name": "stderr",
     "output_type": "stream",
     "text": [
      "100%|██████████| 794/794 [00:40<00:00, 19.60it/s]\n",
      "  0%|          | 2/794 [00:00<00:45, 17.45it/s]"
     ]
    },
    {
     "name": "stdout",
     "output_type": "stream",
     "text": [
      "Finished run for neighbour size: 25 in 0:00:40.515618\n"
     ]
    },
    {
     "name": "stderr",
     "output_type": "stream",
     "text": [
      "100%|██████████| 794/794 [00:46<00:00, 17.20it/s]\n",
      "  0%|          | 2/794 [00:00<00:53, 14.93it/s]"
     ]
    },
    {
     "name": "stdout",
     "output_type": "stream",
     "text": [
      "Finished run for neighbour size: 50 in 0:00:46.175357\n"
     ]
    },
    {
     "name": "stderr",
     "output_type": "stream",
     "text": [
      "100%|██████████| 794/794 [00:52<00:00, 15.17it/s]\n",
      "  0%|          | 2/794 [00:00<00:56, 13.97it/s]"
     ]
    },
    {
     "name": "stdout",
     "output_type": "stream",
     "text": [
      "Finished run for neighbour size: 75 in 0:00:52.343931\n"
     ]
    },
    {
     "name": "stderr",
     "output_type": "stream",
     "text": [
      "100%|██████████| 794/794 [00:58<00:00, 13.67it/s]\n"
     ]
    },
    {
     "name": "stdout",
     "output_type": "stream",
     "text": [
      "Finished run for neighbour size: 100 in 0:00:58.100692\n",
      "Finished run for language: French in 0:04:32.507271\n",
      "Loading embeddings: de\n"
     ]
    },
    {
     "name": "stderr",
     "output_type": "stream",
     "text": [
      "  1%|          | 3/285 [00:00<00:13, 21.47it/s]"
     ]
    },
    {
     "name": "stdout",
     "output_type": "stream",
     "text": [
      "Embeddings de loaded in 0:00:02.267136\n"
     ]
    },
    {
     "name": "stderr",
     "output_type": "stream",
     "text": [
      "100%|██████████| 285/285 [00:12<00:00, 22.20it/s]\n",
      "  1%|          | 3/285 [00:00<00:13, 20.65it/s]"
     ]
    },
    {
     "name": "stdout",
     "output_type": "stream",
     "text": [
      "Finished run for neighbour size: 5 in 0:00:12.843715\n"
     ]
    },
    {
     "name": "stderr",
     "output_type": "stream",
     "text": [
      "100%|██████████| 285/285 [00:13<00:00, 21.64it/s]\n",
      "  1%|          | 2/285 [00:00<00:14, 19.48it/s]"
     ]
    },
    {
     "name": "stdout",
     "output_type": "stream",
     "text": [
      "Finished run for neighbour size: 10 in 0:00:13.177081\n"
     ]
    },
    {
     "name": "stderr",
     "output_type": "stream",
     "text": [
      "100%|██████████| 285/285 [00:14<00:00, 19.66it/s]\n",
      "  1%|          | 2/285 [00:00<00:16, 17.12it/s]"
     ]
    },
    {
     "name": "stdout",
     "output_type": "stream",
     "text": [
      "Finished run for neighbour size: 25 in 0:00:14.496985\n"
     ]
    },
    {
     "name": "stderr",
     "output_type": "stream",
     "text": [
      "100%|██████████| 285/285 [00:16<00:00, 17.19it/s]\n",
      "  1%|          | 2/285 [00:00<00:19, 14.87it/s]"
     ]
    },
    {
     "name": "stdout",
     "output_type": "stream",
     "text": [
      "Finished run for neighbour size: 50 in 0:00:16.580611\n"
     ]
    },
    {
     "name": "stderr",
     "output_type": "stream",
     "text": [
      "100%|██████████| 285/285 [00:18<00:00, 15.38it/s]\n",
      "  1%|          | 2/285 [00:00<00:20, 14.00it/s]"
     ]
    },
    {
     "name": "stdout",
     "output_type": "stream",
     "text": [
      "Finished run for neighbour size: 75 in 0:00:18.537572\n"
     ]
    },
    {
     "name": "stderr",
     "output_type": "stream",
     "text": [
      "100%|██████████| 285/285 [00:20<00:00, 13.87it/s]\n"
     ]
    },
    {
     "name": "stdout",
     "output_type": "stream",
     "text": [
      "Finished run for neighbour size: 100 in 0:00:20.545246\n",
      "Finished run for language: German in 0:01:38.452614\n",
      "Loading embeddings: el\n"
     ]
    },
    {
     "name": "stderr",
     "output_type": "stream",
     "text": [
      "  1%|          | 3/353 [00:00<00:16, 21.66it/s]"
     ]
    },
    {
     "name": "stdout",
     "output_type": "stream",
     "text": [
      "Embeddings el loaded in 0:00:02.299375\n"
     ]
    },
    {
     "name": "stderr",
     "output_type": "stream",
     "text": [
      "100%|██████████| 353/353 [00:14<00:00, 23.77it/s]\n",
      "  1%|          | 3/353 [00:00<00:16, 20.83it/s]"
     ]
    },
    {
     "name": "stdout",
     "output_type": "stream",
     "text": [
      "Finished run for neighbour size: 5 in 0:00:14.856631\n"
     ]
    },
    {
     "name": "stderr",
     "output_type": "stream",
     "text": [
      "100%|██████████| 353/353 [00:15<00:00, 23.10it/s]\n",
      "  1%|          | 2/353 [00:00<00:18, 19.36it/s]"
     ]
    },
    {
     "name": "stdout",
     "output_type": "stream",
     "text": [
      "Finished run for neighbour size: 10 in 0:00:15.285549\n"
     ]
    },
    {
     "name": "stderr",
     "output_type": "stream",
     "text": [
      "100%|██████████| 353/353 [00:16<00:00, 21.26it/s]\n",
      "  1%|          | 2/353 [00:00<00:20, 17.02it/s]"
     ]
    },
    {
     "name": "stdout",
     "output_type": "stream",
     "text": [
      "Finished run for neighbour size: 25 in 0:00:16.604694\n"
     ]
    },
    {
     "name": "stderr",
     "output_type": "stream",
     "text": [
      "100%|██████████| 353/353 [00:18<00:00, 19.10it/s]\n",
      "  1%|          | 2/353 [00:00<00:22, 15.45it/s]"
     ]
    },
    {
     "name": "stdout",
     "output_type": "stream",
     "text": [
      "Finished run for neighbour size: 50 in 0:00:18.490369\n"
     ]
    },
    {
     "name": "stderr",
     "output_type": "stream",
     "text": [
      "100%|██████████| 353/353 [00:20<00:00, 17.07it/s]\n",
      "  1%|          | 2/353 [00:00<00:24, 14.53it/s]"
     ]
    },
    {
     "name": "stdout",
     "output_type": "stream",
     "text": [
      "Finished run for neighbour size: 75 in 0:00:20.689939\n"
     ]
    },
    {
     "name": "stderr",
     "output_type": "stream",
     "text": [
      "100%|██████████| 353/353 [00:22<00:00, 15.52it/s]\n"
     ]
    },
    {
     "name": "stdout",
     "output_type": "stream",
     "text": [
      "Finished run for neighbour size: 100 in 0:00:22.754670\n",
      "Finished run for language: Greek in 0:01:50.984892\n",
      "Loading embeddings: it\n"
     ]
    },
    {
     "name": "stderr",
     "output_type": "stream",
     "text": [
      "  1%|          | 3/335 [00:00<00:15, 21.98it/s]"
     ]
    },
    {
     "name": "stdout",
     "output_type": "stream",
     "text": [
      "Embeddings it loaded in 0:00:02.139436\n"
     ]
    },
    {
     "name": "stderr",
     "output_type": "stream",
     "text": [
      "100%|██████████| 335/335 [00:14<00:00, 23.21it/s]\n",
      "  1%|          | 3/335 [00:00<00:14, 22.66it/s]"
     ]
    },
    {
     "name": "stdout",
     "output_type": "stream",
     "text": [
      "Finished run for neighbour size: 5 in 0:00:14.441021\n"
     ]
    },
    {
     "name": "stderr",
     "output_type": "stream",
     "text": [
      "100%|██████████| 335/335 [00:14<00:00, 22.51it/s]\n",
      "  1%|          | 3/335 [00:00<00:16, 20.73it/s]"
     ]
    },
    {
     "name": "stdout",
     "output_type": "stream",
     "text": [
      "Finished run for neighbour size: 10 in 0:00:14.885667\n"
     ]
    },
    {
     "name": "stderr",
     "output_type": "stream",
     "text": [
      "100%|██████████| 335/335 [00:16<00:00, 20.60it/s]\n",
      "  1%|          | 2/335 [00:00<00:27, 12.16it/s]"
     ]
    },
    {
     "name": "stdout",
     "output_type": "stream",
     "text": [
      "Finished run for neighbour size: 25 in 0:00:16.263962\n"
     ]
    },
    {
     "name": "stderr",
     "output_type": "stream",
     "text": [
      "100%|██████████| 335/335 [00:18<00:00, 17.90it/s]\n",
      "  1%|          | 2/335 [00:00<00:20, 16.23it/s]"
     ]
    },
    {
     "name": "stdout",
     "output_type": "stream",
     "text": [
      "Finished run for neighbour size: 50 in 0:00:18.714382\n"
     ]
    },
    {
     "name": "stderr",
     "output_type": "stream",
     "text": [
      "100%|██████████| 335/335 [00:20<00:00, 16.07it/s]\n",
      "  1%|          | 2/335 [00:00<00:22, 14.73it/s]"
     ]
    },
    {
     "name": "stdout",
     "output_type": "stream",
     "text": [
      "Finished run for neighbour size: 75 in 0:00:20.855683\n"
     ]
    },
    {
     "name": "stderr",
     "output_type": "stream",
     "text": [
      "100%|██████████| 335/335 [00:23<00:00, 14.42it/s]\n"
     ]
    },
    {
     "name": "stdout",
     "output_type": "stream",
     "text": [
      "Finished run for neighbour size: 100 in 0:00:23.230505\n",
      "Finished run for language: Italian in 0:01:50.537719\n",
      "Loading embeddings: ja\n"
     ]
    },
    {
     "name": "stderr",
     "output_type": "stream",
     "text": [
      "  9%|▉         | 18/192 [00:00<00:01, 135.18it/s]"
     ]
    },
    {
     "name": "stdout",
     "output_type": "stream",
     "text": [
      "Embeddings ja loaded in 0:00:02.206417\n"
     ]
    },
    {
     "name": "stderr",
     "output_type": "stream",
     "text": [
      "100%|██████████| 192/192 [00:00<00:00, 201.43it/s]\n",
      "  9%|▉         | 18/192 [00:00<00:01, 120.28it/s]"
     ]
    },
    {
     "name": "stdout",
     "output_type": "stream",
     "text": [
      "Finished run for neighbour size: 5 in 0:00:00.957311\n"
     ]
    },
    {
     "name": "stderr",
     "output_type": "stream",
     "text": [
      "100%|██████████| 192/192 [00:00<00:00, 192.31it/s]\n",
      "  9%|▉         | 18/192 [00:00<00:01, 102.67it/s]"
     ]
    },
    {
     "name": "stdout",
     "output_type": "stream",
     "text": [
      "Finished run for neighbour size: 10 in 0:00:01.002570\n"
     ]
    },
    {
     "name": "stderr",
     "output_type": "stream",
     "text": [
      "100%|██████████| 192/192 [00:01<00:00, 174.33it/s]\n",
      "  6%|▌         | 11/192 [00:00<00:01, 96.56it/s]"
     ]
    },
    {
     "name": "stdout",
     "output_type": "stream",
     "text": [
      "Finished run for neighbour size: 25 in 0:00:01.106631\n"
     ]
    },
    {
     "name": "stderr",
     "output_type": "stream",
     "text": [
      "100%|██████████| 192/192 [00:01<00:00, 154.91it/s]\n",
      "  6%|▌         | 11/192 [00:00<00:02, 89.17it/s]"
     ]
    },
    {
     "name": "stdout",
     "output_type": "stream",
     "text": [
      "Finished run for neighbour size: 50 in 0:00:01.269596\n"
     ]
    },
    {
     "name": "stderr",
     "output_type": "stream",
     "text": [
      "100%|██████████| 192/192 [00:01<00:00, 139.15it/s]\n",
      "  6%|▌         | 11/192 [00:00<00:02, 80.96it/s]"
     ]
    },
    {
     "name": "stdout",
     "output_type": "stream",
     "text": [
      "Finished run for neighbour size: 75 in 0:00:01.384152\n"
     ]
    },
    {
     "name": "stderr",
     "output_type": "stream",
     "text": [
      "100%|██████████| 192/192 [00:01<00:00, 122.94it/s]\n"
     ]
    },
    {
     "name": "stdout",
     "output_type": "stream",
     "text": [
      "Finished run for neighbour size: 100 in 0:00:01.565974\n",
      "Finished run for language: Japanese in 0:00:09.496275\n",
      "Loading embeddings: ko\n"
     ]
    },
    {
     "name": "stderr",
     "output_type": "stream",
     "text": [
      "  1%|          | 2/185 [00:00<00:09, 18.43it/s]"
     ]
    },
    {
     "name": "stdout",
     "output_type": "stream",
     "text": [
      "Embeddings ko loaded in 0:00:02.596239\n"
     ]
    },
    {
     "name": "stderr",
     "output_type": "stream",
     "text": [
      "100%|██████████| 185/185 [00:09<00:00, 20.55it/s]\n",
      "  1%|          | 2/185 [00:00<00:09, 18.62it/s]"
     ]
    },
    {
     "name": "stdout",
     "output_type": "stream",
     "text": [
      "Finished run for neighbour size: 5 in 0:00:09.008977\n"
     ]
    },
    {
     "name": "stderr",
     "output_type": "stream",
     "text": [
      "100%|██████████| 185/185 [00:09<00:00, 19.99it/s]\n",
      "  1%|          | 2/185 [00:00<00:11, 16.34it/s]"
     ]
    },
    {
     "name": "stdout",
     "output_type": "stream",
     "text": [
      "Finished run for neighbour size: 10 in 0:00:09.256868\n"
     ]
    },
    {
     "name": "stderr",
     "output_type": "stream",
     "text": [
      "100%|██████████| 185/185 [00:10<00:00, 18.46it/s]\n",
      "  1%|          | 2/185 [00:00<00:11, 15.54it/s]"
     ]
    },
    {
     "name": "stdout",
     "output_type": "stream",
     "text": [
      "Finished run for neighbour size: 25 in 0:00:10.026238\n"
     ]
    },
    {
     "name": "stderr",
     "output_type": "stream",
     "text": [
      "100%|██████████| 185/185 [00:11<00:00, 16.78it/s]\n",
      "  1%|          | 2/185 [00:00<00:13, 13.73it/s]"
     ]
    },
    {
     "name": "stdout",
     "output_type": "stream",
     "text": [
      "Finished run for neighbour size: 50 in 0:00:11.030760\n"
     ]
    },
    {
     "name": "stderr",
     "output_type": "stream",
     "text": [
      "100%|██████████| 185/185 [00:12<00:00, 14.97it/s]\n",
      "  1%|          | 2/185 [00:00<00:14, 12.92it/s]"
     ]
    },
    {
     "name": "stdout",
     "output_type": "stream",
     "text": [
      "Finished run for neighbour size: 75 in 0:00:12.365298\n"
     ]
    },
    {
     "name": "stderr",
     "output_type": "stream",
     "text": [
      "100%|██████████| 185/185 [00:13<00:00, 13.94it/s]\n"
     ]
    },
    {
     "name": "stdout",
     "output_type": "stream",
     "text": [
      "Finished run for neighbour size: 100 in 0:00:13.276638\n",
      "Finished run for language: Korean in 0:01:07.565167\n",
      "Loading embeddings: pl\n"
     ]
    },
    {
     "name": "stderr",
     "output_type": "stream",
     "text": [
      "  0%|          | 1/295 [00:00<00:51,  5.73it/s]"
     ]
    },
    {
     "name": "stdout",
     "output_type": "stream",
     "text": [
      "Embeddings pl loaded in 0:00:05.288269\n"
     ]
    },
    {
     "name": "stderr",
     "output_type": "stream",
     "text": [
      "100%|██████████| 295/295 [00:51<00:00,  5.72it/s]\n",
      "  0%|          | 1/295 [00:00<00:51,  5.74it/s]"
     ]
    },
    {
     "name": "stdout",
     "output_type": "stream",
     "text": [
      "Finished run for neighbour size: 5 in 0:00:51.566306\n"
     ]
    },
    {
     "name": "stderr",
     "output_type": "stream",
     "text": [
      "100%|██████████| 295/295 [00:52<00:00,  5.67it/s]\n",
      "  0%|          | 1/295 [00:00<00:52,  5.58it/s]"
     ]
    },
    {
     "name": "stdout",
     "output_type": "stream",
     "text": [
      "Finished run for neighbour size: 10 in 0:00:52.076555\n"
     ]
    },
    {
     "name": "stderr",
     "output_type": "stream",
     "text": [
      "100%|██████████| 295/295 [00:53<00:00,  5.52it/s]\n",
      "  0%|          | 1/295 [00:00<00:55,  5.32it/s]"
     ]
    },
    {
     "name": "stdout",
     "output_type": "stream",
     "text": [
      "Finished run for neighbour size: 25 in 0:00:53.402128\n"
     ]
    },
    {
     "name": "stderr",
     "output_type": "stream",
     "text": [
      "100%|██████████| 295/295 [00:55<00:00,  5.34it/s]\n",
      "  0%|          | 1/295 [00:00<00:58,  5.05it/s]"
     ]
    },
    {
     "name": "stdout",
     "output_type": "stream",
     "text": [
      "Finished run for neighbour size: 50 in 0:00:55.252539\n"
     ]
    },
    {
     "name": "stderr",
     "output_type": "stream",
     "text": [
      "100%|██████████| 295/295 [00:57<00:00,  5.16it/s]\n",
      "  0%|          | 0/295 [00:00<?, ?it/s]"
     ]
    },
    {
     "name": "stdout",
     "output_type": "stream",
     "text": [
      "Finished run for neighbour size: 75 in 0:00:57.194472\n"
     ]
    },
    {
     "name": "stderr",
     "output_type": "stream",
     "text": [
      "100%|██████████| 295/295 [00:59<00:00,  4.97it/s]\n"
     ]
    },
    {
     "name": "stdout",
     "output_type": "stream",
     "text": [
      "Finished run for neighbour size: 100 in 0:00:59.329990\n",
      "Finished run for language: Polish in 0:05:34.119216\n",
      "Loading embeddings: pt\n"
     ]
    },
    {
     "name": "stderr",
     "output_type": "stream",
     "text": [
      "  1%|          | 3/284 [00:00<00:12, 22.18it/s]"
     ]
    },
    {
     "name": "stdout",
     "output_type": "stream",
     "text": [
      "Embeddings pt loaded in 0:00:02.171654\n"
     ]
    },
    {
     "name": "stderr",
     "output_type": "stream",
     "text": [
      "100%|██████████| 284/284 [00:12<00:00, 22.99it/s]\n",
      "  1%|          | 3/284 [00:00<00:12, 22.23it/s]"
     ]
    },
    {
     "name": "stdout",
     "output_type": "stream",
     "text": [
      "Finished run for neighbour size: 5 in 0:00:12.356523\n"
     ]
    },
    {
     "name": "stderr",
     "output_type": "stream",
     "text": [
      "100%|██████████| 284/284 [00:12<00:00, 22.26it/s]\n",
      "  1%|          | 3/284 [00:00<00:13, 20.51it/s]"
     ]
    },
    {
     "name": "stdout",
     "output_type": "stream",
     "text": [
      "Finished run for neighbour size: 10 in 0:00:12.760531\n"
     ]
    },
    {
     "name": "stderr",
     "output_type": "stream",
     "text": [
      "100%|██████████| 284/284 [00:13<00:00, 20.40it/s]\n",
      "  1%|          | 2/284 [00:00<00:15, 17.83it/s]"
     ]
    },
    {
     "name": "stdout",
     "output_type": "stream",
     "text": [
      "Finished run for neighbour size: 25 in 0:00:13.924064\n"
     ]
    },
    {
     "name": "stderr",
     "output_type": "stream",
     "text": [
      "100%|██████████| 284/284 [00:15<00:00, 17.88it/s]\n",
      "  1%|          | 2/284 [00:00<00:18, 15.26it/s]"
     ]
    },
    {
     "name": "stdout",
     "output_type": "stream",
     "text": [
      "Finished run for neighbour size: 50 in 0:00:15.889091\n"
     ]
    },
    {
     "name": "stderr",
     "output_type": "stream",
     "text": [
      "100%|██████████| 284/284 [00:17<00:00, 15.88it/s]\n",
      "  1%|          | 2/284 [00:00<00:20, 13.69it/s]"
     ]
    },
    {
     "name": "stdout",
     "output_type": "stream",
     "text": [
      "Finished run for neighbour size: 75 in 0:00:17.893673\n"
     ]
    },
    {
     "name": "stderr",
     "output_type": "stream",
     "text": [
      "100%|██████████| 284/284 [00:19<00:00, 14.37it/s]\n"
     ]
    },
    {
     "name": "stdout",
     "output_type": "stream",
     "text": [
      "Finished run for neighbour size: 100 in 0:00:19.760908\n",
      "Finished run for language: Portuguese in 0:01:34.767731\n",
      "Loading embeddings: ru\n"
     ]
    },
    {
     "name": "stderr",
     "output_type": "stream",
     "text": [
      "  1%|          | 3/340 [00:00<00:16, 20.96it/s]"
     ]
    },
    {
     "name": "stdout",
     "output_type": "stream",
     "text": [
      "Embeddings ru loaded in 0:00:02.200803\n"
     ]
    },
    {
     "name": "stderr",
     "output_type": "stream",
     "text": [
      "100%|██████████| 340/340 [00:13<00:00, 24.72it/s]\n",
      "  1%|          | 3/340 [00:00<00:15, 22.01it/s]"
     ]
    },
    {
     "name": "stdout",
     "output_type": "stream",
     "text": [
      "Finished run for neighbour size: 5 in 0:00:13.759816\n"
     ]
    },
    {
     "name": "stderr",
     "output_type": "stream",
     "text": [
      "100%|██████████| 340/340 [00:14<00:00, 23.94it/s]\n",
      "  1%|          | 3/340 [00:00<00:16, 20.51it/s]"
     ]
    },
    {
     "name": "stdout",
     "output_type": "stream",
     "text": [
      "Finished run for neighbour size: 10 in 0:00:14.208219\n"
     ]
    },
    {
     "name": "stderr",
     "output_type": "stream",
     "text": [
      "100%|██████████| 340/340 [00:15<00:00, 22.01it/s]\n",
      "  1%|          | 2/340 [00:00<00:18, 17.95it/s]"
     ]
    },
    {
     "name": "stdout",
     "output_type": "stream",
     "text": [
      "Finished run for neighbour size: 25 in 0:00:15.454916\n"
     ]
    },
    {
     "name": "stderr",
     "output_type": "stream",
     "text": [
      "100%|██████████| 340/340 [00:17<00:00, 19.28it/s]\n",
      "  1%|          | 2/340 [00:00<00:22, 15.02it/s]"
     ]
    },
    {
     "name": "stdout",
     "output_type": "stream",
     "text": [
      "Finished run for neighbour size: 50 in 0:00:17.637652\n"
     ]
    },
    {
     "name": "stderr",
     "output_type": "stream",
     "text": [
      "100%|██████████| 340/340 [00:19<00:00, 17.19it/s]\n",
      "  1%|          | 2/340 [00:00<00:23, 14.38it/s]"
     ]
    },
    {
     "name": "stdout",
     "output_type": "stream",
     "text": [
      "Finished run for neighbour size: 75 in 0:00:19.779119\n"
     ]
    },
    {
     "name": "stderr",
     "output_type": "stream",
     "text": [
      "100%|██████████| 340/340 [00:22<00:00, 15.39it/s]\n"
     ]
    },
    {
     "name": "stdout",
     "output_type": "stream",
     "text": [
      "Finished run for neighbour size: 100 in 0:00:22.090392\n",
      "Finished run for language: Russian in 0:01:45.134512\n",
      "Loading embeddings: es\n"
     ]
    },
    {
     "name": "stderr",
     "output_type": "stream",
     "text": [
      "  0%|          | 3/796 [00:00<00:36, 21.60it/s]"
     ]
    },
    {
     "name": "stdout",
     "output_type": "stream",
     "text": [
      "Embeddings es loaded in 0:00:02.149734\n"
     ]
    },
    {
     "name": "stderr",
     "output_type": "stream",
     "text": [
      "100%|██████████| 796/796 [00:34<00:00, 22.86it/s]\n",
      "  0%|          | 3/796 [00:00<00:36, 22.02it/s]"
     ]
    },
    {
     "name": "stdout",
     "output_type": "stream",
     "text": [
      "Finished run for neighbour size: 5 in 0:00:34.830200\n"
     ]
    },
    {
     "name": "stderr",
     "output_type": "stream",
     "text": [
      "100%|██████████| 796/796 [00:35<00:00, 22.21it/s]\n",
      "  0%|          | 3/796 [00:00<00:38, 20.56it/s]"
     ]
    },
    {
     "name": "stdout",
     "output_type": "stream",
     "text": [
      "Finished run for neighbour size: 10 in 0:00:35.843827\n"
     ]
    },
    {
     "name": "stderr",
     "output_type": "stream",
     "text": [
      "100%|██████████| 796/796 [00:39<00:00, 20.31it/s]\n",
      "  0%|          | 2/796 [00:00<00:43, 18.06it/s]"
     ]
    },
    {
     "name": "stdout",
     "output_type": "stream",
     "text": [
      "Finished run for neighbour size: 25 in 0:00:39.203596\n"
     ]
    },
    {
     "name": "stderr",
     "output_type": "stream",
     "text": [
      "100%|██████████| 796/796 [00:44<00:00, 17.84it/s]\n",
      "  0%|          | 2/796 [00:00<00:49, 16.02it/s]"
     ]
    },
    {
     "name": "stdout",
     "output_type": "stream",
     "text": [
      "Finished run for neighbour size: 50 in 0:00:44.629467\n"
     ]
    },
    {
     "name": "stderr",
     "output_type": "stream",
     "text": [
      "100%|██████████| 796/796 [00:50<00:00, 15.88it/s]\n",
      "  0%|          | 2/796 [00:00<00:55, 14.22it/s]"
     ]
    },
    {
     "name": "stdout",
     "output_type": "stream",
     "text": [
      "Finished run for neighbour size: 75 in 0:00:50.130409\n"
     ]
    },
    {
     "name": "stderr",
     "output_type": "stream",
     "text": [
      "100%|██████████| 796/796 [00:55<00:00, 14.33it/s]\n"
     ]
    },
    {
     "name": "stdout",
     "output_type": "stream",
     "text": [
      "Finished run for neighbour size: 100 in 0:00:55.560093\n",
      "Finished run for language: Spanish in 0:04:22.351785\n",
      "Loading embeddings: sv\n"
     ]
    },
    {
     "name": "stderr",
     "output_type": "stream",
     "text": [
      "  5%|▍         | 2/44 [00:00<00:02, 19.87it/s]"
     ]
    },
    {
     "name": "stdout",
     "output_type": "stream",
     "text": [
      "Embeddings sv loaded in 0:00:02.154899\n"
     ]
    },
    {
     "name": "stderr",
     "output_type": "stream",
     "text": [
      "100%|██████████| 44/44 [00:01<00:00, 24.58it/s]\n",
      "  7%|▋         | 3/44 [00:00<00:01, 22.42it/s]"
     ]
    },
    {
     "name": "stdout",
     "output_type": "stream",
     "text": [
      "Finished run for neighbour size: 5 in 0:00:01.794967\n"
     ]
    },
    {
     "name": "stderr",
     "output_type": "stream",
     "text": [
      "100%|██████████| 44/44 [00:01<00:00, 24.45it/s]\n",
      "  5%|▍         | 2/44 [00:00<00:02, 14.80it/s]"
     ]
    },
    {
     "name": "stdout",
     "output_type": "stream",
     "text": [
      "Finished run for neighbour size: 10 in 0:00:01.804251\n"
     ]
    },
    {
     "name": "stderr",
     "output_type": "stream",
     "text": [
      "100%|██████████| 44/44 [00:02<00:00, 21.99it/s]\n",
      "  5%|▍         | 2/44 [00:00<00:02, 15.31it/s]"
     ]
    },
    {
     "name": "stdout",
     "output_type": "stream",
     "text": [
      "Finished run for neighbour size: 25 in 0:00:02.005339\n"
     ]
    },
    {
     "name": "stderr",
     "output_type": "stream",
     "text": [
      "100%|██████████| 44/44 [00:02<00:00, 19.35it/s]\n",
      "  5%|▍         | 2/44 [00:00<00:02, 16.31it/s]"
     ]
    },
    {
     "name": "stdout",
     "output_type": "stream",
     "text": [
      "Finished run for neighbour size: 50 in 0:00:02.278443\n"
     ]
    },
    {
     "name": "stderr",
     "output_type": "stream",
     "text": [
      "100%|██████████| 44/44 [00:02<00:00, 17.25it/s]\n",
      "  5%|▍         | 2/44 [00:00<00:02, 14.43it/s]"
     ]
    },
    {
     "name": "stdout",
     "output_type": "stream",
     "text": [
      "Finished run for neighbour size: 75 in 0:00:02.555343\n"
     ]
    },
    {
     "name": "stderr",
     "output_type": "stream",
     "text": [
      "100%|██████████| 44/44 [00:02<00:00, 15.26it/s]\n"
     ]
    },
    {
     "name": "stdout",
     "output_type": "stream",
     "text": [
      "Finished run for neighbour size: 100 in 0:00:02.888539\n",
      "Finished run for language: Swedish in 0:00:15.489008\n",
      "Loading embeddings: th\n"
     ]
    },
    {
     "name": "stderr",
     "output_type": "stream",
     "text": [
      "  4%|▍         | 5/122 [00:00<00:02, 42.83it/s]"
     ]
    },
    {
     "name": "stdout",
     "output_type": "stream",
     "text": [
      "Embeddings th loaded in 0:00:01.209929\n"
     ]
    },
    {
     "name": "stderr",
     "output_type": "stream",
     "text": [
      "100%|██████████| 122/122 [00:02<00:00, 50.05it/s]\n",
      "  4%|▍         | 5/122 [00:00<00:02, 40.62it/s]"
     ]
    },
    {
     "name": "stdout",
     "output_type": "stream",
     "text": [
      "Finished run for neighbour size: 5 in 0:00:02.442406\n"
     ]
    },
    {
     "name": "stderr",
     "output_type": "stream",
     "text": [
      "100%|██████████| 122/122 [00:02<00:00, 47.11it/s]\n",
      "  3%|▎         | 4/122 [00:00<00:03, 33.40it/s]"
     ]
    },
    {
     "name": "stdout",
     "output_type": "stream",
     "text": [
      "Finished run for neighbour size: 10 in 0:00:02.594190\n"
     ]
    },
    {
     "name": "stderr",
     "output_type": "stream",
     "text": [
      "100%|██████████| 122/122 [00:03<00:00, 40.42it/s]\n",
      "  2%|▏         | 3/122 [00:00<00:04, 25.70it/s]"
     ]
    },
    {
     "name": "stdout",
     "output_type": "stream",
     "text": [
      "Finished run for neighbour size: 25 in 0:00:03.022548\n"
     ]
    },
    {
     "name": "stderr",
     "output_type": "stream",
     "text": [
      "100%|██████████| 122/122 [00:03<00:00, 32.63it/s]\n",
      "  2%|▏         | 3/122 [00:00<00:04, 23.83it/s]"
     ]
    },
    {
     "name": "stdout",
     "output_type": "stream",
     "text": [
      "Finished run for neighbour size: 50 in 0:00:03.743705\n"
     ]
    },
    {
     "name": "stderr",
     "output_type": "stream",
     "text": [
      "100%|██████████| 122/122 [00:04<00:00, 27.64it/s]\n",
      "  2%|▏         | 3/122 [00:00<00:05, 20.58it/s]"
     ]
    },
    {
     "name": "stdout",
     "output_type": "stream",
     "text": [
      "Finished run for neighbour size: 75 in 0:00:04.418298\n"
     ]
    },
    {
     "name": "stderr",
     "output_type": "stream",
     "text": [
      "100%|██████████| 122/122 [00:05<00:00, 24.09it/s]\n"
     ]
    },
    {
     "name": "stdout",
     "output_type": "stream",
     "text": [
      "Finished run for neighbour size: 100 in 0:00:05.069293\n",
      "Finished run for language: Thai in 0:00:22.504053\n",
      "Loading embeddings: tr\n"
     ]
    },
    {
     "name": "stderr",
     "output_type": "stream",
     "text": [
      "  1%|▏         | 4/272 [00:00<00:08, 30.83it/s]"
     ]
    },
    {
     "name": "stdout",
     "output_type": "stream",
     "text": [
      "Embeddings tr loaded in 0:00:02.149041\n"
     ]
    },
    {
     "name": "stderr",
     "output_type": "stream",
     "text": [
      "100%|██████████| 272/272 [00:09<00:00, 27.32it/s]\n",
      "  1%|▏         | 4/272 [00:00<00:08, 29.98it/s]"
     ]
    },
    {
     "name": "stdout",
     "output_type": "stream",
     "text": [
      "Finished run for neighbour size: 5 in 0:00:09.962776\n"
     ]
    },
    {
     "name": "stderr",
     "output_type": "stream",
     "text": [
      "100%|██████████| 272/272 [00:10<00:00, 26.47it/s]\n",
      "  1%|▏         | 4/272 [00:00<00:09, 27.59it/s]"
     ]
    },
    {
     "name": "stdout",
     "output_type": "stream",
     "text": [
      "Finished run for neighbour size: 10 in 0:00:10.279054\n"
     ]
    },
    {
     "name": "stderr",
     "output_type": "stream",
     "text": [
      "100%|██████████| 272/272 [00:11<00:00, 24.22it/s]\n",
      "  1%|          | 2/272 [00:00<00:14, 18.03it/s]"
     ]
    },
    {
     "name": "stdout",
     "output_type": "stream",
     "text": [
      "Finished run for neighbour size: 25 in 0:00:11.235794\n"
     ]
    },
    {
     "name": "stderr",
     "output_type": "stream",
     "text": [
      "100%|██████████| 272/272 [00:12<00:00, 21.14it/s]\n",
      "  1%|          | 2/272 [00:00<00:17, 15.86it/s]"
     ]
    },
    {
     "name": "stdout",
     "output_type": "stream",
     "text": [
      "Finished run for neighbour size: 50 in 0:00:12.871450\n"
     ]
    },
    {
     "name": "stderr",
     "output_type": "stream",
     "text": [
      "100%|██████████| 272/272 [00:14<00:00, 18.97it/s]\n",
      "  1%|          | 2/272 [00:00<00:20, 13.09it/s]"
     ]
    },
    {
     "name": "stdout",
     "output_type": "stream",
     "text": [
      "Finished run for neighbour size: 75 in 0:00:14.341214\n"
     ]
    },
    {
     "name": "stderr",
     "output_type": "stream",
     "text": [
      "100%|██████████| 272/272 [00:15<00:00, 17.02it/s]"
     ]
    },
    {
     "name": "stdout",
     "output_type": "stream",
     "text": [
      "Finished run for neighbour size: 100 in 0:00:15.990070\n",
      "Finished run for language: Turkish in 0:01:16.831570\n",
      "Finished run for vector type: polyglot in 0:29:55.123786\n"
     ]
    },
    {
     "name": "stderr",
     "output_type": "stream",
     "text": [
      "\n"
     ]
    }
   ],
   "source": [
    "run_experiment_l1(pd_dataset)"
   ]
  },
  {
   "cell_type": "code",
   "execution_count": 13,
   "metadata": {
    "ExecuteTime": {
     "end_time": "2019-01-31T00:55:02.667062Z",
     "start_time": "2019-01-31T00:55:02.646335Z"
    }
   },
   "outputs": [],
   "source": [
    "for key in new_columns:\n",
    "    pd_dataset['l1_sim_polyglot_' + str(key)] = new_columns[key]\n",
    "#     print(len(new_columns[key]))"
   ]
  },
  {
   "cell_type": "code",
   "execution_count": 14,
   "metadata": {
    "ExecuteTime": {
     "end_time": "2019-01-31T00:55:05.358071Z",
     "start_time": "2019-01-31T00:55:05.124166Z"
    }
   },
   "outputs": [],
   "source": [
    "pd_dataset.to_csv('../data/ms_final_with_polyglot_3.csv', index = False)"
   ]
  },
  {
   "cell_type": "code",
   "execution_count": 15,
   "metadata": {
    "ExecuteTime": {
     "end_time": "2019-01-31T00:55:06.742602Z",
     "start_time": "2019-01-31T00:55:06.702643Z"
    }
   },
   "outputs": [
    {
     "data": {
      "text/html": [
       "<div>\n",
       "<style scoped>\n",
       "    .dataframe tbody tr th:only-of-type {\n",
       "        vertical-align: middle;\n",
       "    }\n",
       "\n",
       "    .dataframe tbody tr th {\n",
       "        vertical-align: top;\n",
       "    }\n",
       "\n",
       "    .dataframe thead th {\n",
       "        text-align: right;\n",
       "    }\n",
       "</style>\n",
       "<table border=\"1\" class=\"dataframe\">\n",
       "  <thead>\n",
       "    <tr style=\"text-align: right;\">\n",
       "      <th></th>\n",
       "      <th>c</th>\n",
       "      <th>i</th>\n",
       "      <th>id</th>\n",
       "      <th>l1_c</th>\n",
       "      <th>l1_i</th>\n",
       "      <th>language</th>\n",
       "      <th>type</th>\n",
       "      <th>code</th>\n",
       "      <th>l2_sim_cc_5</th>\n",
       "      <th>l2_sim_cc_10</th>\n",
       "      <th>...</th>\n",
       "      <th>l2_sim_polyglot_25</th>\n",
       "      <th>l2_sim_polyglot_50</th>\n",
       "      <th>l2_sim_polyglot_75</th>\n",
       "      <th>l2_sim_polyglot_100</th>\n",
       "      <th>l1_sim_polyglot_5</th>\n",
       "      <th>l1_sim_polyglot_10</th>\n",
       "      <th>l1_sim_polyglot_25</th>\n",
       "      <th>l1_sim_polyglot_50</th>\n",
       "      <th>l1_sim_polyglot_75</th>\n",
       "      <th>l1_sim_polyglot_100</th>\n",
       "    </tr>\n",
       "  </thead>\n",
       "  <tbody>\n",
       "    <tr>\n",
       "      <th>0</th>\n",
       "      <td>plans</td>\n",
       "      <td>projects</td>\n",
       "      <td>person_2799</td>\n",
       "      <td>plans</td>\n",
       "      <td>projectes</td>\n",
       "      <td>Catalan</td>\n",
       "      <td>RN</td>\n",
       "      <td>ca</td>\n",
       "      <td>0.315914</td>\n",
       "      <td>0.289572</td>\n",
       "      <td>...</td>\n",
       "      <td>0.666137</td>\n",
       "      <td>0.654442</td>\n",
       "      <td>0.646425</td>\n",
       "      <td>0.649371</td>\n",
       "      <td>0.751942</td>\n",
       "      <td>0.744027</td>\n",
       "      <td>0.726129</td>\n",
       "      <td>0.705850</td>\n",
       "      <td>0.694399</td>\n",
       "      <td>0.688358</td>\n",
       "    </tr>\n",
       "    <tr>\n",
       "      <th>221</th>\n",
       "      <td>independence</td>\n",
       "      <td>freedom</td>\n",
       "      <td>person_2132</td>\n",
       "      <td>independència</td>\n",
       "      <td>llibertat</td>\n",
       "      <td>Catalan</td>\n",
       "      <td>RN</td>\n",
       "      <td>ca</td>\n",
       "      <td>0.478300</td>\n",
       "      <td>0.455483</td>\n",
       "      <td>...</td>\n",
       "      <td>0.641429</td>\n",
       "      <td>0.614032</td>\n",
       "      <td>0.611689</td>\n",
       "      <td>0.604454</td>\n",
       "      <td>0.666178</td>\n",
       "      <td>0.661519</td>\n",
       "      <td>0.652071</td>\n",
       "      <td>0.664238</td>\n",
       "      <td>0.666610</td>\n",
       "      <td>0.661649</td>\n",
       "    </tr>\n",
       "    <tr>\n",
       "      <th>220</th>\n",
       "      <td>stars</td>\n",
       "      <td>starts</td>\n",
       "      <td>person_2127</td>\n",
       "      <td>estrelles</td>\n",
       "      <td>comença</td>\n",
       "      <td>Catalan</td>\n",
       "      <td>RN</td>\n",
       "      <td>ca</td>\n",
       "      <td>0.068227</td>\n",
       "      <td>0.068642</td>\n",
       "      <td>...</td>\n",
       "      <td>0.306266</td>\n",
       "      <td>0.308084</td>\n",
       "      <td>0.302099</td>\n",
       "      <td>0.312348</td>\n",
       "      <td>-0.095584</td>\n",
       "      <td>-0.052711</td>\n",
       "      <td>-0.037385</td>\n",
       "      <td>-0.041637</td>\n",
       "      <td>-0.040575</td>\n",
       "      <td>-0.040005</td>\n",
       "    </tr>\n",
       "    <tr>\n",
       "      <th>219</th>\n",
       "      <td>time</td>\n",
       "      <td>hours</td>\n",
       "      <td>person_2127</td>\n",
       "      <td>temps</td>\n",
       "      <td>hores</td>\n",
       "      <td>Catalan</td>\n",
       "      <td>RN</td>\n",
       "      <td>ca</td>\n",
       "      <td>0.464017</td>\n",
       "      <td>0.407275</td>\n",
       "      <td>...</td>\n",
       "      <td>0.279604</td>\n",
       "      <td>0.247636</td>\n",
       "      <td>0.219364</td>\n",
       "      <td>0.209386</td>\n",
       "      <td>0.253880</td>\n",
       "      <td>0.316569</td>\n",
       "      <td>0.298065</td>\n",
       "      <td>0.284307</td>\n",
       "      <td>0.273589</td>\n",
       "      <td>0.267860</td>\n",
       "    </tr>\n",
       "    <tr>\n",
       "      <th>218</th>\n",
       "      <td>coming</td>\n",
       "      <td>following</td>\n",
       "      <td>person_2127</td>\n",
       "      <td>venint</td>\n",
       "      <td>següents</td>\n",
       "      <td>Catalan</td>\n",
       "      <td>RJ</td>\n",
       "      <td>ca</td>\n",
       "      <td>0.183514</td>\n",
       "      <td>0.166062</td>\n",
       "      <td>...</td>\n",
       "      <td>0.310895</td>\n",
       "      <td>0.281859</td>\n",
       "      <td>0.282857</td>\n",
       "      <td>0.279149</td>\n",
       "      <td>0.053143</td>\n",
       "      <td>0.028941</td>\n",
       "      <td>0.003454</td>\n",
       "      <td>-0.000485</td>\n",
       "      <td>0.012008</td>\n",
       "      <td>0.015254</td>\n",
       "    </tr>\n",
       "  </tbody>\n",
       "</table>\n",
       "<p>5 rows × 38 columns</p>\n",
       "</div>"
      ],
      "text/plain": [
       "                c          i           id           l1_c       l1_i language  \\\n",
       "0           plans   projects  person_2799          plans  projectes  Catalan   \n",
       "221  independence    freedom  person_2132  independència  llibertat  Catalan   \n",
       "220         stars     starts  person_2127      estrelles    comença  Catalan   \n",
       "219          time      hours  person_2127          temps      hores  Catalan   \n",
       "218        coming  following  person_2127         venint   següents  Catalan   \n",
       "\n",
       "    type code  l2_sim_cc_5  l2_sim_cc_10         ...           \\\n",
       "0     RN   ca     0.315914      0.289572         ...            \n",
       "221   RN   ca     0.478300      0.455483         ...            \n",
       "220   RN   ca     0.068227      0.068642         ...            \n",
       "219   RN   ca     0.464017      0.407275         ...            \n",
       "218   RJ   ca     0.183514      0.166062         ...            \n",
       "\n",
       "     l2_sim_polyglot_25  l2_sim_polyglot_50  l2_sim_polyglot_75  \\\n",
       "0              0.666137            0.654442            0.646425   \n",
       "221            0.641429            0.614032            0.611689   \n",
       "220            0.306266            0.308084            0.302099   \n",
       "219            0.279604            0.247636            0.219364   \n",
       "218            0.310895            0.281859            0.282857   \n",
       "\n",
       "     l2_sim_polyglot_100  l1_sim_polyglot_5  l1_sim_polyglot_10  \\\n",
       "0               0.649371           0.751942            0.744027   \n",
       "221             0.604454           0.666178            0.661519   \n",
       "220             0.312348          -0.095584           -0.052711   \n",
       "219             0.209386           0.253880            0.316569   \n",
       "218             0.279149           0.053143            0.028941   \n",
       "\n",
       "     l1_sim_polyglot_25  l1_sim_polyglot_50  l1_sim_polyglot_75  \\\n",
       "0              0.726129            0.705850            0.694399   \n",
       "221            0.652071            0.664238            0.666610   \n",
       "220           -0.037385           -0.041637           -0.040575   \n",
       "219            0.298065            0.284307            0.273589   \n",
       "218            0.003454           -0.000485            0.012008   \n",
       "\n",
       "     l1_sim_polyglot_100  \n",
       "0               0.688358  \n",
       "221             0.661649  \n",
       "220            -0.040005  \n",
       "219             0.267860  \n",
       "218             0.015254  \n",
       "\n",
       "[5 rows x 38 columns]"
      ]
     },
     "execution_count": 15,
     "metadata": {},
     "output_type": "execute_result"
    }
   ],
   "source": [
    "pd_dataset.head()"
   ]
  },
  {
   "cell_type": "code",
   "execution_count": 3,
   "metadata": {
    "ExecuteTime": {
     "end_time": "2019-01-24T01:57:59.941893Z",
     "start_time": "2019-01-24T01:57:55.400664Z"
    }
   },
   "outputs": [],
   "source": [
    "english_embedding = Embedding.load(embedding_path + 'en/embeddings_pkl.tar.bz2')\n",
    "russian_embedding = Embedding.load(embedding_path + 'ru/embeddings_pkl.tar.bz2')"
   ]
  },
  {
   "cell_type": "code",
   "execution_count": 4,
   "metadata": {
    "ExecuteTime": {
     "end_time": "2019-01-24T02:04:26.315430Z",
     "start_time": "2019-01-24T02:04:26.189325Z"
    }
   },
   "outputs": [
    {
     "name": "stdout",
     "output_type": "stream",
     "text": [
      "['pulling', 'putting', 'keeping', 'sneaking', 'LEFTnot', 'fetching', 'carrying', 'practically', 'staking', 'soliciting']\n",
      "['adopting', 'supplying', 'overseeing', 'establishing', 'securing', 'obtaining', 'administering', 'purchasing', 'introducing', 'executing']\n",
      "['устранение', 'сохранение', 'поддержание', 'создание', 'осуществление', 'восстановление', 'составление', 'поощрение', 'улучшение', 'уничтожение']\n",
      "['достижения', 'установления', 'покупки', 'признания', 'использования', 'преобразования', 'формирования', 'посещения', 'объявления', 'построения']\n"
     ]
    }
   ],
   "source": [
    "getting_n = english_embedding.nearest_neighbors(\"getting\", top_k = 10)\n",
    "acq_n = english_embedding.nearest_neighbors(\"acquiring\", top_k = 10)\n",
    "\n",
    "w1_n = russian_embedding.nearest_neighbors(\"получение\", top_k = 10)\n",
    "w2_n = russian_embedding.nearest_neighbors(\"приобретения\", top_k = 10)\n",
    "\n",
    "print(getting_n)\n",
    "print(acq_n)\n",
    "print(w1_n)\n",
    "print(w2_n)"
   ]
  },
  {
   "cell_type": "code",
   "execution_count": null,
   "metadata": {},
   "outputs": [],
   "source": []
  }
 ],
 "metadata": {
  "kernelspec": {
   "display_name": "Python 3",
   "language": "python",
   "name": "python3"
  },
  "varInspector": {
   "cols": {
    "lenName": 16,
    "lenType": 16,
    "lenVar": 40
   },
   "kernels_config": {
    "python": {
     "delete_cmd_postfix": "",
     "delete_cmd_prefix": "del ",
     "library": "var_list.py",
     "varRefreshCmd": "print(var_dic_list())"
    },
    "r": {
     "delete_cmd_postfix": ") ",
     "delete_cmd_prefix": "rm(",
     "library": "var_list.r",
     "varRefreshCmd": "cat(var_dic_list()) "
    }
   },
   "types_to_exclude": [
    "module",
    "function",
    "builtin_function_or_method",
    "instance",
    "_Feature"
   ],
   "window_display": false
  }
 },
 "nbformat": 4,
 "nbformat_minor": 2
}
