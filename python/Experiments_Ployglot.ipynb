{
 "cells": [
  {
   "cell_type": "code",
   "execution_count": 1,
   "metadata": {
    "ExecuteTime": {
     "end_time": "2019-01-24T04:05:55.978434Z",
     "start_time": "2019-01-24T04:05:55.487019Z"
    }
   },
   "outputs": [],
   "source": [
    "from gensim.models import KeyedVectors\n",
    "from sklearn.metrics.pairwise import cosine_similarity\n",
    "import numpy as np\n",
    "import pandas as pd\n",
    "from datetime import datetime\n",
    "from tqdm import tqdm\n",
    "from polyglot.mapping import Embedding"
   ]
  },
  {
   "cell_type": "code",
   "execution_count": 2,
   "metadata": {
    "ExecuteTime": {
     "end_time": "2019-01-24T04:06:03.459853Z",
     "start_time": "2019-01-24T04:06:03.452597Z"
    }
   },
   "outputs": [],
   "source": [
    "neighbour_list = [5, 10, 25, 50, 75, 100]\n",
    "embedding_list = ['polyglot']\n",
    "embedding_path = '../data/pretrained_embeddings/polyglot/embeddings2/'"
   ]
  },
  {
   "cell_type": "code",
   "execution_count": 3,
   "metadata": {
    "ExecuteTime": {
     "end_time": "2019-01-24T04:06:04.219363Z",
     "start_time": "2019-01-24T04:06:04.158254Z"
    }
   },
   "outputs": [],
   "source": [
    "def get_embedding_file_name(language):\n",
    "    file_name = ''\n",
    "    if (language == \"Russian\"):\n",
    "        file_name += 'ru'\n",
    "    elif (language == \"Turkish\"):\n",
    "        file_name += 'tr'\n",
    "    elif (language == \"German\"):\n",
    "        file_name += 'de'\n",
    "    elif (language == \"Japanese\"):\n",
    "        file_name += 'ja'\n",
    "    elif (language == \"Spanish\"):\n",
    "        file_name += 'es'\n",
    "    elif (language == \"Polish\"):\n",
    "        file_name += 'pl'\n",
    "    elif (language == \"Italian\"):\n",
    "        file_name += 'it'\n",
    "    elif (language == \"Catalan\"):\n",
    "        file_name += 'ca'\n",
    "    elif (language == \"Korean\"):\n",
    "        file_name += 'ko'\n",
    "    elif (language == \"French\"):\n",
    "        file_name += 'fr'\n",
    "    elif (language == \"Chinese\" or language == \"Chinese (Simplified)\"):\n",
    "        file_name += 'zh'\n",
    "    elif (language == \"Portuguese\"):\n",
    "        file_name += 'pt'\n",
    "    elif (language == \"Swedish\"):\n",
    "        file_name += 'sv'\n",
    "    elif (language == \"Greek\"):\n",
    "        file_name += 'el'\n",
    "    elif (language == \"Thai\"):\n",
    "        file_name += 'th'\n",
    "    elif (language == \"Dutch\"):\n",
    "        file_name += 'nl'\n",
    "    elif (language == \"English\"):\n",
    "        file_name += 'en'\n",
    "        \n",
    "    return file_name\n",
    "\n",
    "def load_embedding_vector(lang):\n",
    "    return Embedding.load(embedding_path + lang + '/embeddings_pkl.tar.bz2')"
   ]
  },
  {
   "cell_type": "code",
   "execution_count": 4,
   "metadata": {
    "ExecuteTime": {
     "end_time": "2019-01-24T04:06:05.471777Z",
     "start_time": "2019-01-24T04:06:05.427611Z"
    }
   },
   "outputs": [],
   "source": [
    "def proper_case(word):\n",
    "    return word[0].upper() + word[1:]\n",
    "\n",
    "def get_similarity(w1, w2, embeddings, size):\n",
    "    \n",
    "    try:\n",
    "        w1_vec = embeddings[w1]\n",
    "        w2_vec = embeddings[w2]\n",
    "    except KeyError:\n",
    "        try:\n",
    "            w1 = proper_case(w1)\n",
    "            w2 = proper_case(w2)\n",
    "            w1_vec = embeddings[w1]\n",
    "            w2_vec = embeddings[w2]\n",
    "        except KeyError:\n",
    "            return -10\n",
    "    \n",
    "    w1_neighbours = embeddings.nearest_neighbors(w1, top_k = size)\n",
    "    w2_neighbours = embeddings.nearest_neighbors(w2, top_k = size)\n",
    "    \n",
    "    w1_neighbour_vectors = [embeddings[word] for word in w1_neighbours]\n",
    "    w2_neighbour_vectors = [embeddings[word] for word in w2_neighbours]\n",
    "    \n",
    "    w1_cosine = np.average([cosine_similarity([w1_vec], [w2_n_vec]) for w2_n_vec in w2_neighbour_vectors])\n",
    "    w2_cosine = np.average([cosine_similarity([w2_vec], [w1_n_vec]) for w1_n_vec in w1_neighbour_vectors])\n",
    "    \n",
    "    return np.average([w1_cosine, w2_cosine])"
   ]
  },
  {
   "cell_type": "code",
   "execution_count": 19,
   "metadata": {
    "ExecuteTime": {
     "end_time": "2019-01-24T02:13:09.516869Z",
     "start_time": "2019-01-24T02:13:09.445989Z"
    }
   },
   "outputs": [
    {
     "data": {
      "text/html": [
       "<div>\n",
       "<style scoped>\n",
       "    .dataframe tbody tr th:only-of-type {\n",
       "        vertical-align: middle;\n",
       "    }\n",
       "\n",
       "    .dataframe tbody tr th {\n",
       "        vertical-align: top;\n",
       "    }\n",
       "\n",
       "    .dataframe thead th {\n",
       "        text-align: right;\n",
       "    }\n",
       "</style>\n",
       "<table border=\"1\" class=\"dataframe\">\n",
       "  <thead>\n",
       "    <tr style=\"text-align: right;\">\n",
       "      <th></th>\n",
       "      <th>c</th>\n",
       "      <th>i</th>\n",
       "      <th>id</th>\n",
       "      <th>l1_c</th>\n",
       "      <th>l1_i</th>\n",
       "      <th>language</th>\n",
       "      <th>type</th>\n",
       "      <th>code</th>\n",
       "      <th>l2_sim_cc_5</th>\n",
       "      <th>l2_sim_cc_10</th>\n",
       "      <th>...</th>\n",
       "      <th>l1_sim_cc_25</th>\n",
       "      <th>l1_sim_cc_50</th>\n",
       "      <th>l1_sim_cc_75</th>\n",
       "      <th>l1_sim_cc_100</th>\n",
       "      <th>l2_sim_wiki_5</th>\n",
       "      <th>l2_sim_wiki_10</th>\n",
       "      <th>l2_sim_wiki_25</th>\n",
       "      <th>l2_sim_wiki_50</th>\n",
       "      <th>l2_sim_wiki_75</th>\n",
       "      <th>l2_sim_wiki_100</th>\n",
       "    </tr>\n",
       "  </thead>\n",
       "  <tbody>\n",
       "    <tr>\n",
       "      <th>0</th>\n",
       "      <td>plans</td>\n",
       "      <td>projects</td>\n",
       "      <td>person_2799</td>\n",
       "      <td>plans</td>\n",
       "      <td>projectes</td>\n",
       "      <td>Catalan</td>\n",
       "      <td>RN</td>\n",
       "      <td>ca</td>\n",
       "      <td>0.315914</td>\n",
       "      <td>0.289572</td>\n",
       "      <td>...</td>\n",
       "      <td>0.513301</td>\n",
       "      <td>0.508249</td>\n",
       "      <td>0.497365</td>\n",
       "      <td>0.494275</td>\n",
       "      <td>0.256624</td>\n",
       "      <td>0.263855</td>\n",
       "      <td>0.216694</td>\n",
       "      <td>0.194096</td>\n",
       "      <td>0.187172</td>\n",
       "      <td>0.185074</td>\n",
       "    </tr>\n",
       "    <tr>\n",
       "      <th>221</th>\n",
       "      <td>especially</td>\n",
       "      <td>specially</td>\n",
       "      <td>person_2421</td>\n",
       "      <td>especialment</td>\n",
       "      <td>especialment</td>\n",
       "      <td>Catalan</td>\n",
       "      <td>RY</td>\n",
       "      <td>ca</td>\n",
       "      <td>0.342199</td>\n",
       "      <td>0.336672</td>\n",
       "      <td>...</td>\n",
       "      <td>0.676789</td>\n",
       "      <td>0.635269</td>\n",
       "      <td>0.615089</td>\n",
       "      <td>0.602047</td>\n",
       "      <td>0.153657</td>\n",
       "      <td>0.153794</td>\n",
       "      <td>0.138989</td>\n",
       "      <td>0.123324</td>\n",
       "      <td>0.112214</td>\n",
       "      <td>0.106564</td>\n",
       "    </tr>\n",
       "    <tr>\n",
       "      <th>220</th>\n",
       "      <td>waste</td>\n",
       "      <td>lose</td>\n",
       "      <td>person_2421</td>\n",
       "      <td>malgastar</td>\n",
       "      <td>perdre</td>\n",
       "      <td>Catalan</td>\n",
       "      <td>RV</td>\n",
       "      <td>ca</td>\n",
       "      <td>0.197119</td>\n",
       "      <td>0.175892</td>\n",
       "      <td>...</td>\n",
       "      <td>0.425895</td>\n",
       "      <td>0.418449</td>\n",
       "      <td>0.414079</td>\n",
       "      <td>0.411164</td>\n",
       "      <td>0.092023</td>\n",
       "      <td>0.086759</td>\n",
       "      <td>0.080194</td>\n",
       "      <td>0.080709</td>\n",
       "      <td>0.076916</td>\n",
       "      <td>0.081092</td>\n",
       "    </tr>\n",
       "    <tr>\n",
       "      <th>219</th>\n",
       "      <td>ending</td>\n",
       "      <td>end</td>\n",
       "      <td>person_1465</td>\n",
       "      <td>final</td>\n",
       "      <td>final</td>\n",
       "      <td>Catalan</td>\n",
       "      <td>RN</td>\n",
       "      <td>ca</td>\n",
       "      <td>0.591592</td>\n",
       "      <td>0.500977</td>\n",
       "      <td>...</td>\n",
       "      <td>0.708057</td>\n",
       "      <td>0.666229</td>\n",
       "      <td>0.637293</td>\n",
       "      <td>0.616535</td>\n",
       "      <td>0.650926</td>\n",
       "      <td>0.507235</td>\n",
       "      <td>0.374291</td>\n",
       "      <td>0.322232</td>\n",
       "      <td>0.303969</td>\n",
       "      <td>0.291704</td>\n",
       "    </tr>\n",
       "    <tr>\n",
       "      <th>218</th>\n",
       "      <td>shot</td>\n",
       "      <td>view</td>\n",
       "      <td>person_1465</td>\n",
       "      <td>disparat</td>\n",
       "      <td>mostra</td>\n",
       "      <td>Catalan</td>\n",
       "      <td>RN</td>\n",
       "      <td>ca</td>\n",
       "      <td>0.210400</td>\n",
       "      <td>0.187495</td>\n",
       "      <td>...</td>\n",
       "      <td>0.237338</td>\n",
       "      <td>0.222958</td>\n",
       "      <td>0.225796</td>\n",
       "      <td>0.222587</td>\n",
       "      <td>0.104407</td>\n",
       "      <td>0.092781</td>\n",
       "      <td>0.089016</td>\n",
       "      <td>0.079768</td>\n",
       "      <td>0.077828</td>\n",
       "      <td>0.076215</td>\n",
       "    </tr>\n",
       "  </tbody>\n",
       "</table>\n",
       "<p>5 rows × 26 columns</p>\n",
       "</div>"
      ],
      "text/plain": [
       "              c          i           id          l1_c          l1_i language  \\\n",
       "0         plans   projects  person_2799         plans     projectes  Catalan   \n",
       "221  especially  specially  person_2421  especialment  especialment  Catalan   \n",
       "220       waste       lose  person_2421     malgastar        perdre  Catalan   \n",
       "219      ending        end  person_1465         final         final  Catalan   \n",
       "218        shot       view  person_1465      disparat        mostra  Catalan   \n",
       "\n",
       "    type code  l2_sim_cc_5  l2_sim_cc_10       ...         l1_sim_cc_25  \\\n",
       "0     RN   ca     0.315914      0.289572       ...             0.513301   \n",
       "221   RY   ca     0.342199      0.336672       ...             0.676789   \n",
       "220   RV   ca     0.197119      0.175892       ...             0.425895   \n",
       "219   RN   ca     0.591592      0.500977       ...             0.708057   \n",
       "218   RN   ca     0.210400      0.187495       ...             0.237338   \n",
       "\n",
       "     l1_sim_cc_50  l1_sim_cc_75  l1_sim_cc_100  l2_sim_wiki_5  l2_sim_wiki_10  \\\n",
       "0        0.508249      0.497365       0.494275       0.256624        0.263855   \n",
       "221      0.635269      0.615089       0.602047       0.153657        0.153794   \n",
       "220      0.418449      0.414079       0.411164       0.092023        0.086759   \n",
       "219      0.666229      0.637293       0.616535       0.650926        0.507235   \n",
       "218      0.222958      0.225796       0.222587       0.104407        0.092781   \n",
       "\n",
       "     l2_sim_wiki_25  l2_sim_wiki_50  l2_sim_wiki_75  l2_sim_wiki_100  \n",
       "0          0.216694        0.194096        0.187172         0.185074  \n",
       "221        0.138989        0.123324        0.112214         0.106564  \n",
       "220        0.080194        0.080709        0.076916         0.081092  \n",
       "219        0.374291        0.322232        0.303969         0.291704  \n",
       "218        0.089016        0.079768        0.077828         0.076215  \n",
       "\n",
       "[5 rows x 26 columns]"
      ]
     },
     "execution_count": 19,
     "metadata": {},
     "output_type": "execute_result"
    }
   ],
   "source": [
    "source = '../data/ms_final_experiments_with_wiki.csv'\n",
    "pd_dataset = pd.read_csv(source)\n",
    "pd_dataset = pd_dataset.sort_values(by = 'language', ascending = True)\n",
    "pd_dataset.head()"
   ]
  },
  {
   "cell_type": "code",
   "execution_count": 20,
   "metadata": {
    "ExecuteTime": {
     "end_time": "2019-01-24T02:13:09.982067Z",
     "start_time": "2019-01-24T02:13:09.947972Z"
    }
   },
   "outputs": [],
   "source": [
    "def run_experiment_english(dataframe):\n",
    "    for vector_type in embedding_list:\n",
    "        vec_type_start = datetime.now()\n",
    "        embedding_file_name = get_embedding_file_name(\"English\")\n",
    "        print('Loading embeddings: ' + embedding_file_name)\n",
    "        embeddings = load_embedding_vector(embedding_file_name)\n",
    "        print('Embeddings ' + embedding_file_name + ' loaded in ' + str(datetime.now() - vec_type_start))\n",
    "        for neighbour_size in neighbour_list:\n",
    "            neighbour_size_start = datetime.now()\n",
    "            l2_sim = []\n",
    "            for ind, row in tqdm(dataframe.iterrows(), total=dataframe.shape[0]):\n",
    "                w1 = row['c']\n",
    "                w2 = row['i']\n",
    "                l2_sim.append(get_similarity(w1, w2, embeddings, neighbour_size))\n",
    "            dataframe['l2_sim_' + vector_type + '_' + str(neighbour_size)] = l2_sim\n",
    "            print('Finished run for neighbour size: ' + str(neighbour_size) + ' in ' + str(datetime.now() - neighbour_size_start))\n",
    "        print('Finished run for vector type: ' + vector_type + ' in ' + str(datetime.now() - vec_type_start))"
   ]
  },
  {
   "cell_type": "code",
   "execution_count": 22,
   "metadata": {
    "ExecuteTime": {
     "end_time": "2019-01-24T02:40:03.273590Z",
     "start_time": "2019-01-24T02:13:17.396735Z"
    }
   },
   "outputs": [
    {
     "name": "stdout",
     "output_type": "stream",
     "text": [
      "Loading embeddings: en\n"
     ]
    },
    {
     "name": "stderr",
     "output_type": "stream",
     "text": [
      "  0%|          | 3/4937 [00:00<03:51, 21.34it/s]"
     ]
    },
    {
     "name": "stdout",
     "output_type": "stream",
     "text": [
      "Embeddings en loaded in 0:00:02.179992\n"
     ]
    },
    {
     "name": "stderr",
     "output_type": "stream",
     "text": [
      "100%|██████████| 4937/4937 [03:33<00:00, 23.14it/s]\n",
      "  0%|          | 3/4937 [00:00<03:46, 21.78it/s]"
     ]
    },
    {
     "name": "stdout",
     "output_type": "stream",
     "text": [
      "Finished run for neighbour size: 5 in 0:03:33.382582\n"
     ]
    },
    {
     "name": "stderr",
     "output_type": "stream",
     "text": [
      "100%|██████████| 4937/4937 [03:39<00:00, 22.44it/s]\n",
      "  0%|          | 2/4937 [00:00<04:10, 19.67it/s]"
     ]
    },
    {
     "name": "stdout",
     "output_type": "stream",
     "text": [
      "Finished run for neighbour size: 10 in 0:03:39.987259\n"
     ]
    },
    {
     "name": "stderr",
     "output_type": "stream",
     "text": [
      "100%|██████████| 4937/4937 [04:02<00:00, 20.39it/s]\n",
      "  0%|          | 2/4937 [00:00<04:42, 17.48it/s]"
     ]
    },
    {
     "name": "stdout",
     "output_type": "stream",
     "text": [
      "Finished run for neighbour size: 25 in 0:04:02.131728\n"
     ]
    },
    {
     "name": "stderr",
     "output_type": "stream",
     "text": [
      "100%|██████████| 4937/4937 [04:36<00:00, 17.87it/s]\n",
      "  0%|          | 2/4937 [00:00<05:13, 15.76it/s]"
     ]
    },
    {
     "name": "stdout",
     "output_type": "stream",
     "text": [
      "Finished run for neighbour size: 50 in 0:04:36.297518\n"
     ]
    },
    {
     "name": "stderr",
     "output_type": "stream",
     "text": [
      "100%|██████████| 4937/4937 [05:08<00:00, 16.01it/s]\n",
      "  0%|          | 2/4937 [00:00<05:51, 14.04it/s]"
     ]
    },
    {
     "name": "stdout",
     "output_type": "stream",
     "text": [
      "Finished run for neighbour size: 75 in 0:05:08.412277\n"
     ]
    },
    {
     "name": "stderr",
     "output_type": "stream",
     "text": [
      "100%|██████████| 4937/4937 [05:43<00:00, 14.37it/s]"
     ]
    },
    {
     "name": "stdout",
     "output_type": "stream",
     "text": [
      "Finished run for neighbour size: 100 in 0:05:43.475218\n",
      "Finished run for vector type: polyglot in 0:26:45.867292\n"
     ]
    },
    {
     "name": "stderr",
     "output_type": "stream",
     "text": [
      "\n"
     ]
    }
   ],
   "source": [
    "run_experiment_english(pd_dataset)"
   ]
  },
  {
   "cell_type": "code",
   "execution_count": 23,
   "metadata": {
    "ExecuteTime": {
     "end_time": "2019-01-24T02:40:29.658053Z",
     "start_time": "2019-01-24T02:40:29.459388Z"
    }
   },
   "outputs": [],
   "source": [
    "pd_dataset.to_csv('../data/ms_final_polyglot_english_2.csv', index = False)"
   ]
  },
  {
   "cell_type": "code",
   "execution_count": 5,
   "metadata": {
    "ExecuteTime": {
     "end_time": "2019-01-24T04:06:10.963977Z",
     "start_time": "2019-01-24T04:06:10.909622Z"
    }
   },
   "outputs": [],
   "source": [
    "def get_experiment_model(language, vector_type):\n",
    "    vec_type_start = datetime.now()\n",
    "    embedding_file_name = get_embedding_file_name(language)\n",
    "    print('Loading embeddings: ' + embedding_file_name)\n",
    "    embeddings = load_embedding_vector(embedding_file_name)\n",
    "    print('Embeddings ' + embedding_file_name + ' loaded in ' + str(datetime.now() - vec_type_start))\n",
    "    return embeddings\n",
    "new_columns = {'5': [], '10': [], '25': [], '50': [], '75': [], '100': []}\n",
    "def run_experiment_l1(dataframe):\n",
    "    current_lang = ''\n",
    "    current_vector_type = ''\n",
    "    \n",
    "    for vector_type in embedding_list:\n",
    "        vec_type_start = datetime.now()\n",
    "        for language in language_list:\n",
    "            language_start = datetime.now()\n",
    "            embeddings = get_experiment_model(language, vector_type)\n",
    "            for neighbour_size in neighbour_list:\n",
    "                neighbour_size_start = datetime.now()\n",
    "#                 l1_sim = []\n",
    "                dset = dataframe[dataframe['language'] == language]\n",
    "                for ind, row in tqdm(dset.iterrows(), total=dset.shape[0]):\n",
    "                    w1 = row['l1_c']\n",
    "                    w2 = row['l1_i']\n",
    "                    new_columns[str(neighbour_size)].append(get_similarity(w1, w2, embeddings, neighbour_size))\n",
    "#                 dataframe['l1_sim_' + vector_type + '_' + str(neighbour_size)] = l1_sim \n",
    "                print('Finished run for neighbour size: ' + str(neighbour_size) + ' in ' + str(datetime.now() - neighbour_size_start))\n",
    "            print('Finished run for language: ' + language + ' in ' + str(datetime.now() - language_start))\n",
    "        print('Finished run for vector type: ' + vector_type + ' in ' + str(datetime.now() - vec_type_start))"
   ]
  },
  {
   "cell_type": "code",
   "execution_count": 6,
   "metadata": {
    "ExecuteTime": {
     "end_time": "2019-01-24T04:06:18.984737Z",
     "start_time": "2019-01-24T04:06:18.916184Z"
    }
   },
   "outputs": [],
   "source": [
    "neighbour_list = [5, 10, 25, 50, 75, 100]\n",
    "embedding_list = ['polyglot']\n",
    "embedding_path = '../data/pretrained_embeddings/polyglot/embeddings2/'\n",
    "source = '../data/ms_final_polyglot_english_2.csv'\n",
    "\n",
    "pd_dataset = pd.read_csv(source)\n",
    "pd_dataset = pd_dataset.sort_values(by = 'language', ascending = True)\n",
    "pd_dataset.head()\n",
    "language_list = pd_dataset['language'].unique()"
   ]
  },
  {
   "cell_type": "code",
   "execution_count": null,
   "metadata": {
    "ExecuteTime": {
     "start_time": "2019-01-24T04:08:52.882Z"
    }
   },
   "outputs": [
    {
     "name": "stdout",
     "output_type": "stream",
     "text": [
      "Loading embeddings: ca\n"
     ]
    },
    {
     "name": "stderr",
     "output_type": "stream",
     "text": [
      "  1%|          | 2/325 [00:00<00:17, 18.54it/s]"
     ]
    },
    {
     "name": "stdout",
     "output_type": "stream",
     "text": [
      "Embeddings ca loaded in 0:00:02.389188\n"
     ]
    },
    {
     "name": "stderr",
     "output_type": "stream",
     "text": [
      "100%|██████████| 325/325 [00:14<00:00, 21.96it/s]\n",
      "  1%|          | 3/325 [00:00<00:15, 21.02it/s]"
     ]
    },
    {
     "name": "stdout",
     "output_type": "stream",
     "text": [
      "Finished run for neighbour size: 5 in 0:00:14.807869\n"
     ]
    },
    {
     "name": "stderr",
     "output_type": "stream",
     "text": [
      "100%|██████████| 325/325 [00:15<00:00, 21.31it/s]\n",
      "  1%|          | 2/325 [00:00<00:16, 19.29it/s]"
     ]
    },
    {
     "name": "stdout",
     "output_type": "stream",
     "text": [
      "Finished run for neighbour size: 10 in 0:00:15.252374\n"
     ]
    },
    {
     "name": "stderr",
     "output_type": "stream",
     "text": [
      "100%|██████████| 325/325 [00:16<00:00, 19.62it/s]\n",
      "  1%|          | 2/325 [00:00<00:19, 16.86it/s]"
     ]
    },
    {
     "name": "stdout",
     "output_type": "stream",
     "text": [
      "Finished run for neighbour size: 25 in 0:00:16.567938\n"
     ]
    },
    {
     "name": "stderr",
     "output_type": "stream",
     "text": [
      "100%|██████████| 325/325 [00:18<00:00, 17.51it/s]\n",
      "  1%|          | 2/325 [00:00<00:23, 13.49it/s]"
     ]
    },
    {
     "name": "stdout",
     "output_type": "stream",
     "text": [
      "Finished run for neighbour size: 50 in 0:00:18.568238\n"
     ]
    },
    {
     "name": "stderr",
     "output_type": "stream",
     "text": [
      "100%|██████████| 325/325 [00:20<00:00, 15.68it/s]\n",
      "  1%|          | 2/325 [00:00<00:23, 13.89it/s]"
     ]
    },
    {
     "name": "stdout",
     "output_type": "stream",
     "text": [
      "Finished run for neighbour size: 75 in 0:00:20.735994\n"
     ]
    },
    {
     "name": "stderr",
     "output_type": "stream",
     "text": [
      "100%|██████████| 325/325 [00:22<00:00, 14.17it/s]\n"
     ]
    },
    {
     "name": "stdout",
     "output_type": "stream",
     "text": [
      "Finished run for neighbour size: 100 in 0:00:22.942075\n",
      "Finished run for language: Catalan in 0:01:51.264242\n",
      "Loading embeddings: zh\n"
     ]
    },
    {
     "name": "stderr",
     "output_type": "stream",
     "text": [
      "  1%|          | 3/310 [00:00<00:14, 21.84it/s]"
     ]
    },
    {
     "name": "stdout",
     "output_type": "stream",
     "text": [
      "Embeddings zh loaded in 0:00:02.147104\n"
     ]
    },
    {
     "name": "stderr",
     "output_type": "stream",
     "text": [
      "100%|██████████| 310/310 [00:12<00:00, 23.98it/s]\n",
      "  1%|          | 3/310 [00:00<00:13, 22.68it/s]"
     ]
    },
    {
     "name": "stdout",
     "output_type": "stream",
     "text": [
      "Finished run for neighbour size: 5 in 0:00:12.930677\n"
     ]
    },
    {
     "name": "stderr",
     "output_type": "stream",
     "text": [
      "100%|██████████| 310/310 [00:13<00:00, 23.39it/s]\n",
      "  1%|          | 2/310 [00:00<00:15, 19.43it/s]"
     ]
    },
    {
     "name": "stdout",
     "output_type": "stream",
     "text": [
      "Finished run for neighbour size: 10 in 0:00:13.257554\n"
     ]
    },
    {
     "name": "stderr",
     "output_type": "stream",
     "text": [
      "100%|██████████| 310/310 [00:14<00:00, 21.41it/s]\n",
      "  1%|          | 2/310 [00:00<00:17, 17.50it/s]"
     ]
    },
    {
     "name": "stdout",
     "output_type": "stream",
     "text": [
      "Finished run for neighbour size: 25 in 0:00:14.481830\n"
     ]
    },
    {
     "name": "stderr",
     "output_type": "stream",
     "text": [
      "100%|██████████| 310/310 [00:16<00:00, 18.84it/s]\n",
      "  1%|          | 2/310 [00:00<00:20, 15.31it/s]"
     ]
    },
    {
     "name": "stdout",
     "output_type": "stream",
     "text": [
      "Finished run for neighbour size: 50 in 0:00:16.455381\n"
     ]
    },
    {
     "name": "stderr",
     "output_type": "stream",
     "text": [
      "100%|██████████| 310/310 [00:18<00:00, 16.83it/s]\n",
      "  1%|          | 2/310 [00:00<00:20, 14.78it/s]"
     ]
    },
    {
     "name": "stdout",
     "output_type": "stream",
     "text": [
      "Finished run for neighbour size: 75 in 0:00:18.421487\n"
     ]
    },
    {
     "name": "stderr",
     "output_type": "stream",
     "text": [
      "100%|██████████| 310/310 [00:20<00:00, 15.13it/s]\n"
     ]
    },
    {
     "name": "stdout",
     "output_type": "stream",
     "text": [
      "Finished run for neighbour size: 100 in 0:00:20.495805\n",
      "Finished run for language: Chinese (Simplified) in 0:01:38.195283\n",
      "Loading embeddings: nl\n"
     ]
    },
    {
     "name": "stderr",
     "output_type": "stream",
     "text": [
      " 60%|██████    | 3/5 [00:00<00:00, 22.27it/s]"
     ]
    },
    {
     "name": "stdout",
     "output_type": "stream",
     "text": [
      "Embeddings nl loaded in 0:00:02.228380\n"
     ]
    },
    {
     "name": "stderr",
     "output_type": "stream",
     "text": [
      "100%|██████████| 5/5 [00:00<00:00, 22.29it/s]\n",
      " 60%|██████    | 3/5 [00:00<00:00, 22.17it/s]"
     ]
    },
    {
     "name": "stdout",
     "output_type": "stream",
     "text": [
      "Finished run for neighbour size: 5 in 0:00:00.228454\n"
     ]
    },
    {
     "name": "stderr",
     "output_type": "stream",
     "text": [
      "100%|██████████| 5/5 [00:00<00:00, 21.97it/s]\n",
      " 60%|██████    | 3/5 [00:00<00:00, 20.81it/s]"
     ]
    },
    {
     "name": "stdout",
     "output_type": "stream",
     "text": [
      "Finished run for neighbour size: 10 in 0:00:00.231913\n"
     ]
    },
    {
     "name": "stderr",
     "output_type": "stream",
     "text": [
      "100%|██████████| 5/5 [00:00<00:00, 20.54it/s]\n",
      " 40%|████      | 2/5 [00:00<00:00, 17.92it/s]"
     ]
    },
    {
     "name": "stdout",
     "output_type": "stream",
     "text": [
      "Finished run for neighbour size: 25 in 0:00:00.247876\n"
     ]
    },
    {
     "name": "stderr",
     "output_type": "stream",
     "text": [
      "100%|██████████| 5/5 [00:00<00:00, 16.37it/s]\n",
      " 40%|████      | 2/5 [00:00<00:00, 15.95it/s]"
     ]
    },
    {
     "name": "stdout",
     "output_type": "stream",
     "text": [
      "Finished run for neighbour size: 50 in 0:00:00.309900\n"
     ]
    },
    {
     "name": "stderr",
     "output_type": "stream",
     "text": [
      "100%|██████████| 5/5 [00:00<00:00, 15.76it/s]\n",
      " 40%|████      | 2/5 [00:00<00:00, 14.26it/s]"
     ]
    },
    {
     "name": "stdout",
     "output_type": "stream",
     "text": [
      "Finished run for neighbour size: 75 in 0:00:00.321769\n"
     ]
    },
    {
     "name": "stderr",
     "output_type": "stream",
     "text": [
      "100%|██████████| 5/5 [00:00<00:00, 14.14it/s]\n"
     ]
    },
    {
     "name": "stdout",
     "output_type": "stream",
     "text": [
      "Finished run for neighbour size: 100 in 0:00:00.357744\n",
      "Finished run for language: Dutch in 0:00:03.930616\n",
      "Loading embeddings: fr\n"
     ]
    },
    {
     "name": "stderr",
     "output_type": "stream",
     "text": [
      "  0%|          | 3/794 [00:00<00:42, 18.49it/s]"
     ]
    },
    {
     "name": "stdout",
     "output_type": "stream",
     "text": [
      "Embeddings fr loaded in 0:00:02.134273\n"
     ]
    },
    {
     "name": "stderr",
     "output_type": "stream",
     "text": [
      "100%|██████████| 794/794 [00:34<00:00, 22.82it/s]\n",
      "  0%|          | 3/794 [00:00<00:35, 22.16it/s]"
     ]
    },
    {
     "name": "stdout",
     "output_type": "stream",
     "text": [
      "Finished run for neighbour size: 5 in 0:00:34.792262\n"
     ]
    },
    {
     "name": "stderr",
     "output_type": "stream",
     "text": [
      "100%|██████████| 794/794 [00:35<00:00, 22.19it/s]\n",
      "  0%|          | 3/794 [00:00<00:38, 20.41it/s]"
     ]
    },
    {
     "name": "stdout",
     "output_type": "stream",
     "text": [
      "Finished run for neighbour size: 10 in 0:00:35.791464\n"
     ]
    },
    {
     "name": "stderr",
     "output_type": "stream",
     "text": [
      " 66%|██████▌   | 521/794 [00:25<00:13, 20.48it/s]"
     ]
    }
   ],
   "source": [
    "run_experiment_l1(pd_dataset)"
   ]
  },
  {
   "cell_type": "code",
   "execution_count": 9,
   "metadata": {
    "ExecuteTime": {
     "end_time": "2019-01-24T05:39:06.149232Z",
     "start_time": "2019-01-24T05:39:06.128716Z"
    }
   },
   "outputs": [],
   "source": [
    "for key in new_columns:\n",
    "    pd_dataset['l1_sim_polyglot_' + str(key)] = new_columns[key]\n",
    "#     print(len(new_columns[key]))"
   ]
  },
  {
   "cell_type": "code",
   "execution_count": 10,
   "metadata": {
    "ExecuteTime": {
     "end_time": "2019-01-24T05:39:08.889626Z",
     "start_time": "2019-01-24T05:39:08.658581Z"
    }
   },
   "outputs": [],
   "source": [
    "pd_dataset.to_csv('../data/ms_final_with_polyglot_2.csv', index = False)"
   ]
  },
  {
   "cell_type": "code",
   "execution_count": 11,
   "metadata": {
    "ExecuteTime": {
     "end_time": "2019-01-24T05:39:41.875084Z",
     "start_time": "2019-01-24T05:39:41.830040Z"
    }
   },
   "outputs": [
    {
     "data": {
      "text/html": [
       "<div>\n",
       "<style scoped>\n",
       "    .dataframe tbody tr th:only-of-type {\n",
       "        vertical-align: middle;\n",
       "    }\n",
       "\n",
       "    .dataframe tbody tr th {\n",
       "        vertical-align: top;\n",
       "    }\n",
       "\n",
       "    .dataframe thead th {\n",
       "        text-align: right;\n",
       "    }\n",
       "</style>\n",
       "<table border=\"1\" class=\"dataframe\">\n",
       "  <thead>\n",
       "    <tr style=\"text-align: right;\">\n",
       "      <th></th>\n",
       "      <th>c</th>\n",
       "      <th>i</th>\n",
       "      <th>id</th>\n",
       "      <th>l1_c</th>\n",
       "      <th>l1_i</th>\n",
       "      <th>language</th>\n",
       "      <th>type</th>\n",
       "      <th>code</th>\n",
       "      <th>l2_sim_cc_5</th>\n",
       "      <th>l2_sim_cc_10</th>\n",
       "      <th>...</th>\n",
       "      <th>l2_sim_polyglot_25</th>\n",
       "      <th>l2_sim_polyglot_50</th>\n",
       "      <th>l2_sim_polyglot_75</th>\n",
       "      <th>l2_sim_polyglot_100</th>\n",
       "      <th>l1_sim_polyglot_5</th>\n",
       "      <th>l1_sim_polyglot_10</th>\n",
       "      <th>l1_sim_polyglot_25</th>\n",
       "      <th>l1_sim_polyglot_50</th>\n",
       "      <th>l1_sim_polyglot_75</th>\n",
       "      <th>l1_sim_polyglot_100</th>\n",
       "    </tr>\n",
       "  </thead>\n",
       "  <tbody>\n",
       "    <tr>\n",
       "      <th>0</th>\n",
       "      <td>plans</td>\n",
       "      <td>projects</td>\n",
       "      <td>person_2799</td>\n",
       "      <td>plans</td>\n",
       "      <td>projectes</td>\n",
       "      <td>Catalan</td>\n",
       "      <td>RN</td>\n",
       "      <td>ca</td>\n",
       "      <td>0.315914</td>\n",
       "      <td>0.289572</td>\n",
       "      <td>...</td>\n",
       "      <td>0.652385</td>\n",
       "      <td>0.642290</td>\n",
       "      <td>0.636711</td>\n",
       "      <td>0.636448</td>\n",
       "      <td>0.706547</td>\n",
       "      <td>0.719866</td>\n",
       "      <td>0.709139</td>\n",
       "      <td>0.681242</td>\n",
       "      <td>0.676333</td>\n",
       "      <td>0.667461</td>\n",
       "    </tr>\n",
       "    <tr>\n",
       "      <th>221</th>\n",
       "      <td>independence</td>\n",
       "      <td>freedom</td>\n",
       "      <td>person_2132</td>\n",
       "      <td>independència</td>\n",
       "      <td>llibertat</td>\n",
       "      <td>Catalan</td>\n",
       "      <td>RN</td>\n",
       "      <td>ca</td>\n",
       "      <td>0.478300</td>\n",
       "      <td>0.455483</td>\n",
       "      <td>...</td>\n",
       "      <td>0.633258</td>\n",
       "      <td>0.621581</td>\n",
       "      <td>0.608173</td>\n",
       "      <td>0.601868</td>\n",
       "      <td>0.673520</td>\n",
       "      <td>0.658533</td>\n",
       "      <td>0.656046</td>\n",
       "      <td>0.656317</td>\n",
       "      <td>0.647447</td>\n",
       "      <td>0.646497</td>\n",
       "    </tr>\n",
       "    <tr>\n",
       "      <th>220</th>\n",
       "      <td>stars</td>\n",
       "      <td>starts</td>\n",
       "      <td>person_2127</td>\n",
       "      <td>estrelles</td>\n",
       "      <td>comença</td>\n",
       "      <td>Catalan</td>\n",
       "      <td>RN</td>\n",
       "      <td>ca</td>\n",
       "      <td>0.068227</td>\n",
       "      <td>0.068642</td>\n",
       "      <td>...</td>\n",
       "      <td>0.312807</td>\n",
       "      <td>0.323280</td>\n",
       "      <td>0.315747</td>\n",
       "      <td>0.309649</td>\n",
       "      <td>-0.086862</td>\n",
       "      <td>-0.071272</td>\n",
       "      <td>-0.057636</td>\n",
       "      <td>-0.068105</td>\n",
       "      <td>-0.065801</td>\n",
       "      <td>-0.070737</td>\n",
       "    </tr>\n",
       "    <tr>\n",
       "      <th>219</th>\n",
       "      <td>time</td>\n",
       "      <td>hours</td>\n",
       "      <td>person_2127</td>\n",
       "      <td>temps</td>\n",
       "      <td>hores</td>\n",
       "      <td>Catalan</td>\n",
       "      <td>RN</td>\n",
       "      <td>ca</td>\n",
       "      <td>0.464017</td>\n",
       "      <td>0.407275</td>\n",
       "      <td>...</td>\n",
       "      <td>0.270096</td>\n",
       "      <td>0.236612</td>\n",
       "      <td>0.215306</td>\n",
       "      <td>0.203645</td>\n",
       "      <td>0.254001</td>\n",
       "      <td>0.308201</td>\n",
       "      <td>0.277933</td>\n",
       "      <td>0.270908</td>\n",
       "      <td>0.253394</td>\n",
       "      <td>0.249989</td>\n",
       "    </tr>\n",
       "    <tr>\n",
       "      <th>218</th>\n",
       "      <td>coming</td>\n",
       "      <td>following</td>\n",
       "      <td>person_2127</td>\n",
       "      <td>venint</td>\n",
       "      <td>següents</td>\n",
       "      <td>Catalan</td>\n",
       "      <td>RJ</td>\n",
       "      <td>ca</td>\n",
       "      <td>0.183514</td>\n",
       "      <td>0.166062</td>\n",
       "      <td>...</td>\n",
       "      <td>0.274542</td>\n",
       "      <td>0.268298</td>\n",
       "      <td>0.258854</td>\n",
       "      <td>0.258467</td>\n",
       "      <td>0.017321</td>\n",
       "      <td>-0.002845</td>\n",
       "      <td>-0.019284</td>\n",
       "      <td>-0.027436</td>\n",
       "      <td>-0.031775</td>\n",
       "      <td>-0.024451</td>\n",
       "    </tr>\n",
       "  </tbody>\n",
       "</table>\n",
       "<p>5 rows × 38 columns</p>\n",
       "</div>"
      ],
      "text/plain": [
       "                c          i           id           l1_c       l1_i language  \\\n",
       "0           plans   projects  person_2799          plans  projectes  Catalan   \n",
       "221  independence    freedom  person_2132  independència  llibertat  Catalan   \n",
       "220         stars     starts  person_2127      estrelles    comença  Catalan   \n",
       "219          time      hours  person_2127          temps      hores  Catalan   \n",
       "218        coming  following  person_2127         venint   següents  Catalan   \n",
       "\n",
       "    type code  l2_sim_cc_5  l2_sim_cc_10         ...           \\\n",
       "0     RN   ca     0.315914      0.289572         ...            \n",
       "221   RN   ca     0.478300      0.455483         ...            \n",
       "220   RN   ca     0.068227      0.068642         ...            \n",
       "219   RN   ca     0.464017      0.407275         ...            \n",
       "218   RJ   ca     0.183514      0.166062         ...            \n",
       "\n",
       "     l2_sim_polyglot_25  l2_sim_polyglot_50  l2_sim_polyglot_75  \\\n",
       "0              0.652385            0.642290            0.636711   \n",
       "221            0.633258            0.621581            0.608173   \n",
       "220            0.312807            0.323280            0.315747   \n",
       "219            0.270096            0.236612            0.215306   \n",
       "218            0.274542            0.268298            0.258854   \n",
       "\n",
       "     l2_sim_polyglot_100  l1_sim_polyglot_5  l1_sim_polyglot_10  \\\n",
       "0               0.636448           0.706547            0.719866   \n",
       "221             0.601868           0.673520            0.658533   \n",
       "220             0.309649          -0.086862           -0.071272   \n",
       "219             0.203645           0.254001            0.308201   \n",
       "218             0.258467           0.017321           -0.002845   \n",
       "\n",
       "     l1_sim_polyglot_25  l1_sim_polyglot_50  l1_sim_polyglot_75  \\\n",
       "0              0.709139            0.681242            0.676333   \n",
       "221            0.656046            0.656317            0.647447   \n",
       "220           -0.057636           -0.068105           -0.065801   \n",
       "219            0.277933            0.270908            0.253394   \n",
       "218           -0.019284           -0.027436           -0.031775   \n",
       "\n",
       "     l1_sim_polyglot_100  \n",
       "0               0.667461  \n",
       "221             0.646497  \n",
       "220            -0.070737  \n",
       "219             0.249989  \n",
       "218            -0.024451  \n",
       "\n",
       "[5 rows x 38 columns]"
      ]
     },
     "execution_count": 11,
     "metadata": {},
     "output_type": "execute_result"
    }
   ],
   "source": [
    "pd_dataset.head()"
   ]
  },
  {
   "cell_type": "code",
   "execution_count": 3,
   "metadata": {
    "ExecuteTime": {
     "end_time": "2019-01-24T01:57:59.941893Z",
     "start_time": "2019-01-24T01:57:55.400664Z"
    }
   },
   "outputs": [],
   "source": [
    "english_embedding = Embedding.load(embedding_path + 'en/embeddings_pkl.tar.bz2')\n",
    "russian_embedding = Embedding.load(embedding_path + 'ru/embeddings_pkl.tar.bz2')"
   ]
  },
  {
   "cell_type": "code",
   "execution_count": 4,
   "metadata": {
    "ExecuteTime": {
     "end_time": "2019-01-24T02:04:26.315430Z",
     "start_time": "2019-01-24T02:04:26.189325Z"
    }
   },
   "outputs": [
    {
     "name": "stdout",
     "output_type": "stream",
     "text": [
      "['pulling', 'putting', 'keeping', 'sneaking', 'LEFTnot', 'fetching', 'carrying', 'practically', 'staking', 'soliciting']\n",
      "['adopting', 'supplying', 'overseeing', 'establishing', 'securing', 'obtaining', 'administering', 'purchasing', 'introducing', 'executing']\n",
      "['устранение', 'сохранение', 'поддержание', 'создание', 'осуществление', 'восстановление', 'составление', 'поощрение', 'улучшение', 'уничтожение']\n",
      "['достижения', 'установления', 'покупки', 'признания', 'использования', 'преобразования', 'формирования', 'посещения', 'объявления', 'построения']\n"
     ]
    }
   ],
   "source": [
    "getting_n = english_embedding.nearest_neighbors(\"getting\", top_k = 10)\n",
    "acq_n = english_embedding.nearest_neighbors(\"acquiring\", top_k = 10)\n",
    "\n",
    "w1_n = russian_embedding.nearest_neighbors(\"получение\", top_k = 10)\n",
    "w2_n = russian_embedding.nearest_neighbors(\"приобретения\", top_k = 10)\n",
    "\n",
    "print(getting_n)\n",
    "print(acq_n)\n",
    "print(w1_n)\n",
    "print(w2_n)"
   ]
  },
  {
   "cell_type": "code",
   "execution_count": null,
   "metadata": {},
   "outputs": [],
   "source": []
  }
 ],
 "metadata": {
  "kernelspec": {
   "display_name": "Python 3",
   "language": "python",
   "name": "python3"
  },
  "language_info": {
   "codemirror_mode": {
    "name": "ipython",
    "version": 3
   },
   "file_extension": ".py",
   "mimetype": "text/x-python",
   "name": "python",
   "nbconvert_exporter": "python",
   "pygments_lexer": "ipython3",
   "version": "3.6.3"
  },
  "varInspector": {
   "cols": {
    "lenName": 16,
    "lenType": 16,
    "lenVar": 40
   },
   "kernels_config": {
    "python": {
     "delete_cmd_postfix": "",
     "delete_cmd_prefix": "del ",
     "library": "var_list.py",
     "varRefreshCmd": "print(var_dic_list())"
    },
    "r": {
     "delete_cmd_postfix": ") ",
     "delete_cmd_prefix": "rm(",
     "library": "var_list.r",
     "varRefreshCmd": "cat(var_dic_list()) "
    }
   },
   "types_to_exclude": [
    "module",
    "function",
    "builtin_function_or_method",
    "instance",
    "_Feature"
   ],
   "window_display": false
  }
 },
 "nbformat": 4,
 "nbformat_minor": 2
}
