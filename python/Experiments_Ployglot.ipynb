{
 "cells": [
  {
   "cell_type": "code",
   "execution_count": 1,
   "metadata": {
    "ExecuteTime": {
     "end_time": "2019-01-24T00:21:43.047037Z",
     "start_time": "2019-01-24T00:21:42.538525Z"
    }
   },
   "outputs": [],
   "source": [
    "from gensim.models import KeyedVectors\n",
    "from sklearn.metrics.pairwise import cosine_similarity\n",
    "import numpy as np\n",
    "import pandas as pd\n",
    "from datetime import datetime\n",
    "from tqdm import tqdm\n",
    "from polyglot.mapping import Embedding"
   ]
  },
  {
   "cell_type": "code",
   "execution_count": 2,
   "metadata": {
    "ExecuteTime": {
     "end_time": "2019-01-23T23:54:24.305518Z",
     "start_time": "2019-01-23T23:54:24.298173Z"
    }
   },
   "outputs": [],
   "source": [
    "neighbour_list = [5, 10, 25, 50, 75, 100]\n",
    "embedding_list = ['polyglot']\n",
    "embedding_path = '../data/pretrained_embeddings/polyglot/embeddings2/'"
   ]
  },
  {
   "cell_type": "code",
   "execution_count": 2,
   "metadata": {
    "ExecuteTime": {
     "end_time": "2019-01-24T00:21:56.152143Z",
     "start_time": "2019-01-24T00:21:56.093391Z"
    }
   },
   "outputs": [],
   "source": [
    "def get_embedding_file_name(language):\n",
    "    file_name = ''\n",
    "    if (language == \"Russian\"):\n",
    "        file_name += 'ru'\n",
    "    elif (language == \"Turkish\"):\n",
    "        file_name += 'tr'\n",
    "    elif (language == \"German\"):\n",
    "        file_name += 'de'\n",
    "    elif (language == \"Japanese\"):\n",
    "        file_name += 'ja'\n",
    "    elif (language == \"Spanish\"):\n",
    "        file_name += 'es'\n",
    "    elif (language == \"Polish\"):\n",
    "        file_name += 'pl'\n",
    "    elif (language == \"Italian\"):\n",
    "        file_name += 'it'\n",
    "    elif (language == \"Catalan\"):\n",
    "        file_name += 'ca'\n",
    "    elif (language == \"Korean\"):\n",
    "        file_name += 'ko'\n",
    "    elif (language == \"French\"):\n",
    "        file_name += 'fr'\n",
    "    elif (language == \"Chinese\" or language == \"Chinese (Simplified)\"):\n",
    "        file_name += 'zh'\n",
    "    elif (language == \"Portuguese\"):\n",
    "        file_name += 'pt'\n",
    "    elif (language == \"Swedish\"):\n",
    "        file_name += 'sv'\n",
    "    elif (language == \"Greek\"):\n",
    "        file_name += 'el'\n",
    "    elif (language == \"Thai\"):\n",
    "        file_name += 'th'\n",
    "    elif (language == \"Dutch\"):\n",
    "        file_name += 'nl'\n",
    "    elif (language == \"English\"):\n",
    "        file_name += 'en'\n",
    "        \n",
    "    return file_name\n",
    "\n",
    "def load_embedding_vector(lang):\n",
    "    return Embedding.load(embedding_path + lang + '/embeddings_pkl.tar.bz2')"
   ]
  },
  {
   "cell_type": "code",
   "execution_count": 3,
   "metadata": {
    "ExecuteTime": {
     "end_time": "2019-01-24T00:21:57.250939Z",
     "start_time": "2019-01-24T00:21:57.219524Z"
    }
   },
   "outputs": [],
   "source": [
    "def get_similarity(w1, w2, embeddings, size):\n",
    "    \n",
    "    try:\n",
    "        w1_vec = embeddings[w1]\n",
    "        w2_vec = embeddings[w2]\n",
    "    except KeyError:\n",
    "        return -10\n",
    "    \n",
    "    w1_neighbours = embeddings.nearest_neighbors(w1, top_k = size)\n",
    "    w2_neighbours = embeddings.nearest_neighbors(w2, top_k = size)\n",
    "    \n",
    "    w1_neighbour_vectors = [embeddings[word] for word in w1_neighbours]\n",
    "    w2_neighbour_vectors = [embeddings[word] for word in w2_neighbours]\n",
    "    \n",
    "    w1_cosine = np.average([cosine_similarity([w1_vec], [w2_n_vec]) for w2_n_vec in w2_neighbour_vectors])\n",
    "    w2_cosine = np.average([cosine_similarity([w2_vec], [w1_n_vec]) for w1_n_vec in w1_neighbour_vectors])\n",
    "    \n",
    "    return np.average([w1_cosine, w2_cosine])"
   ]
  },
  {
   "cell_type": "code",
   "execution_count": 46,
   "metadata": {
    "ExecuteTime": {
     "end_time": "2019-01-23T22:43:10.897045Z",
     "start_time": "2019-01-23T22:43:10.824985Z"
    }
   },
   "outputs": [
    {
     "data": {
      "text/html": [
       "<div>\n",
       "<style scoped>\n",
       "    .dataframe tbody tr th:only-of-type {\n",
       "        vertical-align: middle;\n",
       "    }\n",
       "\n",
       "    .dataframe tbody tr th {\n",
       "        vertical-align: top;\n",
       "    }\n",
       "\n",
       "    .dataframe thead th {\n",
       "        text-align: right;\n",
       "    }\n",
       "</style>\n",
       "<table border=\"1\" class=\"dataframe\">\n",
       "  <thead>\n",
       "    <tr style=\"text-align: right;\">\n",
       "      <th></th>\n",
       "      <th>c</th>\n",
       "      <th>i</th>\n",
       "      <th>id</th>\n",
       "      <th>l1_c</th>\n",
       "      <th>l1_i</th>\n",
       "      <th>language</th>\n",
       "      <th>type</th>\n",
       "      <th>code</th>\n",
       "      <th>l2_sim_cc_5</th>\n",
       "      <th>l2_sim_cc_10</th>\n",
       "      <th>...</th>\n",
       "      <th>l1_sim_cc_25</th>\n",
       "      <th>l1_sim_cc_50</th>\n",
       "      <th>l1_sim_cc_75</th>\n",
       "      <th>l1_sim_cc_100</th>\n",
       "      <th>l2_sim_wiki_5</th>\n",
       "      <th>l2_sim_wiki_10</th>\n",
       "      <th>l2_sim_wiki_25</th>\n",
       "      <th>l2_sim_wiki_50</th>\n",
       "      <th>l2_sim_wiki_75</th>\n",
       "      <th>l2_sim_wiki_100</th>\n",
       "    </tr>\n",
       "  </thead>\n",
       "  <tbody>\n",
       "    <tr>\n",
       "      <th>0</th>\n",
       "      <td>plans</td>\n",
       "      <td>projects</td>\n",
       "      <td>person_2799</td>\n",
       "      <td>plans</td>\n",
       "      <td>projectes</td>\n",
       "      <td>Catalan</td>\n",
       "      <td>RN</td>\n",
       "      <td>ca</td>\n",
       "      <td>0.315914</td>\n",
       "      <td>0.289572</td>\n",
       "      <td>...</td>\n",
       "      <td>0.513301</td>\n",
       "      <td>0.508249</td>\n",
       "      <td>0.497365</td>\n",
       "      <td>0.494275</td>\n",
       "      <td>0.256624</td>\n",
       "      <td>0.263855</td>\n",
       "      <td>0.216694</td>\n",
       "      <td>0.194096</td>\n",
       "      <td>0.187172</td>\n",
       "      <td>0.185074</td>\n",
       "    </tr>\n",
       "    <tr>\n",
       "      <th>221</th>\n",
       "      <td>especially</td>\n",
       "      <td>specially</td>\n",
       "      <td>person_2421</td>\n",
       "      <td>especialment</td>\n",
       "      <td>especialment</td>\n",
       "      <td>Catalan</td>\n",
       "      <td>RY</td>\n",
       "      <td>ca</td>\n",
       "      <td>0.342199</td>\n",
       "      <td>0.336672</td>\n",
       "      <td>...</td>\n",
       "      <td>0.676789</td>\n",
       "      <td>0.635269</td>\n",
       "      <td>0.615089</td>\n",
       "      <td>0.602047</td>\n",
       "      <td>0.153657</td>\n",
       "      <td>0.153794</td>\n",
       "      <td>0.138989</td>\n",
       "      <td>0.123324</td>\n",
       "      <td>0.112214</td>\n",
       "      <td>0.106564</td>\n",
       "    </tr>\n",
       "    <tr>\n",
       "      <th>220</th>\n",
       "      <td>waste</td>\n",
       "      <td>lose</td>\n",
       "      <td>person_2421</td>\n",
       "      <td>malgastar</td>\n",
       "      <td>perdre</td>\n",
       "      <td>Catalan</td>\n",
       "      <td>RV</td>\n",
       "      <td>ca</td>\n",
       "      <td>0.197119</td>\n",
       "      <td>0.175892</td>\n",
       "      <td>...</td>\n",
       "      <td>0.425895</td>\n",
       "      <td>0.418449</td>\n",
       "      <td>0.414079</td>\n",
       "      <td>0.411164</td>\n",
       "      <td>0.092023</td>\n",
       "      <td>0.086759</td>\n",
       "      <td>0.080194</td>\n",
       "      <td>0.080709</td>\n",
       "      <td>0.076916</td>\n",
       "      <td>0.081092</td>\n",
       "    </tr>\n",
       "    <tr>\n",
       "      <th>219</th>\n",
       "      <td>ending</td>\n",
       "      <td>end</td>\n",
       "      <td>person_1465</td>\n",
       "      <td>final</td>\n",
       "      <td>final</td>\n",
       "      <td>Catalan</td>\n",
       "      <td>RN</td>\n",
       "      <td>ca</td>\n",
       "      <td>0.591592</td>\n",
       "      <td>0.500977</td>\n",
       "      <td>...</td>\n",
       "      <td>0.708057</td>\n",
       "      <td>0.666229</td>\n",
       "      <td>0.637293</td>\n",
       "      <td>0.616535</td>\n",
       "      <td>0.650926</td>\n",
       "      <td>0.507235</td>\n",
       "      <td>0.374291</td>\n",
       "      <td>0.322232</td>\n",
       "      <td>0.303969</td>\n",
       "      <td>0.291704</td>\n",
       "    </tr>\n",
       "    <tr>\n",
       "      <th>218</th>\n",
       "      <td>shot</td>\n",
       "      <td>view</td>\n",
       "      <td>person_1465</td>\n",
       "      <td>disparat</td>\n",
       "      <td>mostra</td>\n",
       "      <td>Catalan</td>\n",
       "      <td>RN</td>\n",
       "      <td>ca</td>\n",
       "      <td>0.210400</td>\n",
       "      <td>0.187495</td>\n",
       "      <td>...</td>\n",
       "      <td>0.237338</td>\n",
       "      <td>0.222958</td>\n",
       "      <td>0.225796</td>\n",
       "      <td>0.222587</td>\n",
       "      <td>0.104407</td>\n",
       "      <td>0.092781</td>\n",
       "      <td>0.089016</td>\n",
       "      <td>0.079768</td>\n",
       "      <td>0.077828</td>\n",
       "      <td>0.076215</td>\n",
       "    </tr>\n",
       "  </tbody>\n",
       "</table>\n",
       "<p>5 rows × 26 columns</p>\n",
       "</div>"
      ],
      "text/plain": [
       "              c          i           id          l1_c          l1_i language  \\\n",
       "0         plans   projects  person_2799         plans     projectes  Catalan   \n",
       "221  especially  specially  person_2421  especialment  especialment  Catalan   \n",
       "220       waste       lose  person_2421     malgastar        perdre  Catalan   \n",
       "219      ending        end  person_1465         final         final  Catalan   \n",
       "218        shot       view  person_1465      disparat        mostra  Catalan   \n",
       "\n",
       "    type code  l2_sim_cc_5  l2_sim_cc_10       ...         l1_sim_cc_25  \\\n",
       "0     RN   ca     0.315914      0.289572       ...             0.513301   \n",
       "221   RY   ca     0.342199      0.336672       ...             0.676789   \n",
       "220   RV   ca     0.197119      0.175892       ...             0.425895   \n",
       "219   RN   ca     0.591592      0.500977       ...             0.708057   \n",
       "218   RN   ca     0.210400      0.187495       ...             0.237338   \n",
       "\n",
       "     l1_sim_cc_50  l1_sim_cc_75  l1_sim_cc_100  l2_sim_wiki_5  l2_sim_wiki_10  \\\n",
       "0        0.508249      0.497365       0.494275       0.256624        0.263855   \n",
       "221      0.635269      0.615089       0.602047       0.153657        0.153794   \n",
       "220      0.418449      0.414079       0.411164       0.092023        0.086759   \n",
       "219      0.666229      0.637293       0.616535       0.650926        0.507235   \n",
       "218      0.222958      0.225796       0.222587       0.104407        0.092781   \n",
       "\n",
       "     l2_sim_wiki_25  l2_sim_wiki_50  l2_sim_wiki_75  l2_sim_wiki_100  \n",
       "0          0.216694        0.194096        0.187172         0.185074  \n",
       "221        0.138989        0.123324        0.112214         0.106564  \n",
       "220        0.080194        0.080709        0.076916         0.081092  \n",
       "219        0.374291        0.322232        0.303969         0.291704  \n",
       "218        0.089016        0.079768        0.077828         0.076215  \n",
       "\n",
       "[5 rows x 26 columns]"
      ]
     },
     "execution_count": 46,
     "metadata": {},
     "output_type": "execute_result"
    }
   ],
   "source": [
    "source = '../data/ms_final_experiments_with_wiki.csv'\n",
    "pd_dataset = pd.read_csv(source)\n",
    "pd_dataset = pd_dataset.sort_values(by = 'language', ascending = True)\n",
    "pd_dataset.head()"
   ]
  },
  {
   "cell_type": "code",
   "execution_count": 47,
   "metadata": {
    "ExecuteTime": {
     "end_time": "2019-01-23T22:43:11.078207Z",
     "start_time": "2019-01-23T22:43:11.043981Z"
    }
   },
   "outputs": [],
   "source": [
    "def run_experiment_english(dataframe):\n",
    "    for vector_type in embedding_list:\n",
    "        vec_type_start = datetime.now()\n",
    "        embedding_file_name = get_embedding_file_name(\"English\")\n",
    "        print('Loading embeddings: ' + embedding_file_name)\n",
    "        embeddings = load_embedding_vector(embedding_file_name)\n",
    "        print('Embeddings ' + embedding_file_name + ' loaded in ' + str(datetime.now() - vec_type_start))\n",
    "        for neighbour_size in neighbour_list:\n",
    "            neighbour_size_start = datetime.now()\n",
    "            l2_sim = []\n",
    "            for ind, row in tqdm(dataframe.iterrows(), total=dataframe.shape[0]):\n",
    "                w1 = row['c']\n",
    "                w2 = row['i']\n",
    "                l2_sim.append(get_similarity(w1, w2, embeddings, neighbour_size))\n",
    "            dataframe['l2_sim_' + vector_type + '_' + str(neighbour_size)] = l2_sim\n",
    "            print('Finished run for neighbour size: ' + str(neighbour_size) + ' in ' + str(datetime.now() - neighbour_size_start))\n",
    "        print('Finished run for vector type: ' + vector_type + ' in ' + str(datetime.now() - vec_type_start))"
   ]
  },
  {
   "cell_type": "code",
   "execution_count": 48,
   "metadata": {
    "ExecuteTime": {
     "end_time": "2019-01-23T23:10:08.574599Z",
     "start_time": "2019-01-23T22:43:11.488405Z"
    }
   },
   "outputs": [
    {
     "name": "stdout",
     "output_type": "stream",
     "text": [
      "Loading embeddings: en\n"
     ]
    },
    {
     "name": "stderr",
     "output_type": "stream",
     "text": [
      "  0%|          | 3/4937 [00:00<03:52, 21.23it/s]"
     ]
    },
    {
     "name": "stdout",
     "output_type": "stream",
     "text": [
      "Embeddings en loaded in 0:00:02.218950\n"
     ]
    },
    {
     "name": "stderr",
     "output_type": "stream",
     "text": [
      "100%|██████████| 4937/4937 [03:36<00:00, 22.76it/s]\n",
      "  0%|          | 3/4937 [00:00<03:52, 21.22it/s]"
     ]
    },
    {
     "name": "stdout",
     "output_type": "stream",
     "text": [
      "Finished run for neighbour size: 5 in 0:03:36.879297\n"
     ]
    },
    {
     "name": "stderr",
     "output_type": "stream",
     "text": [
      "100%|██████████| 4937/4937 [03:43<00:00, 22.11it/s]\n",
      "  0%|          | 2/4937 [00:00<04:14, 19.38it/s]"
     ]
    },
    {
     "name": "stdout",
     "output_type": "stream",
     "text": [
      "Finished run for neighbour size: 10 in 0:03:43.256651\n"
     ]
    },
    {
     "name": "stderr",
     "output_type": "stream",
     "text": [
      "100%|██████████| 4937/4937 [04:01<00:00, 20.42it/s]\n",
      "  0%|          | 2/4937 [00:00<04:57, 16.58it/s]"
     ]
    },
    {
     "name": "stdout",
     "output_type": "stream",
     "text": [
      "Finished run for neighbour size: 25 in 0:04:01.723889\n"
     ]
    },
    {
     "name": "stderr",
     "output_type": "stream",
     "text": [
      "100%|██████████| 4937/4937 [04:37<00:00, 17.80it/s]\n",
      "  0%|          | 2/4937 [00:00<05:19, 15.43it/s]"
     ]
    },
    {
     "name": "stdout",
     "output_type": "stream",
     "text": [
      "Finished run for neighbour size: 50 in 0:04:37.384221\n"
     ]
    },
    {
     "name": "stderr",
     "output_type": "stream",
     "text": [
      "100%|██████████| 4937/4937 [05:10<00:00, 15.91it/s]\n",
      "  0%|          | 2/4937 [00:00<05:47, 14.18it/s]"
     ]
    },
    {
     "name": "stdout",
     "output_type": "stream",
     "text": [
      "Finished run for neighbour size: 75 in 0:05:10.384337\n"
     ]
    },
    {
     "name": "stderr",
     "output_type": "stream",
     "text": [
      "100%|██████████| 4937/4937 [05:45<00:00, 14.30it/s]"
     ]
    },
    {
     "name": "stdout",
     "output_type": "stream",
     "text": [
      "Finished run for neighbour size: 100 in 0:05:45.228115\n",
      "Finished run for vector type: polyglot in 0:26:57.076164\n"
     ]
    },
    {
     "name": "stderr",
     "output_type": "stream",
     "text": [
      "\n"
     ]
    }
   ],
   "source": [
    "run_experiment_english(pd_dataset)"
   ]
  },
  {
   "cell_type": "code",
   "execution_count": 54,
   "metadata": {
    "ExecuteTime": {
     "end_time": "2019-01-23T23:25:39.694160Z",
     "start_time": "2019-01-23T23:25:39.464442Z"
    }
   },
   "outputs": [],
   "source": [
    "pd_dataset.to_csv('../data/ms_final_polyglot_english.csv', index = False)"
   ]
  },
  {
   "cell_type": "code",
   "execution_count": 4,
   "metadata": {
    "ExecuteTime": {
     "end_time": "2019-01-24T00:22:01.562514Z",
     "start_time": "2019-01-24T00:22:01.503679Z"
    }
   },
   "outputs": [],
   "source": [
    "def get_experiment_model(language, vector_type):\n",
    "    vec_type_start = datetime.now()\n",
    "    embedding_file_name = get_embedding_file_name(language)\n",
    "    print('Loading embeddings: ' + embedding_file_name)\n",
    "    embeddings = load_embedding_vector(embedding_file_name)\n",
    "    print('Embeddings ' + embedding_file_name + ' loaded in ' + str(datetime.now() - vec_type_start))\n",
    "    return embeddings\n",
    "new_columns = {'5': [], '10': [], '25': [], '50': [], '75': [], '100': []}\n",
    "def run_experiment_l1(dataframe):\n",
    "    current_lang = ''\n",
    "    current_vector_type = ''\n",
    "    \n",
    "    for vector_type in embedding_list:\n",
    "        vec_type_start = datetime.now()\n",
    "        for language in language_list:\n",
    "            language_start = datetime.now()\n",
    "            embeddings = get_experiment_model(language, vector_type)\n",
    "            for neighbour_size in neighbour_list:\n",
    "                neighbour_size_start = datetime.now()\n",
    "#                 l1_sim = []\n",
    "                dset = dataframe[dataframe['language'] == language]\n",
    "                for ind, row in tqdm(dset.iterrows(), total=dset.shape[0]):\n",
    "                    w1 = row['l1_c']\n",
    "                    w2 = row['l1_i']\n",
    "                    new_columns[str(neighbour_size)].append(get_similarity(w1, w2, embeddings, neighbour_size))\n",
    "#                 dataframe['l1_sim_' + vector_type + '_' + str(neighbour_size)] = l1_sim \n",
    "                print('Finished run for neighbour size: ' + str(neighbour_size) + ' in ' + str(datetime.now() - neighbour_size_start))\n",
    "            print('Finished run for language: ' + language + ' in ' + str(datetime.now() - language_start))\n",
    "        print('Finished run for vector type: ' + vector_type + ' in ' + str(datetime.now() - vec_type_start))"
   ]
  },
  {
   "cell_type": "code",
   "execution_count": 5,
   "metadata": {
    "ExecuteTime": {
     "end_time": "2019-01-24T00:22:02.297991Z",
     "start_time": "2019-01-24T00:22:02.227793Z"
    }
   },
   "outputs": [],
   "source": [
    "neighbour_list = [5, 10, 25, 50, 75, 100]\n",
    "embedding_list = ['polyglot']\n",
    "embedding_path = '../data/pretrained_embeddings/polyglot/embeddings2/'\n",
    "source = '../data/ms_final_polyglot_english.csv'\n",
    "\n",
    "pd_dataset = pd.read_csv(source)\n",
    "pd_dataset = pd_dataset.sort_values(by = 'language', ascending = True)\n",
    "pd_dataset.head()\n",
    "language_list = pd_dataset['language'].unique()"
   ]
  },
  {
   "cell_type": "code",
   "execution_count": 6,
   "metadata": {
    "ExecuteTime": {
     "end_time": "2019-01-24T00:51:45.070908Z",
     "start_time": "2019-01-24T00:22:03.760371Z"
    }
   },
   "outputs": [
    {
     "name": "stdout",
     "output_type": "stream",
     "text": [
      "Loading embeddings: ca\n"
     ]
    },
    {
     "name": "stderr",
     "output_type": "stream",
     "text": [
      "  1%|          | 2/325 [00:00<00:17, 18.62it/s]"
     ]
    },
    {
     "name": "stdout",
     "output_type": "stream",
     "text": [
      "Embeddings ca loaded in 0:00:02.360815\n"
     ]
    },
    {
     "name": "stderr",
     "output_type": "stream",
     "text": [
      "100%|██████████| 325/325 [00:14<00:00, 21.76it/s]\n",
      "  1%|          | 3/325 [00:00<00:15, 20.82it/s]"
     ]
    },
    {
     "name": "stdout",
     "output_type": "stream",
     "text": [
      "Finished run for neighbour size: 5 in 0:00:14.940685\n"
     ]
    },
    {
     "name": "stderr",
     "output_type": "stream",
     "text": [
      "100%|██████████| 325/325 [00:15<00:00, 21.24it/s]\n",
      "  1%|          | 2/325 [00:00<00:16, 19.28it/s]"
     ]
    },
    {
     "name": "stdout",
     "output_type": "stream",
     "text": [
      "Finished run for neighbour size: 10 in 0:00:15.302875\n"
     ]
    },
    {
     "name": "stderr",
     "output_type": "stream",
     "text": [
      "100%|██████████| 325/325 [00:16<00:00, 19.60it/s]\n",
      "  1%|          | 2/325 [00:00<00:19, 16.79it/s]"
     ]
    },
    {
     "name": "stdout",
     "output_type": "stream",
     "text": [
      "Finished run for neighbour size: 25 in 0:00:16.585558\n"
     ]
    },
    {
     "name": "stderr",
     "output_type": "stream",
     "text": [
      "100%|██████████| 325/325 [00:18<00:00, 17.36it/s]\n",
      "  1%|          | 2/325 [00:00<00:21, 14.83it/s]"
     ]
    },
    {
     "name": "stdout",
     "output_type": "stream",
     "text": [
      "Finished run for neighbour size: 50 in 0:00:18.730687\n"
     ]
    },
    {
     "name": "stderr",
     "output_type": "stream",
     "text": [
      "100%|██████████| 325/325 [00:20<00:00, 15.67it/s]\n",
      "  1%|          | 2/325 [00:00<00:27, 11.83it/s]"
     ]
    },
    {
     "name": "stdout",
     "output_type": "stream",
     "text": [
      "Finished run for neighbour size: 75 in 0:00:20.748252\n"
     ]
    },
    {
     "name": "stderr",
     "output_type": "stream",
     "text": [
      "100%|██████████| 325/325 [00:22<00:00, 14.17it/s]\n"
     ]
    },
    {
     "name": "stdout",
     "output_type": "stream",
     "text": [
      "Finished run for neighbour size: 100 in 0:00:22.934544\n",
      "Finished run for language: Catalan in 0:01:51.603862\n",
      "Loading embeddings: zh\n"
     ]
    },
    {
     "name": "stderr",
     "output_type": "stream",
     "text": [
      "  1%|          | 2/310 [00:00<00:15, 19.74it/s]"
     ]
    },
    {
     "name": "stdout",
     "output_type": "stream",
     "text": [
      "Embeddings zh loaded in 0:00:02.155713\n"
     ]
    },
    {
     "name": "stderr",
     "output_type": "stream",
     "text": [
      "100%|██████████| 310/310 [00:13<00:00, 23.77it/s]\n",
      "  1%|          | 3/310 [00:00<00:14, 21.42it/s]"
     ]
    },
    {
     "name": "stdout",
     "output_type": "stream",
     "text": [
      "Finished run for neighbour size: 5 in 0:00:13.043911\n"
     ]
    },
    {
     "name": "stderr",
     "output_type": "stream",
     "text": [
      "100%|██████████| 310/310 [00:13<00:00, 23.04it/s]\n",
      "  1%|          | 3/310 [00:00<00:14, 20.64it/s]"
     ]
    },
    {
     "name": "stdout",
     "output_type": "stream",
     "text": [
      "Finished run for neighbour size: 10 in 0:00:13.457090\n"
     ]
    },
    {
     "name": "stderr",
     "output_type": "stream",
     "text": [
      "100%|██████████| 310/310 [00:14<00:00, 21.36it/s]\n",
      "  1%|          | 2/310 [00:00<00:20, 15.01it/s]"
     ]
    },
    {
     "name": "stdout",
     "output_type": "stream",
     "text": [
      "Finished run for neighbour size: 25 in 0:00:14.519836\n"
     ]
    },
    {
     "name": "stderr",
     "output_type": "stream",
     "text": [
      "100%|██████████| 310/310 [00:16<00:00, 18.73it/s]\n",
      "  1%|          | 2/310 [00:00<00:18, 16.27it/s]"
     ]
    },
    {
     "name": "stdout",
     "output_type": "stream",
     "text": [
      "Finished run for neighbour size: 50 in 0:00:16.554347\n"
     ]
    },
    {
     "name": "stderr",
     "output_type": "stream",
     "text": [
      "100%|██████████| 310/310 [00:18<00:00, 16.78it/s]\n",
      "  1%|          | 2/310 [00:00<00:22, 13.62it/s]"
     ]
    },
    {
     "name": "stdout",
     "output_type": "stream",
     "text": [
      "Finished run for neighbour size: 75 in 0:00:18.478450\n"
     ]
    },
    {
     "name": "stderr",
     "output_type": "stream",
     "text": [
      "100%|██████████| 310/310 [00:20<00:00, 15.10it/s]\n"
     ]
    },
    {
     "name": "stdout",
     "output_type": "stream",
     "text": [
      "Finished run for neighbour size: 100 in 0:00:20.540344\n",
      "Finished run for language: Chinese (Simplified) in 0:01:38.755089\n",
      "Loading embeddings: nl\n"
     ]
    },
    {
     "name": "stderr",
     "output_type": "stream",
     "text": [
      " 60%|██████    | 3/5 [00:00<00:00, 22.78it/s]"
     ]
    },
    {
     "name": "stdout",
     "output_type": "stream",
     "text": [
      "Embeddings nl loaded in 0:00:02.129841\n"
     ]
    },
    {
     "name": "stderr",
     "output_type": "stream",
     "text": [
      "100%|██████████| 5/5 [00:00<00:00, 22.64it/s]\n",
      " 40%|████      | 2/5 [00:00<00:00, 17.62it/s]"
     ]
    },
    {
     "name": "stdout",
     "output_type": "stream",
     "text": [
      "Finished run for neighbour size: 5 in 0:00:00.225480\n"
     ]
    },
    {
     "name": "stderr",
     "output_type": "stream",
     "text": [
      "100%|██████████| 5/5 [00:00<00:00, 20.01it/s]\n",
      " 60%|██████    | 3/5 [00:00<00:00, 20.54it/s]"
     ]
    },
    {
     "name": "stdout",
     "output_type": "stream",
     "text": [
      "Finished run for neighbour size: 10 in 0:00:00.254377\n"
     ]
    },
    {
     "name": "stderr",
     "output_type": "stream",
     "text": [
      "100%|██████████| 5/5 [00:00<00:00, 20.28it/s]\n",
      " 40%|████      | 2/5 [00:00<00:00, 17.91it/s]"
     ]
    },
    {
     "name": "stdout",
     "output_type": "stream",
     "text": [
      "Finished run for neighbour size: 25 in 0:00:00.251044\n"
     ]
    },
    {
     "name": "stderr",
     "output_type": "stream",
     "text": [
      "100%|██████████| 5/5 [00:00<00:00, 17.78it/s]\n",
      " 40%|████      | 2/5 [00:00<00:00, 16.31it/s]"
     ]
    },
    {
     "name": "stdout",
     "output_type": "stream",
     "text": [
      "Finished run for neighbour size: 50 in 0:00:00.286093\n"
     ]
    },
    {
     "name": "stderr",
     "output_type": "stream",
     "text": [
      "100%|██████████| 5/5 [00:00<00:00, 15.73it/s]\n",
      " 40%|████      | 2/5 [00:00<00:00, 14.29it/s]"
     ]
    },
    {
     "name": "stdout",
     "output_type": "stream",
     "text": [
      "Finished run for neighbour size: 75 in 0:00:00.322302\n"
     ]
    },
    {
     "name": "stderr",
     "output_type": "stream",
     "text": [
      "100%|██████████| 5/5 [00:00<00:00, 13.97it/s]\n"
     ]
    },
    {
     "name": "stdout",
     "output_type": "stream",
     "text": [
      "Finished run for neighbour size: 100 in 0:00:00.362300\n",
      "Finished run for language: Dutch in 0:00:03.835173\n",
      "Loading embeddings: fr\n"
     ]
    },
    {
     "name": "stderr",
     "output_type": "stream",
     "text": [
      "  0%|          | 3/794 [00:00<00:34, 22.75it/s]"
     ]
    },
    {
     "name": "stdout",
     "output_type": "stream",
     "text": [
      "Embeddings fr loaded in 0:00:02.168066\n"
     ]
    },
    {
     "name": "stderr",
     "output_type": "stream",
     "text": [
      "100%|██████████| 794/794 [00:34<00:00, 22.83it/s]\n",
      "  0%|          | 3/794 [00:00<00:36, 21.78it/s]"
     ]
    },
    {
     "name": "stdout",
     "output_type": "stream",
     "text": [
      "Finished run for neighbour size: 5 in 0:00:34.787100\n"
     ]
    },
    {
     "name": "stderr",
     "output_type": "stream",
     "text": [
      "100%|██████████| 794/794 [00:35<00:00, 22.12it/s]\n",
      "  0%|          | 3/794 [00:00<00:39, 20.22it/s]"
     ]
    },
    {
     "name": "stdout",
     "output_type": "stream",
     "text": [
      "Finished run for neighbour size: 10 in 0:00:35.904645\n"
     ]
    },
    {
     "name": "stderr",
     "output_type": "stream",
     "text": [
      "100%|██████████| 794/794 [00:38<00:00, 20.38it/s]\n",
      "  0%|          | 2/794 [00:00<00:43, 18.11it/s]"
     ]
    },
    {
     "name": "stdout",
     "output_type": "stream",
     "text": [
      "Finished run for neighbour size: 25 in 0:00:38.971529\n"
     ]
    },
    {
     "name": "stderr",
     "output_type": "stream",
     "text": [
      "100%|██████████| 794/794 [00:44<00:00, 17.91it/s]\n",
      "  0%|          | 2/794 [00:00<00:49, 16.04it/s]"
     ]
    },
    {
     "name": "stdout",
     "output_type": "stream",
     "text": [
      "Finished run for neighbour size: 50 in 0:00:44.349649\n"
     ]
    },
    {
     "name": "stderr",
     "output_type": "stream",
     "text": [
      "100%|██████████| 794/794 [00:49<00:00, 16.02it/s]\n",
      "  0%|          | 2/794 [00:00<00:55, 14.34it/s]"
     ]
    },
    {
     "name": "stdout",
     "output_type": "stream",
     "text": [
      "Finished run for neighbour size: 75 in 0:00:49.564546\n"
     ]
    },
    {
     "name": "stderr",
     "output_type": "stream",
     "text": [
      "100%|██████████| 794/794 [00:55<00:00, 14.39it/s]\n"
     ]
    },
    {
     "name": "stdout",
     "output_type": "stream",
     "text": [
      "Finished run for neighbour size: 100 in 0:00:55.163228\n",
      "Finished run for language: French in 0:04:20.912312\n",
      "Loading embeddings: de\n"
     ]
    },
    {
     "name": "stderr",
     "output_type": "stream",
     "text": [
      "  1%|          | 3/285 [00:00<00:12, 22.82it/s]"
     ]
    },
    {
     "name": "stdout",
     "output_type": "stream",
     "text": [
      "Embeddings de loaded in 0:00:02.182337\n"
     ]
    },
    {
     "name": "stderr",
     "output_type": "stream",
     "text": [
      "100%|██████████| 285/285 [00:08<00:00, 32.01it/s]\n",
      "  1%|          | 3/285 [00:00<00:12, 21.88it/s]"
     ]
    },
    {
     "name": "stdout",
     "output_type": "stream",
     "text": [
      "Finished run for neighbour size: 5 in 0:00:08.908319\n"
     ]
    },
    {
     "name": "stderr",
     "output_type": "stream",
     "text": [
      "100%|██████████| 285/285 [00:09<00:00, 30.64it/s]\n",
      "  1%|          | 3/285 [00:00<00:13, 20.54it/s]"
     ]
    },
    {
     "name": "stdout",
     "output_type": "stream",
     "text": [
      "Finished run for neighbour size: 10 in 0:00:09.305011\n"
     ]
    },
    {
     "name": "stderr",
     "output_type": "stream",
     "text": [
      "100%|██████████| 285/285 [00:10<00:00, 28.38it/s]\n",
      "  1%|          | 2/285 [00:00<00:15, 17.75it/s]"
     ]
    },
    {
     "name": "stdout",
     "output_type": "stream",
     "text": [
      "Finished run for neighbour size: 25 in 0:00:10.045627\n"
     ]
    },
    {
     "name": "stderr",
     "output_type": "stream",
     "text": [
      "100%|██████████| 285/285 [00:11<00:00, 24.92it/s]\n",
      "  1%|          | 2/285 [00:00<00:17, 15.96it/s]"
     ]
    },
    {
     "name": "stdout",
     "output_type": "stream",
     "text": [
      "Finished run for neighbour size: 50 in 0:00:11.441224\n"
     ]
    },
    {
     "name": "stderr",
     "output_type": "stream",
     "text": [
      "100%|██████████| 285/285 [00:12<00:00, 22.42it/s]\n",
      "  1%|          | 2/285 [00:00<00:22, 12.32it/s]"
     ]
    },
    {
     "name": "stdout",
     "output_type": "stream",
     "text": [
      "Finished run for neighbour size: 75 in 0:00:12.717241\n"
     ]
    },
    {
     "name": "stderr",
     "output_type": "stream",
     "text": [
      "100%|██████████| 285/285 [00:14<00:00, 20.06it/s]\n"
     ]
    },
    {
     "name": "stdout",
     "output_type": "stream",
     "text": [
      "Finished run for neighbour size: 100 in 0:00:14.216862\n",
      "Finished run for language: German in 0:01:08.820712\n",
      "Loading embeddings: el\n"
     ]
    },
    {
     "name": "stderr",
     "output_type": "stream",
     "text": [
      "  1%|          | 3/353 [00:00<00:15, 22.43it/s]"
     ]
    },
    {
     "name": "stdout",
     "output_type": "stream",
     "text": [
      "Embeddings el loaded in 0:00:02.281267\n"
     ]
    },
    {
     "name": "stderr",
     "output_type": "stream",
     "text": [
      "100%|██████████| 353/353 [00:14<00:00, 24.78it/s]\n",
      "  1%|          | 3/353 [00:00<00:15, 22.34it/s]"
     ]
    },
    {
     "name": "stdout",
     "output_type": "stream",
     "text": [
      "Finished run for neighbour size: 5 in 0:00:14.249009\n"
     ]
    },
    {
     "name": "stderr",
     "output_type": "stream",
     "text": [
      "100%|██████████| 353/353 [00:14<00:00, 23.91it/s]\n",
      "  1%|          | 2/353 [00:00<00:17, 19.97it/s]"
     ]
    },
    {
     "name": "stdout",
     "output_type": "stream",
     "text": [
      "Finished run for neighbour size: 10 in 0:00:14.771139\n"
     ]
    },
    {
     "name": "stderr",
     "output_type": "stream",
     "text": [
      "100%|██████████| 353/353 [00:16<00:00, 21.99it/s]\n",
      "  1%|          | 2/353 [00:00<00:19, 17.91it/s]"
     ]
    },
    {
     "name": "stdout",
     "output_type": "stream",
     "text": [
      "Finished run for neighbour size: 25 in 0:00:16.053968\n"
     ]
    },
    {
     "name": "stderr",
     "output_type": "stream",
     "text": [
      "100%|██████████| 353/353 [00:18<00:00, 19.44it/s]\n",
      "  1%|          | 2/353 [00:00<00:21, 16.25it/s]"
     ]
    },
    {
     "name": "stdout",
     "output_type": "stream",
     "text": [
      "Finished run for neighbour size: 50 in 0:00:18.167293\n"
     ]
    },
    {
     "name": "stderr",
     "output_type": "stream",
     "text": [
      "100%|██████████| 353/353 [00:20<00:00, 17.43it/s]\n",
      "  1%|          | 2/353 [00:00<00:30, 11.42it/s]"
     ]
    },
    {
     "name": "stdout",
     "output_type": "stream",
     "text": [
      "Finished run for neighbour size: 75 in 0:00:20.253081\n"
     ]
    },
    {
     "name": "stderr",
     "output_type": "stream",
     "text": [
      "100%|██████████| 353/353 [00:22<00:00, 15.52it/s]\n"
     ]
    },
    {
     "name": "stdout",
     "output_type": "stream",
     "text": [
      "Finished run for neighbour size: 100 in 0:00:22.748327\n",
      "Finished run for language: Greek in 0:01:48.527925\n",
      "Loading embeddings: it\n"
     ]
    },
    {
     "name": "stderr",
     "output_type": "stream",
     "text": [
      "  1%|          | 3/335 [00:00<00:14, 22.96it/s]"
     ]
    },
    {
     "name": "stdout",
     "output_type": "stream",
     "text": [
      "Embeddings it loaded in 0:00:02.129993\n"
     ]
    },
    {
     "name": "stderr",
     "output_type": "stream",
     "text": [
      "100%|██████████| 335/335 [00:14<00:00, 22.90it/s]\n",
      "  1%|          | 3/335 [00:00<00:15, 21.66it/s]"
     ]
    },
    {
     "name": "stdout",
     "output_type": "stream",
     "text": [
      "Finished run for neighbour size: 5 in 0:00:14.634722\n"
     ]
    },
    {
     "name": "stderr",
     "output_type": "stream",
     "text": [
      "100%|██████████| 335/335 [00:15<00:00, 22.22it/s]\n",
      "  1%|          | 3/335 [00:00<00:16, 20.68it/s]"
     ]
    },
    {
     "name": "stdout",
     "output_type": "stream",
     "text": [
      "Finished run for neighbour size: 10 in 0:00:15.080319\n"
     ]
    },
    {
     "name": "stderr",
     "output_type": "stream",
     "text": [
      "100%|██████████| 335/335 [00:16<00:00, 20.42it/s]\n",
      "  1%|          | 2/335 [00:00<00:25, 13.03it/s]"
     ]
    },
    {
     "name": "stdout",
     "output_type": "stream",
     "text": [
      "Finished run for neighbour size: 25 in 0:00:16.411680\n"
     ]
    },
    {
     "name": "stderr",
     "output_type": "stream",
     "text": [
      "100%|██████████| 335/335 [00:18<00:00, 18.03it/s]\n",
      "  1%|          | 2/335 [00:00<00:20, 16.36it/s]"
     ]
    },
    {
     "name": "stdout",
     "output_type": "stream",
     "text": [
      "Finished run for neighbour size: 50 in 0:00:18.582865\n"
     ]
    },
    {
     "name": "stderr",
     "output_type": "stream",
     "text": [
      "100%|██████████| 335/335 [00:20<00:00, 16.20it/s]\n",
      "  1%|          | 2/335 [00:00<00:22, 14.48it/s]"
     ]
    },
    {
     "name": "stdout",
     "output_type": "stream",
     "text": [
      "Finished run for neighbour size: 75 in 0:00:20.685767\n"
     ]
    },
    {
     "name": "stderr",
     "output_type": "stream",
     "text": [
      "100%|██████████| 335/335 [00:23<00:00, 14.42it/s]\n"
     ]
    },
    {
     "name": "stdout",
     "output_type": "stream",
     "text": [
      "Finished run for neighbour size: 100 in 0:00:23.228915\n",
      "Finished run for language: Italian in 0:01:50.758668\n",
      "Loading embeddings: ja\n"
     ]
    },
    {
     "name": "stderr",
     "output_type": "stream",
     "text": [
      "  9%|▉         | 18/192 [00:00<00:01, 137.12it/s]"
     ]
    },
    {
     "name": "stdout",
     "output_type": "stream",
     "text": [
      "Embeddings ja loaded in 0:00:02.156944\n"
     ]
    },
    {
     "name": "stderr",
     "output_type": "stream",
     "text": [
      "100%|██████████| 192/192 [00:00<00:00, 196.64it/s]\n",
      "  9%|▉         | 18/192 [00:00<00:01, 134.38it/s]"
     ]
    },
    {
     "name": "stdout",
     "output_type": "stream",
     "text": [
      "Finished run for neighbour size: 5 in 0:00:00.981164\n"
     ]
    },
    {
     "name": "stderr",
     "output_type": "stream",
     "text": [
      "100%|██████████| 192/192 [00:01<00:00, 188.23it/s]\n",
      "  9%|▉         | 18/192 [00:00<00:01, 123.96it/s]"
     ]
    },
    {
     "name": "stdout",
     "output_type": "stream",
     "text": [
      "Finished run for neighbour size: 10 in 0:00:01.024385\n"
     ]
    },
    {
     "name": "stderr",
     "output_type": "stream",
     "text": [
      "100%|██████████| 192/192 [00:01<00:00, 175.30it/s]\n",
      "  6%|▌         | 11/192 [00:00<00:01, 99.40it/s]"
     ]
    },
    {
     "name": "stdout",
     "output_type": "stream",
     "text": [
      "Finished run for neighbour size: 25 in 0:00:01.099575\n"
     ]
    },
    {
     "name": "stderr",
     "output_type": "stream",
     "text": [
      "100%|██████████| 192/192 [00:01<00:00, 154.31it/s]\n",
      "  6%|▌         | 11/192 [00:00<00:02, 85.26it/s]"
     ]
    },
    {
     "name": "stdout",
     "output_type": "stream",
     "text": [
      "Finished run for neighbour size: 50 in 0:00:01.248758\n"
     ]
    },
    {
     "name": "stderr",
     "output_type": "stream",
     "text": [
      "100%|██████████| 192/192 [00:01<00:00, 135.36it/s]\n",
      "  6%|▌         | 11/192 [00:00<00:02, 80.21it/s]"
     ]
    },
    {
     "name": "stdout",
     "output_type": "stream",
     "text": [
      "Finished run for neighbour size: 75 in 0:00:01.423014\n"
     ]
    },
    {
     "name": "stderr",
     "output_type": "stream",
     "text": [
      "100%|██████████| 192/192 [00:01<00:00, 123.62it/s]\n"
     ]
    },
    {
     "name": "stdout",
     "output_type": "stream",
     "text": [
      "Finished run for neighbour size: 100 in 0:00:01.557443\n",
      "Finished run for language: Japanese in 0:00:09.494765\n",
      "Loading embeddings: ko\n"
     ]
    },
    {
     "name": "stderr",
     "output_type": "stream",
     "text": [
      "  1%|          | 2/185 [00:00<00:16, 11.24it/s]"
     ]
    },
    {
     "name": "stdout",
     "output_type": "stream",
     "text": [
      "Embeddings ko loaded in 0:00:02.584285\n"
     ]
    },
    {
     "name": "stderr",
     "output_type": "stream",
     "text": [
      "100%|██████████| 185/185 [00:14<00:00, 12.37it/s]\n",
      "  1%|          | 2/185 [00:00<00:16, 11.18it/s]"
     ]
    },
    {
     "name": "stdout",
     "output_type": "stream",
     "text": [
      "Finished run for neighbour size: 5 in 0:00:14.960468\n"
     ]
    },
    {
     "name": "stderr",
     "output_type": "stream",
     "text": [
      "100%|██████████| 185/185 [00:15<00:00, 12.07it/s]\n",
      "  1%|          | 2/185 [00:00<00:17, 10.74it/s]"
     ]
    },
    {
     "name": "stdout",
     "output_type": "stream",
     "text": [
      "Finished run for neighbour size: 10 in 0:00:15.327421\n"
     ]
    },
    {
     "name": "stderr",
     "output_type": "stream",
     "text": [
      "100%|██████████| 185/185 [00:16<00:00, 11.54it/s]\n",
      "  1%|          | 1/185 [00:00<00:18,  9.88it/s]"
     ]
    },
    {
     "name": "stdout",
     "output_type": "stream",
     "text": [
      "Finished run for neighbour size: 25 in 0:00:16.031164\n"
     ]
    },
    {
     "name": "stderr",
     "output_type": "stream",
     "text": [
      "100%|██████████| 185/185 [00:17<00:00, 10.75it/s]\n",
      "  1%|          | 1/185 [00:00<00:20,  9.11it/s]"
     ]
    },
    {
     "name": "stdout",
     "output_type": "stream",
     "text": [
      "Finished run for neighbour size: 50 in 0:00:17.205877\n"
     ]
    },
    {
     "name": "stderr",
     "output_type": "stream",
     "text": [
      "100%|██████████| 185/185 [00:18<00:00, 10.03it/s]\n",
      "  1%|          | 1/185 [00:00<00:20,  8.84it/s]"
     ]
    },
    {
     "name": "stdout",
     "output_type": "stream",
     "text": [
      "Finished run for neighbour size: 75 in 0:00:18.455561\n"
     ]
    },
    {
     "name": "stderr",
     "output_type": "stream",
     "text": [
      "100%|██████████| 185/185 [00:19<00:00,  9.47it/s]\n"
     ]
    },
    {
     "name": "stdout",
     "output_type": "stream",
     "text": [
      "Finished run for neighbour size: 100 in 0:00:19.547384\n",
      "Finished run for language: Korean in 0:01:44.121378\n",
      "Loading embeddings: pl\n"
     ]
    },
    {
     "name": "stderr",
     "output_type": "stream",
     "text": [
      "  0%|          | 1/295 [00:00<00:52,  5.59it/s]"
     ]
    },
    {
     "name": "stdout",
     "output_type": "stream",
     "text": [
      "Embeddings pl loaded in 0:00:05.227718\n"
     ]
    },
    {
     "name": "stderr",
     "output_type": "stream",
     "text": [
      "100%|██████████| 295/295 [00:51<00:00,  5.72it/s]\n",
      "  0%|          | 1/295 [00:00<00:55,  5.26it/s]"
     ]
    },
    {
     "name": "stdout",
     "output_type": "stream",
     "text": [
      "Finished run for neighbour size: 5 in 0:00:51.560283\n"
     ]
    },
    {
     "name": "stderr",
     "output_type": "stream",
     "text": [
      "100%|██████████| 295/295 [00:51<00:00,  5.69it/s]\n",
      "  0%|          | 1/295 [00:00<00:53,  5.48it/s]"
     ]
    },
    {
     "name": "stdout",
     "output_type": "stream",
     "text": [
      "Finished run for neighbour size: 10 in 0:00:51.884041\n"
     ]
    },
    {
     "name": "stderr",
     "output_type": "stream",
     "text": [
      "100%|██████████| 295/295 [00:52<00:00,  5.57it/s]\n",
      "  0%|          | 1/295 [00:00<00:55,  5.26it/s]"
     ]
    },
    {
     "name": "stdout",
     "output_type": "stream",
     "text": [
      "Finished run for neighbour size: 25 in 0:00:52.958680\n"
     ]
    },
    {
     "name": "stderr",
     "output_type": "stream",
     "text": [
      "100%|██████████| 295/295 [00:54<00:00,  5.39it/s]\n",
      "  0%|          | 1/295 [00:00<00:58,  5.05it/s]"
     ]
    },
    {
     "name": "stdout",
     "output_type": "stream",
     "text": [
      "Finished run for neighbour size: 50 in 0:00:54.758139\n"
     ]
    },
    {
     "name": "stderr",
     "output_type": "stream",
     "text": [
      "100%|██████████| 295/295 [00:56<00:00,  5.22it/s]\n",
      "  0%|          | 0/295 [00:00<?, ?it/s]"
     ]
    },
    {
     "name": "stdout",
     "output_type": "stream",
     "text": [
      "Finished run for neighbour size: 75 in 0:00:56.550155\n"
     ]
    },
    {
     "name": "stderr",
     "output_type": "stream",
     "text": [
      "100%|██████████| 295/295 [00:58<00:00,  5.02it/s]\n"
     ]
    },
    {
     "name": "stdout",
     "output_type": "stream",
     "text": [
      "Finished run for neighbour size: 100 in 0:00:58.721064\n",
      "Finished run for language: Polish in 0:05:31.666275\n",
      "Loading embeddings: pt\n"
     ]
    },
    {
     "name": "stderr",
     "output_type": "stream",
     "text": [
      "  1%|          | 3/284 [00:00<00:13, 21.61it/s]"
     ]
    },
    {
     "name": "stdout",
     "output_type": "stream",
     "text": [
      "Embeddings pt loaded in 0:00:02.203310\n"
     ]
    },
    {
     "name": "stderr",
     "output_type": "stream",
     "text": [
      "100%|██████████| 284/284 [00:12<00:00, 22.67it/s]\n",
      "  1%|          | 3/284 [00:00<00:12, 21.66it/s]"
     ]
    },
    {
     "name": "stdout",
     "output_type": "stream",
     "text": [
      "Finished run for neighbour size: 5 in 0:00:12.533741\n"
     ]
    },
    {
     "name": "stderr",
     "output_type": "stream",
     "text": [
      "100%|██████████| 284/284 [00:12<00:00, 22.12it/s]\n",
      "  1%|          | 3/284 [00:00<00:13, 20.35it/s]"
     ]
    },
    {
     "name": "stdout",
     "output_type": "stream",
     "text": [
      "Finished run for neighbour size: 10 in 0:00:12.845631\n"
     ]
    },
    {
     "name": "stderr",
     "output_type": "stream",
     "text": [
      "100%|██████████| 284/284 [00:13<00:00, 20.40it/s]\n",
      "  1%|          | 2/284 [00:00<00:15, 17.81it/s]"
     ]
    },
    {
     "name": "stdout",
     "output_type": "stream",
     "text": [
      "Finished run for neighbour size: 25 in 0:00:13.928295\n"
     ]
    },
    {
     "name": "stderr",
     "output_type": "stream",
     "text": [
      "100%|██████████| 284/284 [00:15<00:00, 17.89it/s]\n",
      "  1%|          | 2/284 [00:00<00:17, 16.16it/s]"
     ]
    },
    {
     "name": "stdout",
     "output_type": "stream",
     "text": [
      "Finished run for neighbour size: 50 in 0:00:15.878070\n"
     ]
    },
    {
     "name": "stderr",
     "output_type": "stream",
     "text": [
      "100%|██████████| 284/284 [00:17<00:00, 16.08it/s]\n",
      "  1%|          | 2/284 [00:00<00:19, 14.70it/s]"
     ]
    },
    {
     "name": "stdout",
     "output_type": "stream",
     "text": [
      "Finished run for neighbour size: 75 in 0:00:17.663085\n"
     ]
    },
    {
     "name": "stderr",
     "output_type": "stream",
     "text": [
      "100%|██████████| 284/284 [00:19<00:00, 14.42it/s]\n"
     ]
    },
    {
     "name": "stdout",
     "output_type": "stream",
     "text": [
      "Finished run for neighbour size: 100 in 0:00:19.704952\n",
      "Finished run for language: Portuguese in 0:01:34.768534\n",
      "Loading embeddings: ru\n"
     ]
    },
    {
     "name": "stderr",
     "output_type": "stream",
     "text": [
      "  1%|          | 3/340 [00:00<00:14, 22.76it/s]"
     ]
    },
    {
     "name": "stdout",
     "output_type": "stream",
     "text": [
      "Embeddings ru loaded in 0:00:02.223475\n"
     ]
    },
    {
     "name": "stderr",
     "output_type": "stream",
     "text": [
      "100%|██████████| 340/340 [00:13<00:00, 24.48it/s]\n",
      "  1%|          | 3/340 [00:00<00:15, 22.34it/s]"
     ]
    },
    {
     "name": "stdout",
     "output_type": "stream",
     "text": [
      "Finished run for neighbour size: 5 in 0:00:13.890975\n"
     ]
    },
    {
     "name": "stderr",
     "output_type": "stream",
     "text": [
      "100%|██████████| 340/340 [00:14<00:00, 23.98it/s]\n",
      "  1%|          | 3/340 [00:00<00:16, 20.33it/s]"
     ]
    },
    {
     "name": "stdout",
     "output_type": "stream",
     "text": [
      "Finished run for neighbour size: 10 in 0:00:14.180258\n"
     ]
    },
    {
     "name": "stderr",
     "output_type": "stream",
     "text": [
      "100%|██████████| 340/340 [00:15<00:00, 21.78it/s]\n",
      "  1%|          | 2/340 [00:00<00:19, 17.30it/s]"
     ]
    },
    {
     "name": "stdout",
     "output_type": "stream",
     "text": [
      "Finished run for neighbour size: 25 in 0:00:15.617731\n"
     ]
    },
    {
     "name": "stderr",
     "output_type": "stream",
     "text": [
      "100%|██████████| 340/340 [00:17<00:00, 19.36it/s]\n",
      "  1%|          | 2/340 [00:00<00:22, 14.72it/s]"
     ]
    },
    {
     "name": "stdout",
     "output_type": "stream",
     "text": [
      "Finished run for neighbour size: 50 in 0:00:17.570568\n"
     ]
    },
    {
     "name": "stderr",
     "output_type": "stream",
     "text": [
      "100%|██████████| 340/340 [00:19<00:00, 17.28it/s]\n",
      "  1%|          | 2/340 [00:00<00:23, 14.63it/s]"
     ]
    },
    {
     "name": "stdout",
     "output_type": "stream",
     "text": [
      "Finished run for neighbour size: 75 in 0:00:19.679851\n"
     ]
    },
    {
     "name": "stderr",
     "output_type": "stream",
     "text": [
      "100%|██████████| 340/340 [00:21<00:00, 15.47it/s]\n"
     ]
    },
    {
     "name": "stdout",
     "output_type": "stream",
     "text": [
      "Finished run for neighbour size: 100 in 0:00:21.988659\n",
      "Finished run for language: Russian in 0:01:45.155064\n",
      "Loading embeddings: es\n"
     ]
    },
    {
     "name": "stderr",
     "output_type": "stream",
     "text": [
      "  0%|          | 3/796 [00:00<00:34, 22.76it/s]"
     ]
    },
    {
     "name": "stdout",
     "output_type": "stream",
     "text": [
      "Embeddings es loaded in 0:00:02.187653\n"
     ]
    },
    {
     "name": "stderr",
     "output_type": "stream",
     "text": [
      "100%|██████████| 796/796 [00:34<00:00, 23.12it/s]\n",
      "  0%|          | 3/796 [00:00<00:36, 21.91it/s]"
     ]
    },
    {
     "name": "stdout",
     "output_type": "stream",
     "text": [
      "Finished run for neighbour size: 5 in 0:00:34.436467\n"
     ]
    },
    {
     "name": "stderr",
     "output_type": "stream",
     "text": [
      "100%|██████████| 796/796 [00:35<00:00, 22.47it/s]\n",
      "  0%|          | 3/796 [00:00<00:38, 20.36it/s]"
     ]
    },
    {
     "name": "stdout",
     "output_type": "stream",
     "text": [
      "Finished run for neighbour size: 10 in 0:00:35.437274\n"
     ]
    },
    {
     "name": "stderr",
     "output_type": "stream",
     "text": [
      "100%|██████████| 796/796 [00:38<00:00, 20.63it/s]\n",
      "  0%|          | 2/796 [00:00<00:44, 17.95it/s]"
     ]
    },
    {
     "name": "stdout",
     "output_type": "stream",
     "text": [
      "Finished run for neighbour size: 25 in 0:00:38.585655\n"
     ]
    },
    {
     "name": "stderr",
     "output_type": "stream",
     "text": [
      "100%|██████████| 796/796 [00:43<00:00, 18.13it/s]\n",
      "  0%|          | 2/796 [00:00<00:50, 15.79it/s]"
     ]
    },
    {
     "name": "stdout",
     "output_type": "stream",
     "text": [
      "Finished run for neighbour size: 50 in 0:00:43.908057\n"
     ]
    },
    {
     "name": "stderr",
     "output_type": "stream",
     "text": [
      "100%|██████████| 796/796 [00:48<00:00, 16.30it/s]\n",
      "  0%|          | 2/796 [00:00<00:55, 14.36it/s]"
     ]
    },
    {
     "name": "stdout",
     "output_type": "stream",
     "text": [
      "Finished run for neighbour size: 75 in 0:00:48.850557\n"
     ]
    },
    {
     "name": "stderr",
     "output_type": "stream",
     "text": [
      "100%|██████████| 796/796 [00:54<00:00, 14.60it/s]\n"
     ]
    },
    {
     "name": "stdout",
     "output_type": "stream",
     "text": [
      "Finished run for neighbour size: 100 in 0:00:54.512751\n",
      "Finished run for language: Spanish in 0:04:17.922946\n",
      "Loading embeddings: sv\n"
     ]
    },
    {
     "name": "stderr",
     "output_type": "stream",
     "text": [
      "  7%|▋         | 3/44 [00:00<00:01, 22.89it/s]"
     ]
    },
    {
     "name": "stdout",
     "output_type": "stream",
     "text": [
      "Embeddings sv loaded in 0:00:02.136387\n"
     ]
    },
    {
     "name": "stderr",
     "output_type": "stream",
     "text": [
      "100%|██████████| 44/44 [00:01<00:00, 24.38it/s]\n",
      "  7%|▋         | 3/44 [00:00<00:01, 21.94it/s]"
     ]
    },
    {
     "name": "stdout",
     "output_type": "stream",
     "text": [
      "Finished run for neighbour size: 5 in 0:00:01.809750\n"
     ]
    },
    {
     "name": "stderr",
     "output_type": "stream",
     "text": [
      "100%|██████████| 44/44 [00:01<00:00, 23.63it/s]\n",
      "  7%|▋         | 3/44 [00:00<00:02, 20.47it/s]"
     ]
    },
    {
     "name": "stdout",
     "output_type": "stream",
     "text": [
      "Finished run for neighbour size: 10 in 0:00:01.866582\n"
     ]
    },
    {
     "name": "stderr",
     "output_type": "stream",
     "text": [
      "100%|██████████| 44/44 [00:01<00:00, 22.07it/s]\n",
      "  5%|▍         | 2/44 [00:00<00:02, 17.99it/s]"
     ]
    },
    {
     "name": "stdout",
     "output_type": "stream",
     "text": [
      "Finished run for neighbour size: 25 in 0:00:01.998861\n"
     ]
    },
    {
     "name": "stderr",
     "output_type": "stream",
     "text": [
      "100%|██████████| 44/44 [00:02<00:00, 19.34it/s]\n",
      "  5%|▍         | 2/44 [00:00<00:02, 16.24it/s]"
     ]
    },
    {
     "name": "stdout",
     "output_type": "stream",
     "text": [
      "Finished run for neighbour size: 50 in 0:00:02.279816\n"
     ]
    },
    {
     "name": "stderr",
     "output_type": "stream",
     "text": [
      "100%|██████████| 44/44 [00:02<00:00, 17.37it/s]\n",
      "  5%|▍         | 2/44 [00:00<00:02, 14.43it/s]"
     ]
    },
    {
     "name": "stdout",
     "output_type": "stream",
     "text": [
      "Finished run for neighbour size: 75 in 0:00:02.538301\n"
     ]
    },
    {
     "name": "stderr",
     "output_type": "stream",
     "text": [
      "100%|██████████| 44/44 [00:02<00:00, 15.39it/s]\n"
     ]
    },
    {
     "name": "stdout",
     "output_type": "stream",
     "text": [
      "Finished run for neighbour size: 100 in 0:00:02.862942\n",
      "Finished run for language: Swedish in 0:00:15.496261\n",
      "Loading embeddings: th\n"
     ]
    },
    {
     "name": "stderr",
     "output_type": "stream",
     "text": [
      "  4%|▍         | 5/122 [00:00<00:02, 41.94it/s]"
     ]
    },
    {
     "name": "stdout",
     "output_type": "stream",
     "text": [
      "Embeddings th loaded in 0:00:01.201089\n"
     ]
    },
    {
     "name": "stderr",
     "output_type": "stream",
     "text": [
      "100%|██████████| 122/122 [00:02<00:00, 49.61it/s]\n",
      "  4%|▍         | 5/122 [00:00<00:02, 40.05it/s]"
     ]
    },
    {
     "name": "stdout",
     "output_type": "stream",
     "text": [
      "Finished run for neighbour size: 5 in 0:00:02.463985\n"
     ]
    },
    {
     "name": "stderr",
     "output_type": "stream",
     "text": [
      "100%|██████████| 122/122 [00:02<00:00, 45.92it/s]\n",
      "  3%|▎         | 4/122 [00:00<00:03, 33.98it/s]"
     ]
    },
    {
     "name": "stdout",
     "output_type": "stream",
     "text": [
      "Finished run for neighbour size: 10 in 0:00:02.661124\n"
     ]
    },
    {
     "name": "stderr",
     "output_type": "stream",
     "text": [
      "100%|██████████| 122/122 [00:03<00:00, 40.21it/s]\n",
      "  2%|▏         | 3/122 [00:00<00:04, 27.77it/s]"
     ]
    },
    {
     "name": "stdout",
     "output_type": "stream",
     "text": [
      "Finished run for neighbour size: 25 in 0:00:03.038478\n"
     ]
    },
    {
     "name": "stderr",
     "output_type": "stream",
     "text": [
      "100%|██████████| 122/122 [00:03<00:00, 32.81it/s]\n",
      "  2%|▏         | 3/122 [00:00<00:05, 23.54it/s]"
     ]
    },
    {
     "name": "stdout",
     "output_type": "stream",
     "text": [
      "Finished run for neighbour size: 50 in 0:00:03.723119\n"
     ]
    },
    {
     "name": "stderr",
     "output_type": "stream",
     "text": [
      "100%|██████████| 122/122 [00:04<00:00, 27.80it/s]\n",
      "  2%|▏         | 3/122 [00:00<00:05, 20.74it/s]"
     ]
    },
    {
     "name": "stdout",
     "output_type": "stream",
     "text": [
      "Finished run for neighbour size: 75 in 0:00:04.392451\n"
     ]
    },
    {
     "name": "stderr",
     "output_type": "stream",
     "text": [
      "100%|██████████| 122/122 [00:05<00:00, 24.11it/s]\n"
     ]
    },
    {
     "name": "stdout",
     "output_type": "stream",
     "text": [
      "Finished run for neighbour size: 100 in 0:00:05.064608\n",
      "Finished run for language: Thai in 0:00:22.551788\n",
      "Loading embeddings: tr\n"
     ]
    },
    {
     "name": "stderr",
     "output_type": "stream",
     "text": [
      "  1%|▏         | 4/272 [00:00<00:08, 30.51it/s]"
     ]
    },
    {
     "name": "stdout",
     "output_type": "stream",
     "text": [
      "Embeddings tr loaded in 0:00:02.168491\n"
     ]
    },
    {
     "name": "stderr",
     "output_type": "stream",
     "text": [
      "100%|██████████| 272/272 [00:10<00:00, 27.07it/s]\n",
      "  1%|▏         | 4/272 [00:00<00:09, 29.66it/s]"
     ]
    },
    {
     "name": "stdout",
     "output_type": "stream",
     "text": [
      "Finished run for neighbour size: 5 in 0:00:10.052989\n"
     ]
    },
    {
     "name": "stderr",
     "output_type": "stream",
     "text": [
      "100%|██████████| 272/272 [00:10<00:00, 26.29it/s]\n",
      "  1%|▏         | 4/272 [00:00<00:09, 27.25it/s]"
     ]
    },
    {
     "name": "stdout",
     "output_type": "stream",
     "text": [
      "Finished run for neighbour size: 10 in 0:00:10.351336\n"
     ]
    },
    {
     "name": "stderr",
     "output_type": "stream",
     "text": [
      "100%|██████████| 272/272 [00:11<00:00, 23.89it/s]\n",
      "  1%|          | 2/272 [00:00<00:17, 15.66it/s]"
     ]
    },
    {
     "name": "stdout",
     "output_type": "stream",
     "text": [
      "Finished run for neighbour size: 25 in 0:00:11.392198\n"
     ]
    },
    {
     "name": "stderr",
     "output_type": "stream",
     "text": [
      "100%|██████████| 272/272 [00:12<00:00, 21.39it/s]\n",
      "  1%|          | 2/272 [00:00<00:16, 16.21it/s]"
     ]
    },
    {
     "name": "stdout",
     "output_type": "stream",
     "text": [
      "Finished run for neighbour size: 50 in 0:00:12.722004\n"
     ]
    },
    {
     "name": "stderr",
     "output_type": "stream",
     "text": [
      "100%|██████████| 272/272 [00:14<00:00, 19.02it/s]\n",
      "  1%|          | 2/272 [00:00<00:18, 14.70it/s]"
     ]
    },
    {
     "name": "stdout",
     "output_type": "stream",
     "text": [
      "Finished run for neighbour size: 75 in 0:00:14.308182\n"
     ]
    },
    {
     "name": "stderr",
     "output_type": "stream",
     "text": [
      "100%|██████████| 272/272 [00:15<00:00, 17.10it/s]"
     ]
    },
    {
     "name": "stdout",
     "output_type": "stream",
     "text": [
      "Finished run for neighbour size: 100 in 0:00:15.908215\n",
      "Finished run for language: Turkish in 0:01:16.905993\n",
      "Finished run for vector type: polyglot in 0:29:41.297570\n"
     ]
    },
    {
     "name": "stderr",
     "output_type": "stream",
     "text": [
      "\n"
     ]
    }
   ],
   "source": [
    "run_experiment_l1(pd_dataset)"
   ]
  },
  {
   "cell_type": "code",
   "execution_count": 8,
   "metadata": {
    "ExecuteTime": {
     "end_time": "2019-01-24T00:52:41.755667Z",
     "start_time": "2019-01-24T00:52:41.735790Z"
    }
   },
   "outputs": [],
   "source": [
    "for key in new_columns:\n",
    "    pd_dataset['l1_sim_polyglot_' + str(key)] = new_columns[key]"
   ]
  },
  {
   "cell_type": "code",
   "execution_count": 9,
   "metadata": {
    "ExecuteTime": {
     "end_time": "2019-01-24T00:53:11.254352Z",
     "start_time": "2019-01-24T00:53:11.017153Z"
    }
   },
   "outputs": [],
   "source": [
    "pd_dataset.to_csv('../data/ms_final_with_polyglot.csv', index = False)"
   ]
  },
  {
   "cell_type": "code",
   "execution_count": 10,
   "metadata": {
    "ExecuteTime": {
     "end_time": "2019-01-24T00:53:46.307348Z",
     "start_time": "2019-01-24T00:53:46.262539Z"
    }
   },
   "outputs": [
    {
     "data": {
      "text/html": [
       "<div>\n",
       "<style scoped>\n",
       "    .dataframe tbody tr th:only-of-type {\n",
       "        vertical-align: middle;\n",
       "    }\n",
       "\n",
       "    .dataframe tbody tr th {\n",
       "        vertical-align: top;\n",
       "    }\n",
       "\n",
       "    .dataframe thead th {\n",
       "        text-align: right;\n",
       "    }\n",
       "</style>\n",
       "<table border=\"1\" class=\"dataframe\">\n",
       "  <thead>\n",
       "    <tr style=\"text-align: right;\">\n",
       "      <th></th>\n",
       "      <th>c</th>\n",
       "      <th>i</th>\n",
       "      <th>id</th>\n",
       "      <th>l1_c</th>\n",
       "      <th>l1_i</th>\n",
       "      <th>language</th>\n",
       "      <th>type</th>\n",
       "      <th>code</th>\n",
       "      <th>l2_sim_cc_5</th>\n",
       "      <th>l2_sim_cc_10</th>\n",
       "      <th>...</th>\n",
       "      <th>l2_sim_polyglot_25</th>\n",
       "      <th>l2_sim_polyglot_50</th>\n",
       "      <th>l2_sim_polyglot_75</th>\n",
       "      <th>l2_sim_polyglot_100</th>\n",
       "      <th>l1_sim_polyglot_5</th>\n",
       "      <th>l1_sim_polyglot_10</th>\n",
       "      <th>l1_sim_polyglot_25</th>\n",
       "      <th>l1_sim_polyglot_50</th>\n",
       "      <th>l1_sim_polyglot_75</th>\n",
       "      <th>l1_sim_polyglot_100</th>\n",
       "    </tr>\n",
       "  </thead>\n",
       "  <tbody>\n",
       "    <tr>\n",
       "      <th>0</th>\n",
       "      <td>plans</td>\n",
       "      <td>projects</td>\n",
       "      <td>person_2799</td>\n",
       "      <td>plans</td>\n",
       "      <td>projectes</td>\n",
       "      <td>Catalan</td>\n",
       "      <td>RN</td>\n",
       "      <td>ca</td>\n",
       "      <td>0.315914</td>\n",
       "      <td>0.289572</td>\n",
       "      <td>...</td>\n",
       "      <td>0.652385</td>\n",
       "      <td>0.642290</td>\n",
       "      <td>0.636711</td>\n",
       "      <td>0.636448</td>\n",
       "      <td>0.706547</td>\n",
       "      <td>0.719866</td>\n",
       "      <td>0.709139</td>\n",
       "      <td>0.681242</td>\n",
       "      <td>0.676333</td>\n",
       "      <td>0.667461</td>\n",
       "    </tr>\n",
       "    <tr>\n",
       "      <th>221</th>\n",
       "      <td>independence</td>\n",
       "      <td>freedom</td>\n",
       "      <td>person_2132</td>\n",
       "      <td>independència</td>\n",
       "      <td>llibertat</td>\n",
       "      <td>Catalan</td>\n",
       "      <td>RN</td>\n",
       "      <td>ca</td>\n",
       "      <td>0.478300</td>\n",
       "      <td>0.455483</td>\n",
       "      <td>...</td>\n",
       "      <td>0.633258</td>\n",
       "      <td>0.621581</td>\n",
       "      <td>0.608173</td>\n",
       "      <td>0.601868</td>\n",
       "      <td>0.673520</td>\n",
       "      <td>0.658533</td>\n",
       "      <td>0.656046</td>\n",
       "      <td>0.656317</td>\n",
       "      <td>0.647447</td>\n",
       "      <td>0.646497</td>\n",
       "    </tr>\n",
       "    <tr>\n",
       "      <th>220</th>\n",
       "      <td>stars</td>\n",
       "      <td>starts</td>\n",
       "      <td>person_2127</td>\n",
       "      <td>estrelles</td>\n",
       "      <td>comença</td>\n",
       "      <td>Catalan</td>\n",
       "      <td>RN</td>\n",
       "      <td>ca</td>\n",
       "      <td>0.068227</td>\n",
       "      <td>0.068642</td>\n",
       "      <td>...</td>\n",
       "      <td>0.312807</td>\n",
       "      <td>0.323280</td>\n",
       "      <td>0.315747</td>\n",
       "      <td>0.309649</td>\n",
       "      <td>-0.086862</td>\n",
       "      <td>-0.071272</td>\n",
       "      <td>-0.057636</td>\n",
       "      <td>-0.068105</td>\n",
       "      <td>-0.065801</td>\n",
       "      <td>-0.070737</td>\n",
       "    </tr>\n",
       "    <tr>\n",
       "      <th>219</th>\n",
       "      <td>time</td>\n",
       "      <td>hours</td>\n",
       "      <td>person_2127</td>\n",
       "      <td>temps</td>\n",
       "      <td>hores</td>\n",
       "      <td>Catalan</td>\n",
       "      <td>RN</td>\n",
       "      <td>ca</td>\n",
       "      <td>0.464017</td>\n",
       "      <td>0.407275</td>\n",
       "      <td>...</td>\n",
       "      <td>0.270096</td>\n",
       "      <td>0.236612</td>\n",
       "      <td>0.215306</td>\n",
       "      <td>0.203645</td>\n",
       "      <td>0.254001</td>\n",
       "      <td>0.308201</td>\n",
       "      <td>0.277933</td>\n",
       "      <td>0.270908</td>\n",
       "      <td>0.253394</td>\n",
       "      <td>0.249989</td>\n",
       "    </tr>\n",
       "    <tr>\n",
       "      <th>218</th>\n",
       "      <td>coming</td>\n",
       "      <td>following</td>\n",
       "      <td>person_2127</td>\n",
       "      <td>venint</td>\n",
       "      <td>següents</td>\n",
       "      <td>Catalan</td>\n",
       "      <td>RJ</td>\n",
       "      <td>ca</td>\n",
       "      <td>0.183514</td>\n",
       "      <td>0.166062</td>\n",
       "      <td>...</td>\n",
       "      <td>0.274542</td>\n",
       "      <td>0.268298</td>\n",
       "      <td>0.258854</td>\n",
       "      <td>0.258467</td>\n",
       "      <td>0.017321</td>\n",
       "      <td>-0.002845</td>\n",
       "      <td>-0.019284</td>\n",
       "      <td>-0.027436</td>\n",
       "      <td>-0.031775</td>\n",
       "      <td>-0.024451</td>\n",
       "    </tr>\n",
       "  </tbody>\n",
       "</table>\n",
       "<p>5 rows × 38 columns</p>\n",
       "</div>"
      ],
      "text/plain": [
       "                c          i           id           l1_c       l1_i language  \\\n",
       "0           plans   projects  person_2799          plans  projectes  Catalan   \n",
       "221  independence    freedom  person_2132  independència  llibertat  Catalan   \n",
       "220         stars     starts  person_2127      estrelles    comença  Catalan   \n",
       "219          time      hours  person_2127          temps      hores  Catalan   \n",
       "218        coming  following  person_2127         venint   següents  Catalan   \n",
       "\n",
       "    type code  l2_sim_cc_5  l2_sim_cc_10         ...           \\\n",
       "0     RN   ca     0.315914      0.289572         ...            \n",
       "221   RN   ca     0.478300      0.455483         ...            \n",
       "220   RN   ca     0.068227      0.068642         ...            \n",
       "219   RN   ca     0.464017      0.407275         ...            \n",
       "218   RJ   ca     0.183514      0.166062         ...            \n",
       "\n",
       "     l2_sim_polyglot_25  l2_sim_polyglot_50  l2_sim_polyglot_75  \\\n",
       "0              0.652385            0.642290            0.636711   \n",
       "221            0.633258            0.621581            0.608173   \n",
       "220            0.312807            0.323280            0.315747   \n",
       "219            0.270096            0.236612            0.215306   \n",
       "218            0.274542            0.268298            0.258854   \n",
       "\n",
       "     l2_sim_polyglot_100  l1_sim_polyglot_5  l1_sim_polyglot_10  \\\n",
       "0               0.636448           0.706547            0.719866   \n",
       "221             0.601868           0.673520            0.658533   \n",
       "220             0.309649          -0.086862           -0.071272   \n",
       "219             0.203645           0.254001            0.308201   \n",
       "218             0.258467           0.017321           -0.002845   \n",
       "\n",
       "     l1_sim_polyglot_25  l1_sim_polyglot_50  l1_sim_polyglot_75  \\\n",
       "0              0.709139            0.681242            0.676333   \n",
       "221            0.656046            0.656317            0.647447   \n",
       "220           -0.057636           -0.068105           -0.065801   \n",
       "219            0.277933            0.270908            0.253394   \n",
       "218           -0.019284           -0.027436           -0.031775   \n",
       "\n",
       "     l1_sim_polyglot_100  \n",
       "0               0.667461  \n",
       "221             0.646497  \n",
       "220            -0.070737  \n",
       "219             0.249989  \n",
       "218            -0.024451  \n",
       "\n",
       "[5 rows x 38 columns]"
      ]
     },
     "execution_count": 10,
     "metadata": {},
     "output_type": "execute_result"
    }
   ],
   "source": [
    "pd_dataset.head()"
   ]
  }
 ],
 "metadata": {
  "kernelspec": {
   "display_name": "Python 3",
   "language": "python",
   "name": "python3"
  },
  "language_info": {
   "codemirror_mode": {
    "name": "ipython",
    "version": 3
   },
   "file_extension": ".py",
   "mimetype": "text/x-python",
   "name": "python",
   "nbconvert_exporter": "python",
   "pygments_lexer": "ipython3",
   "version": "3.6.3"
  },
  "varInspector": {
   "cols": {
    "lenName": 16,
    "lenType": 16,
    "lenVar": 40
   },
   "kernels_config": {
    "python": {
     "delete_cmd_postfix": "",
     "delete_cmd_prefix": "del ",
     "library": "var_list.py",
     "varRefreshCmd": "print(var_dic_list())"
    },
    "r": {
     "delete_cmd_postfix": ") ",
     "delete_cmd_prefix": "rm(",
     "library": "var_list.r",
     "varRefreshCmd": "cat(var_dic_list()) "
    }
   },
   "types_to_exclude": [
    "module",
    "function",
    "builtin_function_or_method",
    "instance",
    "_Feature"
   ],
   "window_display": false
  }
 },
 "nbformat": 4,
 "nbformat_minor": 2
}
