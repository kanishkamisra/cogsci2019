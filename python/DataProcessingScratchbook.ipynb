{
 "cells": [
  {
   "cell_type": "code",
   "execution_count": 24,
   "metadata": {},
   "outputs": [],
   "source": [
    "from pathlib import Path\n",
    "from lxml import etree"
   ]
  },
  {
   "cell_type": "code",
   "execution_count": 25,
   "metadata": {},
   "outputs": [],
   "source": [
    "directory = 'data/dataset'\n",
    "file_list = []\n",
    "pathlist = Path(directory).glob('**/*.xml')\n",
    "for path in pathlist:\n",
    "    # because path is object not string\n",
    "    file_list.append(str(path))"
   ]
  },
  {
   "cell_type": "code",
   "execution_count": 172,
   "metadata": {},
   "outputs": [],
   "source": [
    "test_file = file_list[876]\n",
    "with open(test_file) as fobj:\n",
    "    xml = fobj.read()"
   ]
  },
  {
   "cell_type": "code",
   "execution_count": 173,
   "metadata": {},
   "outputs": [],
   "source": [
    "root = etree.XML(bytes(bytearray(xml, encoding='utf-8')))"
   ]
  },
  {
   "cell_type": "code",
   "execution_count": 174,
   "metadata": {},
   "outputs": [
    {
     "name": "stdout",
     "output_type": "stream",
     "text": [
      "PROMPT KEY: 0100_2000_6\n",
      "SORT KEY: TR798*0100*2000*01\n",
      "SCORE: 24.0\n",
      "LANGUAGE: Chinese\n",
      "AGE: 16-20\n"
     ]
    }
   ],
   "source": [
    "head = root[0]\n",
    "candidate = head[0]\n",
    "personnel = candidate.find('personnel')\n",
    "text = head.find('text')\n",
    "print('PROMPT KEY: ' + Path(test_file).parent.name)\n",
    "print('SORT KEY: ' + head.get('sortkey'))\n",
    "print('SCORE: ' + candidate.find('score').text)\n",
    "print('LANGUAGE: ' + personnel.find('language').text)\n",
    "print('AGE: ' + personnel.find('age').text)"
   ]
  },
  {
   "cell_type": "code",
   "execution_count": 175,
   "metadata": {},
   "outputs": [
    {
     "name": "stdout",
     "output_type": "stream",
     "text": [
      "TAG: answer1\n",
      "QUESTION NUMBER: 1\n",
      "EXAM SCORE: 3.2\n",
      "TAG: answer2\n",
      "QUESTION NUMBER: 2\n",
      "EXAM SCORE: 2.3\n"
     ]
    }
   ],
   "source": [
    "answers = []\n",
    "for item in text.getchildren():\n",
    "    print('TAG: ' + item.tag)\n",
    "    print('QUESTION NUMBER: ' + item.find('question_number').text)\n",
    "    print('EXAM SCORE: ' + item.find('exam_score').text)\n",
    "    answers.append(item.find('coded_answer'))"
   ]
  },
  {
   "cell_type": "code",
   "execution_count": 190,
   "metadata": {},
   "outputs": [
    {
     "name": "stdout",
     "output_type": "stream",
     "text": [
      "b'<p><NS type=\"MT\"><i>The</i><c>Concerning the</c></NS> accommodation<NS type=\"MP\"><c>,</c></NS> I would like to <NS type=\"RV\"><i>live</i><c>stay</c></NS> in tents<NS type=\"RP\"><i>. Because</i><c>, because</c></NS> I <NS type=\"TV\"><i>never <NS type=\"RV\"><i>live</i><c>stay</c></NS></i><c>have never stayed</c></NS> in <NS type=\"MD\"><c>a</c></NS> <NS type=\"AGN\"><i>tents</i><c>tent</c></NS> before. I think it <NS type=\"TV\"><i>is</i><c>will be</c></NS> great and I want to try it.</p>\\n          '\n"
     ]
    }
   ],
   "source": [
    "p = answers[0][3]\n",
    "ns = p.getchildren()\n",
    "print(etree.tostring(p))"
   ]
  },
  {
   "cell_type": "code",
   "execution_count": 191,
   "metadata": {},
   "outputs": [],
   "source": [
    "def build_sentence(data, corrections):\n",
    "    res = data.text\n",
    "    for errors in data.getchildren():\n",
    "        # process the tag\n",
    "        if (not errors.tail == ''):\n",
    "            res = res + ' ' + errors.tail\n",
    "\n",
    "def process_ns(data, corrections):\n",
    "    correct, wrong = '', ''\n",
    "    if (data.text is not None):\n",
    "        correct = correct + data.text\n",
    "        wrong = wrong + data.text\n",
    "    tup_c, tup_i = '', ''\n",
    "    \n",
    "#     print('PROCESSING: ' + data.tag)\n",
    "    \n",
    "    for items in data.getchildren():\n",
    "        if ((items.tag == 'i') or (items.tag == 'ns' and items.getparent().tag == 'i')):\n",
    "#             print('INC')\n",
    "            i_c, i_i = process_ns(items, corrections) #items.text\n",
    "            if (i_i is not None):\n",
    "                wrong = wrong + ' ' + i_i\n",
    "                tup_i = i_i\n",
    "        elif ((items.tag == 'c') or (items.tag == 'ns' and items.getparent().tag == 'c')):\n",
    "#             print('COR')\n",
    "            c_c, c_i = process_ns(items, corrections) #items.text\n",
    "            if (c_c is not None):\n",
    "                correct = correct + ' ' + c_c\n",
    "                tup_c = c_c\n",
    "        else:\n",
    "            c, i = process_ns(items, corrections)\n",
    "            if (c is not None):\n",
    "                correct = correct + ' ' + c\n",
    "            if (i is not None):\n",
    "                wrong = wrong + ' ' + i\n",
    "            \n",
    "#         print(items.tag)\n",
    "        if (items.tail is not None):\n",
    "            correct = correct + ' ' + items.tail\n",
    "            wrong = wrong + ' ' + items.tail\n",
    "    if (data.tag == 'NS'):\n",
    "        if (data.get('type') in corrections):\n",
    "            corrections[data.get('type')].append({'i': tup_i, 'c': tup_c})\n",
    "        else:\n",
    "            corrections[data.get('type')] = [{'i': tup_i, 'c': tup_c}]\n",
    "        \n",
    "    return correct, wrong"
   ]
  },
  {
   "cell_type": "code",
   "execution_count": 192,
   "metadata": {},
   "outputs": [
    {
     "name": "stdout",
     "output_type": "stream",
     "text": [
      "b'<p><NS type=\"MT\"><i>The</i><c>Concerning the</c></NS> accommodation<NS type=\"MP\"><c>,</c></NS> I would like to <NS type=\"RV\"><i>live</i><c>stay</c></NS> in tents<NS type=\"RP\"><i>. Because</i><c>, because</c></NS> I <NS type=\"TV\"><i>never <NS type=\"RV\"><i>live</i><c>stay</c></NS></i><c>have never stayed</c></NS> in <NS type=\"MD\"><c>a</c></NS> <NS type=\"AGN\"><i>tents</i><c>tent</c></NS> before. I think it <NS type=\"TV\"><i>is</i><c>will be</c></NS> great and I want to try it.</p>\\n          '\n",
      "  Concerning the  accommodation  ,  I would like to   stay  in tents  , because  I   have never stayed  in   a    tent  before. I think it   will be  great and I want to try it.\n",
      "  The  accommodation   I would like to   live  in tents  . Because  I   never   live  in      tents  before. I think it   is  great and I want to try it.\n",
      "{'MT': [{'i': 'The', 'c': 'Concerning the'}], 'MP': [{'i': '', 'c': ','}], 'RV': [{'i': 'live', 'c': 'stay'}, {'i': 'live', 'c': 'stay'}], 'RP': [{'i': '. Because', 'c': ', because'}], 'TV': [{'i': 'never   live', 'c': 'have never stayed'}, {'i': 'is', 'c': 'will be'}], 'MD': [{'i': '', 'c': 'a'}], 'AGN': [{'i': 'tents', 'c': 'tent'}]}\n"
     ]
    }
   ],
   "source": [
    "print(etree.tostring(p))\n",
    "cor = {}\n",
    "c, i = process_ns(p, cor)\n",
    "print(c)\n",
    "print(i)\n",
    "print(cor)"
   ]
  },
  {
   "cell_type": "code",
   "execution_count": 171,
   "metadata": {},
   "outputs": [
    {
     "name": "stdout",
     "output_type": "stream",
     "text": [
      "876\n",
      "data/dataset/0100_2000_6/doc2.xml\n"
     ]
    }
   ],
   "source": [
    "# test_file2 = ''\n",
    "# for i, c in enumerate(file_list):\n",
    "#     if ('doc2.xml' in c):\n",
    "#         test_file2 = c\n",
    "#         print(i)\n",
    "#         print(c)"
   ]
  },
  {
   "cell_type": "code",
   "execution_count": null,
   "metadata": {},
   "outputs": [],
   "source": []
  }
 ],
 "metadata": {
  "kernelspec": {
   "display_name": "Python 3",
   "language": "python",
   "name": "python3"
  },
  "language_info": {
   "codemirror_mode": {
    "name": "ipython",
    "version": 3
   },
   "file_extension": ".py",
   "mimetype": "text/x-python",
   "name": "python",
   "nbconvert_exporter": "python",
   "pygments_lexer": "ipython3",
   "version": "3.6.3"
  }
 },
 "nbformat": 4,
 "nbformat_minor": 2
}
