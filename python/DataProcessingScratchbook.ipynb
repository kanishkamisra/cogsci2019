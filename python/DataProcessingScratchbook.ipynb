{
 "cells": [
  {
   "cell_type": "code",
   "execution_count": 24,
   "metadata": {},
   "outputs": [],
   "source": [
    "from pathlib import Path\n",
    "from lxml import etree"
   ]
  },
  {
   "cell_type": "code",
   "execution_count": 25,
   "metadata": {},
   "outputs": [],
   "source": [
    "directory = '../data/dataset'\n",
    "file_list = []\n",
    "pathlist = Path(directory).glob('**/*.xml')\n",
    "for path in pathlist:\n",
    "    # because path is object not string\n",
    "    file_list.append(str(path))"
   ]
  },
  {
   "cell_type": "code",
   "execution_count": 26,
   "metadata": {},
   "outputs": [],
   "source": [
    "test_file = file_list[876]\n",
    "with open(test_file) as fobj:\n",
    "    xml = fobj.read()"
   ]
  },
  {
   "cell_type": "code",
   "execution_count": 27,
   "metadata": {},
   "outputs": [],
   "source": [
    "root = etree.XML(bytes(bytearray(xml, encoding='utf-8')))"
   ]
  },
  {
   "cell_type": "code",
   "execution_count": 28,
   "metadata": {},
   "outputs": [
    {
     "name": "stdout",
     "output_type": "stream",
     "text": [
      "PROMPT KEY: 0100_2000_6\n",
      "SORT KEY: TR798*0100*2000*01\n",
      "SCORE: 24.0\n",
      "LANGUAGE: Chinese\n",
      "AGE: 16-20\n"
     ]
    }
   ],
   "source": [
    "head = root[0]\n",
    "candidate = head[0]\n",
    "personnel = candidate.find('personnel')\n",
    "text = head.find('text')\n",
    "print('PROMPT KEY: ' + Path(test_file).parent.name)\n",
    "print('SORT KEY: ' + head.get('sortkey'))\n",
    "print('SCORE: ' + candidate.find('score').text)\n",
    "print('LANGUAGE: ' + personnel.find('language').text)\n",
    "print('AGE: ' + personnel.find('age').text)"
   ]
  },
  {
   "cell_type": "code",
   "execution_count": 29,
   "metadata": {},
   "outputs": [
    {
     "name": "stdout",
     "output_type": "stream",
     "text": [
      "TAG: answer1\n",
      "QUESTION NUMBER: 1\n",
      "EXAM SCORE: 3.2\n",
      "TAG: answer2\n",
      "QUESTION NUMBER: 2\n",
      "EXAM SCORE: 2.3\n"
     ]
    }
   ],
   "source": [
    "answers = []\n",
    "for item in text.getchildren():\n",
    "    print('TAG: ' + item.tag)\n",
    "    print('QUESTION NUMBER: ' + item.find('question_number').text)\n",
    "    print('EXAM SCORE: ' + item.find('exam_score').text)\n",
    "    answers.append(item.find('coded_answer'))"
   ]
  },
  {
   "cell_type": "code",
   "execution_count": 44,
   "metadata": {},
   "outputs": [
    {
     "name": "stdout",
     "output_type": "stream",
     "text": [
      "b'<p>Dear Mr Ryan<NS type=\"RP\"><i>.</i><c>,</c></NS></p>\\n          '\n",
      "b'<p>Thanks for <NS type=\"DD\"><i>you</i><c>your</c></NS> letter. I am so <NS type=\"RJ\"><i>exciting</i><c>excited</c></NS> that I have won the first prize. I will give you all <NS type=\"MD\"><c>the</c></NS> information you need and ask some questions.</p>\\n          '\n",
      "b'<p>I <NS type=\"TV\"><i>could</i><c>can</c></NS> only travel <NS type=\"RT\"><i>on</i><c>in</c></NS> July. As you know, I am a student and the nearest holiday is <NS type=\"MD\"><c>the</c></NS> summer holiday. But I have booked a flight <NS type=\"UT\"><i>to</i></NS> home at the beginning of <NS type=\"S\"><i>Auguest</i><c>August</c></NS>. And also I would like to go <NS type=\"RT\"><i>on</i><c>in</c></NS> summer.</p>\\n          '\n",
      "b'<p><NS type=\"MT\"><i>The</i><c>Concerning the</c></NS> accommodation<NS type=\"MP\"><c>,</c></NS> I would like to <NS type=\"RV\"><i>live</i><c>stay</c></NS> in tents<NS type=\"RP\"><i>. Because</i><c>, because</c></NS> I <NS type=\"TV\"><i>never <NS type=\"RV\"><i>live</i><c>stay</c></NS></i><c>have never stayed</c></NS> in <NS type=\"MD\"><c>a</c></NS> <NS type=\"AGN\"><i>tents</i><c>tent</c></NS> before. I think it <NS type=\"TV\"><i>is</i><c>will be</c></NS> great and I want to try it.</p>\\n          '\n",
      "b'<p>I like doing sports. I would like to play basketball and golf when I am at the Camp. I play basketball a lot and I am a member of our college <NS type=\"RN\"><i>term</i><c>team</c></NS>. But I am not very good at golf.</p>\\n          '\n",
      "b'<p>And also I want to ask some questions. What clothes should I <NS type=\"TV\"><i>taken</i><c>take</c></NS>? How much money should I <NS type=\"TV\"><i>taken</i><c>take</c></NS>? And how <NS type=\"TV\"><i>could</i><c>can</c></NS> we meet at the airport? I am looking forward <NS type=\"MT\"><c>to</c></NS> your reply.</p>\\n          '\n",
      "b'<p>Yours sincerely.</p>\\n         '\n"
     ]
    }
   ],
   "source": [
    "p = answers[0]\n",
    "ns = p.getchildren()\n",
    "for it in p:\n",
    "    print(etree.tostring(it))\n",
    "# print(etree.tostring(p))"
   ]
  },
  {
   "cell_type": "code",
   "execution_count": 31,
   "metadata": {},
   "outputs": [],
   "source": [
    "def process_ns(data, corrections):\n",
    "    correct, wrong = '', ''\n",
    "    if (data.text is not None):\n",
    "        correct = correct + data.text\n",
    "        wrong = wrong + data.text\n",
    "    tup_c, tup_i = '', ''\n",
    "    \n",
    "#     print('PROCESSING: ' + data.tag)\n",
    "    \n",
    "    for items in data.getchildren():\n",
    "        if ((items.tag == 'i') or (items.tag == 'ns' and items.getparent().tag == 'i')):\n",
    "#             print('INC')\n",
    "            i_c, i_i = process_ns(items, corrections) #items.text\n",
    "            if (i_i is not None):\n",
    "                wrong = wrong + ' ' + i_i\n",
    "                tup_i = i_i\n",
    "        elif ((items.tag == 'c') or (items.tag == 'ns' and items.getparent().tag == 'c')):\n",
    "#             print('COR')\n",
    "            c_c, c_i = process_ns(items, corrections) #items.text\n",
    "            if (c_c is not None):\n",
    "                correct = correct + ' ' + c_c\n",
    "                tup_c = c_c\n",
    "        else:\n",
    "            c, i = process_ns(items, corrections)\n",
    "            if (c is not None):\n",
    "                correct = correct + ' ' + c\n",
    "            if (i is not None):\n",
    "                wrong = wrong + ' ' + i\n",
    "            \n",
    "#         print(items.tag)\n",
    "        if (items.tail is not None):\n",
    "            correct = correct + ' ' + items.tail\n",
    "            wrong = wrong + ' ' + items.tail\n",
    "    if (data.tag == 'NS'):\n",
    "        if (data.get('type') in corrections):\n",
    "            corrections[data.get('type')].append({'i': tup_i, 'c': tup_c})\n",
    "        else:\n",
    "            corrections[data.get('type')] = [{'i': tup_i, 'c': tup_c}]\n",
    "        \n",
    "    return ' '.join(correct.split()), ' '.join(wrong.split())"
   ]
  },
  {
   "cell_type": "code",
   "execution_count": 35,
   "metadata": {},
   "outputs": [
    {
     "name": "stdout",
     "output_type": "stream",
     "text": [
      "b'<p><NS type=\"MT\"><i>The</i><c>Concerning the</c></NS> accommodation<NS type=\"MP\"><c>,</c></NS> I would like to <NS type=\"RV\"><i>live</i><c>stay</c></NS> in tents<NS type=\"RP\"><i>. Because</i><c>, because</c></NS> I <NS type=\"TV\"><i>never <NS type=\"RV\"><i>live</i><c>stay</c></NS></i><c>have never stayed</c></NS> in <NS type=\"MD\"><c>a</c></NS> <NS type=\"AGN\"><i>tents</i><c>tent</c></NS> before. I think it <NS type=\"TV\"><i>is</i><c>will be</c></NS> great and I want to try it.</p>\\n          '\n",
      "CORRECT: Concerning the accommodation , I would like to stay in tents , because I have never stayed in a tent before. I think it will be great and I want to try it.\n",
      "\n",
      "\n",
      "WRONG: The accommodation I would like to live in tents . Because I never live in tents before. I think it is great and I want to try it.\n",
      "\n",
      "\n",
      "{'MT': [{'i': 'The', 'c': 'Concerning the'}], 'MP': [{'i': '', 'c': ','}], 'RV': [{'i': 'live', 'c': 'stay'}, {'i': 'live', 'c': 'stay'}], 'RP': [{'i': '. Because', 'c': ', because'}], 'TV': [{'i': 'never live', 'c': 'have never stayed'}, {'i': 'is', 'c': 'will be'}], 'MD': [{'i': '', 'c': 'a'}], 'AGN': [{'i': 'tents', 'c': 'tent'}]}\n"
     ]
    }
   ],
   "source": [
    "print(etree.tostring(p))\n",
    "cor = {}\n",
    "c, i = process_ns(p, cor)\n",
    "print('CORRECT: ' + c)\n",
    "print('\\n')\n",
    "print('WRONG: ' + i)\n",
    "print('\\n')\n",
    "print(cor)"
   ]
  },
  {
   "cell_type": "code",
   "execution_count": 171,
   "metadata": {},
   "outputs": [
    {
     "name": "stdout",
     "output_type": "stream",
     "text": [
      "876\n",
      "data/dataset/0100_2000_6/doc2.xml\n"
     ]
    }
   ],
   "source": [
    "# 876\n",
    "# data/dataset/0100_2000_6/doc2.xml\n",
    "with open('../data/prompts/0100_2000_6.x')"
   ]
  },
  {
   "cell_type": "code",
   "execution_count": null,
   "metadata": {},
   "outputs": [],
   "source": []
  }
 ],
 "metadata": {
  "kernelspec": {
   "display_name": "Python 3",
   "language": "python",
   "name": "python3"
  },
  "language_info": {
   "codemirror_mode": {
    "name": "ipython",
    "version": 3
   },
   "file_extension": ".py",
   "mimetype": "text/x-python",
   "name": "python",
   "nbconvert_exporter": "python",
   "pygments_lexer": "ipython3",
   "version": "3.6.3"
  }
 },
 "nbformat": 4,
 "nbformat_minor": 2
}
