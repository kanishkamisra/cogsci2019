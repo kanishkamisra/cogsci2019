{
 "cells": [
  {
   "cell_type": "code",
   "execution_count": 1,
   "metadata": {
    "ExecuteTime": {
     "end_time": "2019-02-02T01:54:00.471450Z",
     "start_time": "2019-02-02T01:54:00.455369Z"
    }
   },
   "outputs": [],
   "source": [
    "import json\n",
    "import csv\n",
    "from tqdm import tqdm"
   ]
  },
  {
   "cell_type": "code",
   "execution_count": 2,
   "metadata": {
    "ExecuteTime": {
     "end_time": "2019-02-02T01:54:01.064830Z",
     "start_time": "2019-02-02T01:54:01.052355Z"
    }
   },
   "outputs": [],
   "source": [
    "fast_json_res_file = 'fasttext_result_set.json'\n",
    "fast_json_res_sim_file = 'fasttext_result_set_sim.json'\n",
    "poly_json_res_file = 'poly_result_set.json'\n",
    "poly_json_res_sim_file = 'poly_result_set_sim.json'\n",
    "\n",
    "fast_csv_res_file = 'fasttext_result_set.csv'\n",
    "fast_csv_res_sim_file = 'fasttext_result_set_sim.csv'\n",
    "poly_csv_res_file = 'poly_result_set.csv'\n",
    "poly_csv_res_sim_file = 'poly_result_set_sim.csv'"
   ]
  },
  {
   "cell_type": "code",
   "execution_count": 3,
   "metadata": {
    "ExecuteTime": {
     "end_time": "2019-02-02T01:54:05.725184Z",
     "start_time": "2019-02-02T01:54:01.587141Z"
    }
   },
   "outputs": [],
   "source": [
    "with open(fast_json_res_file) as f:\n",
    "    fast_json_res = json.load(f)\n",
    "with open(fast_json_res_sim_file) as f:\n",
    "    fast_json_res_sim = json.load(f)\n",
    "with open(poly_json_res_file) as f:\n",
    "    poly_json_res = json.load(f)\n",
    "with open(poly_json_res_sim_file) as f:\n",
    "    poly_json_res_sim = json.load(f)"
   ]
  },
  {
   "cell_type": "code",
   "execution_count": 4,
   "metadata": {
    "ExecuteTime": {
     "end_time": "2019-02-02T01:54:08.785750Z",
     "start_time": "2019-02-02T01:54:08.777094Z"
    }
   },
   "outputs": [
    {
     "data": {
      "text/plain": [
       "dict_keys(['i_nn', 'c_nn', 'l1_i_nn', 'l1_c_nn'])"
      ]
     },
     "execution_count": 4,
     "metadata": {},
     "output_type": "execute_result"
    }
   ],
   "source": [
    "fast_json_res['case_0001'].keys()"
   ]
  },
  {
   "cell_type": "code",
   "execution_count": 5,
   "metadata": {
    "ExecuteTime": {
     "end_time": "2019-02-02T01:54:11.937607Z",
     "start_time": "2019-02-02T01:54:11.933041Z"
    }
   },
   "outputs": [
    {
     "name": "stdout",
     "output_type": "stream",
     "text": [
      "dict_keys(['word', 'similarity'])\n",
      "100\n"
     ]
    }
   ],
   "source": [
    "print(fast_json_res_sim['case_0001']['i_nn'][0].keys())\n",
    "print(len(fast_json_res_sim['case_0001']['i_nn']))"
   ]
  },
  {
   "cell_type": "code",
   "execution_count": 6,
   "metadata": {
    "ExecuteTime": {
     "end_time": "2019-02-02T01:54:14.999452Z",
     "start_time": "2019-02-02T01:54:14.982252Z"
    }
   },
   "outputs": [],
   "source": [
    "headers = ['case_id']\n",
    "headers_sim = ['case_id']\n",
    "\n",
    "for i in range(1, 11):\n",
    "    headers.append('i_nn_' + str(i))\n",
    "    headers_sim.append('i_nn_' + str(i))\n",
    "    headers_sim.append('i_nn_' + str(i) + '_sim')\n",
    "for i in range(1, 11):\n",
    "    headers.append('c_nn_' + str(i))\n",
    "    headers_sim.append('c_nn_' + str(i))\n",
    "    headers_sim.append('c_nn_' + str(i) + '_sim')\n",
    "for i in range(1, 11):\n",
    "    headers.append('l1_i_nn_' + str(i))\n",
    "    headers_sim.append('l1_i_nn_' + str(i))\n",
    "    headers_sim.append('l1_i_nn_' + str(i) + '_sim')\n",
    "for i in range(1, 11):\n",
    "    headers.append('l1_c_nn_' + str(i))\n",
    "    headers_sim.append('l1_c_nn_' + str(i))\n",
    "    headers_sim.append('l1_c_nn_' + str(i) + '_sim')"
   ]
  },
  {
   "cell_type": "code",
   "execution_count": 7,
   "metadata": {
    "ExecuteTime": {
     "end_time": "2019-02-02T01:54:18.091266Z",
     "start_time": "2019-02-02T01:54:18.084126Z"
    }
   },
   "outputs": [],
   "source": [
    "fast_csv_res_file_handle = open(fast_csv_res_file, 'w')\n",
    "fast_csv_res_sim_file_handle = open(fast_csv_res_sim_file, 'w')\n",
    "poly_csv_res_file_handle = open(poly_csv_res_file, 'w')\n",
    "poly_csv_res_sim_file_handle = open(poly_csv_res_sim_file, 'w')\n",
    "\n",
    "fast_csv_res_file_writer = csv.writer(fast_csv_res_file_handle)\n",
    "fast_csv_res_sim_file_writer = csv.writer(fast_csv_res_sim_file_handle)\n",
    "poly_csv_res_file_writer = csv.writer(poly_csv_res_file_handle)\n",
    "poly_csv_res_sim_file_writer = csv.writer(poly_csv_res_sim_file_handle)"
   ]
  },
  {
   "cell_type": "code",
   "execution_count": 8,
   "metadata": {
    "ExecuteTime": {
     "end_time": "2019-02-02T01:54:21.280392Z",
     "start_time": "2019-02-02T01:54:21.160690Z"
    }
   },
   "outputs": [
    {
     "name": "stderr",
     "output_type": "stream",
     "text": [
      "100%|██████████| 4937/4937 [00:00<00:00, 51788.39it/s]\n"
     ]
    }
   ],
   "source": [
    "fast_csv_res_file_writer.writerow(headers)\n",
    "set1 = fast_json_res.keys()\n",
    "count = 10\n",
    "for key in tqdm(set1, total=len(set1)):\n",
    "    item = fast_json_res[key]\n",
    "    row = [key]\n",
    "    i_nn = []\n",
    "    c_nn = []\n",
    "    l1_i_nn = []\n",
    "    l1_c_nn = []\n",
    "    for word in item['i_nn'][:count]:\n",
    "        i_nn.append(word)\n",
    "    row.extend(i_nn)\n",
    "    for word in item['c_nn'][:count]:\n",
    "        c_nn.append(word)\n",
    "    row.extend(c_nn)\n",
    "    for word in item['l1_i_nn'][:count]:\n",
    "        l1_i_nn.append(word)\n",
    "    row.extend(l1_i_nn)\n",
    "    for word in item['l1_c_nn'][:count]:\n",
    "        l1_c_nn.append(word)\n",
    "    row.extend(l1_c_nn)\n",
    "    fast_csv_res_file_writer.writerow(row)\n",
    "fast_csv_res_file_handle.close()"
   ]
  },
  {
   "cell_type": "code",
   "execution_count": 9,
   "metadata": {
    "ExecuteTime": {
     "end_time": "2019-02-02T01:54:24.437237Z",
     "start_time": "2019-02-02T01:54:24.347847Z"
    }
   },
   "outputs": [
    {
     "name": "stderr",
     "output_type": "stream",
     "text": [
      "100%|██████████| 4449/4449 [00:00<00:00, 67801.72it/s]\n"
     ]
    }
   ],
   "source": [
    "poly_csv_res_file_writer.writerow(headers)\n",
    "set1 = poly_json_res.keys()\n",
    "for key in tqdm(set1, total=len(set1)):\n",
    "    item = poly_json_res[key]\n",
    "    row = [key]\n",
    "    i_nn = []\n",
    "    c_nn = []\n",
    "    l1_i_nn = []\n",
    "    l1_c_nn = []\n",
    "    for word in item['i_nn'][:count]:\n",
    "        i_nn.append(word)\n",
    "    row.extend(i_nn)\n",
    "    for word in item['c_nn'][:count]:\n",
    "        c_nn.append(word)\n",
    "    row.extend(c_nn)\n",
    "    for word in item['l1_i_nn'][:count]:\n",
    "        l1_i_nn.append(word)\n",
    "    row.extend(l1_i_nn)\n",
    "    for word in item['l1_c_nn'][:count]:\n",
    "        l1_c_nn.append(word)\n",
    "    row.extend(l1_c_nn)\n",
    "    poly_csv_res_file_writer.writerow(row)\n",
    "poly_csv_res_file_handle.close()"
   ]
  },
  {
   "cell_type": "code",
   "execution_count": 10,
   "metadata": {
    "ExecuteTime": {
     "end_time": "2019-02-02T01:54:27.767753Z",
     "start_time": "2019-02-02T01:54:27.546028Z"
    }
   },
   "outputs": [
    {
     "name": "stderr",
     "output_type": "stream",
     "text": [
      "100%|██████████| 4937/4937 [00:00<00:00, 27231.37it/s]\n"
     ]
    }
   ],
   "source": [
    "fast_csv_res_sim_file_writer.writerow(headers_sim)\n",
    "set1 = fast_json_res_sim.keys()\n",
    "count = 10\n",
    "for key in tqdm(set1, total=len(set1)):\n",
    "    item = fast_json_res_sim[key]\n",
    "    row = [key]\n",
    "    i_nn = []\n",
    "    c_nn = []\n",
    "    l1_i_nn = []\n",
    "    l1_c_nn = []\n",
    "    for word in item['i_nn'][:count]:\n",
    "        i_nn.append(word['word'])\n",
    "        i_nn.append(word['similarity'])\n",
    "    row.extend(i_nn)\n",
    "    for word in item['c_nn'][:count]:\n",
    "        c_nn.append(word['word'])\n",
    "        c_nn.append(word['similarity'])\n",
    "    row.extend(c_nn)\n",
    "    for word in item['l1_i_nn'][:count]:\n",
    "        l1_i_nn.append(word['word'])\n",
    "        l1_i_nn.append(word['similarity'])\n",
    "    row.extend(l1_i_nn)\n",
    "    for word in item['l1_c_nn'][:count]:\n",
    "        l1_c_nn.append(word['word'])\n",
    "        l1_c_nn.append(word['similarity'])\n",
    "    row.extend(l1_c_nn)\n",
    "    fast_csv_res_sim_file_writer.writerow(row)\n",
    "fast_csv_res_sim_file_handle.close()"
   ]
  },
  {
   "cell_type": "code",
   "execution_count": 11,
   "metadata": {
    "ExecuteTime": {
     "end_time": "2019-02-02T01:54:31.080022Z",
     "start_time": "2019-02-02T01:54:30.902668Z"
    }
   },
   "outputs": [
    {
     "name": "stderr",
     "output_type": "stream",
     "text": [
      "100%|██████████| 4449/4449 [00:00<00:00, 30663.75it/s]\n"
     ]
    }
   ],
   "source": [
    "poly_csv_res_sim_file_writer.writerow(headers_sim)\n",
    "set1 = poly_json_res_sim.keys()\n",
    "count = 10\n",
    "for key in tqdm(set1, total=len(set1)):\n",
    "    item = poly_json_res_sim[key]\n",
    "    row = [key]\n",
    "    i_nn = []\n",
    "    c_nn = []\n",
    "    l1_i_nn = []\n",
    "    l1_c_nn = []\n",
    "    for word in item['i_nn'][:count]:\n",
    "        i_nn.append(word['word'])\n",
    "        i_nn.append(word['similarity'])\n",
    "    row.extend(i_nn)\n",
    "    for word in item['c_nn'][:count]:\n",
    "        c_nn.append(word['word'])\n",
    "        c_nn.append(word['similarity'])\n",
    "    row.extend(c_nn)\n",
    "    for word in item['l1_i_nn'][:count]:\n",
    "        l1_i_nn.append(word['word'])\n",
    "        l1_i_nn.append(word['similarity'])\n",
    "    row.extend(l1_i_nn)\n",
    "    for word in item['l1_c_nn'][:count]:\n",
    "        l1_c_nn.append(word['word'])\n",
    "        l1_c_nn.append(word['similarity'])\n",
    "    row.extend(l1_c_nn)\n",
    "    poly_csv_res_sim_file_writer.writerow(row)\n",
    "poly_csv_res_sim_file_handle.close()"
   ]
  },
  {
   "cell_type": "code",
   "execution_count": null,
   "metadata": {
    "ExecuteTime": {
     "end_time": "2019-02-02T00:56:01.724723Z",
     "start_time": "2019-02-02T00:56:01.719578Z"
    }
   },
   "outputs": [],
   "source": []
  },
  {
   "cell_type": "code",
   "execution_count": null,
   "metadata": {},
   "outputs": [],
   "source": []
  }
 ],
 "metadata": {
  "kernelspec": {
   "display_name": "Python 3",
   "language": "python",
   "name": "python3"
  },
  "language_info": {
   "codemirror_mode": {
    "name": "ipython",
    "version": 3
   },
   "file_extension": ".py",
   "mimetype": "text/x-python",
   "name": "python",
   "nbconvert_exporter": "python",
   "pygments_lexer": "ipython3",
   "version": "3.6.3"
  },
  "varInspector": {
   "cols": {
    "lenName": 16,
    "lenType": 16,
    "lenVar": 40
   },
   "kernels_config": {
    "python": {
     "delete_cmd_postfix": "",
     "delete_cmd_prefix": "del ",
     "library": "var_list.py",
     "varRefreshCmd": "print(var_dic_list())"
    },
    "r": {
     "delete_cmd_postfix": ") ",
     "delete_cmd_prefix": "rm(",
     "library": "var_list.r",
     "varRefreshCmd": "cat(var_dic_list()) "
    }
   },
   "types_to_exclude": [
    "module",
    "function",
    "builtin_function_or_method",
    "instance",
    "_Feature"
   ],
   "window_display": false
  }
 },
 "nbformat": 4,
 "nbformat_minor": 2
}
