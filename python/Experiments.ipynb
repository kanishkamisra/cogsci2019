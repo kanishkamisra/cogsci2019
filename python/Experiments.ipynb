{
 "cells": [
  {
   "cell_type": "code",
   "execution_count": 1,
   "metadata": {
    "ExecuteTime": {
     "end_time": "2019-01-20T20:38:52.883862Z",
     "start_time": "2019-01-20T20:38:52.379869Z"
    }
   },
   "outputs": [],
   "source": [
    "from gensim.models import KeyedVectors\n",
    "from sklearn.metrics.pairwise import cosine_similarity\n",
    "import numpy as np\n",
    "import pandas as pd\n",
    "from datetime import datetime"
   ]
  },
  {
   "cell_type": "code",
   "execution_count": 2,
   "metadata": {
    "ExecuteTime": {
     "end_time": "2019-01-20T20:39:39.315583Z",
     "start_time": "2019-01-20T20:39:39.284099Z"
    }
   },
   "outputs": [],
   "source": [
    "def get_similarity(w1, w2, embeddings, size):\n",
    "    try:\n",
    "        w1_vector = embeddings[w1]\n",
    "        w2_vector = embeddings[w2]\n",
    "    except KeyError:\n",
    "        return -10\n",
    "    \n",
    "    w1_neighbours_vectors = embeddings.similar_by_vector(w1_vector, topn = size)\n",
    "    w2_neighbours_vectors = embeddings.similar_by_vector(w2_vector, topn = size)\n",
    "    \n",
    "    w1_neighbour_words = [embed[0] for embed in w1_neighbours_vectors]\n",
    "    w2_neighbour_words = [embed[0] for embed in w2_neighbours_vectors]\n",
    "    \n",
    "    w1_cosine = np.average([cosine_similarity([w1_vector], [embeddings[w2]]) for w2 in w2_neighbour_words])\n",
    "    w2_cosine = np.average([cosine_similarity([w2_vector], [embeddings[w1]]) for w1 in w1_neighbour_words])\n",
    "    \n",
    "    return np.average([w1_cosine, w2_cosine])"
   ]
  },
  {
   "cell_type": "code",
   "execution_count": 11,
   "metadata": {
    "ExecuteTime": {
     "end_time": "2019-01-20T20:42:37.264498Z",
     "start_time": "2019-01-20T20:42:37.225820Z"
    }
   },
   "outputs": [
    {
     "data": {
      "text/html": [
       "<div>\n",
       "<style scoped>\n",
       "    .dataframe tbody tr th:only-of-type {\n",
       "        vertical-align: middle;\n",
       "    }\n",
       "\n",
       "    .dataframe tbody tr th {\n",
       "        vertical-align: top;\n",
       "    }\n",
       "\n",
       "    .dataframe thead th {\n",
       "        text-align: right;\n",
       "    }\n",
       "</style>\n",
       "<table border=\"1\" class=\"dataframe\">\n",
       "  <thead>\n",
       "    <tr style=\"text-align: right;\">\n",
       "      <th></th>\n",
       "      <th>c</th>\n",
       "      <th>i</th>\n",
       "      <th>id</th>\n",
       "      <th>l1_c</th>\n",
       "      <th>l1_i</th>\n",
       "      <th>language</th>\n",
       "      <th>type</th>\n",
       "      <th>code</th>\n",
       "    </tr>\n",
       "  </thead>\n",
       "  <tbody>\n",
       "    <tr>\n",
       "      <th>2827</th>\n",
       "      <td>plans</td>\n",
       "      <td>projects</td>\n",
       "      <td>person_2799</td>\n",
       "      <td>plans</td>\n",
       "      <td>projectes</td>\n",
       "      <td>Catalan</td>\n",
       "      <td>RN</td>\n",
       "      <td>ca</td>\n",
       "    </tr>\n",
       "    <tr>\n",
       "      <th>2733</th>\n",
       "      <td>waste</td>\n",
       "      <td>lose</td>\n",
       "      <td>person_2421</td>\n",
       "      <td>malgastar</td>\n",
       "      <td>perdre</td>\n",
       "      <td>Catalan</td>\n",
       "      <td>RV</td>\n",
       "      <td>ca</td>\n",
       "    </tr>\n",
       "    <tr>\n",
       "      <th>2732</th>\n",
       "      <td>ending</td>\n",
       "      <td>end</td>\n",
       "      <td>person_1465</td>\n",
       "      <td>final</td>\n",
       "      <td>final</td>\n",
       "      <td>Catalan</td>\n",
       "      <td>RN</td>\n",
       "      <td>ca</td>\n",
       "    </tr>\n",
       "    <tr>\n",
       "      <th>2731</th>\n",
       "      <td>shot</td>\n",
       "      <td>view</td>\n",
       "      <td>person_1465</td>\n",
       "      <td>disparat</td>\n",
       "      <td>mostra</td>\n",
       "      <td>Catalan</td>\n",
       "      <td>RN</td>\n",
       "      <td>ca</td>\n",
       "    </tr>\n",
       "    <tr>\n",
       "      <th>2730</th>\n",
       "      <td>do</td>\n",
       "      <td>join</td>\n",
       "      <td>person_1465</td>\n",
       "      <td>fer</td>\n",
       "      <td>unir</td>\n",
       "      <td>Catalan</td>\n",
       "      <td>RV</td>\n",
       "      <td>ca</td>\n",
       "    </tr>\n",
       "  </tbody>\n",
       "</table>\n",
       "</div>"
      ],
      "text/plain": [
       "           c         i           id       l1_c       l1_i language type code\n",
       "2827   plans  projects  person_2799      plans  projectes  Catalan   RN   ca\n",
       "2733   waste      lose  person_2421  malgastar     perdre  Catalan   RV   ca\n",
       "2732  ending       end  person_1465      final      final  Catalan   RN   ca\n",
       "2731    shot      view  person_1465   disparat     mostra  Catalan   RN   ca\n",
       "2730      do      join  person_1465        fer       unir  Catalan   RV   ca"
      ]
     },
     "execution_count": 11,
     "metadata": {},
     "output_type": "execute_result"
    }
   ],
   "source": [
    "source = '../data/experiment_final.csv'\n",
    "pd_dataset = pd.read_csv(source)\n",
    "pd_dataset = pd_dataset.sort_values(by = 'language', ascending = True)\n",
    "pd_dataset.head()"
   ]
  },
  {
   "cell_type": "code",
   "execution_count": null,
   "metadata": {},
   "outputs": [],
   "source": [
    "neighbour_list = [5, 10, 25, 50, 75, 100]\n",
    "embedding_list = ['']"
   ]
  }
 ],
 "metadata": {
  "kernelspec": {
   "display_name": "Python 3",
   "language": "python",
   "name": "python3"
  },
  "language_info": {
   "codemirror_mode": {
    "name": "ipython",
    "version": 3
   },
   "file_extension": ".py",
   "mimetype": "text/x-python",
   "name": "python",
   "nbconvert_exporter": "python",
   "pygments_lexer": "ipython3",
   "version": "3.6.3"
  },
  "varInspector": {
   "cols": {
    "lenName": 16,
    "lenType": 16,
    "lenVar": 40
   },
   "kernels_config": {
    "python": {
     "delete_cmd_postfix": "",
     "delete_cmd_prefix": "del ",
     "library": "var_list.py",
     "varRefreshCmd": "print(var_dic_list())"
    },
    "r": {
     "delete_cmd_postfix": ") ",
     "delete_cmd_prefix": "rm(",
     "library": "var_list.r",
     "varRefreshCmd": "cat(var_dic_list()) "
    }
   },
   "types_to_exclude": [
    "module",
    "function",
    "builtin_function_or_method",
    "instance",
    "_Feature"
   ],
   "window_display": false
  }
 },
 "nbformat": 4,
 "nbformat_minor": 2
}
