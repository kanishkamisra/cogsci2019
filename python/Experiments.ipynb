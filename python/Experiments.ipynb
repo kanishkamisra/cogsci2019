{
 "cells": [
  {
   "cell_type": "code",
   "execution_count": 1,
   "metadata": {
    "ExecuteTime": {
     "end_time": "2019-01-20T21:43:57.499897Z",
     "start_time": "2019-01-20T21:43:57.014903Z"
    }
   },
   "outputs": [],
   "source": [
    "from gensim.models import KeyedVectors\n",
    "from sklearn.metrics.pairwise import cosine_similarity\n",
    "import numpy as np\n",
    "import pandas as pd\n",
    "from datetime import datetime\n",
    "from tqdm import tqdm"
   ]
  },
  {
   "cell_type": "code",
   "execution_count": 2,
   "metadata": {
    "ExecuteTime": {
     "end_time": "2019-01-20T21:43:57.812666Z",
     "start_time": "2019-01-20T21:43:57.779750Z"
    }
   },
   "outputs": [],
   "source": [
    "def get_similarity(w1, w2, embeddings, size):\n",
    "    try:\n",
    "        w1_vector = embeddings[w1]\n",
    "        w2_vector = embeddings[w2]\n",
    "    except KeyError:\n",
    "        return -10\n",
    "    \n",
    "    w1_neighbours_vectors = embeddings.similar_by_vector(w1_vector, topn = size)\n",
    "    w2_neighbours_vectors = embeddings.similar_by_vector(w2_vector, topn = size)\n",
    "    \n",
    "    w1_neighbour_words = [embed[0] for embed in w1_neighbours_vectors]\n",
    "    w2_neighbour_words = [embed[0] for embed in w2_neighbours_vectors]\n",
    "    \n",
    "    w1_cosine = np.average([cosine_similarity([w1_vector], [embeddings[w2]]) for w2 in w2_neighbour_words])\n",
    "    w2_cosine = np.average([cosine_similarity([w2_vector], [embeddings[w1]]) for w1 in w1_neighbour_words])\n",
    "    \n",
    "    return np.average([w1_cosine, w2_cosine])"
   ]
  },
  {
   "cell_type": "code",
   "execution_count": 3,
   "metadata": {
    "ExecuteTime": {
     "end_time": "2019-01-20T21:43:58.618429Z",
     "start_time": "2019-01-20T21:43:58.571370Z"
    }
   },
   "outputs": [
    {
     "data": {
      "text/html": [
       "<div>\n",
       "<style scoped>\n",
       "    .dataframe tbody tr th:only-of-type {\n",
       "        vertical-align: middle;\n",
       "    }\n",
       "\n",
       "    .dataframe tbody tr th {\n",
       "        vertical-align: top;\n",
       "    }\n",
       "\n",
       "    .dataframe thead th {\n",
       "        text-align: right;\n",
       "    }\n",
       "</style>\n",
       "<table border=\"1\" class=\"dataframe\">\n",
       "  <thead>\n",
       "    <tr style=\"text-align: right;\">\n",
       "      <th></th>\n",
       "      <th>c</th>\n",
       "      <th>i</th>\n",
       "      <th>id</th>\n",
       "      <th>l1_c</th>\n",
       "      <th>l1_i</th>\n",
       "      <th>language</th>\n",
       "      <th>type</th>\n",
       "      <th>code</th>\n",
       "    </tr>\n",
       "  </thead>\n",
       "  <tbody>\n",
       "    <tr>\n",
       "      <th>2827</th>\n",
       "      <td>plans</td>\n",
       "      <td>projects</td>\n",
       "      <td>person_2799</td>\n",
       "      <td>plans</td>\n",
       "      <td>projectes</td>\n",
       "      <td>Catalan</td>\n",
       "      <td>RN</td>\n",
       "      <td>ca</td>\n",
       "    </tr>\n",
       "    <tr>\n",
       "      <th>2733</th>\n",
       "      <td>waste</td>\n",
       "      <td>lose</td>\n",
       "      <td>person_2421</td>\n",
       "      <td>malgastar</td>\n",
       "      <td>perdre</td>\n",
       "      <td>Catalan</td>\n",
       "      <td>RV</td>\n",
       "      <td>ca</td>\n",
       "    </tr>\n",
       "    <tr>\n",
       "      <th>2732</th>\n",
       "      <td>ending</td>\n",
       "      <td>end</td>\n",
       "      <td>person_1465</td>\n",
       "      <td>final</td>\n",
       "      <td>final</td>\n",
       "      <td>Catalan</td>\n",
       "      <td>RN</td>\n",
       "      <td>ca</td>\n",
       "    </tr>\n",
       "    <tr>\n",
       "      <th>2731</th>\n",
       "      <td>shot</td>\n",
       "      <td>view</td>\n",
       "      <td>person_1465</td>\n",
       "      <td>disparat</td>\n",
       "      <td>mostra</td>\n",
       "      <td>Catalan</td>\n",
       "      <td>RN</td>\n",
       "      <td>ca</td>\n",
       "    </tr>\n",
       "    <tr>\n",
       "      <th>2730</th>\n",
       "      <td>do</td>\n",
       "      <td>join</td>\n",
       "      <td>person_1465</td>\n",
       "      <td>fer</td>\n",
       "      <td>unir</td>\n",
       "      <td>Catalan</td>\n",
       "      <td>RV</td>\n",
       "      <td>ca</td>\n",
       "    </tr>\n",
       "  </tbody>\n",
       "</table>\n",
       "</div>"
      ],
      "text/plain": [
       "           c         i           id       l1_c       l1_i language type code\n",
       "2827   plans  projects  person_2799      plans  projectes  Catalan   RN   ca\n",
       "2733   waste      lose  person_2421  malgastar     perdre  Catalan   RV   ca\n",
       "2732  ending       end  person_1465      final      final  Catalan   RN   ca\n",
       "2731    shot      view  person_1465   disparat     mostra  Catalan   RN   ca\n",
       "2730      do      join  person_1465        fer       unir  Catalan   RV   ca"
      ]
     },
     "execution_count": 3,
     "metadata": {},
     "output_type": "execute_result"
    }
   ],
   "source": [
    "source = '../data/experiment_final.csv'\n",
    "pd_dataset = pd.read_csv(source)\n",
    "pd_dataset = pd_dataset.sort_values(by = 'language', ascending = True)\n",
    "pd_dataset.head()"
   ]
  },
  {
   "cell_type": "code",
   "execution_count": 41,
   "metadata": {
    "ExecuteTime": {
     "end_time": "2019-01-21T02:20:32.631631Z",
     "start_time": "2019-01-21T02:20:32.585755Z"
    }
   },
   "outputs": [],
   "source": [
    "def get_embedding_file_name(language, file_type):\n",
    "    file_name = file_type + '.'\n",
    "    if (language == \"Russian\"):\n",
    "        file_name += 'ru'\n",
    "    elif (language == \"Turkish\"):\n",
    "        file_name += 'tr'\n",
    "    elif (language == \"German\"):\n",
    "        file_name += 'de'\n",
    "    elif (language == \"Japanese\"):\n",
    "        file_name += 'ja'\n",
    "    elif (language == \"Spanish\"):\n",
    "        file_name += 'es'\n",
    "    elif (language == \"Polish\"):\n",
    "        file_name += 'pl'\n",
    "    elif (language == \"Italian\"):\n",
    "        file_name += 'it'\n",
    "    elif (language == \"Catalan\"):\n",
    "        file_name += 'ca'\n",
    "    elif (language == \"Korean\"):\n",
    "        file_name += 'ko'\n",
    "    elif (language == \"French\"):\n",
    "        file_name += 'fr'\n",
    "    elif (language == \"Chinese\" or language == \"Chinese (Simplified)\"):\n",
    "        file_name += 'zh'\n",
    "    elif (language == \"Portuguese\"):\n",
    "        file_name += 'pt'\n",
    "    elif (language == \"Swedish\"):\n",
    "        file_name += 'sv'\n",
    "    elif (language == \"Greek\"):\n",
    "        file_name += 'el'\n",
    "    elif (language == \"Thai\"):\n",
    "        file_name += 'th'\n",
    "    elif (language == \"Dutch\"):\n",
    "        file_name += 'nl'\n",
    "    elif (language == \"English\"):\n",
    "        file_name += 'en.300'\n",
    "        \n",
    "    file_name += '.vec' \n",
    "    return file_name\n",
    "\n",
    "def load_embedding_vector(file_name):\n",
    "    return KeyedVectors.load_word2vec_format(embedding_path + file_name, binary=False, unicode_errors='ignore')  # C text format"
   ]
  },
  {
   "cell_type": "code",
   "execution_count": 5,
   "metadata": {
    "ExecuteTime": {
     "end_time": "2019-01-20T21:44:00.021620Z",
     "start_time": "2019-01-20T21:44:00.014620Z"
    }
   },
   "outputs": [],
   "source": [
    "neighbour_list = [5, 10, 25, 50, 75, 100]\n",
    "embedding_list = ['cc']\n",
    "embedding_path = '../data/pretrained_embeddings/'"
   ]
  },
  {
   "cell_type": "code",
   "execution_count": 6,
   "metadata": {
    "ExecuteTime": {
     "end_time": "2019-01-20T21:44:00.674661Z",
     "start_time": "2019-01-20T21:44:00.641965Z"
    }
   },
   "outputs": [],
   "source": [
    "def run_experiment_english(dataframe):\n",
    "    for vector_type in embedding_list:\n",
    "        vec_type_start = datetime.now()\n",
    "        embedding_file_name = get_embedding_file_name(\"English\", vector_type)\n",
    "        print('Loading embeddings: ' + embedding_file_name)\n",
    "        embeddings = load_embedding_vector(embedding_file_name)\n",
    "        print('Embeddings ' + embedding_file_name + ' loaded in ' + str(datetime.now() - vec_type_start))\n",
    "        for neighbour_size in neighbour_list:\n",
    "            neighbour_size_start = datetime.now()\n",
    "            l2_sim = []\n",
    "            for ind, row in tqdm(dataframe.iterrows(), total=dataframe.shape[0]):\n",
    "                w1 = row['c']\n",
    "                w2 = row['i']\n",
    "                l2_sim.append(get_similarity(w1, w2, embeddings, neighbour_size))\n",
    "            dataframe['l2_sim_' + vector_type + '_' + str(neighbour_size)] = l2_sim\n",
    "            print('Finished run for neighbour size: ' + str(neighbour_size) + ' in ' + str(datetime.now() - neighbour_size_start))\n",
    "        print('Finished run for vector type: ' + vector_type + ' in ' + str(datetime.now() - vec_type_start))"
   ]
  },
  {
   "cell_type": "code",
   "execution_count": 7,
   "metadata": {
    "ExecuteTime": {
     "end_time": "2019-01-20T23:11:14.226856Z",
     "start_time": "2019-01-20T21:44:01.591024Z"
    }
   },
   "outputs": [
    {
     "name": "stdout",
     "output_type": "stream",
     "text": [
      "Loading embeddings: cc.en.300.vec\n"
     ]
    },
    {
     "name": "stderr",
     "output_type": "stream",
     "text": [
      "\r",
      "  0%|          | 0/4937 [00:00<?, ?it/s]"
     ]
    },
    {
     "name": "stdout",
     "output_type": "stream",
     "text": [
      "Embeddings cc.en.300.vec loaded in 0:07:06.017325\n"
     ]
    },
    {
     "name": "stderr",
     "output_type": "stream",
     "text": [
      "100%|██████████| 4937/4937 [11:50<00:00,  6.95it/s]\n",
      "  0%|          | 1/4937 [00:00<13:25,  6.13it/s]"
     ]
    },
    {
     "name": "stdout",
     "output_type": "stream",
     "text": [
      "Finished run for neighbour size: 5 in 0:11:50.284184\n"
     ]
    },
    {
     "name": "stderr",
     "output_type": "stream",
     "text": [
      "100%|██████████| 4937/4937 [11:58<00:00,  6.87it/s]\n",
      "  0%|          | 1/4937 [00:00<14:06,  5.83it/s]"
     ]
    },
    {
     "name": "stdout",
     "output_type": "stream",
     "text": [
      "Finished run for neighbour size: 10 in 0:11:58.396067\n"
     ]
    },
    {
     "name": "stderr",
     "output_type": "stream",
     "text": [
      "100%|██████████| 4937/4937 [12:34<00:00,  6.54it/s]\n",
      "  0%|          | 1/4937 [00:00<15:04,  5.46it/s]"
     ]
    },
    {
     "name": "stdout",
     "output_type": "stream",
     "text": [
      "Finished run for neighbour size: 25 in 0:12:34.896380\n"
     ]
    },
    {
     "name": "stderr",
     "output_type": "stream",
     "text": [
      "100%|██████████| 4937/4937 [13:32<00:00,  6.07it/s]\n",
      "  0%|          | 0/4937 [00:00<?, ?it/s]"
     ]
    },
    {
     "name": "stdout",
     "output_type": "stream",
     "text": [
      "Finished run for neighbour size: 50 in 0:13:32.924132\n"
     ]
    },
    {
     "name": "stderr",
     "output_type": "stream",
     "text": [
      "100%|██████████| 4937/4937 [14:34<00:00,  5.64it/s]\n",
      "  0%|          | 0/4937 [00:00<?, ?it/s]"
     ]
    },
    {
     "name": "stdout",
     "output_type": "stream",
     "text": [
      "Finished run for neighbour size: 75 in 0:14:34.614367\n"
     ]
    },
    {
     "name": "stderr",
     "output_type": "stream",
     "text": [
      "100%|██████████| 4937/4937 [15:35<00:00,  5.28it/s]\n"
     ]
    },
    {
     "name": "stdout",
     "output_type": "stream",
     "text": [
      "Finished run for neighbour size: 100 in 0:15:35.121350\n",
      "Finished run for vector type: cc in 1:27:12.255671\n"
     ]
    }
   ],
   "source": [
    "run_experiment_english(pd_dataset)"
   ]
  },
  {
   "cell_type": "code",
   "execution_count": 10,
   "metadata": {
    "ExecuteTime": {
     "end_time": "2019-01-20T23:12:12.153401Z",
     "start_time": "2019-01-20T23:12:12.068706Z"
    }
   },
   "outputs": [],
   "source": [
    "pd_dataset.to_csv('../data/ms_final_exnglish_experiments2.csv', index = False)"
   ]
  },
  {
   "cell_type": "code",
   "execution_count": 20,
   "metadata": {
    "ExecuteTime": {
     "end_time": "2019-01-20T23:45:59.629803Z",
     "start_time": "2019-01-20T23:45:59.619867Z"
    }
   },
   "outputs": [
    {
     "data": {
      "text/plain": [
       "array(['Catalan', 'Chinese (Simplified)', 'Dutch', 'French', 'German',\n",
       "       'Greek', 'Italian', 'Japanese', 'Korean', 'Polish', 'Portuguese',\n",
       "       'Russian', 'Spanish', 'Swedish', 'Thai', 'Turkish'], dtype=object)"
      ]
     },
     "execution_count": 20,
     "metadata": {},
     "output_type": "execute_result"
    }
   ],
   "source": [
    "language_list = pd_dataset['language'].unique()\n",
    "# pd_dataset[pd_dataset['language'] == 'Catalan'].count()\n",
    "language_list"
   ]
  },
  {
   "cell_type": "code",
   "execution_count": 26,
   "metadata": {
    "ExecuteTime": {
     "end_time": "2019-01-21T00:03:53.157127Z",
     "start_time": "2019-01-21T00:03:53.106005Z"
    }
   },
   "outputs": [],
   "source": [
    "def get_experiment_model(language, vector_type):\n",
    "    vec_type_start = datetime.now()\n",
    "    embedding_file_name = get_embedding_file_name(language, vector_type)\n",
    "    print('Loading embeddings: ' + embedding_file_name)\n",
    "    embeddings = load_embedding_vector(embedding_file_name)\n",
    "    print('Embeddings ' + embedding_file_name + ' loaded in ' + str(datetime.now() - vec_type_start))\n",
    "    return embeddings\n",
    "new_columns = {'5': [], '10': [], '25': [], '50': [], '75': [], '100': []}\n",
    "def run_experiment_l1(dataframe):\n",
    "    current_lang = ''\n",
    "    current_vector_type = ''\n",
    "    \n",
    "    for vector_type in embedding_list:\n",
    "        vec_type_start = datetime.now()\n",
    "        for language in language_list:\n",
    "            language_start = datetime.now()\n",
    "            embeddings = get_experiment_model(language, vector_type)\n",
    "            for neighbour_size in neighbour_list:\n",
    "                neighbour_size_start = datetime.now()\n",
    "#                 l1_sim = []\n",
    "                dset = dataframe[dataframe['language'] == language]\n",
    "                for ind, row in tqdm(dset.iterrows(), total=dset.shape[0]):\n",
    "                    w1 = row['l1_c']\n",
    "                    w2 = row['l1_i']\n",
    "                    new_columns[str(neighbour_size)].append(get_similarity(w1, w2, embeddings, neighbour_size))\n",
    "#                 dataframe['l1_sim_' + vector_type + '_' + str(neighbour_size)] = l1_sim \n",
    "                print('Finished run for neighbour size: ' + str(neighbour_size) + ' in ' + str(datetime.now() - neighbour_size_start))\n",
    "            print('Finished run for language: ' + language + ' in ' + str(datetime.now() - language_start))\n",
    "        print('Finished run for vector type: ' + vector_type + ' in ' + str(datetime.now() - vec_type_start))"
   ]
  },
  {
   "cell_type": "code",
   "execution_count": 27,
   "metadata": {
    "ExecuteTime": {
     "end_time": "2019-01-21T01:49:47.622137Z",
     "start_time": "2019-01-21T00:03:54.360046Z"
    }
   },
   "outputs": [
    {
     "name": "stdout",
     "output_type": "stream",
     "text": [
      "Loading embeddings: cc.ca.vec\n"
     ]
    },
    {
     "name": "stderr",
     "output_type": "stream",
     "text": [
      "\r",
      "  0%|          | 0/325 [00:00<?, ?it/s]"
     ]
    },
    {
     "name": "stdout",
     "output_type": "stream",
     "text": [
      "Embeddings cc.ca.vec loaded in 0:07:09.292250\n"
     ]
    },
    {
     "name": "stderr",
     "output_type": "stream",
     "text": [
      "100%|██████████| 325/325 [00:55<00:00,  5.90it/s]\n",
      "  0%|          | 1/325 [00:00<00:49,  6.54it/s]"
     ]
    },
    {
     "name": "stdout",
     "output_type": "stream",
     "text": [
      "Finished run for neighbour size: 5 in 0:00:55.072082\n"
     ]
    },
    {
     "name": "stderr",
     "output_type": "stream",
     "text": [
      "100%|██████████| 325/325 [00:51<00:00,  6.26it/s]\n",
      "  0%|          | 1/325 [00:00<00:51,  6.27it/s]"
     ]
    },
    {
     "name": "stdout",
     "output_type": "stream",
     "text": [
      "Finished run for neighbour size: 10 in 0:00:51.956015\n"
     ]
    },
    {
     "name": "stderr",
     "output_type": "stream",
     "text": [
      "100%|██████████| 325/325 [00:54<00:00,  5.99it/s]\n",
      "  0%|          | 1/325 [00:00<00:56,  5.76it/s]"
     ]
    },
    {
     "name": "stdout",
     "output_type": "stream",
     "text": [
      "Finished run for neighbour size: 25 in 0:00:54.256719\n"
     ]
    },
    {
     "name": "stderr",
     "output_type": "stream",
     "text": [
      "100%|██████████| 325/325 [00:58<00:00,  5.59it/s]\n",
      "  0%|          | 1/325 [00:00<00:59,  5.45it/s]"
     ]
    },
    {
     "name": "stdout",
     "output_type": "stream",
     "text": [
      "Finished run for neighbour size: 50 in 0:00:58.187528\n"
     ]
    },
    {
     "name": "stderr",
     "output_type": "stream",
     "text": [
      "100%|██████████| 325/325 [01:02<00:00,  5.23it/s]\n",
      "  0%|          | 1/325 [00:00<01:03,  5.13it/s]"
     ]
    },
    {
     "name": "stdout",
     "output_type": "stream",
     "text": [
      "Finished run for neighbour size: 75 in 0:01:02.130179\n"
     ]
    },
    {
     "name": "stderr",
     "output_type": "stream",
     "text": [
      "100%|██████████| 325/325 [01:06<00:00,  4.91it/s]\n"
     ]
    },
    {
     "name": "stdout",
     "output_type": "stream",
     "text": [
      "Finished run for neighbour size: 100 in 0:01:06.134163\n",
      "Finished run for language: Catalan in 0:12:57.030242\n",
      "Loading embeddings: cc.zh.vec\n"
     ]
    },
    {
     "name": "stderr",
     "output_type": "stream",
     "text": [
      "\r",
      "  0%|          | 0/310 [00:00<?, ?it/s]"
     ]
    },
    {
     "name": "stdout",
     "output_type": "stream",
     "text": [
      "Embeddings cc.zh.vec loaded in 0:07:07.722281\n"
     ]
    },
    {
     "name": "stderr",
     "output_type": "stream",
     "text": [
      "100%|██████████| 310/310 [00:52<00:00,  5.94it/s]\n",
      "  0%|          | 1/310 [00:00<00:47,  6.50it/s]"
     ]
    },
    {
     "name": "stdout",
     "output_type": "stream",
     "text": [
      "Finished run for neighbour size: 5 in 0:00:52.232433\n"
     ]
    },
    {
     "name": "stderr",
     "output_type": "stream",
     "text": [
      "100%|██████████| 310/310 [00:49<00:00,  6.30it/s]\n",
      "  0%|          | 1/310 [00:00<00:50,  6.07it/s]"
     ]
    },
    {
     "name": "stdout",
     "output_type": "stream",
     "text": [
      "Finished run for neighbour size: 10 in 0:00:49.233231\n"
     ]
    },
    {
     "name": "stderr",
     "output_type": "stream",
     "text": [
      "100%|██████████| 310/310 [00:51<00:00,  6.08it/s]\n",
      "  0%|          | 1/310 [00:00<00:53,  5.75it/s]"
     ]
    },
    {
     "name": "stdout",
     "output_type": "stream",
     "text": [
      "Finished run for neighbour size: 25 in 0:00:51.016803\n"
     ]
    },
    {
     "name": "stderr",
     "output_type": "stream",
     "text": [
      "100%|██████████| 310/310 [00:54<00:00,  5.66it/s]\n",
      "  0%|          | 1/310 [00:00<00:56,  5.44it/s]"
     ]
    },
    {
     "name": "stdout",
     "output_type": "stream",
     "text": [
      "Finished run for neighbour size: 50 in 0:00:54.760819\n"
     ]
    },
    {
     "name": "stderr",
     "output_type": "stream",
     "text": [
      "100%|██████████| 310/310 [01:01<00:00,  5.01it/s]\n",
      "  0%|          | 0/310 [00:00<?, ?it/s]"
     ]
    },
    {
     "name": "stdout",
     "output_type": "stream",
     "text": [
      "Finished run for neighbour size: 75 in 0:01:01.918040\n"
     ]
    },
    {
     "name": "stderr",
     "output_type": "stream",
     "text": [
      "100%|██████████| 310/310 [01:03<00:00,  4.90it/s]\n"
     ]
    },
    {
     "name": "stdout",
     "output_type": "stream",
     "text": [
      "Finished run for neighbour size: 100 in 0:01:03.325404\n",
      "Finished run for language: Chinese (Simplified) in 0:12:40.587322\n",
      "Loading embeddings: cc.nl.vec\n"
     ]
    },
    {
     "name": "stderr",
     "output_type": "stream",
     "text": [
      "\r",
      "  0%|          | 0/5 [00:00<?, ?it/s]"
     ]
    },
    {
     "name": "stdout",
     "output_type": "stream",
     "text": [
      "Embeddings cc.nl.vec loaded in 0:07:00.517282\n"
     ]
    },
    {
     "name": "stderr",
     "output_type": "stream",
     "text": [
      "100%|██████████| 5/5 [00:04<00:00,  1.03it/s]\n",
      " 20%|██        | 1/5 [00:00<00:00,  7.17it/s]"
     ]
    },
    {
     "name": "stdout",
     "output_type": "stream",
     "text": [
      "Finished run for neighbour size: 5 in 0:00:04.837619\n"
     ]
    },
    {
     "name": "stderr",
     "output_type": "stream",
     "text": [
      "100%|██████████| 5/5 [00:00<00:00,  6.53it/s]\n",
      " 20%|██        | 1/5 [00:00<00:00,  6.47it/s]"
     ]
    },
    {
     "name": "stdout",
     "output_type": "stream",
     "text": [
      "Finished run for neighbour size: 10 in 0:00:00.769387\n"
     ]
    },
    {
     "name": "stderr",
     "output_type": "stream",
     "text": [
      "100%|██████████| 5/5 [00:00<00:00,  6.20it/s]\n",
      " 20%|██        | 1/5 [00:00<00:00,  6.25it/s]"
     ]
    },
    {
     "name": "stdout",
     "output_type": "stream",
     "text": [
      "Finished run for neighbour size: 25 in 0:00:00.810457\n"
     ]
    },
    {
     "name": "stderr",
     "output_type": "stream",
     "text": [
      "100%|██████████| 5/5 [00:00<00:00,  5.82it/s]\n",
      " 20%|██        | 1/5 [00:00<00:00,  5.86it/s]"
     ]
    },
    {
     "name": "stdout",
     "output_type": "stream",
     "text": [
      "Finished run for neighbour size: 50 in 0:00:00.863132\n"
     ]
    },
    {
     "name": "stderr",
     "output_type": "stream",
     "text": [
      "100%|██████████| 5/5 [00:00<00:00,  5.41it/s]\n",
      " 20%|██        | 1/5 [00:00<00:00,  5.47it/s]"
     ]
    },
    {
     "name": "stdout",
     "output_type": "stream",
     "text": [
      "Finished run for neighbour size: 75 in 0:00:00.928672\n"
     ]
    },
    {
     "name": "stderr",
     "output_type": "stream",
     "text": [
      "100%|██████████| 5/5 [00:01<00:00,  4.26it/s]\n"
     ]
    },
    {
     "name": "stdout",
     "output_type": "stream",
     "text": [
      "Finished run for neighbour size: 100 in 0:00:01.180490\n",
      "Finished run for language: Dutch in 0:07:10.280808\n",
      "Loading embeddings: cc.fr.vec\n"
     ]
    },
    {
     "name": "stderr",
     "output_type": "stream",
     "text": [
      "\r",
      "  0%|          | 0/794 [00:00<?, ?it/s]"
     ]
    },
    {
     "name": "stdout",
     "output_type": "stream",
     "text": [
      "Embeddings cc.fr.vec loaded in 0:07:14.978056\n"
     ]
    },
    {
     "name": "stderr",
     "output_type": "stream",
     "text": [
      "100%|██████████| 794/794 [01:54<00:00,  6.95it/s]\n",
      "  0%|          | 1/794 [00:00<01:41,  7.84it/s]"
     ]
    },
    {
     "name": "stdout",
     "output_type": "stream",
     "text": [
      "Finished run for neighbour size: 5 in 0:01:54.232184\n"
     ]
    },
    {
     "name": "stderr",
     "output_type": "stream",
     "text": [
      "100%|██████████| 794/794 [01:52<00:00,  7.05it/s]\n",
      "  0%|          | 1/794 [00:00<01:43,  7.65it/s]"
     ]
    },
    {
     "name": "stdout",
     "output_type": "stream",
     "text": [
      "Finished run for neighbour size: 10 in 0:01:52.561033\n"
     ]
    },
    {
     "name": "stderr",
     "output_type": "stream",
     "text": [
      "100%|██████████| 794/794 [01:59<00:00,  6.64it/s]\n",
      "  0%|          | 1/794 [00:00<01:53,  6.96it/s]"
     ]
    },
    {
     "name": "stdout",
     "output_type": "stream",
     "text": [
      "Finished run for neighbour size: 25 in 0:01:59.572932\n"
     ]
    },
    {
     "name": "stderr",
     "output_type": "stream",
     "text": [
      "100%|██████████| 794/794 [02:09<00:00,  6.14it/s]\n",
      "  0%|          | 1/794 [00:00<02:03,  6.40it/s]"
     ]
    },
    {
     "name": "stdout",
     "output_type": "stream",
     "text": [
      "Finished run for neighbour size: 50 in 0:02:09.366889\n"
     ]
    },
    {
     "name": "stderr",
     "output_type": "stream",
     "text": [
      "100%|██████████| 794/794 [02:18<00:00,  5.73it/s]\n",
      "  0%|          | 1/794 [00:00<02:12,  6.00it/s]"
     ]
    },
    {
     "name": "stdout",
     "output_type": "stream",
     "text": [
      "Finished run for neighbour size: 75 in 0:02:18.655738\n"
     ]
    },
    {
     "name": "stderr",
     "output_type": "stream",
     "text": [
      "100%|██████████| 794/794 [02:30<00:00,  5.29it/s]\n"
     ]
    },
    {
     "name": "stdout",
     "output_type": "stream",
     "text": [
      "Finished run for neighbour size: 100 in 0:02:30.193006\n",
      "Finished run for language: French in 0:19:59.921305\n",
      "Loading embeddings: cc.de.vec\n"
     ]
    },
    {
     "name": "stderr",
     "output_type": "stream",
     "text": [
      "\r",
      "  0%|          | 0/285 [00:00<?, ?it/s]"
     ]
    },
    {
     "name": "stdout",
     "output_type": "stream",
     "text": [
      "Embeddings cc.de.vec loaded in 0:07:02.294696\n"
     ]
    },
    {
     "name": "stderr",
     "output_type": "stream",
     "text": [
      "100%|██████████| 285/285 [00:47<00:00,  6.01it/s]\n",
      "  0%|          | 1/285 [00:00<00:46,  6.11it/s]"
     ]
    },
    {
     "name": "stdout",
     "output_type": "stream",
     "text": [
      "Finished run for neighbour size: 5 in 0:00:47.396841\n"
     ]
    },
    {
     "name": "stderr",
     "output_type": "stream",
     "text": [
      "100%|██████████| 285/285 [00:44<00:00,  6.47it/s]\n",
      "  0%|          | 1/285 [00:00<00:47,  5.99it/s]"
     ]
    },
    {
     "name": "stdout",
     "output_type": "stream",
     "text": [
      "Finished run for neighbour size: 10 in 0:00:44.050140\n"
     ]
    },
    {
     "name": "stderr",
     "output_type": "stream",
     "text": [
      "100%|██████████| 285/285 [00:46<00:00,  6.17it/s]\n",
      "  0%|          | 1/285 [00:00<00:53,  5.29it/s]"
     ]
    },
    {
     "name": "stdout",
     "output_type": "stream",
     "text": [
      "Finished run for neighbour size: 25 in 0:00:46.164080\n"
     ]
    },
    {
     "name": "stderr",
     "output_type": "stream",
     "text": [
      "100%|██████████| 285/285 [00:49<00:00,  5.78it/s]\n",
      "  0%|          | 1/285 [00:00<00:54,  5.25it/s]"
     ]
    },
    {
     "name": "stdout",
     "output_type": "stream",
     "text": [
      "Finished run for neighbour size: 50 in 0:00:49.281134\n"
     ]
    },
    {
     "name": "stderr",
     "output_type": "stream",
     "text": [
      "100%|██████████| 285/285 [00:53<00:00,  5.36it/s]\n",
      "  0%|          | 0/285 [00:00<?, ?it/s]"
     ]
    },
    {
     "name": "stdout",
     "output_type": "stream",
     "text": [
      "Finished run for neighbour size: 75 in 0:00:53.172270\n"
     ]
    },
    {
     "name": "stderr",
     "output_type": "stream",
     "text": [
      "100%|██████████| 285/285 [00:56<00:00,  5.03it/s]\n"
     ]
    },
    {
     "name": "stdout",
     "output_type": "stream",
     "text": [
      "Finished run for neighbour size: 100 in 0:00:56.627613\n",
      "Finished run for language: German in 0:11:59.373275\n",
      "Loading embeddings: cc.el.vec\n"
     ]
    },
    {
     "name": "stderr",
     "output_type": "stream",
     "text": [
      "\r",
      "  0%|          | 0/353 [00:00<?, ?it/s]"
     ]
    },
    {
     "name": "stdout",
     "output_type": "stream",
     "text": [
      "Embeddings cc.el.vec loaded in 0:07:10.691420\n"
     ]
    },
    {
     "name": "stderr",
     "output_type": "stream",
     "text": [
      "100%|██████████| 353/353 [01:00<00:00,  5.84it/s]\n",
      "  0%|          | 1/353 [00:00<00:55,  6.31it/s]"
     ]
    },
    {
     "name": "stdout",
     "output_type": "stream",
     "text": [
      "Finished run for neighbour size: 5 in 0:01:00.410533\n"
     ]
    },
    {
     "name": "stderr",
     "output_type": "stream",
     "text": [
      "100%|██████████| 353/353 [00:57<00:00,  6.16it/s]\n",
      "  0%|          | 1/353 [00:00<00:58,  5.98it/s]"
     ]
    },
    {
     "name": "stdout",
     "output_type": "stream",
     "text": [
      "Finished run for neighbour size: 10 in 0:00:57.344507\n"
     ]
    },
    {
     "name": "stderr",
     "output_type": "stream",
     "text": [
      "100%|██████████| 353/353 [00:59<00:00,  5.91it/s]\n",
      "  0%|          | 1/353 [00:00<01:02,  5.63it/s]"
     ]
    },
    {
     "name": "stdout",
     "output_type": "stream",
     "text": [
      "Finished run for neighbour size: 25 in 0:00:59.701793\n"
     ]
    },
    {
     "name": "stderr",
     "output_type": "stream",
     "text": [
      "100%|██████████| 353/353 [01:04<00:00,  5.50it/s]\n",
      "  0%|          | 1/353 [00:00<01:07,  5.23it/s]"
     ]
    },
    {
     "name": "stdout",
     "output_type": "stream",
     "text": [
      "Finished run for neighbour size: 50 in 0:01:04.199789\n"
     ]
    },
    {
     "name": "stderr",
     "output_type": "stream",
     "text": [
      "100%|██████████| 353/353 [01:08<00:00,  5.16it/s]\n",
      "  0%|          | 0/353 [00:00<?, ?it/s]"
     ]
    },
    {
     "name": "stdout",
     "output_type": "stream",
     "text": [
      "Finished run for neighbour size: 75 in 0:01:08.444983\n"
     ]
    },
    {
     "name": "stderr",
     "output_type": "stream",
     "text": [
      "100%|██████████| 353/353 [01:12<00:00,  4.86it/s]\n"
     ]
    },
    {
     "name": "stdout",
     "output_type": "stream",
     "text": [
      "Finished run for neighbour size: 100 in 0:01:12.675986\n",
      "Finished run for language: Greek in 0:13:33.860647\n",
      "Loading embeddings: cc.it.vec\n"
     ]
    },
    {
     "name": "stderr",
     "output_type": "stream",
     "text": [
      "\r",
      "  0%|          | 0/335 [00:00<?, ?it/s]"
     ]
    },
    {
     "name": "stdout",
     "output_type": "stream",
     "text": [
      "Embeddings cc.it.vec loaded in 0:07:04.711908\n"
     ]
    },
    {
     "name": "stderr",
     "output_type": "stream",
     "text": [
      "100%|██████████| 335/335 [00:55<00:00,  6.01it/s]\n",
      "  0%|          | 1/335 [00:00<00:53,  6.24it/s]"
     ]
    },
    {
     "name": "stdout",
     "output_type": "stream",
     "text": [
      "Finished run for neighbour size: 5 in 0:00:55.725125\n"
     ]
    },
    {
     "name": "stderr",
     "output_type": "stream",
     "text": [
      "100%|██████████| 335/335 [00:52<00:00,  6.36it/s]\n",
      "  0%|          | 1/335 [00:00<00:56,  5.96it/s]"
     ]
    },
    {
     "name": "stdout",
     "output_type": "stream",
     "text": [
      "Finished run for neighbour size: 10 in 0:00:52.674337\n"
     ]
    },
    {
     "name": "stderr",
     "output_type": "stream",
     "text": [
      "100%|██████████| 335/335 [00:55<00:00,  6.08it/s]\n",
      "  0%|          | 1/335 [00:00<01:03,  5.23it/s]"
     ]
    },
    {
     "name": "stdout",
     "output_type": "stream",
     "text": [
      "Finished run for neighbour size: 25 in 0:00:55.094282\n"
     ]
    },
    {
     "name": "stderr",
     "output_type": "stream",
     "text": [
      "100%|██████████| 335/335 [00:59<00:00,  5.67it/s]\n",
      "  0%|          | 1/335 [00:00<01:04,  5.21it/s]"
     ]
    },
    {
     "name": "stdout",
     "output_type": "stream",
     "text": [
      "Finished run for neighbour size: 50 in 0:00:59.123614\n"
     ]
    },
    {
     "name": "stderr",
     "output_type": "stream",
     "text": [
      "100%|██████████| 335/335 [01:03<00:00,  5.29it/s]\n",
      "  0%|          | 0/335 [00:00<?, ?it/s]"
     ]
    },
    {
     "name": "stdout",
     "output_type": "stream",
     "text": [
      "Finished run for neighbour size: 75 in 0:01:03.346365\n"
     ]
    },
    {
     "name": "stderr",
     "output_type": "stream",
     "text": [
      "100%|██████████| 335/335 [01:07<00:00,  4.97it/s]\n"
     ]
    },
    {
     "name": "stdout",
     "output_type": "stream",
     "text": [
      "Finished run for neighbour size: 100 in 0:01:07.382719\n",
      "Finished run for language: Italian in 0:12:58.447443\n",
      "Loading embeddings: cc.ja.vec\n"
     ]
    },
    {
     "name": "stderr",
     "output_type": "stream",
     "text": [
      "\r",
      "  0%|          | 0/192 [00:00<?, ?it/s]"
     ]
    },
    {
     "name": "stdout",
     "output_type": "stream",
     "text": [
      "Embeddings cc.ja.vec loaded in 0:07:09.714264\n"
     ]
    },
    {
     "name": "stderr",
     "output_type": "stream",
     "text": [
      "100%|██████████| 192/192 [00:31<00:00,  6.16it/s]\n",
      "  1%|          | 1/192 [00:00<00:29,  6.48it/s]"
     ]
    },
    {
     "name": "stdout",
     "output_type": "stream",
     "text": [
      "Finished run for neighbour size: 5 in 0:00:31.151865\n"
     ]
    },
    {
     "name": "stderr",
     "output_type": "stream",
     "text": [
      "100%|██████████| 192/192 [00:27<00:00,  7.00it/s]\n",
      "  0%|          | 0/192 [00:00<?, ?it/s]"
     ]
    },
    {
     "name": "stdout",
     "output_type": "stream",
     "text": [
      "Finished run for neighbour size: 10 in 0:00:27.428547\n"
     ]
    },
    {
     "name": "stderr",
     "output_type": "stream",
     "text": [
      "100%|██████████| 192/192 [00:29<00:00,  6.59it/s]\n",
      "  1%|          | 1/192 [00:00<00:33,  5.77it/s]"
     ]
    },
    {
     "name": "stdout",
     "output_type": "stream",
     "text": [
      "Finished run for neighbour size: 25 in 0:00:29.127981\n"
     ]
    },
    {
     "name": "stderr",
     "output_type": "stream",
     "text": [
      "100%|██████████| 192/192 [00:31<00:00,  6.13it/s]\n",
      "  1%|          | 1/192 [00:00<00:35,  5.42it/s]"
     ]
    },
    {
     "name": "stdout",
     "output_type": "stream",
     "text": [
      "Finished run for neighbour size: 50 in 0:00:31.342228\n"
     ]
    },
    {
     "name": "stderr",
     "output_type": "stream",
     "text": [
      "100%|██████████| 192/192 [00:33<00:00,  5.70it/s]\n",
      "  0%|          | 0/192 [00:00<?, ?it/s]"
     ]
    },
    {
     "name": "stdout",
     "output_type": "stream",
     "text": [
      "Finished run for neighbour size: 75 in 0:00:33.706907\n"
     ]
    },
    {
     "name": "stderr",
     "output_type": "stream",
     "text": [
      "100%|██████████| 192/192 [00:36<00:00,  5.32it/s]\n"
     ]
    },
    {
     "name": "stdout",
     "output_type": "stream",
     "text": [
      "Finished run for neighbour size: 100 in 0:00:36.078619\n",
      "Finished run for language: Japanese in 0:10:18.938850\n",
      "Loading embeddings: cc.ko.vec\n"
     ]
    },
    {
     "ename": "UnicodeDecodeError",
     "evalue": "'utf-8' codec can't decode byte 0xed in position 0: invalid continuation byte",
     "output_type": "error",
     "traceback": [
      "\u001b[0;31m---------------------------------------------------------------------------\u001b[0m",
      "\u001b[0;31mUnicodeDecodeError\u001b[0m                        Traceback (most recent call last)",
      "\u001b[0;32m<ipython-input-27-44f425c399ec>\u001b[0m in \u001b[0;36m<module>\u001b[0;34m()\u001b[0m\n\u001b[0;32m----> 1\u001b[0;31m \u001b[0mrun_experiment_l1\u001b[0m\u001b[0;34m(\u001b[0m\u001b[0mpd_dataset\u001b[0m\u001b[0;34m)\u001b[0m\u001b[0;34m\u001b[0m\u001b[0m\n\u001b[0m",
      "\u001b[0;32m<ipython-input-26-93af16e0f34d>\u001b[0m in \u001b[0;36mrun_experiment_l1\u001b[0;34m(dataframe)\u001b[0m\n\u001b[1;32m     15\u001b[0m         \u001b[0;32mfor\u001b[0m \u001b[0mlanguage\u001b[0m \u001b[0;32min\u001b[0m \u001b[0mlanguage_list\u001b[0m\u001b[0;34m:\u001b[0m\u001b[0;34m\u001b[0m\u001b[0m\n\u001b[1;32m     16\u001b[0m             \u001b[0mlanguage_start\u001b[0m \u001b[0;34m=\u001b[0m \u001b[0mdatetime\u001b[0m\u001b[0;34m.\u001b[0m\u001b[0mnow\u001b[0m\u001b[0;34m(\u001b[0m\u001b[0;34m)\u001b[0m\u001b[0;34m\u001b[0m\u001b[0m\n\u001b[0;32m---> 17\u001b[0;31m             \u001b[0membeddings\u001b[0m \u001b[0;34m=\u001b[0m \u001b[0mget_experiment_model\u001b[0m\u001b[0;34m(\u001b[0m\u001b[0mlanguage\u001b[0m\u001b[0;34m,\u001b[0m \u001b[0mvector_type\u001b[0m\u001b[0;34m)\u001b[0m\u001b[0;34m\u001b[0m\u001b[0m\n\u001b[0m\u001b[1;32m     18\u001b[0m             \u001b[0;32mfor\u001b[0m \u001b[0mneighbour_size\u001b[0m \u001b[0;32min\u001b[0m \u001b[0mneighbour_list\u001b[0m\u001b[0;34m:\u001b[0m\u001b[0;34m\u001b[0m\u001b[0m\n\u001b[1;32m     19\u001b[0m                 \u001b[0mneighbour_size_start\u001b[0m \u001b[0;34m=\u001b[0m \u001b[0mdatetime\u001b[0m\u001b[0;34m.\u001b[0m\u001b[0mnow\u001b[0m\u001b[0;34m(\u001b[0m\u001b[0;34m)\u001b[0m\u001b[0;34m\u001b[0m\u001b[0m\n",
      "\u001b[0;32m<ipython-input-26-93af16e0f34d>\u001b[0m in \u001b[0;36mget_experiment_model\u001b[0;34m(language, vector_type)\u001b[0m\n\u001b[1;32m      3\u001b[0m     \u001b[0membedding_file_name\u001b[0m \u001b[0;34m=\u001b[0m \u001b[0mget_embedding_file_name\u001b[0m\u001b[0;34m(\u001b[0m\u001b[0mlanguage\u001b[0m\u001b[0;34m,\u001b[0m \u001b[0mvector_type\u001b[0m\u001b[0;34m)\u001b[0m\u001b[0;34m\u001b[0m\u001b[0m\n\u001b[1;32m      4\u001b[0m     \u001b[0mprint\u001b[0m\u001b[0;34m(\u001b[0m\u001b[0;34m'Loading embeddings: '\u001b[0m \u001b[0;34m+\u001b[0m \u001b[0membedding_file_name\u001b[0m\u001b[0;34m)\u001b[0m\u001b[0;34m\u001b[0m\u001b[0m\n\u001b[0;32m----> 5\u001b[0;31m     \u001b[0membeddings\u001b[0m \u001b[0;34m=\u001b[0m \u001b[0mload_embedding_vector\u001b[0m\u001b[0;34m(\u001b[0m\u001b[0membedding_file_name\u001b[0m\u001b[0;34m)\u001b[0m\u001b[0;34m\u001b[0m\u001b[0m\n\u001b[0m\u001b[1;32m      6\u001b[0m     \u001b[0mprint\u001b[0m\u001b[0;34m(\u001b[0m\u001b[0;34m'Embeddings '\u001b[0m \u001b[0;34m+\u001b[0m \u001b[0membedding_file_name\u001b[0m \u001b[0;34m+\u001b[0m \u001b[0;34m' loaded in '\u001b[0m \u001b[0;34m+\u001b[0m \u001b[0mstr\u001b[0m\u001b[0;34m(\u001b[0m\u001b[0mdatetime\u001b[0m\u001b[0;34m.\u001b[0m\u001b[0mnow\u001b[0m\u001b[0;34m(\u001b[0m\u001b[0;34m)\u001b[0m \u001b[0;34m-\u001b[0m \u001b[0mvec_type_start\u001b[0m\u001b[0;34m)\u001b[0m\u001b[0;34m)\u001b[0m\u001b[0;34m\u001b[0m\u001b[0m\n\u001b[1;32m      7\u001b[0m     \u001b[0;32mreturn\u001b[0m \u001b[0membeddings\u001b[0m\u001b[0;34m\u001b[0m\u001b[0m\n",
      "\u001b[0;32m<ipython-input-21-0f51fa25c25a>\u001b[0m in \u001b[0;36mload_embedding_vector\u001b[0;34m(file_name)\u001b[0m\n\u001b[1;32m     40\u001b[0m \u001b[0;34m\u001b[0m\u001b[0m\n\u001b[1;32m     41\u001b[0m \u001b[0;32mdef\u001b[0m \u001b[0mload_embedding_vector\u001b[0m\u001b[0;34m(\u001b[0m\u001b[0mfile_name\u001b[0m\u001b[0;34m)\u001b[0m\u001b[0;34m:\u001b[0m\u001b[0;34m\u001b[0m\u001b[0m\n\u001b[0;32m---> 42\u001b[0;31m     \u001b[0;32mreturn\u001b[0m \u001b[0mKeyedVectors\u001b[0m\u001b[0;34m.\u001b[0m\u001b[0mload_word2vec_format\u001b[0m\u001b[0;34m(\u001b[0m\u001b[0membedding_path\u001b[0m \u001b[0;34m+\u001b[0m \u001b[0mfile_name\u001b[0m\u001b[0;34m,\u001b[0m \u001b[0mbinary\u001b[0m\u001b[0;34m=\u001b[0m\u001b[0;32mFalse\u001b[0m\u001b[0;34m)\u001b[0m  \u001b[0;31m# C text format\u001b[0m\u001b[0;34m\u001b[0m\u001b[0m\n\u001b[0m",
      "\u001b[0;32m~/.conda/envs/lab/lib/python3.6/site-packages/gensim/models/keyedvectors.py\u001b[0m in \u001b[0;36mload_word2vec_format\u001b[0;34m(cls, fname, fvocab, binary, encoding, unicode_errors, limit, datatype)\u001b[0m\n\u001b[1;32m    248\u001b[0m                     \u001b[0;32mif\u001b[0m \u001b[0mline\u001b[0m \u001b[0;34m==\u001b[0m \u001b[0;34mb''\u001b[0m\u001b[0;34m:\u001b[0m\u001b[0;34m\u001b[0m\u001b[0m\n\u001b[1;32m    249\u001b[0m                         \u001b[0;32mraise\u001b[0m \u001b[0mEOFError\u001b[0m\u001b[0;34m(\u001b[0m\u001b[0;34m\"unexpected end of input; is count incorrect or file otherwise damaged?\"\u001b[0m\u001b[0;34m)\u001b[0m\u001b[0;34m\u001b[0m\u001b[0m\n\u001b[0;32m--> 250\u001b[0;31m                     \u001b[0mparts\u001b[0m \u001b[0;34m=\u001b[0m \u001b[0mutils\u001b[0m\u001b[0;34m.\u001b[0m\u001b[0mto_unicode\u001b[0m\u001b[0;34m(\u001b[0m\u001b[0mline\u001b[0m\u001b[0;34m.\u001b[0m\u001b[0mrstrip\u001b[0m\u001b[0;34m(\u001b[0m\u001b[0;34m)\u001b[0m\u001b[0;34m,\u001b[0m \u001b[0mencoding\u001b[0m\u001b[0;34m=\u001b[0m\u001b[0mencoding\u001b[0m\u001b[0;34m,\u001b[0m \u001b[0merrors\u001b[0m\u001b[0;34m=\u001b[0m\u001b[0municode_errors\u001b[0m\u001b[0;34m)\u001b[0m\u001b[0;34m.\u001b[0m\u001b[0msplit\u001b[0m\u001b[0;34m(\u001b[0m\u001b[0;34m\" \"\u001b[0m\u001b[0;34m)\u001b[0m\u001b[0;34m\u001b[0m\u001b[0m\n\u001b[0m\u001b[1;32m    251\u001b[0m                     \u001b[0;32mif\u001b[0m \u001b[0mlen\u001b[0m\u001b[0;34m(\u001b[0m\u001b[0mparts\u001b[0m\u001b[0;34m)\u001b[0m \u001b[0;34m!=\u001b[0m \u001b[0mvector_size\u001b[0m \u001b[0;34m+\u001b[0m \u001b[0;36m1\u001b[0m\u001b[0;34m:\u001b[0m\u001b[0;34m\u001b[0m\u001b[0m\n\u001b[1;32m    252\u001b[0m                         \u001b[0;32mraise\u001b[0m \u001b[0mValueError\u001b[0m\u001b[0;34m(\u001b[0m\u001b[0;34m\"invalid vector on line %s (is this really the text format?)\"\u001b[0m \u001b[0;34m%\u001b[0m \u001b[0mline_no\u001b[0m\u001b[0;34m)\u001b[0m\u001b[0;34m\u001b[0m\u001b[0m\n",
      "\u001b[0;32m~/.conda/envs/lab/lib/python3.6/site-packages/gensim/utils.py\u001b[0m in \u001b[0;36many2unicode\u001b[0;34m(text, encoding, errors)\u001b[0m\n\u001b[1;32m    240\u001b[0m     \u001b[0;32mif\u001b[0m \u001b[0misinstance\u001b[0m\u001b[0;34m(\u001b[0m\u001b[0mtext\u001b[0m\u001b[0;34m,\u001b[0m \u001b[0municode\u001b[0m\u001b[0;34m)\u001b[0m\u001b[0;34m:\u001b[0m\u001b[0;34m\u001b[0m\u001b[0m\n\u001b[1;32m    241\u001b[0m         \u001b[0;32mreturn\u001b[0m \u001b[0mtext\u001b[0m\u001b[0;34m\u001b[0m\u001b[0m\n\u001b[0;32m--> 242\u001b[0;31m     \u001b[0;32mreturn\u001b[0m \u001b[0municode\u001b[0m\u001b[0;34m(\u001b[0m\u001b[0mtext\u001b[0m\u001b[0;34m,\u001b[0m \u001b[0mencoding\u001b[0m\u001b[0;34m,\u001b[0m \u001b[0merrors\u001b[0m\u001b[0;34m=\u001b[0m\u001b[0merrors\u001b[0m\u001b[0;34m)\u001b[0m\u001b[0;34m\u001b[0m\u001b[0m\n\u001b[0m\u001b[1;32m    243\u001b[0m \u001b[0;34m\u001b[0m\u001b[0m\n\u001b[1;32m    244\u001b[0m \u001b[0;34m\u001b[0m\u001b[0m\n",
      "\u001b[0;31mUnicodeDecodeError\u001b[0m: 'utf-8' codec can't decode byte 0xed in position 0: invalid continuation byte"
     ]
    }
   ],
   "source": [
    "run_experiment_l1(pd_dataset)"
   ]
  },
  {
   "cell_type": "code",
   "execution_count": 30,
   "metadata": {
    "ExecuteTime": {
     "end_time": "2019-01-21T01:59:54.098618Z",
     "start_time": "2019-01-21T01:59:54.090287Z"
    }
   },
   "outputs": [
    {
     "name": "stdout",
     "output_type": "stream",
     "text": [
      "5:2599\n",
      "10:2599\n",
      "25:2599\n",
      "50:2599\n",
      "75:2599\n",
      "100:2599\n"
     ]
    }
   ],
   "source": [
    "for key in new_columns:\n",
    "    print(str(key) + ':' + str(len(new_columns[key])))"
   ]
  },
  {
   "cell_type": "code",
   "execution_count": 31,
   "metadata": {
    "ExecuteTime": {
     "end_time": "2019-01-21T02:00:11.017201Z",
     "start_time": "2019-01-21T02:00:11.011993Z"
    }
   },
   "outputs": [],
   "source": [
    "pending_langs = ['Korean', 'Polish', 'Portuguese', 'Russian', 'Spanish', 'Swedish', 'Thai', 'Turkish']"
   ]
  },
  {
   "cell_type": "code",
   "execution_count": 32,
   "metadata": {
    "ExecuteTime": {
     "end_time": "2019-01-21T02:05:24.801587Z",
     "start_time": "2019-01-21T02:01:11.334296Z"
    }
   },
   "outputs": [
    {
     "ename": "UnicodeDecodeError",
     "evalue": "'utf-8' codec can't decode byte 0xed in position 0: invalid continuation byte",
     "output_type": "error",
     "traceback": [
      "\u001b[0;31m---------------------------------------------------------------------------\u001b[0m",
      "\u001b[0;31mUnicodeDecodeError\u001b[0m                        Traceback (most recent call last)",
      "\u001b[0;32m<ipython-input-32-30b7164beec4>\u001b[0m in \u001b[0;36m<module>\u001b[0;34m()\u001b[0m\n\u001b[0;32m----> 1\u001b[0;31m \u001b[0mtest\u001b[0m \u001b[0;34m=\u001b[0m \u001b[0mKeyedVectors\u001b[0m\u001b[0;34m.\u001b[0m\u001b[0mload_word2vec_format\u001b[0m\u001b[0;34m(\u001b[0m\u001b[0membedding_path\u001b[0m \u001b[0;34m+\u001b[0m \u001b[0;34m'cc.ko.vec'\u001b[0m\u001b[0;34m,\u001b[0m \u001b[0mbinary\u001b[0m\u001b[0;34m=\u001b[0m\u001b[0;32mFalse\u001b[0m\u001b[0;34m)\u001b[0m  \u001b[0;31m# C text format\u001b[0m\u001b[0;34m\u001b[0m\u001b[0m\n\u001b[0m",
      "\u001b[0;32m~/.conda/envs/lab/lib/python3.6/site-packages/gensim/models/keyedvectors.py\u001b[0m in \u001b[0;36mload_word2vec_format\u001b[0;34m(cls, fname, fvocab, binary, encoding, unicode_errors, limit, datatype)\u001b[0m\n\u001b[1;32m    248\u001b[0m                     \u001b[0;32mif\u001b[0m \u001b[0mline\u001b[0m \u001b[0;34m==\u001b[0m \u001b[0;34mb''\u001b[0m\u001b[0;34m:\u001b[0m\u001b[0;34m\u001b[0m\u001b[0m\n\u001b[1;32m    249\u001b[0m                         \u001b[0;32mraise\u001b[0m \u001b[0mEOFError\u001b[0m\u001b[0;34m(\u001b[0m\u001b[0;34m\"unexpected end of input; is count incorrect or file otherwise damaged?\"\u001b[0m\u001b[0;34m)\u001b[0m\u001b[0;34m\u001b[0m\u001b[0m\n\u001b[0;32m--> 250\u001b[0;31m                     \u001b[0mparts\u001b[0m \u001b[0;34m=\u001b[0m \u001b[0mutils\u001b[0m\u001b[0;34m.\u001b[0m\u001b[0mto_unicode\u001b[0m\u001b[0;34m(\u001b[0m\u001b[0mline\u001b[0m\u001b[0;34m.\u001b[0m\u001b[0mrstrip\u001b[0m\u001b[0;34m(\u001b[0m\u001b[0;34m)\u001b[0m\u001b[0;34m,\u001b[0m \u001b[0mencoding\u001b[0m\u001b[0;34m=\u001b[0m\u001b[0mencoding\u001b[0m\u001b[0;34m,\u001b[0m \u001b[0merrors\u001b[0m\u001b[0;34m=\u001b[0m\u001b[0municode_errors\u001b[0m\u001b[0;34m)\u001b[0m\u001b[0;34m.\u001b[0m\u001b[0msplit\u001b[0m\u001b[0;34m(\u001b[0m\u001b[0;34m\" \"\u001b[0m\u001b[0;34m)\u001b[0m\u001b[0;34m\u001b[0m\u001b[0m\n\u001b[0m\u001b[1;32m    251\u001b[0m                     \u001b[0;32mif\u001b[0m \u001b[0mlen\u001b[0m\u001b[0;34m(\u001b[0m\u001b[0mparts\u001b[0m\u001b[0;34m)\u001b[0m \u001b[0;34m!=\u001b[0m \u001b[0mvector_size\u001b[0m \u001b[0;34m+\u001b[0m \u001b[0;36m1\u001b[0m\u001b[0;34m:\u001b[0m\u001b[0;34m\u001b[0m\u001b[0m\n\u001b[1;32m    252\u001b[0m                         \u001b[0;32mraise\u001b[0m \u001b[0mValueError\u001b[0m\u001b[0;34m(\u001b[0m\u001b[0;34m\"invalid vector on line %s (is this really the text format?)\"\u001b[0m \u001b[0;34m%\u001b[0m \u001b[0mline_no\u001b[0m\u001b[0;34m)\u001b[0m\u001b[0;34m\u001b[0m\u001b[0m\n",
      "\u001b[0;32m~/.conda/envs/lab/lib/python3.6/site-packages/gensim/utils.py\u001b[0m in \u001b[0;36many2unicode\u001b[0;34m(text, encoding, errors)\u001b[0m\n\u001b[1;32m    240\u001b[0m     \u001b[0;32mif\u001b[0m \u001b[0misinstance\u001b[0m\u001b[0;34m(\u001b[0m\u001b[0mtext\u001b[0m\u001b[0;34m,\u001b[0m \u001b[0municode\u001b[0m\u001b[0;34m)\u001b[0m\u001b[0;34m:\u001b[0m\u001b[0;34m\u001b[0m\u001b[0m\n\u001b[1;32m    241\u001b[0m         \u001b[0;32mreturn\u001b[0m \u001b[0mtext\u001b[0m\u001b[0;34m\u001b[0m\u001b[0m\n\u001b[0;32m--> 242\u001b[0;31m     \u001b[0;32mreturn\u001b[0m \u001b[0municode\u001b[0m\u001b[0;34m(\u001b[0m\u001b[0mtext\u001b[0m\u001b[0;34m,\u001b[0m \u001b[0mencoding\u001b[0m\u001b[0;34m,\u001b[0m \u001b[0merrors\u001b[0m\u001b[0;34m=\u001b[0m\u001b[0merrors\u001b[0m\u001b[0;34m)\u001b[0m\u001b[0;34m\u001b[0m\u001b[0m\n\u001b[0m\u001b[1;32m    243\u001b[0m \u001b[0;34m\u001b[0m\u001b[0m\n\u001b[1;32m    244\u001b[0m \u001b[0;34m\u001b[0m\u001b[0m\n",
      "\u001b[0;31mUnicodeDecodeError\u001b[0m: 'utf-8' codec can't decode byte 0xed in position 0: invalid continuation byte"
     ]
    }
   ],
   "source": [
    "test = KeyedVectors.load_word2vec_format(embedding_path + 'cc.ko.vec', binary=False)  # C text format"
   ]
  },
  {
   "cell_type": "code",
   "execution_count": 39,
   "metadata": {
    "ExecuteTime": {
     "end_time": "2019-01-21T02:12:30.010768Z",
     "start_time": "2019-01-21T02:12:29.980389Z"
    }
   },
   "outputs": [],
   "source": [
    "back_up_col = {}\n",
    "for key in new_columns.keys():\n",
    "    if (key not in back_up_col):\n",
    "        back_up_col[key] = []\n",
    "    for row in new_columns[key]:\n",
    "        back_up_col[key].append(str(row))"
   ]
  },
  {
   "cell_type": "code",
   "execution_count": 40,
   "metadata": {
    "ExecuteTime": {
     "end_time": "2019-01-21T02:15:05.214608Z",
     "start_time": "2019-01-21T02:15:05.201936Z"
    }
   },
   "outputs": [],
   "source": [
    "import json\n",
    "\n",
    "with open('back_up_tex.txt', 'w') as file:\n",
    "     file.write(json.dumps(back_up_col)) # "
   ]
  },
  {
   "cell_type": "code",
   "execution_count": 43,
   "metadata": {
    "ExecuteTime": {
     "end_time": "2019-01-21T02:21:48.054979Z",
     "start_time": "2019-01-21T02:21:48.019442Z"
    }
   },
   "outputs": [],
   "source": [
    "def run_experiment_l1(dataframe):\n",
    "    current_lang = ''\n",
    "    current_vector_type = ''\n",
    "    \n",
    "    for vector_type in embedding_list:\n",
    "        vec_type_start = datetime.now()\n",
    "        for language in pending_langs:\n",
    "            language_start = datetime.now()\n",
    "            embeddings = get_experiment_model(language, vector_type)\n",
    "            for neighbour_size in neighbour_list:\n",
    "                neighbour_size_start = datetime.now()\n",
    "#                 l1_sim = []\n",
    "                dset = dataframe[dataframe['language'] == language]\n",
    "                for ind, row in tqdm(dset.iterrows(), total=dset.shape[0]):\n",
    "                    w1 = row['l1_c']\n",
    "                    w2 = row['l1_i']\n",
    "                    new_columns[str(neighbour_size)].append(get_similarity(w1, w2, embeddings, neighbour_size))\n",
    "#                 dataframe['l1_sim_' + vector_type + '_' + str(neighbour_size)] = l1_sim \n",
    "                print('Finished run for neighbour size: ' + str(neighbour_size) + ' in ' + str(datetime.now() - neighbour_size_start))\n",
    "            print('Finished run for language: ' + language + ' in ' + str(datetime.now() - language_start))\n",
    "        print('Finished run for vector type: ' + vector_type + ' in ' + str(datetime.now() - vec_type_start))"
   ]
  },
  {
   "cell_type": "code",
   "execution_count": 44,
   "metadata": {
    "ExecuteTime": {
     "end_time": "2019-01-21T04:06:16.734367Z",
     "start_time": "2019-01-21T02:27:31.229181Z"
    }
   },
   "outputs": [
    {
     "name": "stdout",
     "output_type": "stream",
     "text": [
      "Loading embeddings: cc.ko.vec\n"
     ]
    },
    {
     "name": "stderr",
     "output_type": "stream",
     "text": [
      "\r",
      "  0%|          | 0/185 [00:00<?, ?it/s]"
     ]
    },
    {
     "name": "stdout",
     "output_type": "stream",
     "text": [
      "Embeddings cc.ko.vec loaded in 0:07:11.711635\n"
     ]
    },
    {
     "name": "stderr",
     "output_type": "stream",
     "text": [
      "100%|██████████| 185/185 [00:31<00:00,  5.80it/s]\n",
      "  1%|          | 1/185 [00:00<00:25,  7.15it/s]"
     ]
    },
    {
     "name": "stdout",
     "output_type": "stream",
     "text": [
      "Finished run for neighbour size: 5 in 0:00:31.921732\n"
     ]
    },
    {
     "name": "stderr",
     "output_type": "stream",
     "text": [
      "100%|██████████| 185/185 [00:28<00:00,  6.47it/s]\n",
      "  1%|          | 1/185 [00:00<00:27,  6.70it/s]"
     ]
    },
    {
     "name": "stdout",
     "output_type": "stream",
     "text": [
      "Finished run for neighbour size: 10 in 0:00:28.585561\n"
     ]
    },
    {
     "name": "stderr",
     "output_type": "stream",
     "text": [
      "100%|██████████| 185/185 [00:29<00:00,  6.20it/s]\n",
      "  1%|          | 1/185 [00:00<00:29,  6.28it/s]"
     ]
    },
    {
     "name": "stdout",
     "output_type": "stream",
     "text": [
      "Finished run for neighbour size: 25 in 0:00:29.833846\n"
     ]
    },
    {
     "name": "stderr",
     "output_type": "stream",
     "text": [
      "100%|██████████| 185/185 [00:32<00:00,  5.76it/s]\n",
      "  1%|          | 1/185 [00:00<00:32,  5.68it/s]"
     ]
    },
    {
     "name": "stdout",
     "output_type": "stream",
     "text": [
      "Finished run for neighbour size: 50 in 0:00:32.110382\n"
     ]
    },
    {
     "name": "stderr",
     "output_type": "stream",
     "text": [
      "100%|██████████| 185/185 [00:34<00:00,  5.37it/s]\n",
      "  1%|          | 1/185 [00:00<00:35,  5.17it/s]"
     ]
    },
    {
     "name": "stdout",
     "output_type": "stream",
     "text": [
      "Finished run for neighbour size: 75 in 0:00:34.466499\n"
     ]
    },
    {
     "name": "stderr",
     "output_type": "stream",
     "text": [
      "100%|██████████| 185/185 [00:36<00:00,  5.06it/s]\n"
     ]
    },
    {
     "name": "stdout",
     "output_type": "stream",
     "text": [
      "Finished run for neighbour size: 100 in 0:00:36.531080\n",
      "Finished run for language: Korean in 0:10:25.162136\n",
      "Loading embeddings: cc.pl.vec\n"
     ]
    },
    {
     "name": "stderr",
     "output_type": "stream",
     "text": [
      "\r",
      "  0%|          | 0/295 [00:00<?, ?it/s]"
     ]
    },
    {
     "name": "stdout",
     "output_type": "stream",
     "text": [
      "Embeddings cc.pl.vec loaded in 0:07:03.711049\n"
     ]
    },
    {
     "name": "stderr",
     "output_type": "stream",
     "text": [
      "100%|██████████| 295/295 [00:51<00:00,  5.69it/s]\n",
      "  0%|          | 1/295 [00:00<00:44,  6.59it/s]"
     ]
    },
    {
     "name": "stdout",
     "output_type": "stream",
     "text": [
      "Finished run for neighbour size: 5 in 0:00:51.833794\n"
     ]
    },
    {
     "name": "stderr",
     "output_type": "stream",
     "text": [
      "100%|██████████| 295/295 [00:48<00:00,  6.10it/s]\n",
      "  0%|          | 1/295 [00:00<00:46,  6.30it/s]"
     ]
    },
    {
     "name": "stdout",
     "output_type": "stream",
     "text": [
      "Finished run for neighbour size: 10 in 0:00:48.401648\n"
     ]
    },
    {
     "name": "stderr",
     "output_type": "stream",
     "text": [
      "100%|██████████| 295/295 [00:50<00:00,  5.83it/s]\n",
      "  0%|          | 1/295 [00:00<00:55,  5.32it/s]"
     ]
    },
    {
     "name": "stdout",
     "output_type": "stream",
     "text": [
      "Finished run for neighbour size: 25 in 0:00:50.638030\n"
     ]
    },
    {
     "name": "stderr",
     "output_type": "stream",
     "text": [
      "100%|██████████| 295/295 [00:54<00:00,  5.45it/s]\n",
      "  0%|          | 0/295 [00:00<?, ?it/s]"
     ]
    },
    {
     "name": "stdout",
     "output_type": "stream",
     "text": [
      "Finished run for neighbour size: 50 in 0:00:54.111388\n"
     ]
    },
    {
     "name": "stderr",
     "output_type": "stream",
     "text": [
      "100%|██████████| 295/295 [00:57<00:00,  5.11it/s]\n",
      "  0%|          | 1/295 [00:00<00:57,  5.13it/s]"
     ]
    },
    {
     "name": "stdout",
     "output_type": "stream",
     "text": [
      "Finished run for neighbour size: 75 in 0:00:57.763103\n"
     ]
    },
    {
     "name": "stderr",
     "output_type": "stream",
     "text": [
      "100%|██████████| 295/295 [01:01<00:00,  4.79it/s]\n"
     ]
    },
    {
     "name": "stdout",
     "output_type": "stream",
     "text": [
      "Finished run for neighbour size: 100 in 0:01:01.604794\n",
      "Finished run for language: Polish in 0:12:28.506445\n",
      "Loading embeddings: cc.pt.vec\n"
     ]
    },
    {
     "name": "stderr",
     "output_type": "stream",
     "text": [
      "\r",
      "  0%|          | 0/284 [00:00<?, ?it/s]"
     ]
    },
    {
     "name": "stdout",
     "output_type": "stream",
     "text": [
      "Embeddings cc.pt.vec loaded in 0:07:16.397818\n"
     ]
    },
    {
     "name": "stderr",
     "output_type": "stream",
     "text": [
      "100%|██████████| 284/284 [00:50<00:00,  5.66it/s]\n",
      "  0%|          | 1/284 [00:00<00:49,  5.76it/s]"
     ]
    },
    {
     "name": "stdout",
     "output_type": "stream",
     "text": [
      "Finished run for neighbour size: 5 in 0:00:50.188008\n"
     ]
    },
    {
     "name": "stderr",
     "output_type": "stream",
     "text": [
      "100%|██████████| 284/284 [00:46<00:00,  6.10it/s]\n",
      "  0%|          | 1/284 [00:00<00:52,  5.40it/s]"
     ]
    },
    {
     "name": "stdout",
     "output_type": "stream",
     "text": [
      "Finished run for neighbour size: 10 in 0:00:46.557223\n"
     ]
    },
    {
     "name": "stderr",
     "output_type": "stream",
     "text": [
      "100%|██████████| 284/284 [00:48<00:00,  5.80it/s]\n",
      "  0%|          | 0/284 [00:00<?, ?it/s]"
     ]
    },
    {
     "name": "stdout",
     "output_type": "stream",
     "text": [
      "Finished run for neighbour size: 25 in 0:00:48.948331\n"
     ]
    },
    {
     "name": "stderr",
     "output_type": "stream",
     "text": [
      "100%|██████████| 284/284 [00:52<00:00,  5.43it/s]\n",
      "  0%|          | 0/284 [00:00<?, ?it/s]"
     ]
    },
    {
     "name": "stdout",
     "output_type": "stream",
     "text": [
      "Finished run for neighbour size: 50 in 0:00:52.331980\n"
     ]
    },
    {
     "name": "stderr",
     "output_type": "stream",
     "text": [
      "100%|██████████| 284/284 [00:55<00:00,  5.10it/s]\n",
      "  0%|          | 0/284 [00:00<?, ?it/s]"
     ]
    },
    {
     "name": "stdout",
     "output_type": "stream",
     "text": [
      "Finished run for neighbour size: 75 in 0:00:55.721916\n"
     ]
    },
    {
     "name": "stderr",
     "output_type": "stream",
     "text": [
      "100%|██████████| 284/284 [00:59<00:00,  4.80it/s]\n"
     ]
    },
    {
     "name": "stdout",
     "output_type": "stream",
     "text": [
      "Finished run for neighbour size: 100 in 0:00:59.114639\n",
      "Finished run for language: Portuguese in 0:12:29.729882\n",
      "Loading embeddings: cc.ru.vec\n"
     ]
    },
    {
     "name": "stderr",
     "output_type": "stream",
     "text": [
      "\r",
      "  0%|          | 0/340 [00:00<?, ?it/s]"
     ]
    },
    {
     "name": "stdout",
     "output_type": "stream",
     "text": [
      "Embeddings cc.ru.vec loaded in 0:07:04.674586\n"
     ]
    },
    {
     "name": "stderr",
     "output_type": "stream",
     "text": [
      "100%|██████████| 340/340 [00:55<00:00,  6.15it/s]\n",
      "  0%|          | 1/340 [00:00<00:56,  6.03it/s]"
     ]
    },
    {
     "name": "stdout",
     "output_type": "stream",
     "text": [
      "Finished run for neighbour size: 5 in 0:00:55.329443\n"
     ]
    },
    {
     "name": "stderr",
     "output_type": "stream",
     "text": [
      "100%|██████████| 340/340 [00:52<00:00,  6.52it/s]\n",
      "  0%|          | 1/340 [00:00<00:58,  5.82it/s]"
     ]
    },
    {
     "name": "stdout",
     "output_type": "stream",
     "text": [
      "Finished run for neighbour size: 10 in 0:00:52.170976\n"
     ]
    },
    {
     "name": "stderr",
     "output_type": "stream",
     "text": [
      "100%|██████████| 340/340 [00:54<00:00,  6.21it/s]\n",
      "  0%|          | 1/340 [00:00<01:02,  5.41it/s]"
     ]
    },
    {
     "name": "stdout",
     "output_type": "stream",
     "text": [
      "Finished run for neighbour size: 25 in 0:00:54.729058\n"
     ]
    },
    {
     "name": "stderr",
     "output_type": "stream",
     "text": [
      "100%|██████████| 340/340 [00:58<00:00,  5.78it/s]\n",
      "  0%|          | 0/340 [00:00<?, ?it/s]"
     ]
    },
    {
     "name": "stdout",
     "output_type": "stream",
     "text": [
      "Finished run for neighbour size: 50 in 0:00:58.808903\n"
     ]
    },
    {
     "name": "stderr",
     "output_type": "stream",
     "text": [
      "100%|██████████| 340/340 [01:02<00:00,  5.41it/s]\n",
      "  0%|          | 0/340 [00:00<?, ?it/s]"
     ]
    },
    {
     "name": "stdout",
     "output_type": "stream",
     "text": [
      "Finished run for neighbour size: 75 in 0:01:02.816858\n"
     ]
    },
    {
     "name": "stderr",
     "output_type": "stream",
     "text": [
      "100%|██████████| 340/340 [01:06<00:00,  5.08it/s]\n"
     ]
    },
    {
     "name": "stdout",
     "output_type": "stream",
     "text": [
      "Finished run for neighbour size: 100 in 0:01:06.911859\n",
      "Finished run for language: Russian in 0:12:55.888151\n",
      "Loading embeddings: cc.es.vec\n"
     ]
    },
    {
     "name": "stderr",
     "output_type": "stream",
     "text": [
      "\r",
      "  0%|          | 0/796 [00:00<?, ?it/s]"
     ]
    },
    {
     "name": "stdout",
     "output_type": "stream",
     "text": [
      "Embeddings cc.es.vec loaded in 0:07:04.909528\n"
     ]
    },
    {
     "name": "stderr",
     "output_type": "stream",
     "text": [
      "100%|██████████| 796/796 [02:09<00:00,  6.16it/s]\n",
      "  0%|          | 1/796 [00:00<01:56,  6.83it/s]"
     ]
    },
    {
     "name": "stdout",
     "output_type": "stream",
     "text": [
      "Finished run for neighbour size: 5 in 0:02:09.237948\n"
     ]
    },
    {
     "name": "stderr",
     "output_type": "stream",
     "text": [
      "100%|██████████| 796/796 [02:06<00:00,  6.27it/s]\n",
      "  0%|          | 1/796 [00:00<02:00,  6.59it/s]"
     ]
    },
    {
     "name": "stdout",
     "output_type": "stream",
     "text": [
      "Finished run for neighbour size: 10 in 0:02:06.916814\n"
     ]
    },
    {
     "name": "stderr",
     "output_type": "stream",
     "text": [
      "100%|██████████| 796/796 [02:12<00:00,  5.99it/s]\n",
      "  0%|          | 1/796 [00:00<02:10,  6.09it/s]"
     ]
    },
    {
     "name": "stdout",
     "output_type": "stream",
     "text": [
      "Finished run for neighbour size: 25 in 0:02:12.992009\n"
     ]
    },
    {
     "name": "stderr",
     "output_type": "stream",
     "text": [
      "100%|██████████| 796/796 [02:22<00:00,  5.57it/s]\n",
      "  0%|          | 1/796 [00:00<02:19,  5.68it/s]"
     ]
    },
    {
     "name": "stdout",
     "output_type": "stream",
     "text": [
      "Finished run for neighbour size: 50 in 0:02:22.876694\n"
     ]
    },
    {
     "name": "stderr",
     "output_type": "stream",
     "text": [
      "100%|██████████| 796/796 [02:32<00:00,  5.21it/s]\n",
      "  0%|          | 1/796 [00:00<02:32,  5.23it/s]"
     ]
    },
    {
     "name": "stdout",
     "output_type": "stream",
     "text": [
      "Finished run for neighbour size: 75 in 0:02:32.705465\n"
     ]
    },
    {
     "name": "stderr",
     "output_type": "stream",
     "text": [
      "100%|██████████| 796/796 [02:42<00:00,  4.90it/s]\n"
     ]
    },
    {
     "name": "stdout",
     "output_type": "stream",
     "text": [
      "Finished run for neighbour size: 100 in 0:02:42.560131\n",
      "Finished run for language: Spanish in 0:21:12.629313\n",
      "Loading embeddings: cc.sv.vec\n"
     ]
    },
    {
     "name": "stderr",
     "output_type": "stream",
     "text": [
      "\r",
      "  0%|          | 0/44 [00:00<?, ?it/s]"
     ]
    },
    {
     "name": "stdout",
     "output_type": "stream",
     "text": [
      "Embeddings cc.sv.vec loaded in 0:07:05.588783\n"
     ]
    },
    {
     "name": "stderr",
     "output_type": "stream",
     "text": [
      "100%|██████████| 44/44 [00:11<00:00,  3.89it/s]\n",
      "  2%|▏         | 1/44 [00:00<00:06,  6.20it/s]"
     ]
    },
    {
     "name": "stdout",
     "output_type": "stream",
     "text": [
      "Finished run for neighbour size: 5 in 0:00:11.307525\n"
     ]
    },
    {
     "name": "stderr",
     "output_type": "stream",
     "text": [
      "100%|██████████| 44/44 [00:07<00:00,  5.95it/s]\n",
      "  2%|▏         | 1/44 [00:00<00:07,  6.04it/s]"
     ]
    },
    {
     "name": "stdout",
     "output_type": "stream",
     "text": [
      "Finished run for neighbour size: 10 in 0:00:07.401635\n"
     ]
    },
    {
     "name": "stderr",
     "output_type": "stream",
     "text": [
      "100%|██████████| 44/44 [00:07<00:00,  5.79it/s]\n",
      "  0%|          | 0/44 [00:00<?, ?it/s]"
     ]
    },
    {
     "name": "stdout",
     "output_type": "stream",
     "text": [
      "Finished run for neighbour size: 25 in 0:00:07.604443\n"
     ]
    },
    {
     "name": "stderr",
     "output_type": "stream",
     "text": [
      "100%|██████████| 44/44 [00:08<00:00,  5.28it/s]\n",
      "  2%|▏         | 1/44 [00:00<00:08,  5.26it/s]"
     ]
    },
    {
     "name": "stdout",
     "output_type": "stream",
     "text": [
      "Finished run for neighbour size: 50 in 0:00:08.340819\n"
     ]
    },
    {
     "name": "stderr",
     "output_type": "stream",
     "text": [
      "100%|██████████| 44/44 [00:08<00:00,  5.01it/s]\n",
      "  0%|          | 0/44 [00:00<?, ?it/s]"
     ]
    },
    {
     "name": "stdout",
     "output_type": "stream",
     "text": [
      "Finished run for neighbour size: 75 in 0:00:08.796875\n"
     ]
    },
    {
     "name": "stderr",
     "output_type": "stream",
     "text": [
      "100%|██████████| 44/44 [00:09<00:00,  4.73it/s]\n"
     ]
    },
    {
     "name": "stdout",
     "output_type": "stream",
     "text": [
      "Finished run for neighbour size: 100 in 0:00:09.302184\n",
      "Finished run for language: Swedish in 0:07:58.744868\n",
      "Loading embeddings: cc.th.vec\n"
     ]
    },
    {
     "name": "stderr",
     "output_type": "stream",
     "text": [
      "\r",
      "  0%|          | 0/122 [00:00<?, ?it/s]"
     ]
    },
    {
     "name": "stdout",
     "output_type": "stream",
     "text": [
      "Embeddings cc.th.vec loaded in 0:07:06.783297\n"
     ]
    },
    {
     "name": "stderr",
     "output_type": "stream",
     "text": [
      "100%|██████████| 122/122 [00:21<00:00,  5.69it/s]\n",
      "  1%|          | 1/122 [00:00<00:20,  5.84it/s]"
     ]
    },
    {
     "name": "stdout",
     "output_type": "stream",
     "text": [
      "Finished run for neighbour size: 5 in 0:00:21.442978\n"
     ]
    },
    {
     "name": "stderr",
     "output_type": "stream",
     "text": [
      "100%|██████████| 122/122 [00:17<00:00,  6.82it/s]\n",
      "  1%|          | 1/122 [00:00<00:19,  6.09it/s]"
     ]
    },
    {
     "name": "stdout",
     "output_type": "stream",
     "text": [
      "Finished run for neighbour size: 10 in 0:00:17.885704\n"
     ]
    },
    {
     "name": "stderr",
     "output_type": "stream",
     "text": [
      "100%|██████████| 122/122 [00:18<00:00,  6.55it/s]\n",
      "  1%|          | 1/122 [00:00<00:20,  5.84it/s]"
     ]
    },
    {
     "name": "stdout",
     "output_type": "stream",
     "text": [
      "Finished run for neighbour size: 25 in 0:00:18.643837\n"
     ]
    },
    {
     "name": "stderr",
     "output_type": "stream",
     "text": [
      "100%|██████████| 122/122 [00:20<00:00,  6.05it/s]\n",
      "  1%|          | 1/122 [00:00<00:21,  5.51it/s]"
     ]
    },
    {
     "name": "stdout",
     "output_type": "stream",
     "text": [
      "Finished run for neighbour size: 50 in 0:00:20.156787\n"
     ]
    },
    {
     "name": "stderr",
     "output_type": "stream",
     "text": [
      "100%|██████████| 122/122 [00:21<00:00,  5.65it/s]\n",
      "  1%|          | 1/122 [00:00<00:23,  5.17it/s]"
     ]
    },
    {
     "name": "stdout",
     "output_type": "stream",
     "text": [
      "Finished run for neighbour size: 75 in 0:00:21.580317\n"
     ]
    },
    {
     "name": "stderr",
     "output_type": "stream",
     "text": [
      "100%|██████████| 122/122 [00:23<00:00,  5.29it/s]\n"
     ]
    },
    {
     "name": "stdout",
     "output_type": "stream",
     "text": [
      "Finished run for neighbour size: 100 in 0:00:23.078599\n",
      "Finished run for language: Thai in 0:09:09.982138\n",
      "Loading embeddings: cc.tr.vec\n"
     ]
    },
    {
     "name": "stderr",
     "output_type": "stream",
     "text": [
      "\r",
      "  0%|          | 0/272 [00:00<?, ?it/s]"
     ]
    },
    {
     "name": "stdout",
     "output_type": "stream",
     "text": [
      "Embeddings cc.tr.vec loaded in 0:07:03.522402\n"
     ]
    },
    {
     "name": "stderr",
     "output_type": "stream",
     "text": [
      "100%|██████████| 272/272 [00:48<00:00,  5.64it/s]\n",
      "  0%|          | 1/272 [00:00<00:44,  6.16it/s]"
     ]
    },
    {
     "name": "stdout",
     "output_type": "stream",
     "text": [
      "Finished run for neighbour size: 5 in 0:00:48.240702\n"
     ]
    },
    {
     "name": "stderr",
     "output_type": "stream",
     "text": [
      "100%|██████████| 272/272 [00:44<00:00,  6.07it/s]\n",
      "  0%|          | 1/272 [00:00<00:47,  5.70it/s]"
     ]
    },
    {
     "name": "stdout",
     "output_type": "stream",
     "text": [
      "Finished run for neighbour size: 10 in 0:00:44.815759\n"
     ]
    },
    {
     "name": "stderr",
     "output_type": "stream",
     "text": [
      "100%|██████████| 272/272 [00:46<00:00,  5.82it/s]\n",
      "  0%|          | 1/272 [00:00<00:49,  5.46it/s]"
     ]
    },
    {
     "name": "stdout",
     "output_type": "stream",
     "text": [
      "Finished run for neighbour size: 25 in 0:00:46.766195\n"
     ]
    },
    {
     "name": "stderr",
     "output_type": "stream",
     "text": [
      "100%|██████████| 272/272 [00:50<00:00,  5.42it/s]\n",
      "  0%|          | 0/272 [00:00<?, ?it/s]"
     ]
    },
    {
     "name": "stdout",
     "output_type": "stream",
     "text": [
      "Finished run for neighbour size: 50 in 0:00:50.226212\n"
     ]
    },
    {
     "name": "stderr",
     "output_type": "stream",
     "text": [
      "100%|██████████| 272/272 [00:53<00:00,  5.09it/s]\n",
      "  0%|          | 0/272 [00:00<?, ?it/s]"
     ]
    },
    {
     "name": "stdout",
     "output_type": "stream",
     "text": [
      "Finished run for neighbour size: 75 in 0:00:53.489758\n"
     ]
    },
    {
     "name": "stderr",
     "output_type": "stream",
     "text": [
      "100%|██████████| 272/272 [00:56<00:00,  4.78it/s]\n"
     ]
    },
    {
     "name": "stdout",
     "output_type": "stream",
     "text": [
      "Finished run for neighbour size: 100 in 0:00:56.892230\n",
      "Finished run for language: Turkish in 0:12:04.380668\n",
      "Finished run for vector type: cc in 1:38:45.024622\n"
     ]
    }
   ],
   "source": [
    "run_experiment_l1(pd_dataset)"
   ]
  },
  {
   "cell_type": "code",
   "execution_count": 48,
   "metadata": {
    "ExecuteTime": {
     "end_time": "2019-01-21T04:09:56.123427Z",
     "start_time": "2019-01-21T04:09:56.115189Z"
    }
   },
   "outputs": [
    {
     "name": "stdout",
     "output_type": "stream",
     "text": [
      "5:4937\n",
      "10:4937\n",
      "25:4937\n",
      "50:4937\n",
      "75:4937\n",
      "100:4937\n"
     ]
    }
   ],
   "source": [
    "for key in new_columns:\n",
    "    print(str(key) + ':' + str(len(new_columns[key])))"
   ]
  },
  {
   "cell_type": "code",
   "execution_count": 50,
   "metadata": {
    "ExecuteTime": {
     "end_time": "2019-01-21T04:10:16.617560Z",
     "start_time": "2019-01-21T04:10:16.588503Z"
    }
   },
   "outputs": [
    {
     "data": {
      "text/html": [
       "<div>\n",
       "<style scoped>\n",
       "    .dataframe tbody tr th:only-of-type {\n",
       "        vertical-align: middle;\n",
       "    }\n",
       "\n",
       "    .dataframe tbody tr th {\n",
       "        vertical-align: top;\n",
       "    }\n",
       "\n",
       "    .dataframe thead th {\n",
       "        text-align: right;\n",
       "    }\n",
       "</style>\n",
       "<table border=\"1\" class=\"dataframe\">\n",
       "  <thead>\n",
       "    <tr style=\"text-align: right;\">\n",
       "      <th></th>\n",
       "      <th>c</th>\n",
       "      <th>i</th>\n",
       "      <th>id</th>\n",
       "      <th>l1_c</th>\n",
       "      <th>l1_i</th>\n",
       "      <th>language</th>\n",
       "      <th>type</th>\n",
       "      <th>code</th>\n",
       "      <th>l2_sim_cc_5</th>\n",
       "      <th>l2_sim_cc_10</th>\n",
       "      <th>l2_sim_cc_25</th>\n",
       "      <th>l2_sim_cc_50</th>\n",
       "      <th>l2_sim_cc_75</th>\n",
       "      <th>l2_sim_cc_100</th>\n",
       "    </tr>\n",
       "  </thead>\n",
       "  <tbody>\n",
       "    <tr>\n",
       "      <th>2827</th>\n",
       "      <td>plans</td>\n",
       "      <td>projects</td>\n",
       "      <td>person_2799</td>\n",
       "      <td>plans</td>\n",
       "      <td>projectes</td>\n",
       "      <td>Catalan</td>\n",
       "      <td>RN</td>\n",
       "      <td>ca</td>\n",
       "      <td>0.315914</td>\n",
       "      <td>0.289572</td>\n",
       "      <td>0.261106</td>\n",
       "      <td>0.246446</td>\n",
       "      <td>0.235596</td>\n",
       "      <td>0.228922</td>\n",
       "    </tr>\n",
       "    <tr>\n",
       "      <th>2733</th>\n",
       "      <td>waste</td>\n",
       "      <td>lose</td>\n",
       "      <td>person_2421</td>\n",
       "      <td>malgastar</td>\n",
       "      <td>perdre</td>\n",
       "      <td>Catalan</td>\n",
       "      <td>RV</td>\n",
       "      <td>ca</td>\n",
       "      <td>0.197119</td>\n",
       "      <td>0.175892</td>\n",
       "      <td>0.164163</td>\n",
       "      <td>0.149970</td>\n",
       "      <td>0.149026</td>\n",
       "      <td>0.142875</td>\n",
       "    </tr>\n",
       "    <tr>\n",
       "      <th>2732</th>\n",
       "      <td>ending</td>\n",
       "      <td>end</td>\n",
       "      <td>person_1465</td>\n",
       "      <td>final</td>\n",
       "      <td>final</td>\n",
       "      <td>Catalan</td>\n",
       "      <td>RN</td>\n",
       "      <td>ca</td>\n",
       "      <td>0.591592</td>\n",
       "      <td>0.500977</td>\n",
       "      <td>0.443042</td>\n",
       "      <td>0.402888</td>\n",
       "      <td>0.387598</td>\n",
       "      <td>0.379977</td>\n",
       "    </tr>\n",
       "    <tr>\n",
       "      <th>2731</th>\n",
       "      <td>shot</td>\n",
       "      <td>view</td>\n",
       "      <td>person_1465</td>\n",
       "      <td>disparat</td>\n",
       "      <td>mostra</td>\n",
       "      <td>Catalan</td>\n",
       "      <td>RN</td>\n",
       "      <td>ca</td>\n",
       "      <td>0.210400</td>\n",
       "      <td>0.187495</td>\n",
       "      <td>0.185070</td>\n",
       "      <td>0.189705</td>\n",
       "      <td>0.167300</td>\n",
       "      <td>0.161793</td>\n",
       "    </tr>\n",
       "    <tr>\n",
       "      <th>2730</th>\n",
       "      <td>do</td>\n",
       "      <td>join</td>\n",
       "      <td>person_1465</td>\n",
       "      <td>fer</td>\n",
       "      <td>unir</td>\n",
       "      <td>Catalan</td>\n",
       "      <td>RV</td>\n",
       "      <td>ca</td>\n",
       "      <td>0.225478</td>\n",
       "      <td>0.194971</td>\n",
       "      <td>0.201452</td>\n",
       "      <td>0.197570</td>\n",
       "      <td>0.192571</td>\n",
       "      <td>0.189414</td>\n",
       "    </tr>\n",
       "  </tbody>\n",
       "</table>\n",
       "</div>"
      ],
      "text/plain": [
       "           c         i           id       l1_c       l1_i language type code  \\\n",
       "2827   plans  projects  person_2799      plans  projectes  Catalan   RN   ca   \n",
       "2733   waste      lose  person_2421  malgastar     perdre  Catalan   RV   ca   \n",
       "2732  ending       end  person_1465      final      final  Catalan   RN   ca   \n",
       "2731    shot      view  person_1465   disparat     mostra  Catalan   RN   ca   \n",
       "2730      do      join  person_1465        fer       unir  Catalan   RV   ca   \n",
       "\n",
       "      l2_sim_cc_5  l2_sim_cc_10  l2_sim_cc_25  l2_sim_cc_50  l2_sim_cc_75  \\\n",
       "2827     0.315914      0.289572      0.261106      0.246446      0.235596   \n",
       "2733     0.197119      0.175892      0.164163      0.149970      0.149026   \n",
       "2732     0.591592      0.500977      0.443042      0.402888      0.387598   \n",
       "2731     0.210400      0.187495      0.185070      0.189705      0.167300   \n",
       "2730     0.225478      0.194971      0.201452      0.197570      0.192571   \n",
       "\n",
       "      l2_sim_cc_100  \n",
       "2827       0.228922  \n",
       "2733       0.142875  \n",
       "2732       0.379977  \n",
       "2731       0.161793  \n",
       "2730       0.189414  "
      ]
     },
     "execution_count": 50,
     "metadata": {},
     "output_type": "execute_result"
    }
   ],
   "source": [
    "pd_dataset.head()"
   ]
  },
  {
   "cell_type": "code",
   "execution_count": 52,
   "metadata": {
    "ExecuteTime": {
     "end_time": "2019-01-21T04:11:35.161723Z",
     "start_time": "2019-01-21T04:11:35.143658Z"
    }
   },
   "outputs": [],
   "source": [
    "for key in new_columns:\n",
    "    pd_dataset['l1_sim_cc_' + str(key)] = new_columns[key]"
   ]
  },
  {
   "cell_type": "code",
   "execution_count": 54,
   "metadata": {
    "ExecuteTime": {
     "end_time": "2019-01-21T04:12:36.283923Z",
     "start_time": "2019-01-21T04:12:36.166383Z"
    }
   },
   "outputs": [],
   "source": [
    "pd_dataset.to_csv('../data/ms_final_experiments.csv', index = False)"
   ]
  },
  {
   "cell_type": "code",
   "execution_count": 55,
   "metadata": {
    "ExecuteTime": {
     "end_time": "2019-01-21T04:22:00.644947Z",
     "start_time": "2019-01-21T04:22:00.598868Z"
    }
   },
   "outputs": [],
   "source": [
    "back_up_col = {}\n",
    "for key in new_columns.keys():\n",
    "    if (key not in back_up_col):\n",
    "        back_up_col[key] = []\n",
    "    for row in new_columns[key]:\n",
    "        back_up_col[key].append(str(row))\n",
    "\n",
    "with open('final_similarity_dict.txt', 'w') as file:\n",
    "     file.write(json.dumps(back_up_col)) # "
   ]
  },
  {
   "cell_type": "code",
   "execution_count": null,
   "metadata": {},
   "outputs": [],
   "source": []
  }
 ],
 "metadata": {
  "kernelspec": {
   "display_name": "Python 3",
   "language": "python",
   "name": "python3"
  },
  "language_info": {
   "codemirror_mode": {
    "name": "ipython",
    "version": 3
   },
   "file_extension": ".py",
   "mimetype": "text/x-python",
   "name": "python",
   "nbconvert_exporter": "python",
   "pygments_lexer": "ipython3",
   "version": "3.7.1"
  },
  "varInspector": {
   "cols": {
    "lenName": 16,
    "lenType": 16,
    "lenVar": 40
   },
   "kernels_config": {
    "python": {
     "delete_cmd_postfix": "",
     "delete_cmd_prefix": "del ",
     "library": "var_list.py",
     "varRefreshCmd": "print(var_dic_list())"
    },
    "r": {
     "delete_cmd_postfix": ") ",
     "delete_cmd_prefix": "rm(",
     "library": "var_list.r",
     "varRefreshCmd": "cat(var_dic_list()) "
    }
   },
   "types_to_exclude": [
    "module",
    "function",
    "builtin_function_or_method",
    "instance",
    "_Feature"
   ],
   "window_display": false
  }
 },
 "nbformat": 4,
 "nbformat_minor": 2
}
