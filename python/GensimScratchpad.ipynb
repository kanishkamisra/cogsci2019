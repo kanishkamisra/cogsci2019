{
 "cells": [
  {
   "cell_type": "code",
   "execution_count": 50,
   "metadata": {
    "ExecuteTime": {
     "end_time": "2019-01-20T20:25:55.977067Z",
     "start_time": "2019-01-20T20:25:55.959556Z"
    }
   },
   "outputs": [
    {
     "ename": "ImportError",
     "evalue": "cannot import name 'KeyError'",
     "output_type": "error",
     "traceback": [
      "\u001b[0;31m---------------------------------------------------------------------------\u001b[0m",
      "\u001b[0;31mImportError\u001b[0m                               Traceback (most recent call last)",
      "\u001b[0;32m<ipython-input-50-4d6db59d5c64>\u001b[0m in \u001b[0;36m<module>\u001b[0;34m()\u001b[0m\n\u001b[0;32m----> 1\u001b[0;31m \u001b[0;32mfrom\u001b[0m \u001b[0mgensim\u001b[0m\u001b[0;34m.\u001b[0m\u001b[0mmodels\u001b[0m \u001b[0;32mimport\u001b[0m \u001b[0mKeyedVectors\u001b[0m\u001b[0;34m,\u001b[0m \u001b[0mKeyError\u001b[0m\u001b[0;34m\u001b[0m\u001b[0m\n\u001b[0m",
      "\u001b[0;31mImportError\u001b[0m: cannot import name 'KeyError'"
     ]
    }
   ],
   "source": [
    "from gensim.models import KeyedVectors"
   ]
  },
  {
   "cell_type": "code",
   "execution_count": 2,
   "metadata": {
    "ExecuteTime": {
     "end_time": "2019-01-20T18:06:59.552798Z",
     "start_time": "2019-01-20T18:00:04.370205Z"
    }
   },
   "outputs": [],
   "source": [
    "wv_from_text = KeyedVectors.load_word2vec_format('../data/pretrained_embeddings/cc.en.300.vec', binary=False)  # C text format"
   ]
  },
  {
   "cell_type": "code",
   "execution_count": 3,
   "metadata": {
    "ExecuteTime": {
     "end_time": "2019-01-20T19:00:50.400300Z",
     "start_time": "2019-01-20T19:00:45.587042Z"
    }
   },
   "outputs": [],
   "source": [
    "w1_n = wv_from_text.most_similar(\"propose\", topn = 10)\n",
    "w2_n = wv_from_text.most_similar(\"suggest\", topn = 10)"
   ]
  },
  {
   "cell_type": "code",
   "execution_count": 4,
   "metadata": {
    "ExecuteTime": {
     "end_time": "2019-01-20T19:00:50.620963Z",
     "start_time": "2019-01-20T19:00:50.409749Z"
    }
   },
   "outputs": [],
   "source": [
    "from sklearn.metrics.pairwise import cosine_similarity"
   ]
  },
  {
   "cell_type": "code",
   "execution_count": 5,
   "metadata": {
    "ExecuteTime": {
     "end_time": "2019-01-20T19:00:52.146196Z",
     "start_time": "2019-01-20T19:00:52.140392Z"
    }
   },
   "outputs": [],
   "source": [
    "w1_vec = wv_from_text['propose']\n",
    "w2_vec = wv_from_text['suggest']"
   ]
  },
  {
   "cell_type": "code",
   "execution_count": 6,
   "metadata": {
    "ExecuteTime": {
     "end_time": "2019-01-20T19:00:52.886930Z",
     "start_time": "2019-01-20T19:00:52.603910Z"
    }
   },
   "outputs": [],
   "source": [
    "w1_vec_n = wv_from_text.similar_by_vector(w1_vec, topn = 10)\n",
    "w2_vec_n = wv_from_text.similar_by_vector(w2_vec, topn = 10)"
   ]
  },
  {
   "cell_type": "code",
   "execution_count": 7,
   "metadata": {
    "ExecuteTime": {
     "end_time": "2019-01-20T19:00:53.026524Z",
     "start_time": "2019-01-20T19:00:53.022232Z"
    }
   },
   "outputs": [],
   "source": [
    "w1_list = [l[0] for l in w1_vec_n]\n",
    "w2_list = [l[0] for l in w2_vec_n]"
   ]
  },
  {
   "cell_type": "code",
   "execution_count": 8,
   "metadata": {
    "ExecuteTime": {
     "end_time": "2019-01-20T19:00:53.437653Z",
     "start_time": "2019-01-20T19:00:53.433131Z"
    }
   },
   "outputs": [],
   "source": [
    "import numpy as np"
   ]
  },
  {
   "cell_type": "code",
   "execution_count": 9,
   "metadata": {
    "ExecuteTime": {
     "end_time": "2019-01-20T19:00:53.834215Z",
     "start_time": "2019-01-20T19:00:53.815403Z"
    }
   },
   "outputs": [],
   "source": [
    "w1_cos = np.average([cosine_similarity([w1_vec], [wv_from_text[w2]]) for w2 in w2_list])\n",
    "w2_cos = np.average([cosine_similarity([w2_vec], [wv_from_text[w1]]) for w1 in w1_list])"
   ]
  },
  {
   "cell_type": "code",
   "execution_count": 10,
   "metadata": {
    "ExecuteTime": {
     "end_time": "2019-01-20T19:00:54.232042Z",
     "start_time": "2019-01-20T19:00:54.210802Z"
    }
   },
   "outputs": [
    {
     "data": {
      "text/plain": [
       "0.44772118"
      ]
     },
     "execution_count": 10,
     "metadata": {},
     "output_type": "execute_result"
    }
   ],
   "source": [
    "np.average([w1_cos, w2_cos])"
   ]
  },
  {
   "cell_type": "code",
   "execution_count": 53,
   "metadata": {
    "ExecuteTime": {
     "end_time": "2019-01-20T20:30:26.196355Z",
     "start_time": "2019-01-20T20:30:26.167539Z"
    }
   },
   "outputs": [],
   "source": [
    "\n",
    "def get_similarity(w1, w2, embeddings, size):\n",
    "    try:\n",
    "        w1_vector = embeddings[w1]\n",
    "        w2_vector = embeddings[w2]\n",
    "    except KeyError:\n",
    "        return -10\n",
    "    \n",
    "    w1_neighbours_vectors = embeddings.similar_by_vector(w1_vector, topn = size)\n",
    "    w2_neighbours_vectors = embeddings.similar_by_vector(w2_vector, topn = size)\n",
    "    \n",
    "    w1_neighbour_words = [embed[0] for embed in w1_neighbours_vectors]\n",
    "    w2_neighbour_words = [embed[0] for embed in w2_neighbours_vectors]\n",
    "    \n",
    "    w1_cosine = np.average([cosine_similarity([w1_vector], [embeddings[w2]]) for w2 in w2_neighbour_words])\n",
    "    w2_cosine = np.average([cosine_similarity([w2_vector], [embeddings[w1]]) for w1 in w1_neighbour_words])\n",
    "    \n",
    "    return np.average([w1_cosine, w2_cosine])"
   ]
  },
  {
   "cell_type": "code",
   "execution_count": 31,
   "metadata": {
    "ExecuteTime": {
     "end_time": "2019-01-20T19:49:01.543827Z",
     "start_time": "2019-01-20T19:49:01.210359Z"
    }
   },
   "outputs": [
    {
     "name": "stdout",
     "output_type": "stream",
     "text": [
      "0.44772118\n",
      "0.44772118\n"
     ]
    }
   ],
   "source": [
    "print(get_similarity(\"propose\", \"suggest\", wv_from_text, 10))\n",
    "print(get_similarity(\"suggest\", \"propose\", wv_from_text, 10))"
   ]
  },
  {
   "cell_type": "code",
   "execution_count": 32,
   "metadata": {
    "ExecuteTime": {
     "end_time": "2019-01-20T19:49:03.865189Z",
     "start_time": "2019-01-20T19:49:03.860720Z"
    }
   },
   "outputs": [],
   "source": [
    "import pandas as pd"
   ]
  },
  {
   "cell_type": "code",
   "execution_count": 33,
   "metadata": {
    "ExecuteTime": {
     "end_time": "2019-01-20T19:49:04.722207Z",
     "start_time": "2019-01-20T19:49:04.684314Z"
    }
   },
   "outputs": [
    {
     "data": {
      "text/html": [
       "<div>\n",
       "<style scoped>\n",
       "    .dataframe tbody tr th:only-of-type {\n",
       "        vertical-align: middle;\n",
       "    }\n",
       "\n",
       "    .dataframe tbody tr th {\n",
       "        vertical-align: top;\n",
       "    }\n",
       "\n",
       "    .dataframe thead th {\n",
       "        text-align: right;\n",
       "    }\n",
       "</style>\n",
       "<table border=\"1\" class=\"dataframe\">\n",
       "  <thead>\n",
       "    <tr style=\"text-align: right;\">\n",
       "      <th></th>\n",
       "      <th>c</th>\n",
       "      <th>i</th>\n",
       "      <th>id</th>\n",
       "      <th>l1_c</th>\n",
       "      <th>l1_i</th>\n",
       "      <th>language</th>\n",
       "      <th>type</th>\n",
       "      <th>code</th>\n",
       "    </tr>\n",
       "  </thead>\n",
       "  <tbody>\n",
       "    <tr>\n",
       "      <th>0</th>\n",
       "      <td>suggest</td>\n",
       "      <td>propose</td>\n",
       "      <td>person_624</td>\n",
       "      <td>предложить</td>\n",
       "      <td>предлагаем</td>\n",
       "      <td>Russian</td>\n",
       "      <td>RV</td>\n",
       "      <td>ru</td>\n",
       "    </tr>\n",
       "    <tr>\n",
       "      <th>1</th>\n",
       "      <td>think</td>\n",
       "      <td>suppose</td>\n",
       "      <td>person_624</td>\n",
       "      <td>думаю</td>\n",
       "      <td>предположим</td>\n",
       "      <td>Russian</td>\n",
       "      <td>RV</td>\n",
       "      <td>ru</td>\n",
       "    </tr>\n",
       "    <tr>\n",
       "      <th>2</th>\n",
       "      <td>public</td>\n",
       "      <td>people</td>\n",
       "      <td>person_624</td>\n",
       "      <td>общественности</td>\n",
       "      <td>людей</td>\n",
       "      <td>Russian</td>\n",
       "      <td>RN</td>\n",
       "      <td>ru</td>\n",
       "    </tr>\n",
       "    <tr>\n",
       "      <th>3</th>\n",
       "      <td>sincerely</td>\n",
       "      <td>faithfully</td>\n",
       "      <td>person_624</td>\n",
       "      <td>искренне</td>\n",
       "      <td>добросовестно</td>\n",
       "      <td>Russian</td>\n",
       "      <td>RY</td>\n",
       "      <td>ru</td>\n",
       "    </tr>\n",
       "    <tr>\n",
       "      <th>4</th>\n",
       "      <td>familiar</td>\n",
       "      <td>common</td>\n",
       "      <td>person_624</td>\n",
       "      <td>знакомы</td>\n",
       "      <td>общие</td>\n",
       "      <td>Russian</td>\n",
       "      <td>RJ</td>\n",
       "      <td>ru</td>\n",
       "    </tr>\n",
       "  </tbody>\n",
       "</table>\n",
       "</div>"
      ],
      "text/plain": [
       "           c           i          id            l1_c           l1_i language  \\\n",
       "0    suggest     propose  person_624      предложить     предлагаем  Russian   \n",
       "1      think     suppose  person_624           думаю    предположим  Russian   \n",
       "2     public      people  person_624  общественности          людей  Russian   \n",
       "3  sincerely  faithfully  person_624        искренне  добросовестно  Russian   \n",
       "4   familiar      common  person_624         знакомы          общие  Russian   \n",
       "\n",
       "  type code  \n",
       "0   RV   ru  \n",
       "1   RV   ru  \n",
       "2   RN   ru  \n",
       "3   RY   ru  \n",
       "4   RJ   ru  "
      ]
     },
     "execution_count": 33,
     "metadata": {},
     "output_type": "execute_result"
    }
   ],
   "source": [
    "source = '../data/experiment_final.csv'\n",
    "pd_dataset = pd.read_csv(source)\n",
    "pd_dataset.head()"
   ]
  },
  {
   "cell_type": "code",
   "execution_count": 34,
   "metadata": {
    "ExecuteTime": {
     "end_time": "2019-01-20T19:49:09.176744Z",
     "start_time": "2019-01-20T19:49:09.172080Z"
    }
   },
   "outputs": [],
   "source": [
    "from datetime import datetime"
   ]
  },
  {
   "cell_type": "code",
   "execution_count": 40,
   "metadata": {
    "ExecuteTime": {
     "end_time": "2019-01-20T20:07:37.386618Z",
     "start_time": "2019-01-20T20:07:22.593325Z"
    }
   },
   "outputs": [
    {
     "name": "stdout",
     "output_type": "stream",
     "text": [
      "Finished: 0\n",
      "Finished: 1\n",
      "Finished: 2\n",
      "Finished: 3\n",
      "Finished: 4\n",
      "Finished: 5\n",
      "Finished: 6\n",
      "Finished: 7\n",
      "Finished: 8\n",
      "Finished: 9\n",
      "Finished: 10\n",
      "Finished: 11\n",
      "Finished: 12\n",
      "Finished: 13\n",
      "Finished: 14\n",
      "Finished: 15\n",
      "Finished: 16\n",
      "Finished: 17\n",
      "Finished: 18\n",
      "Finished: 19\n",
      "Finished: 20\n",
      "Finished: 21\n",
      "Finished: 22\n",
      "Finished: 23\n",
      "Finished: 24\n",
      "Finished: 25\n",
      "Finished: 26\n",
      "Finished: 27\n",
      "Finished: 28\n",
      "Finished: 29\n",
      "Finished: 30\n",
      "Finished: 31\n",
      "Finished: 32\n",
      "Finished: 33\n",
      "Finished: 34\n",
      "Finished: 35\n",
      "Finished: 36\n",
      "Finished: 37\n",
      "Finished: 38\n",
      "Finished: 39\n",
      "Finished: 40\n",
      "Finished: 41\n",
      "Finished: 42\n",
      "Finished: 43\n",
      "Finished: 44\n",
      "Finished: 45\n",
      "Finished: 46\n",
      "Finished: 47\n",
      "Finished: 48\n",
      "Finished: 49\n",
      "Finished: 50\n",
      "Finished: 51\n",
      "Finished: 52\n",
      "Finished: 53\n",
      "Finished: 54\n",
      "Finished: 55\n",
      "Finished: 56\n",
      "Finished: 57\n",
      "Finished: 58\n",
      "Finished: 59\n",
      "Finished: 60\n",
      "Finished: 61\n",
      "Finished: 62\n",
      "Finished: 63\n",
      "Finished: 64\n",
      "Finished: 65\n",
      "Finished: 66\n",
      "Finished: 67\n",
      "Finished: 68\n",
      "Finished: 69\n",
      "Finished: 70\n",
      "Finished: 71\n",
      "Finished: 72\n",
      "Finished: 73\n",
      "Finished: 74\n",
      "Finished: 75\n",
      "Finished: 76\n",
      "Finished: 77\n",
      "Finished: 78\n",
      "Finished: 79\n",
      "Finished: 80\n",
      "Finished: 81\n",
      "Finished: 82\n",
      "Finished: 83\n",
      "Finished: 84\n",
      "Finished: 85\n",
      "Finished: 86\n",
      "Finished: 87\n",
      "Finished: 88\n",
      "Finished: 89\n",
      "Finished: 90\n",
      "Finished: 91\n",
      "Finished: 92\n",
      "Finished: 93\n",
      "Finished: 94\n",
      "Finished: 95\n",
      "Finished: 96\n",
      "Finished: 97\n",
      "Finished: 98\n",
      "Finished: 99\n",
      "Finished: 100\n"
     ]
    },
    {
     "ename": "ValueError",
     "evalue": "Length of values does not match length of index",
     "output_type": "error",
     "traceback": [
      "\u001b[0;31m---------------------------------------------------------------------------\u001b[0m",
      "\u001b[0;31mValueError\u001b[0m                                Traceback (most recent call last)",
      "\u001b[0;32m<ipython-input-40-5b0f04a334dd>\u001b[0m in \u001b[0;36m<module>\u001b[0;34m()\u001b[0m\n\u001b[1;32m      9\u001b[0m     \u001b[0mprint\u001b[0m\u001b[0;34m(\u001b[0m\u001b[0;34m'Finished: '\u001b[0m \u001b[0;34m+\u001b[0m \u001b[0mstr\u001b[0m\u001b[0;34m(\u001b[0m\u001b[0mind\u001b[0m\u001b[0;34m)\u001b[0m\u001b[0;34m)\u001b[0m\u001b[0;34m\u001b[0m\u001b[0m\n\u001b[1;32m     10\u001b[0m \u001b[0;34m\u001b[0m\u001b[0m\n\u001b[0;32m---> 11\u001b[0;31m \u001b[0mpd_dataset\u001b[0m\u001b[0;34m[\u001b[0m\u001b[0;34m'l2_sim'\u001b[0m\u001b[0;34m]\u001b[0m \u001b[0;34m=\u001b[0m \u001b[0ml2_sim\u001b[0m\u001b[0;34m\u001b[0m\u001b[0m\n\u001b[0m",
      "\u001b[0;32m~/.conda/envs/lab/lib/python3.6/site-packages/pandas/core/frame.py\u001b[0m in \u001b[0;36m__setitem__\u001b[0;34m(self, key, value)\u001b[0m\n\u001b[1;32m   2517\u001b[0m         \u001b[0;32melse\u001b[0m\u001b[0;34m:\u001b[0m\u001b[0;34m\u001b[0m\u001b[0m\n\u001b[1;32m   2518\u001b[0m             \u001b[0;31m# set column\u001b[0m\u001b[0;34m\u001b[0m\u001b[0;34m\u001b[0m\u001b[0m\n\u001b[0;32m-> 2519\u001b[0;31m             \u001b[0mself\u001b[0m\u001b[0;34m.\u001b[0m\u001b[0m_set_item\u001b[0m\u001b[0;34m(\u001b[0m\u001b[0mkey\u001b[0m\u001b[0;34m,\u001b[0m \u001b[0mvalue\u001b[0m\u001b[0;34m)\u001b[0m\u001b[0;34m\u001b[0m\u001b[0m\n\u001b[0m\u001b[1;32m   2520\u001b[0m \u001b[0;34m\u001b[0m\u001b[0m\n\u001b[1;32m   2521\u001b[0m     \u001b[0;32mdef\u001b[0m \u001b[0m_setitem_slice\u001b[0m\u001b[0;34m(\u001b[0m\u001b[0mself\u001b[0m\u001b[0;34m,\u001b[0m \u001b[0mkey\u001b[0m\u001b[0;34m,\u001b[0m \u001b[0mvalue\u001b[0m\u001b[0;34m)\u001b[0m\u001b[0;34m:\u001b[0m\u001b[0;34m\u001b[0m\u001b[0m\n",
      "\u001b[0;32m~/.conda/envs/lab/lib/python3.6/site-packages/pandas/core/frame.py\u001b[0m in \u001b[0;36m_set_item\u001b[0;34m(self, key, value)\u001b[0m\n\u001b[1;32m   2583\u001b[0m \u001b[0;34m\u001b[0m\u001b[0m\n\u001b[1;32m   2584\u001b[0m         \u001b[0mself\u001b[0m\u001b[0;34m.\u001b[0m\u001b[0m_ensure_valid_index\u001b[0m\u001b[0;34m(\u001b[0m\u001b[0mvalue\u001b[0m\u001b[0;34m)\u001b[0m\u001b[0;34m\u001b[0m\u001b[0m\n\u001b[0;32m-> 2585\u001b[0;31m         \u001b[0mvalue\u001b[0m \u001b[0;34m=\u001b[0m \u001b[0mself\u001b[0m\u001b[0;34m.\u001b[0m\u001b[0m_sanitize_column\u001b[0m\u001b[0;34m(\u001b[0m\u001b[0mkey\u001b[0m\u001b[0;34m,\u001b[0m \u001b[0mvalue\u001b[0m\u001b[0;34m)\u001b[0m\u001b[0;34m\u001b[0m\u001b[0m\n\u001b[0m\u001b[1;32m   2586\u001b[0m         \u001b[0mNDFrame\u001b[0m\u001b[0;34m.\u001b[0m\u001b[0m_set_item\u001b[0m\u001b[0;34m(\u001b[0m\u001b[0mself\u001b[0m\u001b[0;34m,\u001b[0m \u001b[0mkey\u001b[0m\u001b[0;34m,\u001b[0m \u001b[0mvalue\u001b[0m\u001b[0;34m)\u001b[0m\u001b[0;34m\u001b[0m\u001b[0m\n\u001b[1;32m   2587\u001b[0m \u001b[0;34m\u001b[0m\u001b[0m\n",
      "\u001b[0;32m~/.conda/envs/lab/lib/python3.6/site-packages/pandas/core/frame.py\u001b[0m in \u001b[0;36m_sanitize_column\u001b[0;34m(self, key, value, broadcast)\u001b[0m\n\u001b[1;32m   2758\u001b[0m \u001b[0;34m\u001b[0m\u001b[0m\n\u001b[1;32m   2759\u001b[0m             \u001b[0;31m# turn me into an ndarray\u001b[0m\u001b[0;34m\u001b[0m\u001b[0;34m\u001b[0m\u001b[0m\n\u001b[0;32m-> 2760\u001b[0;31m             \u001b[0mvalue\u001b[0m \u001b[0;34m=\u001b[0m \u001b[0m_sanitize_index\u001b[0m\u001b[0;34m(\u001b[0m\u001b[0mvalue\u001b[0m\u001b[0;34m,\u001b[0m \u001b[0mself\u001b[0m\u001b[0;34m.\u001b[0m\u001b[0mindex\u001b[0m\u001b[0;34m,\u001b[0m \u001b[0mcopy\u001b[0m\u001b[0;34m=\u001b[0m\u001b[0;32mFalse\u001b[0m\u001b[0;34m)\u001b[0m\u001b[0;34m\u001b[0m\u001b[0m\n\u001b[0m\u001b[1;32m   2761\u001b[0m             \u001b[0;32mif\u001b[0m \u001b[0;32mnot\u001b[0m \u001b[0misinstance\u001b[0m\u001b[0;34m(\u001b[0m\u001b[0mvalue\u001b[0m\u001b[0;34m,\u001b[0m \u001b[0;34m(\u001b[0m\u001b[0mnp\u001b[0m\u001b[0;34m.\u001b[0m\u001b[0mndarray\u001b[0m\u001b[0;34m,\u001b[0m \u001b[0mIndex\u001b[0m\u001b[0;34m)\u001b[0m\u001b[0;34m)\u001b[0m\u001b[0;34m:\u001b[0m\u001b[0;34m\u001b[0m\u001b[0m\n\u001b[1;32m   2762\u001b[0m                 \u001b[0;32mif\u001b[0m \u001b[0misinstance\u001b[0m\u001b[0;34m(\u001b[0m\u001b[0mvalue\u001b[0m\u001b[0;34m,\u001b[0m \u001b[0mlist\u001b[0m\u001b[0;34m)\u001b[0m \u001b[0;32mand\u001b[0m \u001b[0mlen\u001b[0m\u001b[0;34m(\u001b[0m\u001b[0mvalue\u001b[0m\u001b[0;34m)\u001b[0m \u001b[0;34m>\u001b[0m \u001b[0;36m0\u001b[0m\u001b[0;34m:\u001b[0m\u001b[0;34m\u001b[0m\u001b[0m\n",
      "\u001b[0;32m~/.conda/envs/lab/lib/python3.6/site-packages/pandas/core/series.py\u001b[0m in \u001b[0;36m_sanitize_index\u001b[0;34m(data, index, copy)\u001b[0m\n\u001b[1;32m   3078\u001b[0m \u001b[0;34m\u001b[0m\u001b[0m\n\u001b[1;32m   3079\u001b[0m     \u001b[0;32mif\u001b[0m \u001b[0mlen\u001b[0m\u001b[0;34m(\u001b[0m\u001b[0mdata\u001b[0m\u001b[0;34m)\u001b[0m \u001b[0;34m!=\u001b[0m \u001b[0mlen\u001b[0m\u001b[0;34m(\u001b[0m\u001b[0mindex\u001b[0m\u001b[0;34m)\u001b[0m\u001b[0;34m:\u001b[0m\u001b[0;34m\u001b[0m\u001b[0m\n\u001b[0;32m-> 3080\u001b[0;31m         \u001b[0;32mraise\u001b[0m \u001b[0mValueError\u001b[0m\u001b[0;34m(\u001b[0m\u001b[0;34m'Length of values does not match length of '\u001b[0m \u001b[0;34m'index'\u001b[0m\u001b[0;34m)\u001b[0m\u001b[0;34m\u001b[0m\u001b[0m\n\u001b[0m\u001b[1;32m   3081\u001b[0m \u001b[0;34m\u001b[0m\u001b[0m\n\u001b[1;32m   3082\u001b[0m     \u001b[0;32mif\u001b[0m \u001b[0misinstance\u001b[0m\u001b[0;34m(\u001b[0m\u001b[0mdata\u001b[0m\u001b[0;34m,\u001b[0m \u001b[0mPeriodIndex\u001b[0m\u001b[0;34m)\u001b[0m\u001b[0;34m:\u001b[0m\u001b[0;34m\u001b[0m\u001b[0m\n",
      "\u001b[0;31mValueError\u001b[0m: Length of values does not match length of index"
     ]
    }
   ],
   "source": [
    "l2_sim = []\n",
    "for ind, row in pd_dataset.iterrows():\n",
    "    if (ind > 100):\n",
    "        break\n",
    "    start = datetime.now()\n",
    "    w1 = row['c']\n",
    "    w2 = row['i']\n",
    "    l2_sim.append(get_similarity(w1, w2, wv_from_text, 10))\n",
    "    print('Finished: ' + str(ind))\n",
    "\n"
   ]
  },
  {
   "cell_type": "code",
   "execution_count": 45,
   "metadata": {
    "ExecuteTime": {
     "end_time": "2019-01-20T20:10:08.395184Z",
     "start_time": "2019-01-20T20:10:08.388981Z"
    }
   },
   "outputs": [],
   "source": [
    "pd_dataset['l2_sim'] = l2_sim"
   ]
  },
  {
   "cell_type": "code",
   "execution_count": 47,
   "metadata": {
    "ExecuteTime": {
     "end_time": "2019-01-20T20:22:20.634325Z",
     "start_time": "2019-01-20T20:22:20.608298Z"
    }
   },
   "outputs": [
    {
     "data": {
      "text/html": [
       "<div>\n",
       "<style scoped>\n",
       "    .dataframe tbody tr th:only-of-type {\n",
       "        vertical-align: middle;\n",
       "    }\n",
       "\n",
       "    .dataframe tbody tr th {\n",
       "        vertical-align: top;\n",
       "    }\n",
       "\n",
       "    .dataframe thead th {\n",
       "        text-align: right;\n",
       "    }\n",
       "</style>\n",
       "<table border=\"1\" class=\"dataframe\">\n",
       "  <thead>\n",
       "    <tr style=\"text-align: right;\">\n",
       "      <th></th>\n",
       "      <th>c</th>\n",
       "      <th>i</th>\n",
       "      <th>id</th>\n",
       "      <th>l1_c</th>\n",
       "      <th>l1_i</th>\n",
       "      <th>language</th>\n",
       "      <th>type</th>\n",
       "      <th>code</th>\n",
       "      <th>l2_sim</th>\n",
       "    </tr>\n",
       "  </thead>\n",
       "  <tbody>\n",
       "    <tr>\n",
       "      <th>0</th>\n",
       "      <td>suggest</td>\n",
       "      <td>propose</td>\n",
       "      <td>person_624</td>\n",
       "      <td>предложить</td>\n",
       "      <td>предлагаем</td>\n",
       "      <td>Russian</td>\n",
       "      <td>RV</td>\n",
       "      <td>ru</td>\n",
       "      <td>0.447721</td>\n",
       "    </tr>\n",
       "    <tr>\n",
       "      <th>1</th>\n",
       "      <td>think</td>\n",
       "      <td>suppose</td>\n",
       "      <td>person_624</td>\n",
       "      <td>думаю</td>\n",
       "      <td>предположим</td>\n",
       "      <td>Russian</td>\n",
       "      <td>RV</td>\n",
       "      <td>ru</td>\n",
       "      <td>0.674882</td>\n",
       "    </tr>\n",
       "    <tr>\n",
       "      <th>2</th>\n",
       "      <td>public</td>\n",
       "      <td>people</td>\n",
       "      <td>person_624</td>\n",
       "      <td>общественности</td>\n",
       "      <td>людей</td>\n",
       "      <td>Russian</td>\n",
       "      <td>RN</td>\n",
       "      <td>ru</td>\n",
       "      <td>0.199548</td>\n",
       "    </tr>\n",
       "    <tr>\n",
       "      <th>3</th>\n",
       "      <td>sincerely</td>\n",
       "      <td>faithfully</td>\n",
       "      <td>person_624</td>\n",
       "      <td>искренне</td>\n",
       "      <td>добросовестно</td>\n",
       "      <td>Russian</td>\n",
       "      <td>RY</td>\n",
       "      <td>ru</td>\n",
       "      <td>0.325447</td>\n",
       "    </tr>\n",
       "    <tr>\n",
       "      <th>4</th>\n",
       "      <td>familiar</td>\n",
       "      <td>common</td>\n",
       "      <td>person_624</td>\n",
       "      <td>знакомы</td>\n",
       "      <td>общие</td>\n",
       "      <td>Russian</td>\n",
       "      <td>RJ</td>\n",
       "      <td>ru</td>\n",
       "      <td>0.310461</td>\n",
       "    </tr>\n",
       "  </tbody>\n",
       "</table>\n",
       "</div>"
      ],
      "text/plain": [
       "           c           i          id            l1_c           l1_i language  \\\n",
       "0    suggest     propose  person_624      предложить     предлагаем  Russian   \n",
       "1      think     suppose  person_624           думаю    предположим  Russian   \n",
       "2     public      people  person_624  общественности          людей  Russian   \n",
       "3  sincerely  faithfully  person_624        искренне  добросовестно  Russian   \n",
       "4   familiar      common  person_624         знакомы          общие  Russian   \n",
       "\n",
       "  type code    l2_sim  \n",
       "0   RV   ru  0.447721  \n",
       "1   RV   ru  0.674882  \n",
       "2   RN   ru  0.199548  \n",
       "3   RY   ru  0.325447  \n",
       "4   RJ   ru  0.310461  "
      ]
     },
     "execution_count": 47,
     "metadata": {},
     "output_type": "execute_result"
    }
   ],
   "source": [
    "pd_dataset.head()"
   ]
  },
  {
   "cell_type": "code",
   "execution_count": 54,
   "metadata": {
    "ExecuteTime": {
     "end_time": "2019-01-20T20:30:30.751797Z",
     "start_time": "2019-01-20T20:30:30.746729Z"
    }
   },
   "outputs": [
    {
     "name": "stdout",
     "output_type": "stream",
     "text": [
      "-10\n"
     ]
    }
   ],
   "source": [
    "print(get_similarity(\"propose\", \"lol'nt\", wv_from_text, 10))"
   ]
  }
 ],
 "metadata": {
  "kernelspec": {
   "display_name": "Python 3",
   "language": "python",
   "name": "python3"
  },
  "language_info": {
   "codemirror_mode": {
    "name": "ipython",
    "version": 3
   },
   "file_extension": ".py",
   "mimetype": "text/x-python",
   "name": "python",
   "nbconvert_exporter": "python",
   "pygments_lexer": "ipython3",
   "version": "3.6.3"
  },
  "varInspector": {
   "cols": {
    "lenName": 16,
    "lenType": 16,
    "lenVar": 40
   },
   "kernels_config": {
    "python": {
     "delete_cmd_postfix": "",
     "delete_cmd_prefix": "del ",
     "library": "var_list.py",
     "varRefreshCmd": "print(var_dic_list())"
    },
    "r": {
     "delete_cmd_postfix": ") ",
     "delete_cmd_prefix": "rm(",
     "library": "var_list.r",
     "varRefreshCmd": "cat(var_dic_list()) "
    }
   },
   "oldHeight": 468,
   "position": {
    "height": "40px",
    "left": "1336px",
    "right": "20px",
    "top": "120px",
    "width": "350px"
   },
   "types_to_exclude": [
    "module",
    "function",
    "builtin_function_or_method",
    "instance",
    "_Feature"
   ],
   "varInspector_section_display": "none",
   "window_display": true
  }
 },
 "nbformat": 4,
 "nbformat_minor": 2
}
